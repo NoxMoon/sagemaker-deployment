{
 "cells": [
  {
   "cell_type": "markdown",
   "metadata": {},
   "source": [
    "# Sentiment Analysis\n",
    "\n",
    "## Using XGBoost in SageMaker\n",
    "\n",
    "_Deep Learning Nanodegree Program | Deployment_\n",
    "\n",
    "---\n",
    "\n",
    "In this example of using Amazon's SageMaker service we will construct a random tree model to predict the sentiment of a movie review. You may have seen a version of this example in a pervious lesson although it would have been done using the sklearn package. Instead, we will be using the XGBoost package as it is provided to us by Amazon.\n",
    "\n",
    "## Instructions\n",
    "\n",
    "Some template code has already been provided for you, and you will need to implement additional functionality to successfully complete this notebook. You will not need to modify the included code beyond what is requested. Sections that begin with '**TODO**' in the header indicate that you need to complete or implement some portion within them. Instructions will be provided for each section and the specifics of the implementation are marked in the code block with a `# TODO: ...` comment. Please be sure to read the instructions carefully!\n",
    "\n",
    "In addition to implementing code, there will be questions for you to answer which relate to the task and your implementation. Each section where you will answer a question is preceded by a '**Question:**' header. Carefully read each question and provide your answer below the '**Answer:**' header by editing the Markdown cell.\n",
    "\n",
    "> **Note**: Code and Markdown cells can be executed using the **Shift+Enter** keyboard shortcut. In addition, a cell can be edited by typically clicking it (double-click for Markdown cells) or by pressing **Enter** while it is highlighted."
   ]
  },
  {
   "cell_type": "markdown",
   "metadata": {},
   "source": [
    "## Step 1: Downloading the data\n",
    "\n",
    "The dataset we are going to use is very popular among researchers in Natural Language Processing, usually referred to as the [IMDb dataset](http://ai.stanford.edu/~amaas/data/sentiment/). It consists of movie reviews from the website [imdb.com](http://www.imdb.com/), each labeled as either '**pos**itive', if the reviewer enjoyed the film, or '**neg**ative' otherwise.\n",
    "\n",
    "> Maas, Andrew L., et al. [Learning Word Vectors for Sentiment Analysis](http://ai.stanford.edu/~amaas/data/sentiment/). In _Proceedings of the 49th Annual Meeting of the Association for Computational Linguistics: Human Language Technologies_. Association for Computational Linguistics, 2011.\n",
    "\n",
    "We begin by using some Jupyter Notebook magic to download and extract the dataset."
   ]
  },
  {
   "cell_type": "code",
   "execution_count": null,
   "metadata": {},
   "outputs": [],
   "source": [
    "%mkdir ../data\n",
    "!wget -O ../data/aclImdb_v1.tar.gz http://ai.stanford.edu/~amaas/data/sentiment/aclImdb_v1.tar.gz\n",
    "!tar -zxf ../data/aclImdb_v1.tar.gz -C ../data"
   ]
  },
  {
   "cell_type": "markdown",
   "metadata": {},
   "source": [
    "## Step 2: Preparing the data\n",
    "\n",
    "The data we have downloaded is split into various files, each of which contains a single review. It will be much easier going forward if we combine these individual files into two large files, one for training and one for testing."
   ]
  },
  {
   "cell_type": "code",
   "execution_count": 1,
   "metadata": {},
   "outputs": [],
   "source": [
    "import os\n",
    "import glob\n",
    "\n",
    "def read_imdb_data(data_dir='../data/aclImdb'):\n",
    "    data = {}\n",
    "    labels = {}\n",
    "    \n",
    "    for data_type in ['train', 'test']:\n",
    "        data[data_type] = {}\n",
    "        labels[data_type] = {}\n",
    "        \n",
    "        for sentiment in ['pos', 'neg']:\n",
    "            data[data_type][sentiment] = []\n",
    "            labels[data_type][sentiment] = []\n",
    "            \n",
    "            path = os.path.join(data_dir, data_type, sentiment, '*.txt')\n",
    "            files = glob.glob(path)\n",
    "            \n",
    "            for f in files:\n",
    "                with open(f) as review:\n",
    "                    data[data_type][sentiment].append(review.read())\n",
    "                    # Here we represent a positive review by '1' and a negative review by '0'\n",
    "                    labels[data_type][sentiment].append(1 if sentiment == 'pos' else 0)\n",
    "                    \n",
    "            assert len(data[data_type][sentiment]) == len(labels[data_type][sentiment]), \\\n",
    "                    \"{}/{} data size does not match labels size\".format(data_type, sentiment)\n",
    "                \n",
    "    return data, labels"
   ]
  },
  {
   "cell_type": "code",
   "execution_count": 2,
   "metadata": {},
   "outputs": [
    {
     "name": "stdout",
     "output_type": "stream",
     "text": [
      "IMDB reviews: train = 12500 pos / 12500 neg, test = 12500 pos / 12500 neg\n"
     ]
    }
   ],
   "source": [
    "data, labels = read_imdb_data()\n",
    "print(\"IMDB reviews: train = {} pos / {} neg, test = {} pos / {} neg\".format(\n",
    "            len(data['train']['pos']), len(data['train']['neg']),\n",
    "            len(data['test']['pos']), len(data['test']['neg'])))"
   ]
  },
  {
   "cell_type": "code",
   "execution_count": 3,
   "metadata": {},
   "outputs": [],
   "source": [
    "from sklearn.utils import shuffle\n",
    "\n",
    "def prepare_imdb_data(data, labels):\n",
    "    \"\"\"Prepare training and test sets from IMDb movie reviews.\"\"\"\n",
    "    \n",
    "    #Combine positive and negative reviews and labels\n",
    "    data_train = data['train']['pos'] + data['train']['neg']\n",
    "    data_test = data['test']['pos'] + data['test']['neg']\n",
    "    labels_train = labels['train']['pos'] + labels['train']['neg']\n",
    "    labels_test = labels['test']['pos'] + labels['test']['neg']\n",
    "    \n",
    "    #Shuffle reviews and corresponding labels within training and test sets\n",
    "    data_train, labels_train = shuffle(data_train, labels_train)\n",
    "    data_test, labels_test = shuffle(data_test, labels_test)\n",
    "    \n",
    "    # Return a unified training data, test data, training labels, test labets\n",
    "    return data_train, data_test, labels_train, labels_test"
   ]
  },
  {
   "cell_type": "code",
   "execution_count": 4,
   "metadata": {},
   "outputs": [
    {
     "name": "stdout",
     "output_type": "stream",
     "text": [
      "IMDb reviews (combined): train = 25000, test = 25000\n"
     ]
    }
   ],
   "source": [
    "train_X, test_X, train_y, test_y = prepare_imdb_data(data, labels)\n",
    "print(\"IMDb reviews (combined): train = {}, test = {}\".format(len(train_X), len(test_X)))"
   ]
  },
  {
   "cell_type": "code",
   "execution_count": 5,
   "metadata": {},
   "outputs": [
    {
     "data": {
      "text/plain": [
       "'Be warned: Neither Zeta-Jones nor McGregor plays the main part as the poster would have you believe. Their roles are in fact minor.<br /><br />The film stumbles badly between exaggerated comedy and realistic drama, with neither being really engaging. Especially I find it impossible to muster much sympathy for the main protagonist, not to mention his screwball friends and sex obsessed fiancé. The plot drags terribly, and I turned this one off after about 2/3 - unusual for me, as I like to finish what I start. The good acting and beautiful setting takes it from 1 to 2 stars.<br /><br />2/10'"
      ]
     },
     "execution_count": 5,
     "metadata": {},
     "output_type": "execute_result"
    }
   ],
   "source": [
    "train_X[100]"
   ]
  },
  {
   "cell_type": "markdown",
   "metadata": {},
   "source": [
    "## Step 3: Processing the data\n",
    "\n",
    "Now that we have our training and testing datasets merged and ready to use, we need to start processing the raw data into something that will be useable by our machine learning algorithm. To begin with, we remove any html formatting that may appear in the reviews and perform some standard natural language processing in order to homogenize the data."
   ]
  },
  {
   "cell_type": "code",
   "execution_count": 6,
   "metadata": {},
   "outputs": [
    {
     "name": "stdout",
     "output_type": "stream",
     "text": [
      "[nltk_data] Downloading package stopwords to\n",
      "[nltk_data]     /home/ec2-user/nltk_data...\n",
      "[nltk_data]   Unzipping corpora/stopwords.zip.\n"
     ]
    }
   ],
   "source": [
    "import nltk\n",
    "nltk.download(\"stopwords\")\n",
    "from nltk.corpus import stopwords\n",
    "from nltk.stem.porter import *\n",
    "stemmer = PorterStemmer()"
   ]
  },
  {
   "cell_type": "code",
   "execution_count": 7,
   "metadata": {},
   "outputs": [],
   "source": [
    "import re\n",
    "from bs4 import BeautifulSoup\n",
    "\n",
    "def review_to_words(review):\n",
    "    text = BeautifulSoup(review, \"html.parser\").get_text() # Remove HTML tags\n",
    "    text = re.sub(r\"[^a-zA-Z0-9]\", \" \", text.lower()) # Convert to lower case\n",
    "    words = text.split() # Split string into words\n",
    "    words = [w for w in words if w not in stopwords.words(\"english\")] # Remove stopwords\n",
    "    words = [PorterStemmer().stem(w) for w in words] # stem\n",
    "    \n",
    "    return words"
   ]
  },
  {
   "cell_type": "code",
   "execution_count": 8,
   "metadata": {},
   "outputs": [],
   "source": [
    "import pickle\n",
    "\n",
    "cache_dir = os.path.join(\"../cache\", \"sentiment_analysis\")  # where to store cache files\n",
    "os.makedirs(cache_dir, exist_ok=True)  # ensure cache directory exists\n",
    "\n",
    "def preprocess_data(data_train, data_test, labels_train, labels_test,\n",
    "                    cache_dir=cache_dir, cache_file=\"preprocessed_data.pkl\"):\n",
    "    \"\"\"Convert each review to words; read from cache if available.\"\"\"\n",
    "\n",
    "    # If cache_file is not None, try to read from it first\n",
    "    cache_data = None\n",
    "    if cache_file is not None:\n",
    "        try:\n",
    "            with open(os.path.join(cache_dir, cache_file), \"rb\") as f:\n",
    "                cache_data = pickle.load(f)\n",
    "            print(\"Read preprocessed data from cache file:\", cache_file)\n",
    "        except:\n",
    "            pass  # unable to read from cache, but that's okay\n",
    "    \n",
    "    # If cache is missing, then do the heavy lifting\n",
    "    if cache_data is None:\n",
    "        # Preprocess training and test data to obtain words for each review\n",
    "        #words_train = list(map(review_to_words, data_train))\n",
    "        #words_test = list(map(review_to_words, data_test))\n",
    "        words_train = [review_to_words(review) for review in data_train]\n",
    "        words_test = [review_to_words(review) for review in data_test]\n",
    "        \n",
    "        # Write to cache file for future runs\n",
    "        if cache_file is not None:\n",
    "            cache_data = dict(words_train=words_train, words_test=words_test,\n",
    "                              labels_train=labels_train, labels_test=labels_test)\n",
    "            with open(os.path.join(cache_dir, cache_file), \"wb\") as f:\n",
    "                pickle.dump(cache_data, f)\n",
    "            print(\"Wrote preprocessed data to cache file:\", cache_file)\n",
    "    else:\n",
    "        # Unpack data loaded from cache file\n",
    "        words_train, words_test, labels_train, labels_test = (cache_data['words_train'],\n",
    "                cache_data['words_test'], cache_data['labels_train'], cache_data['labels_test'])\n",
    "    \n",
    "    return words_train, words_test, labels_train, labels_test"
   ]
  },
  {
   "cell_type": "code",
   "execution_count": 9,
   "metadata": {},
   "outputs": [
    {
     "name": "stdout",
     "output_type": "stream",
     "text": [
      "Read preprocessed data from cache file: preprocessed_data.pkl\n"
     ]
    }
   ],
   "source": [
    "# Preprocess data\n",
    "train_X, test_X, train_y, test_y = preprocess_data(train_X, test_X, train_y, test_y)"
   ]
  },
  {
   "cell_type": "markdown",
   "metadata": {},
   "source": [
    "### Extract Bag-of-Words features\n",
    "\n",
    "For the model we will be implementing, rather than using the reviews directly, we are going to transform each review into a Bag-of-Words feature representation. Keep in mind that 'in the wild' we will only have access to the training set so our transformer can only use the training set to construct a representation."
   ]
  },
  {
   "cell_type": "code",
   "execution_count": 10,
   "metadata": {},
   "outputs": [],
   "source": [
    "import numpy as np\n",
    "from sklearn.feature_extraction.text import CountVectorizer\n",
    "from sklearn.externals import joblib\n",
    "# joblib is an enhanced version of pickle that is more efficient for storing NumPy arrays\n",
    "\n",
    "def extract_BoW_features(words_train, words_test, vocabulary_size=5000,\n",
    "                         cache_dir=cache_dir, cache_file=\"bow_features.pkl\"):\n",
    "    \"\"\"Extract Bag-of-Words for a given set of documents, already preprocessed into words.\"\"\"\n",
    "    \n",
    "    # If cache_file is not None, try to read from it first\n",
    "    cache_data = None\n",
    "    if cache_file is not None:\n",
    "        try:\n",
    "            with open(os.path.join(cache_dir, cache_file), \"rb\") as f:\n",
    "                cache_data = joblib.load(f)\n",
    "            print(\"Read features from cache file:\", cache_file)\n",
    "        except:\n",
    "            pass  # unable to read from cache, but that's okay\n",
    "    \n",
    "    # If cache is missing, then do the heavy lifting\n",
    "    if cache_data is None:\n",
    "        # Fit a vectorizer to training documents and use it to transform them\n",
    "        # NOTE: Training documents have already been preprocessed and tokenized into words;\n",
    "        #       pass in dummy functions to skip those steps, e.g. preprocessor=lambda x: x\n",
    "        vectorizer = CountVectorizer(max_features=vocabulary_size,\n",
    "                preprocessor=lambda x: x, tokenizer=lambda x: x)  # already preprocessed\n",
    "        features_train = vectorizer.fit_transform(words_train).toarray()\n",
    "\n",
    "        # Apply the same vectorizer to transform the test documents (ignore unknown words)\n",
    "        features_test = vectorizer.transform(words_test).toarray()\n",
    "        \n",
    "        # NOTE: Remember to convert the features using .toarray() for a compact representation\n",
    "        \n",
    "        # Write to cache file for future runs (store vocabulary as well)\n",
    "        if cache_file is not None:\n",
    "            vocabulary = vectorizer.vocabulary_\n",
    "            cache_data = dict(features_train=features_train, features_test=features_test,\n",
    "                             vocabulary=vocabulary)\n",
    "            with open(os.path.join(cache_dir, cache_file), \"wb\") as f:\n",
    "                joblib.dump(cache_data, f)\n",
    "            print(\"Wrote features to cache file:\", cache_file)\n",
    "    else:\n",
    "        # Unpack data loaded from cache file\n",
    "        features_train, features_test, vocabulary = (cache_data['features_train'],\n",
    "                cache_data['features_test'], cache_data['vocabulary'])\n",
    "    \n",
    "    # Return both the extracted features as well as the vocabulary\n",
    "    return features_train, features_test, vocabulary"
   ]
  },
  {
   "cell_type": "code",
   "execution_count": 11,
   "metadata": {},
   "outputs": [
    {
     "name": "stdout",
     "output_type": "stream",
     "text": [
      "Read features from cache file: bow_features.pkl\n"
     ]
    }
   ],
   "source": [
    "# Extract Bag of Words features for both training and test datasets\n",
    "train_X, test_X, vocabulary = extract_BoW_features(train_X, test_X)"
   ]
  },
  {
   "cell_type": "markdown",
   "metadata": {},
   "source": [
    "## Step 4: Classification using XGBoost\n",
    "\n",
    "Now that we have created the feature representation of our training (and testing) data, it is time to start setting up and using the XGBoost classifier provided by SageMaker.\n",
    "\n",
    "### Writing the dataset\n",
    "\n",
    "The XGBoost classifier that we will be using requires the dataset to be written to a file and stored using Amazon S3. To do this, we will start by splitting the training dataset into two parts, the data we will train the model with and a validation set. Then, we will write those datasets to a file and upload the files to S3. In addition, we will write the test set input to a file and upload the file to S3. This is so that we can use SageMakers Batch Transform functionality to test our model once we've fit it."
   ]
  },
  {
   "cell_type": "code",
   "execution_count": 12,
   "metadata": {},
   "outputs": [],
   "source": [
    "import pandas as pd\n",
    "\n",
    "val_X = pd.DataFrame(train_X[:10000])\n",
    "train_X = pd.DataFrame(train_X[10000:])\n",
    "\n",
    "val_y = pd.DataFrame(train_y[:10000])\n",
    "train_y = pd.DataFrame(train_y[10000:])\n",
    "\n",
    "test_y = pd.DataFrame(test_y)\n",
    "test_X = pd.DataFrame(test_X)"
   ]
  },
  {
   "cell_type": "markdown",
   "metadata": {},
   "source": [
    "The documentation for the XGBoost algorithm in SageMaker requires that the saved datasets should contain no headers or index and that for the training and validation data, the label should occur first for each sample.\n",
    "\n",
    "For more information about this and other algorithms, the SageMaker developer documentation can be found on __[Amazon's website.](https://docs.aws.amazon.com/sagemaker/latest/dg/)__"
   ]
  },
  {
   "cell_type": "code",
   "execution_count": 13,
   "metadata": {},
   "outputs": [],
   "source": [
    "# First we make sure that the local directory in which we'd like to store the training and validation csv files exists.\n",
    "data_dir = '../data/xgboost'\n",
    "if not os.path.exists(data_dir):\n",
    "    os.makedirs(data_dir)"
   ]
  },
  {
   "cell_type": "code",
   "execution_count": 14,
   "metadata": {},
   "outputs": [],
   "source": [
    "# First, save the test data to test.csv in the data_dir directory. Note that we do not save the associated ground truth\n",
    "# labels, instead we will use them later to compare with our model output.\n",
    "\n",
    "test_X.to_csv(os.path.join(data_dir, 'test.csv'), header=False, index=False)\n",
    "pd.concat([val_y, val_X], axis=1).to_csv(os.path.join(data_dir, 'validation.csv'), header=False, index=False)\n",
    "pd.concat([train_y, train_X], axis=1).to_csv(os.path.join(data_dir, 'train.csv'), header=False, index=False)"
   ]
  },
  {
   "cell_type": "code",
   "execution_count": 15,
   "metadata": {},
   "outputs": [],
   "source": [
    "# To save a bit of memory we can set text_X, train_X, val_X, train_y and val_y to None.\n",
    "\n",
    "train_X = val_X = train_y = val_y = None"
   ]
  },
  {
   "cell_type": "code",
   "execution_count": 35,
   "metadata": {},
   "outputs": [],
   "source": [
    "test_X.to_csv(os.path.join(data_dir, 'test.csv'), header=False, index=False)"
   ]
  },
  {
   "cell_type": "code",
   "execution_count": 36,
   "metadata": {},
   "outputs": [],
   "source": [
    "test_location = session.upload_data(os.path.join(data_dir, 'test.csv'), key_prefix=prefix)"
   ]
  },
  {
   "cell_type": "markdown",
   "metadata": {},
   "source": [
    "### Uploading Training / Validation files to S3\n",
    "\n",
    "Amazon's S3 service allows us to store files that can be access by both the built-in training models such as the XGBoost model we will be using as well as custom models such as the one we will see a little later.\n",
    "\n",
    "For this, and most other tasks we will be doing using SageMaker, there are two methods we could use. The first is to use the low level functionality of SageMaker which requires knowing each of the objects involved in the SageMaker environment. The second is to use the high level functionality in which certain choices have been made on the user's behalf. The low level approach benefits from allowing the user a great deal of flexibility while the high level approach makes development much quicker. For our purposes we will opt to use the high level approach although using the low-level approach is certainly an option.\n",
    "\n",
    "Recall the method `upload_data()` which is a member of object representing our current SageMaker session. What this method does is upload the data to the default bucket (which is created if it does not exist) into the path described by the key_prefix variable. To see this for yourself, once you have uploaded the data files, go to the S3 console and look to see where the files have been uploaded.\n",
    "\n",
    "For additional resources, see the __[SageMaker API documentation](http://sagemaker.readthedocs.io/en/latest/)__ and in addition the __[SageMaker Developer Guide.](https://docs.aws.amazon.com/sagemaker/latest/dg/)__"
   ]
  },
  {
   "cell_type": "code",
   "execution_count": 16,
   "metadata": {},
   "outputs": [],
   "source": [
    "import sagemaker\n",
    "\n",
    "session = sagemaker.Session() # Store the current SageMaker session\n",
    "\n",
    "# S3 prefix (which folder will we use)\n",
    "prefix = 'sentiment-xgboost'\n",
    "\n",
    "test_location = session.upload_data(os.path.join(data_dir, 'test.csv'), key_prefix=prefix)\n",
    "val_location = session.upload_data(os.path.join(data_dir, 'validation.csv'), key_prefix=prefix)\n",
    "train_location = session.upload_data(os.path.join(data_dir, 'train.csv'), key_prefix=prefix)"
   ]
  },
  {
   "cell_type": "markdown",
   "metadata": {},
   "source": [
    "### (TODO) Creating a hypertuned XGBoost model\n",
    "\n",
    "Now that the data has been uploaded it is time to create the XGBoost model. As in the Boston Housing notebook, the first step is to create an estimator object which will be used as the *base* of your hyperparameter tuning job."
   ]
  },
  {
   "cell_type": "code",
   "execution_count": 17,
   "metadata": {},
   "outputs": [],
   "source": [
    "from sagemaker import get_execution_role\n",
    "\n",
    "# Our current execution role is require when creating the model as the training\n",
    "# and inference code will need to access the model artifacts.\n",
    "role = get_execution_role()"
   ]
  },
  {
   "cell_type": "code",
   "execution_count": 18,
   "metadata": {},
   "outputs": [
    {
     "name": "stderr",
     "output_type": "stream",
     "text": [
      "WARNING:root:There is a more up to date SageMaker XGBoost image. To use the newer image, please set 'repo_version'='0.90-2'. For example:\n",
      "\tget_image_uri(region, 'xgboost', '0.90-2').\n"
     ]
    }
   ],
   "source": [
    "# We need to retrieve the location of the container which is provided by Amazon for using XGBoost.\n",
    "# As a matter of convenience, the training and inference code both use the same container.\n",
    "from sagemaker.amazon.amazon_estimator import get_image_uri\n",
    "\n",
    "container = get_image_uri(session.boto_region_name, 'xgboost')"
   ]
  },
  {
   "cell_type": "code",
   "execution_count": 20,
   "metadata": {},
   "outputs": [],
   "source": [
    "# TODO: Create a SageMaker estimator using the container location determined in the previous cell.\n",
    "#       It is recommended that you use a single training instance of type ml.m4.xlarge. It is also\n",
    "#       recommended that you use 's3://{}/{}/output'.format(session.default_bucket(), prefix) as the\n",
    "#       output path.\n",
    "\n",
    "xgb = sagemaker.estimator.Estimator(container,\n",
    "                                    role,\n",
    "                                    train_instance_count=1,\n",
    "                                    train_instance_type='ml.m4.xlarge',\n",
    "                                    output_path='s3://{}/{}/output'.format(session.default_bucket(), prefix),\n",
    "                                    sagemaker_session=session,\n",
    "                                   )\n",
    "\n",
    "# TODO: Set the XGBoost hyperparameters in the xgb object. Don't forget that in this case we have a binary\n",
    "#       label so we should be using the 'binary:logistic' objective.\n",
    "\n",
    "xgb.set_hyperparameters(max_depth=5,\n",
    "                        eta=0.2,\n",
    "                        gamma=4,\n",
    "                        min_child_weight=6,\n",
    "                        subsample=0.8,\n",
    "                        objective='binary:logistic',\n",
    "                        early_stopping_rounds=20,\n",
    "                        num_round=200)"
   ]
  },
  {
   "cell_type": "markdown",
   "metadata": {},
   "source": [
    "### (TODO) Create the hyperparameter tuner\n",
    "\n",
    "Now that the base estimator has been set up we need to construct a hyperparameter tuner object which we will use to request SageMaker construct a hyperparameter tuning job.\n",
    "\n",
    "**Note:** Training a single sentiment analysis XGBoost model takes longer than training a Boston Housing XGBoost model so if you don't want the hyperparameter tuning job to take too long, make sure to not set the total number of models (jobs) too high."
   ]
  },
  {
   "cell_type": "code",
   "execution_count": 25,
   "metadata": {},
   "outputs": [],
   "source": [
    "# First, make sure to import the relevant objects used to construct the tuner\n",
    "from sagemaker.tuner import IntegerParameter, ContinuousParameter, HyperparameterTuner\n",
    "\n",
    "# TODO: Create the hyperparameter tuner object\n",
    "\n",
    "xgb_hyperparameter_tuner = HyperparameterTuner(estimator=xgb,\n",
    "                                               objective_metric_name=\"validation:logloss\",\n",
    "                                               objective_type=\"Minimize\",\n",
    "                                               max_jobs=16,\n",
    "                                               max_parallel_jobs=4,\n",
    "                                               hyperparameter_ranges = {\n",
    "                                                    'max_depth': IntegerParameter(3, 8),\n",
    "                                                    'eta'      : ContinuousParameter(0.05, 0.5),\n",
    "                                                    'min_child_weight': IntegerParameter(2, 8),\n",
    "                                                    'subsample': ContinuousParameter(0.5, 0.9),\n",
    "                                                    'gamma': ContinuousParameter(0, 10),\n",
    "                                               }\n",
    "                                              )\n",
    "\n"
   ]
  },
  {
   "cell_type": "markdown",
   "metadata": {},
   "source": [
    "### Fit the hyperparameter tuner\n",
    "\n",
    "Now that the hyperparameter tuner object has been constructed, it is time to fit the various models and find the best performing model."
   ]
  },
  {
   "cell_type": "code",
   "execution_count": 26,
   "metadata": {},
   "outputs": [],
   "source": [
    "s3_input_train = sagemaker.s3_input(s3_data=train_location, content_type='csv')\n",
    "s3_input_validation = sagemaker.s3_input(s3_data=val_location, content_type='csv')"
   ]
  },
  {
   "cell_type": "code",
   "execution_count": 27,
   "metadata": {},
   "outputs": [],
   "source": [
    "xgb_hyperparameter_tuner.fit({'train': s3_input_train, 'validation': s3_input_validation})"
   ]
  },
  {
   "cell_type": "markdown",
   "metadata": {},
   "source": [
    "Remember that the tuning job is constructed and run in the background so if we want to see the progress of our training job we need to call the `wait()` method."
   ]
  },
  {
   "cell_type": "code",
   "execution_count": 28,
   "metadata": {},
   "outputs": [
    {
     "name": "stdout",
     "output_type": "stream",
     "text": [
      ".................................................................................................................................................................................................................................................................................................................................................................................................................................................................................................................!\n"
     ]
    }
   ],
   "source": [
    "xgb_hyperparameter_tuner.wait()"
   ]
  },
  {
   "cell_type": "markdown",
   "metadata": {},
   "source": [
    "### (TODO) Testing the model\n",
    "\n",
    "Now that we've run our hyperparameter tuning job, it's time to see how well the best performing model actually performs. To do this we will use SageMaker's Batch Transform functionality. Batch Transform is a convenient way to perform inference on a large dataset in a way that is not realtime. That is, we don't necessarily need to use our model's results immediately and instead we can peform inference on a large number of samples. An example of this in industry might be peforming an end of month report. This method of inference can also be useful to us as it means to can perform inference on our entire test set. \n",
    "\n",
    "Remember that in order to create a transformer object to perform the batch transform job, we need a trained estimator object. We can do that using the `attach()` method, creating an estimator object which is attached to the best trained job."
   ]
  },
  {
   "cell_type": "code",
   "execution_count": 29,
   "metadata": {},
   "outputs": [
    {
     "name": "stdout",
     "output_type": "stream",
     "text": [
      "2020-05-04 03:31:34 Starting - Preparing the instances for training\n",
      "2020-05-04 03:31:34 Downloading - Downloading input data\n",
      "2020-05-04 03:31:34 Training - Training image download completed. Training in progress.\n",
      "2020-05-04 03:31:34 Uploading - Uploading generated training model\n",
      "2020-05-04 03:31:34 Completed - Training job completed\u001b[34mArguments: train\u001b[0m\n",
      "\u001b[34m[2020-05-04:03:25:08:INFO] Running standalone xgboost training.\u001b[0m\n",
      "\u001b[34m[2020-05-04:03:25:08:INFO] Setting up HPO optimized metric to be : logloss\u001b[0m\n",
      "\u001b[34m[2020-05-04:03:25:08:INFO] File size need to be processed in the node: 238.47mb. Available memory size in the node: 8493.17mb\u001b[0m\n",
      "\u001b[34m[2020-05-04:03:25:08:INFO] Determined delimiter of CSV input is ','\u001b[0m\n",
      "\u001b[34m[03:25:08] S3DistributionType set as FullyReplicated\u001b[0m\n",
      "\u001b[34m[03:25:10] 15000x5000 matrix with 75000000 entries loaded from /opt/ml/input/data/train?format=csv&label_column=0&delimiter=,\u001b[0m\n",
      "\u001b[34m[2020-05-04:03:25:10:INFO] Determined delimiter of CSV input is ','\u001b[0m\n",
      "\u001b[34m[03:25:10] S3DistributionType set as FullyReplicated\u001b[0m\n",
      "\u001b[34m[03:25:11] 10000x5000 matrix with 50000000 entries loaded from /opt/ml/input/data/validation?format=csv&label_column=0&delimiter=,\u001b[0m\n",
      "\u001b[34m[03:25:16] src/tree/updater_prune.cc:74: tree pruning end, 1 roots, 110 extra nodes, 22 pruned nodes, max_depth=8\u001b[0m\n",
      "\u001b[34m[0]#011train-logloss:0.640555#011validation-logloss:0.64288\u001b[0m\n",
      "\u001b[34mMultiple eval metrics have been passed: 'validation-logloss' will be used for early stopping.\n",
      "\u001b[0m\n",
      "\u001b[34mWill train until validation-logloss hasn't improved in 20 rounds.\u001b[0m\n",
      "\u001b[34m[03:25:17] src/tree/updater_prune.cc:74: tree pruning end, 1 roots, 104 extra nodes, 20 pruned nodes, max_depth=8\u001b[0m\n",
      "\u001b[34m[1]#011train-logloss:0.604145#011validation-logloss:0.608672\u001b[0m\n",
      "\u001b[34m[03:25:20] src/tree/updater_prune.cc:74: tree pruning end, 1 roots, 102 extra nodes, 10 pruned nodes, max_depth=8\u001b[0m\n",
      "\u001b[34m[2]#011train-logloss:0.576551#011validation-logloss:0.582906\u001b[0m\n",
      "\u001b[34m[03:25:22] src/tree/updater_prune.cc:74: tree pruning end, 1 roots, 96 extra nodes, 14 pruned nodes, max_depth=8\u001b[0m\n",
      "\u001b[34m[3]#011train-logloss:0.554898#011validation-logloss:0.563314\u001b[0m\n",
      "\u001b[34m[03:25:24] src/tree/updater_prune.cc:74: tree pruning end, 1 roots, 80 extra nodes, 16 pruned nodes, max_depth=8\u001b[0m\n",
      "\u001b[34m[4]#011train-logloss:0.536668#011validation-logloss:0.547105\u001b[0m\n",
      "\u001b[34m[03:25:25] src/tree/updater_prune.cc:74: tree pruning end, 1 roots, 74 extra nodes, 16 pruned nodes, max_depth=8\u001b[0m\n",
      "\u001b[34m[5]#011train-logloss:0.520484#011validation-logloss:0.533242\u001b[0m\n",
      "\u001b[34m[03:25:27] src/tree/updater_prune.cc:74: tree pruning end, 1 roots, 86 extra nodes, 10 pruned nodes, max_depth=8\u001b[0m\n",
      "\u001b[34m[6]#011train-logloss:0.506253#011validation-logloss:0.522482\u001b[0m\n",
      "\u001b[34m[03:25:29] src/tree/updater_prune.cc:74: tree pruning end, 1 roots, 112 extra nodes, 12 pruned nodes, max_depth=8\u001b[0m\n",
      "\u001b[34m[7]#011train-logloss:0.491272#011validation-logloss:0.511617\u001b[0m\n",
      "\u001b[34m[03:25:31] src/tree/updater_prune.cc:74: tree pruning end, 1 roots, 64 extra nodes, 16 pruned nodes, max_depth=8\u001b[0m\n",
      "\u001b[34m[8]#011train-logloss:0.480094#011validation-logloss:0.503233\u001b[0m\n",
      "\u001b[34m[03:25:33] src/tree/updater_prune.cc:74: tree pruning end, 1 roots, 64 extra nodes, 12 pruned nodes, max_depth=8\u001b[0m\n",
      "\u001b[34m[9]#011train-logloss:0.470151#011validation-logloss:0.493848\u001b[0m\n",
      "\u001b[34m[03:25:35] src/tree/updater_prune.cc:74: tree pruning end, 1 roots, 52 extra nodes, 18 pruned nodes, max_depth=8\u001b[0m\n",
      "\u001b[34m[10]#011train-logloss:0.461174#011validation-logloss:0.486599\u001b[0m\n",
      "\u001b[34m[03:25:37] src/tree/updater_prune.cc:74: tree pruning end, 1 roots, 92 extra nodes, 12 pruned nodes, max_depth=8\u001b[0m\n",
      "\u001b[34m[11]#011train-logloss:0.450731#011validation-logloss:0.478775\u001b[0m\n",
      "\u001b[34m[03:25:38] src/tree/updater_prune.cc:74: tree pruning end, 1 roots, 68 extra nodes, 20 pruned nodes, max_depth=8\u001b[0m\n",
      "\u001b[34m[12]#011train-logloss:0.442757#011validation-logloss:0.472184\u001b[0m\n",
      "\u001b[34m[03:25:40] src/tree/updater_prune.cc:74: tree pruning end, 1 roots, 78 extra nodes, 6 pruned nodes, max_depth=8\u001b[0m\n",
      "\u001b[34m[13]#011train-logloss:0.434681#011validation-logloss:0.465373\u001b[0m\n",
      "\u001b[34m[03:25:42] src/tree/updater_prune.cc:74: tree pruning end, 1 roots, 54 extra nodes, 30 pruned nodes, max_depth=8\u001b[0m\n",
      "\u001b[34m[14]#011train-logloss:0.427655#011validation-logloss:0.458807\u001b[0m\n",
      "\u001b[34m[03:25:44] src/tree/updater_prune.cc:74: tree pruning end, 1 roots, 66 extra nodes, 24 pruned nodes, max_depth=8\u001b[0m\n",
      "\u001b[34m[15]#011train-logloss:0.421211#011validation-logloss:0.453932\u001b[0m\n",
      "\u001b[34m[03:25:46] src/tree/updater_prune.cc:74: tree pruning end, 1 roots, 50 extra nodes, 16 pruned nodes, max_depth=8\u001b[0m\n",
      "\u001b[34m[16]#011train-logloss:0.414944#011validation-logloss:0.449324\u001b[0m\n",
      "\u001b[34m[03:25:48] src/tree/updater_prune.cc:74: tree pruning end, 1 roots, 52 extra nodes, 12 pruned nodes, max_depth=8\u001b[0m\n",
      "\u001b[34m[17]#011train-logloss:0.408983#011validation-logloss:0.4448\u001b[0m\n",
      "\u001b[34m[03:25:50] src/tree/updater_prune.cc:74: tree pruning end, 1 roots, 62 extra nodes, 16 pruned nodes, max_depth=8\u001b[0m\n",
      "\u001b[34m[18]#011train-logloss:0.402562#011validation-logloss:0.440007\u001b[0m\n",
      "\u001b[34m[03:25:51] src/tree/updater_prune.cc:74: tree pruning end, 1 roots, 66 extra nodes, 18 pruned nodes, max_depth=8\u001b[0m\n",
      "\u001b[34m[19]#011train-logloss:0.396221#011validation-logloss:0.435907\u001b[0m\n",
      "\u001b[34m[03:25:53] src/tree/updater_prune.cc:74: tree pruning end, 1 roots, 62 extra nodes, 10 pruned nodes, max_depth=8\u001b[0m\n",
      "\u001b[34m[20]#011train-logloss:0.390458#011validation-logloss:0.431502\u001b[0m\n",
      "\u001b[34m[03:25:55] src/tree/updater_prune.cc:74: tree pruning end, 1 roots, 90 extra nodes, 8 pruned nodes, max_depth=8\u001b[0m\n",
      "\u001b[34m[21]#011train-logloss:0.384094#011validation-logloss:0.427414\u001b[0m\n",
      "\u001b[34m[03:25:57] src/tree/updater_prune.cc:74: tree pruning end, 1 roots, 62 extra nodes, 12 pruned nodes, max_depth=8\u001b[0m\n",
      "\u001b[34m[22]#011train-logloss:0.379613#011validation-logloss:0.424037\u001b[0m\n",
      "\u001b[34m[03:25:59] src/tree/updater_prune.cc:74: tree pruning end, 1 roots, 80 extra nodes, 6 pruned nodes, max_depth=8\u001b[0m\n",
      "\u001b[34m[23]#011train-logloss:0.374348#011validation-logloss:0.420597\u001b[0m\n",
      "\u001b[34m[03:26:01] src/tree/updater_prune.cc:74: tree pruning end, 1 roots, 50 extra nodes, 18 pruned nodes, max_depth=8\u001b[0m\n",
      "\u001b[34m[24]#011train-logloss:0.369739#011validation-logloss:0.416854\u001b[0m\n",
      "\u001b[34m[03:26:03] src/tree/updater_prune.cc:74: tree pruning end, 1 roots, 58 extra nodes, 8 pruned nodes, max_depth=8\u001b[0m\n",
      "\u001b[34m[25]#011train-logloss:0.364865#011validation-logloss:0.414362\u001b[0m\n",
      "\u001b[34m[03:26:04] src/tree/updater_prune.cc:74: tree pruning end, 1 roots, 64 extra nodes, 10 pruned nodes, max_depth=8\u001b[0m\n",
      "\u001b[34m[26]#011train-logloss:0.360668#011validation-logloss:0.41175\u001b[0m\n",
      "\u001b[34m[03:26:06] src/tree/updater_prune.cc:74: tree pruning end, 1 roots, 66 extra nodes, 12 pruned nodes, max_depth=8\u001b[0m\n",
      "\u001b[34m[27]#011train-logloss:0.356149#011validation-logloss:0.408911\u001b[0m\n",
      "\u001b[34m[03:26:08] src/tree/updater_prune.cc:74: tree pruning end, 1 roots, 30 extra nodes, 12 pruned nodes, max_depth=8\u001b[0m\n",
      "\u001b[34m[28]#011train-logloss:0.353224#011validation-logloss:0.406434\u001b[0m\n",
      "\u001b[34m[03:26:10] src/tree/updater_prune.cc:74: tree pruning end, 1 roots, 64 extra nodes, 4 pruned nodes, max_depth=8\u001b[0m\n",
      "\u001b[34m[29]#011train-logloss:0.349181#011validation-logloss:0.404363\u001b[0m\n",
      "\u001b[34m[03:26:12] src/tree/updater_prune.cc:74: tree pruning end, 1 roots, 44 extra nodes, 18 pruned nodes, max_depth=8\u001b[0m\n",
      "\u001b[34m[30]#011train-logloss:0.345836#011validation-logloss:0.401615\u001b[0m\n",
      "\u001b[34m[03:26:14] src/tree/updater_prune.cc:74: tree pruning end, 1 roots, 58 extra nodes, 10 pruned nodes, max_depth=8\u001b[0m\n",
      "\u001b[34m[31]#011train-logloss:0.342173#011validation-logloss:0.399532\u001b[0m\n",
      "\u001b[34m[03:26:16] src/tree/updater_prune.cc:74: tree pruning end, 1 roots, 62 extra nodes, 14 pruned nodes, max_depth=8\u001b[0m\n",
      "\u001b[34m[32]#011train-logloss:0.338726#011validation-logloss:0.39696\u001b[0m\n",
      "\u001b[34m[03:26:17] src/tree/updater_prune.cc:74: tree pruning end, 1 roots, 28 extra nodes, 14 pruned nodes, max_depth=8\u001b[0m\n",
      "\u001b[34m[33]#011train-logloss:0.336277#011validation-logloss:0.394824\u001b[0m\n",
      "\u001b[34m[03:26:19] src/tree/updater_prune.cc:74: tree pruning end, 1 roots, 70 extra nodes, 8 pruned nodes, max_depth=8\u001b[0m\n",
      "\u001b[34m[34]#011train-logloss:0.332391#011validation-logloss:0.392156\u001b[0m\n",
      "\u001b[34m[03:26:21] src/tree/updater_prune.cc:74: tree pruning end, 1 roots, 68 extra nodes, 26 pruned nodes, max_depth=8\u001b[0m\n",
      "\u001b[34m[35]#011train-logloss:0.328498#011validation-logloss:0.39018\u001b[0m\n",
      "\u001b[34m[03:26:23] src/tree/updater_prune.cc:74: tree pruning end, 1 roots, 44 extra nodes, 12 pruned nodes, max_depth=8\u001b[0m\n",
      "\u001b[34m[36]#011train-logloss:0.325844#011validation-logloss:0.387738\u001b[0m\n",
      "\u001b[34m[03:26:25] src/tree/updater_prune.cc:74: tree pruning end, 1 roots, 36 extra nodes, 12 pruned nodes, max_depth=8\u001b[0m\n",
      "\u001b[34m[37]#011train-logloss:0.323366#011validation-logloss:0.385832\u001b[0m\n",
      "\u001b[34m[03:26:27] src/tree/updater_prune.cc:74: tree pruning end, 1 roots, 26 extra nodes, 18 pruned nodes, max_depth=8\u001b[0m\n",
      "\u001b[34m[38]#011train-logloss:0.321076#011validation-logloss:0.384208\u001b[0m\n",
      "\u001b[34m[03:26:29] src/tree/updater_prune.cc:74: tree pruning end, 1 roots, 44 extra nodes, 18 pruned nodes, max_depth=8\u001b[0m\n",
      "\u001b[34m[39]#011train-logloss:0.318954#011validation-logloss:0.382733\u001b[0m\n",
      "\u001b[34m[03:26:30] src/tree/updater_prune.cc:74: tree pruning end, 1 roots, 48 extra nodes, 16 pruned nodes, max_depth=8\u001b[0m\n",
      "\u001b[34m[40]#011train-logloss:0.316454#011validation-logloss:0.380798\u001b[0m\n",
      "\u001b[34m[03:26:32] src/tree/updater_prune.cc:74: tree pruning end, 1 roots, 38 extra nodes, 20 pruned nodes, max_depth=8\u001b[0m\n",
      "\u001b[34m[41]#011train-logloss:0.314074#011validation-logloss:0.379067\u001b[0m\n",
      "\u001b[34m[03:26:34] src/tree/updater_prune.cc:74: tree pruning end, 1 roots, 40 extra nodes, 12 pruned nodes, max_depth=8\u001b[0m\n",
      "\u001b[34m[42]#011train-logloss:0.311732#011validation-logloss:0.377574\u001b[0m\n",
      "\u001b[34m[03:26:36] src/tree/updater_prune.cc:74: tree pruning end, 1 roots, 38 extra nodes, 14 pruned nodes, max_depth=8\u001b[0m\n",
      "\u001b[34m[43]#011train-logloss:0.309338#011validation-logloss:0.376097\u001b[0m\n",
      "\u001b[34m[03:26:38] src/tree/updater_prune.cc:74: tree pruning end, 1 roots, 54 extra nodes, 14 pruned nodes, max_depth=8\u001b[0m\n",
      "\u001b[34m[44]#011train-logloss:0.306677#011validation-logloss:0.374542\u001b[0m\n",
      "\u001b[34m[03:26:40] src/tree/updater_prune.cc:74: tree pruning end, 1 roots, 60 extra nodes, 14 pruned nodes, max_depth=8\u001b[0m\n",
      "\u001b[34m[45]#011train-logloss:0.303869#011validation-logloss:0.37318\u001b[0m\n",
      "\u001b[34m[03:26:42] src/tree/updater_prune.cc:74: tree pruning end, 1 roots, 32 extra nodes, 6 pruned nodes, max_depth=8\u001b[0m\n",
      "\u001b[34m[46]#011train-logloss:0.302147#011validation-logloss:0.37166\u001b[0m\n",
      "\u001b[34m[03:26:44] src/tree/updater_prune.cc:74: tree pruning end, 1 roots, 40 extra nodes, 12 pruned nodes, max_depth=8\u001b[0m\n",
      "\u001b[34m[47]#011train-logloss:0.299853#011validation-logloss:0.370568\u001b[0m\n",
      "\u001b[34m[03:26:45] src/tree/updater_prune.cc:74: tree pruning end, 1 roots, 54 extra nodes, 20 pruned nodes, max_depth=8\u001b[0m\n",
      "\u001b[34m[48]#011train-logloss:0.297727#011validation-logloss:0.369474\u001b[0m\n",
      "\u001b[34m[03:26:47] src/tree/updater_prune.cc:74: tree pruning end, 1 roots, 36 extra nodes, 18 pruned nodes, max_depth=8\u001b[0m\n",
      "\u001b[34m[49]#011train-logloss:0.295991#011validation-logloss:0.368273\u001b[0m\n",
      "\u001b[34m[03:26:49] src/tree/updater_prune.cc:74: tree pruning end, 1 roots, 36 extra nodes, 16 pruned nodes, max_depth=8\u001b[0m\n",
      "\u001b[34m[50]#011train-logloss:0.294245#011validation-logloss:0.36693\u001b[0m\n",
      "\u001b[34m[03:26:51] src/tree/updater_prune.cc:74: tree pruning end, 1 roots, 34 extra nodes, 20 pruned nodes, max_depth=8\u001b[0m\n",
      "\u001b[34m[51]#011train-logloss:0.292386#011validation-logloss:0.365671\u001b[0m\n",
      "\u001b[34m[03:26:53] src/tree/updater_prune.cc:74: tree pruning end, 1 roots, 48 extra nodes, 12 pruned nodes, max_depth=8\u001b[0m\n",
      "\u001b[34m[52]#011train-logloss:0.29011#011validation-logloss:0.363794\u001b[0m\n",
      "\u001b[34m[03:26:55] src/tree/updater_prune.cc:74: tree pruning end, 1 roots, 60 extra nodes, 22 pruned nodes, max_depth=8\u001b[0m\n",
      "\u001b[34m[53]#011train-logloss:0.287606#011validation-logloss:0.362534\u001b[0m\n",
      "\u001b[34m[03:26:57] src/tree/updater_prune.cc:74: tree pruning end, 1 roots, 62 extra nodes, 14 pruned nodes, max_depth=8\u001b[0m\n",
      "\u001b[34m[54]#011train-logloss:0.285178#011validation-logloss:0.36149\u001b[0m\n",
      "\u001b[34m[03:26:58] src/tree/updater_prune.cc:74: tree pruning end, 1 roots, 46 extra nodes, 10 pruned nodes, max_depth=8\u001b[0m\n",
      "\u001b[34m[55]#011train-logloss:0.282937#011validation-logloss:0.360485\u001b[0m\n",
      "\u001b[34m[03:27:00] src/tree/updater_prune.cc:74: tree pruning end, 1 roots, 38 extra nodes, 16 pruned nodes, max_depth=8\u001b[0m\n",
      "\u001b[34m[56]#011train-logloss:0.28116#011validation-logloss:0.359355\u001b[0m\n",
      "\u001b[34m[03:27:02] src/tree/updater_prune.cc:74: tree pruning end, 1 roots, 72 extra nodes, 14 pruned nodes, max_depth=8\u001b[0m\n",
      "\u001b[34m[57]#011train-logloss:0.278288#011validation-logloss:0.358518\u001b[0m\n",
      "\u001b[34m[03:27:04] src/tree/updater_prune.cc:74: tree pruning end, 1 roots, 38 extra nodes, 10 pruned nodes, max_depth=8\u001b[0m\n",
      "\u001b[34m[58]#011train-logloss:0.276688#011validation-logloss:0.357344\u001b[0m\n",
      "\u001b[34m[03:27:06] src/tree/updater_prune.cc:74: tree pruning end, 1 roots, 40 extra nodes, 8 pruned nodes, max_depth=8\u001b[0m\n",
      "\u001b[34m[59]#011train-logloss:0.274982#011validation-logloss:0.35624\u001b[0m\n",
      "\u001b[34m[03:27:08] src/tree/updater_prune.cc:74: tree pruning end, 1 roots, 26 extra nodes, 12 pruned nodes, max_depth=8\u001b[0m\n",
      "\u001b[34m[60]#011train-logloss:0.273708#011validation-logloss:0.355152\u001b[0m\n",
      "\u001b[34m[03:27:09] src/tree/updater_prune.cc:74: tree pruning end, 1 roots, 48 extra nodes, 18 pruned nodes, max_depth=8\u001b[0m\n",
      "\u001b[34m[61]#011train-logloss:0.271685#011validation-logloss:0.353696\u001b[0m\n",
      "\u001b[34m[03:27:11] src/tree/updater_prune.cc:74: tree pruning end, 1 roots, 36 extra nodes, 14 pruned nodes, max_depth=8\u001b[0m\n",
      "\u001b[34m[62]#011train-logloss:0.270004#011validation-logloss:0.35223\u001b[0m\n",
      "\u001b[34m[03:27:13] src/tree/updater_prune.cc:74: tree pruning end, 1 roots, 42 extra nodes, 18 pruned nodes, max_depth=8\u001b[0m\n",
      "\u001b[34m[63]#011train-logloss:0.268211#011validation-logloss:0.351857\u001b[0m\n",
      "\u001b[34m[03:27:15] src/tree/updater_prune.cc:74: tree pruning end, 1 roots, 32 extra nodes, 18 pruned nodes, max_depth=8\u001b[0m\n",
      "\u001b[34m[64]#011train-logloss:0.266797#011validation-logloss:0.351007\u001b[0m\n",
      "\u001b[34m[03:27:17] src/tree/updater_prune.cc:74: tree pruning end, 1 roots, 32 extra nodes, 16 pruned nodes, max_depth=8\u001b[0m\n",
      "\u001b[34m[65]#011train-logloss:0.265476#011validation-logloss:0.350459\u001b[0m\n",
      "\u001b[34m[03:27:19] src/tree/updater_prune.cc:74: tree pruning end, 1 roots, 24 extra nodes, 4 pruned nodes, max_depth=8\u001b[0m\n",
      "\u001b[34m[66]#011train-logloss:0.264471#011validation-logloss:0.349735\u001b[0m\n",
      "\u001b[34m[03:27:21] src/tree/updater_prune.cc:74: tree pruning end, 1 roots, 34 extra nodes, 10 pruned nodes, max_depth=8\u001b[0m\n",
      "\u001b[34m[67]#011train-logloss:0.263116#011validation-logloss:0.349015\u001b[0m\n",
      "\u001b[34m[03:27:22] src/tree/updater_prune.cc:74: tree pruning end, 1 roots, 26 extra nodes, 6 pruned nodes, max_depth=8\u001b[0m\n",
      "\u001b[34m[68]#011train-logloss:0.261952#011validation-logloss:0.348196\u001b[0m\n",
      "\u001b[34m[03:27:24] src/tree/updater_prune.cc:74: tree pruning end, 1 roots, 32 extra nodes, 14 pruned nodes, max_depth=8\u001b[0m\n",
      "\u001b[34m[69]#011train-logloss:0.260637#011validation-logloss:0.347171\u001b[0m\n",
      "\u001b[34m[03:27:26] src/tree/updater_prune.cc:74: tree pruning end, 1 roots, 56 extra nodes, 12 pruned nodes, max_depth=8\u001b[0m\n",
      "\u001b[34m[70]#011train-logloss:0.258897#011validation-logloss:0.346233\u001b[0m\n",
      "\u001b[34m[03:27:28] src/tree/updater_prune.cc:74: tree pruning end, 1 roots, 36 extra nodes, 14 pruned nodes, max_depth=8\u001b[0m\n",
      "\u001b[34m[71]#011train-logloss:0.257633#011validation-logloss:0.34559\u001b[0m\n",
      "\u001b[34m[03:27:30] src/tree/updater_prune.cc:74: tree pruning end, 1 roots, 44 extra nodes, 4 pruned nodes, max_depth=8\u001b[0m\n",
      "\u001b[34m[72]#011train-logloss:0.2559#011validation-logloss:0.34486\u001b[0m\n",
      "\u001b[34m[03:27:32] src/tree/updater_prune.cc:74: tree pruning end, 1 roots, 26 extra nodes, 14 pruned nodes, max_depth=8\u001b[0m\n",
      "\u001b[34m[73]#011train-logloss:0.254703#011validation-logloss:0.344106\u001b[0m\n",
      "\u001b[34m[03:27:34] src/tree/updater_prune.cc:74: tree pruning end, 1 roots, 42 extra nodes, 16 pruned nodes, max_depth=8\u001b[0m\n",
      "\u001b[34m[74]#011train-logloss:0.25331#011validation-logloss:0.343666\u001b[0m\n",
      "\u001b[34m[03:27:35] src/tree/updater_prune.cc:74: tree pruning end, 1 roots, 32 extra nodes, 14 pruned nodes, max_depth=8\u001b[0m\n",
      "\u001b[34m[75]#011train-logloss:0.252181#011validation-logloss:0.343261\u001b[0m\n",
      "\u001b[34m[03:27:37] src/tree/updater_prune.cc:74: tree pruning end, 1 roots, 40 extra nodes, 20 pruned nodes, max_depth=8\u001b[0m\n",
      "\u001b[34m[76]#011train-logloss:0.250739#011validation-logloss:0.342698\u001b[0m\n",
      "\u001b[34m[03:27:39] src/tree/updater_prune.cc:74: tree pruning end, 1 roots, 42 extra nodes, 8 pruned nodes, max_depth=8\u001b[0m\n",
      "\u001b[34m[77]#011train-logloss:0.249315#011validation-logloss:0.34239\u001b[0m\n",
      "\u001b[34m[03:27:41] src/tree/updater_prune.cc:74: tree pruning end, 1 roots, 38 extra nodes, 14 pruned nodes, max_depth=8\u001b[0m\n",
      "\u001b[34m[78]#011train-logloss:0.248002#011validation-logloss:0.341648\u001b[0m\n",
      "\u001b[34m[03:27:43] src/tree/updater_prune.cc:74: tree pruning end, 1 roots, 20 extra nodes, 6 pruned nodes, max_depth=8\u001b[0m\n",
      "\u001b[34m[79]#011train-logloss:0.247157#011validation-logloss:0.340831\u001b[0m\n",
      "\u001b[34m[03:27:45] src/tree/updater_prune.cc:74: tree pruning end, 1 roots, 40 extra nodes, 12 pruned nodes, max_depth=8\u001b[0m\n",
      "\u001b[34m[80]#011train-logloss:0.245688#011validation-logloss:0.340565\u001b[0m\n",
      "\u001b[34m[03:27:47] src/tree/updater_prune.cc:74: tree pruning end, 1 roots, 30 extra nodes, 14 pruned nodes, max_depth=8\u001b[0m\n",
      "\u001b[34m[81]#011train-logloss:0.244375#011validation-logloss:0.339756\u001b[0m\n",
      "\u001b[34m[03:27:48] src/tree/updater_prune.cc:74: tree pruning end, 1 roots, 18 extra nodes, 4 pruned nodes, max_depth=8\u001b[0m\n",
      "\u001b[34m[82]#011train-logloss:0.24361#011validation-logloss:0.339142\u001b[0m\n",
      "\u001b[34m[03:27:50] src/tree/updater_prune.cc:74: tree pruning end, 1 roots, 16 extra nodes, 6 pruned nodes, max_depth=8\u001b[0m\n",
      "\u001b[34m[83]#011train-logloss:0.242924#011validation-logloss:0.338598\u001b[0m\n",
      "\u001b[34m[03:27:52] src/tree/updater_prune.cc:74: tree pruning end, 1 roots, 44 extra nodes, 12 pruned nodes, max_depth=8\u001b[0m\n",
      "\u001b[34m[84]#011train-logloss:0.241493#011validation-logloss:0.338005\u001b[0m\n",
      "\u001b[34m[03:27:54] src/tree/updater_prune.cc:74: tree pruning end, 1 roots, 24 extra nodes, 10 pruned nodes, max_depth=8\u001b[0m\n",
      "\u001b[34m[85]#011train-logloss:0.240686#011validation-logloss:0.337501\u001b[0m\n",
      "\u001b[34m[03:27:56] src/tree/updater_prune.cc:74: tree pruning end, 1 roots, 38 extra nodes, 22 pruned nodes, max_depth=8\u001b[0m\n",
      "\u001b[34m[86]#011train-logloss:0.239364#011validation-logloss:0.337308\u001b[0m\n",
      "\u001b[34m[03:27:58] src/tree/updater_prune.cc:74: tree pruning end, 1 roots, 36 extra nodes, 30 pruned nodes, max_depth=8\u001b[0m\n",
      "\u001b[34m[87]#011train-logloss:0.238213#011validation-logloss:0.337068\u001b[0m\n",
      "\u001b[34m[03:28:00] src/tree/updater_prune.cc:74: tree pruning end, 1 roots, 40 extra nodes, 12 pruned nodes, max_depth=8\u001b[0m\n",
      "\u001b[34m[88]#011train-logloss:0.236996#011validation-logloss:0.336465\u001b[0m\n",
      "\u001b[34m[03:28:02] src/tree/updater_prune.cc:74: tree pruning end, 1 roots, 30 extra nodes, 16 pruned nodes, max_depth=8\u001b[0m\n",
      "\u001b[34m[89]#011train-logloss:0.235977#011validation-logloss:0.336153\u001b[0m\n",
      "\u001b[34m[03:28:03] src/tree/updater_prune.cc:74: tree pruning end, 1 roots, 40 extra nodes, 12 pruned nodes, max_depth=8\u001b[0m\n",
      "\u001b[34m[90]#011train-logloss:0.234747#011validation-logloss:0.335493\u001b[0m\n",
      "\u001b[34m[03:28:05] src/tree/updater_prune.cc:74: tree pruning end, 1 roots, 34 extra nodes, 12 pruned nodes, max_depth=8\u001b[0m\n",
      "\u001b[34m[91]#011train-logloss:0.233694#011validation-logloss:0.335111\u001b[0m\n",
      "\u001b[34m[03:28:07] src/tree/updater_prune.cc:74: tree pruning end, 1 roots, 36 extra nodes, 12 pruned nodes, max_depth=8\u001b[0m\n",
      "\u001b[34m[92]#011train-logloss:0.232577#011validation-logloss:0.33475\u001b[0m\n",
      "\u001b[34m[03:28:09] src/tree/updater_prune.cc:74: tree pruning end, 1 roots, 26 extra nodes, 14 pruned nodes, max_depth=8\u001b[0m\n",
      "\u001b[34m[93]#011train-logloss:0.231636#011validation-logloss:0.334183\u001b[0m\n",
      "\u001b[34m[03:28:11] src/tree/updater_prune.cc:74: tree pruning end, 1 roots, 38 extra nodes, 20 pruned nodes, max_depth=8\u001b[0m\n",
      "\u001b[34m[94]#011train-logloss:0.230597#011validation-logloss:0.333707\u001b[0m\n",
      "\u001b[34m[03:28:13] src/tree/updater_prune.cc:74: tree pruning end, 1 roots, 32 extra nodes, 6 pruned nodes, max_depth=8\u001b[0m\n",
      "\u001b[34m[95]#011train-logloss:0.22968#011validation-logloss:0.333389\u001b[0m\n",
      "\u001b[34m[03:28:15] src/tree/updater_prune.cc:74: tree pruning end, 1 roots, 32 extra nodes, 16 pruned nodes, max_depth=8\u001b[0m\n",
      "\u001b[34m[96]#011train-logloss:0.228331#011validation-logloss:0.332331\u001b[0m\n",
      "\u001b[34m[03:28:16] src/tree/updater_prune.cc:74: tree pruning end, 1 roots, 20 extra nodes, 10 pruned nodes, max_depth=8\u001b[0m\n",
      "\u001b[34m[97]#011train-logloss:0.227625#011validation-logloss:0.33186\u001b[0m\n",
      "\u001b[34m[03:28:18] src/tree/updater_prune.cc:74: tree pruning end, 1 roots, 40 extra nodes, 12 pruned nodes, max_depth=8\u001b[0m\n",
      "\u001b[34m[98]#011train-logloss:0.226619#011validation-logloss:0.331749\u001b[0m\n",
      "\u001b[34m[03:28:20] src/tree/updater_prune.cc:74: tree pruning end, 1 roots, 32 extra nodes, 10 pruned nodes, max_depth=8\u001b[0m\n",
      "\u001b[34m[99]#011train-logloss:0.225611#011validation-logloss:0.331483\u001b[0m\n",
      "\u001b[34m[03:28:22] src/tree/updater_prune.cc:74: tree pruning end, 1 roots, 36 extra nodes, 18 pruned nodes, max_depth=8\u001b[0m\n",
      "\u001b[34m[100]#011train-logloss:0.22447#011validation-logloss:0.331003\u001b[0m\n",
      "\u001b[34m[03:28:24] src/tree/updater_prune.cc:74: tree pruning end, 1 roots, 24 extra nodes, 12 pruned nodes, max_depth=8\u001b[0m\n",
      "\u001b[34m[101]#011train-logloss:0.223747#011validation-logloss:0.330732\u001b[0m\n",
      "\u001b[34m[03:28:26] src/tree/updater_prune.cc:74: tree pruning end, 1 roots, 20 extra nodes, 8 pruned nodes, max_depth=8\u001b[0m\n",
      "\u001b[34m[102]#011train-logloss:0.223112#011validation-logloss:0.330488\u001b[0m\n",
      "\u001b[34m[03:28:28] src/tree/updater_prune.cc:74: tree pruning end, 1 roots, 28 extra nodes, 6 pruned nodes, max_depth=8\u001b[0m\n",
      "\u001b[34m[103]#011train-logloss:0.222278#011validation-logloss:0.329784\u001b[0m\n",
      "\u001b[34m[03:28:30] src/tree/updater_prune.cc:74: tree pruning end, 1 roots, 26 extra nodes, 6 pruned nodes, max_depth=8\u001b[0m\n",
      "\u001b[34m[104]#011train-logloss:0.22151#011validation-logloss:0.329274\u001b[0m\n",
      "\u001b[34m[03:28:31] src/tree/updater_prune.cc:74: tree pruning end, 1 roots, 24 extra nodes, 12 pruned nodes, max_depth=8\u001b[0m\n",
      "\u001b[34m[105]#011train-logloss:0.220797#011validation-logloss:0.328988\u001b[0m\n",
      "\u001b[34m[03:28:33] src/tree/updater_prune.cc:74: tree pruning end, 1 roots, 30 extra nodes, 16 pruned nodes, max_depth=8\u001b[0m\n",
      "\u001b[34m[106]#011train-logloss:0.2199#011validation-logloss:0.328291\u001b[0m\n",
      "\u001b[34m[03:28:35] src/tree/updater_prune.cc:74: tree pruning end, 1 roots, 32 extra nodes, 14 pruned nodes, max_depth=8\u001b[0m\n",
      "\u001b[34m[107]#011train-logloss:0.218957#011validation-logloss:0.327923\u001b[0m\n",
      "\u001b[34m[03:28:37] src/tree/updater_prune.cc:74: tree pruning end, 1 roots, 48 extra nodes, 6 pruned nodes, max_depth=8\u001b[0m\n",
      "\u001b[34m[108]#011train-logloss:0.217717#011validation-logloss:0.327413\u001b[0m\n",
      "\u001b[34m[03:28:39] src/tree/updater_prune.cc:74: tree pruning end, 1 roots, 32 extra nodes, 14 pruned nodes, max_depth=8\u001b[0m\n",
      "\u001b[34m[109]#011train-logloss:0.216874#011validation-logloss:0.327138\u001b[0m\n",
      "\u001b[34m[03:28:41] src/tree/updater_prune.cc:74: tree pruning end, 1 roots, 50 extra nodes, 18 pruned nodes, max_depth=8\u001b[0m\n",
      "\u001b[34m[110]#011train-logloss:0.215629#011validation-logloss:0.327151\u001b[0m\n",
      "\u001b[34m[03:28:43] src/tree/updater_prune.cc:74: tree pruning end, 1 roots, 42 extra nodes, 20 pruned nodes, max_depth=8\u001b[0m\n",
      "\u001b[34m[111]#011train-logloss:0.214574#011validation-logloss:0.326929\u001b[0m\n",
      "\u001b[34m[03:28:44] src/tree/updater_prune.cc:74: tree pruning end, 1 roots, 26 extra nodes, 8 pruned nodes, max_depth=8\u001b[0m\n",
      "\u001b[34m[112]#011train-logloss:0.213897#011validation-logloss:0.326516\u001b[0m\n",
      "\u001b[34m[03:28:46] src/tree/updater_prune.cc:74: tree pruning end, 1 roots, 30 extra nodes, 12 pruned nodes, max_depth=8\u001b[0m\n",
      "\u001b[34m[113]#011train-logloss:0.213028#011validation-logloss:0.326096\u001b[0m\n",
      "\u001b[34m[03:28:48] src/tree/updater_prune.cc:74: tree pruning end, 1 roots, 58 extra nodes, 20 pruned nodes, max_depth=8\u001b[0m\n",
      "\u001b[34m[114]#011train-logloss:0.21129#011validation-logloss:0.325645\u001b[0m\n",
      "\u001b[34m[03:28:50] src/tree/updater_prune.cc:74: tree pruning end, 1 roots, 16 extra nodes, 4 pruned nodes, max_depth=8\u001b[0m\n",
      "\u001b[34m[115]#011train-logloss:0.210813#011validation-logloss:0.325352\u001b[0m\n",
      "\u001b[34m[03:28:52] src/tree/updater_prune.cc:74: tree pruning end, 1 roots, 18 extra nodes, 4 pruned nodes, max_depth=8\u001b[0m\n",
      "\u001b[34m[116]#011train-logloss:0.210301#011validation-logloss:0.325016\u001b[0m\n",
      "\u001b[34m[03:28:54] src/tree/updater_prune.cc:74: tree pruning end, 1 roots, 40 extra nodes, 10 pruned nodes, max_depth=8\u001b[0m\n",
      "\u001b[34m[117]#011train-logloss:0.209313#011validation-logloss:0.324463\u001b[0m\n",
      "\u001b[34m[03:28:56] src/tree/updater_prune.cc:74: tree pruning end, 1 roots, 70 extra nodes, 8 pruned nodes, max_depth=8\u001b[0m\n",
      "\u001b[34m[118]#011train-logloss:0.207508#011validation-logloss:0.324124\u001b[0m\n",
      "\u001b[34m[03:28:57] src/tree/updater_prune.cc:74: tree pruning end, 1 roots, 26 extra nodes, 10 pruned nodes, max_depth=8\u001b[0m\n",
      "\u001b[34m[119]#011train-logloss:0.206943#011validation-logloss:0.323734\u001b[0m\n",
      "\u001b[34m[03:28:59] src/tree/updater_prune.cc:74: tree pruning end, 1 roots, 20 extra nodes, 0 pruned nodes, max_depth=8\u001b[0m\n",
      "\u001b[34m[120]#011train-logloss:0.206406#011validation-logloss:0.323458\u001b[0m\n",
      "\u001b[34m[03:29:01] src/tree/updater_prune.cc:74: tree pruning end, 1 roots, 18 extra nodes, 10 pruned nodes, max_depth=8\u001b[0m\n",
      "\u001b[34m[121]#011train-logloss:0.205926#011validation-logloss:0.323199\u001b[0m\n",
      "\u001b[34m[03:29:03] src/tree/updater_prune.cc:74: tree pruning end, 1 roots, 22 extra nodes, 12 pruned nodes, max_depth=8\u001b[0m\n",
      "\u001b[34m[122]#011train-logloss:0.205258#011validation-logloss:0.322705\u001b[0m\n",
      "\u001b[34m[03:29:05] src/tree/updater_prune.cc:74: tree pruning end, 1 roots, 18 extra nodes, 14 pruned nodes, max_depth=8\u001b[0m\n",
      "\u001b[34m[123]#011train-logloss:0.204785#011validation-logloss:0.32244\u001b[0m\n",
      "\u001b[34m[03:29:07] src/tree/updater_prune.cc:74: tree pruning end, 1 roots, 26 extra nodes, 12 pruned nodes, max_depth=8\u001b[0m\n",
      "\u001b[34m[124]#011train-logloss:0.20414#011validation-logloss:0.322035\u001b[0m\n",
      "\u001b[34m[03:29:09] src/tree/updater_prune.cc:74: tree pruning end, 1 roots, 18 extra nodes, 8 pruned nodes, max_depth=8\u001b[0m\n",
      "\u001b[34m[125]#011train-logloss:0.203664#011validation-logloss:0.321769\u001b[0m\n",
      "\u001b[34m[03:29:10] src/tree/updater_prune.cc:74: tree pruning end, 1 roots, 32 extra nodes, 20 pruned nodes, max_depth=8\u001b[0m\n",
      "\u001b[34m[126]#011train-logloss:0.202944#011validation-logloss:0.321409\u001b[0m\n",
      "\u001b[34m[03:29:12] src/tree/updater_prune.cc:74: tree pruning end, 1 roots, 18 extra nodes, 6 pruned nodes, max_depth=8\u001b[0m\n",
      "\u001b[34m[127]#011train-logloss:0.202456#011validation-logloss:0.321193\u001b[0m\n",
      "\u001b[34m[03:29:14] src/tree/updater_prune.cc:74: tree pruning end, 1 roots, 28 extra nodes, 10 pruned nodes, max_depth=8\u001b[0m\n",
      "\u001b[34m[128]#011train-logloss:0.2017#011validation-logloss:0.321294\u001b[0m\n",
      "\u001b[34m[03:29:16] src/tree/updater_prune.cc:74: tree pruning end, 1 roots, 26 extra nodes, 8 pruned nodes, max_depth=8\u001b[0m\n",
      "\u001b[34m[129]#011train-logloss:0.201116#011validation-logloss:0.320755\u001b[0m\n",
      "\u001b[34m[03:29:18] src/tree/updater_prune.cc:74: tree pruning end, 1 roots, 30 extra nodes, 14 pruned nodes, max_depth=8\u001b[0m\n",
      "\u001b[34m[130]#011train-logloss:0.200347#011validation-logloss:0.320491\u001b[0m\n",
      "\u001b[34m[03:29:20] src/tree/updater_prune.cc:74: tree pruning end, 1 roots, 40 extra nodes, 14 pruned nodes, max_depth=8\u001b[0m\n",
      "\u001b[34m[131]#011train-logloss:0.199411#011validation-logloss:0.320118\u001b[0m\n",
      "\u001b[34m[03:29:22] src/tree/updater_prune.cc:74: tree pruning end, 1 roots, 20 extra nodes, 24 pruned nodes, max_depth=8\u001b[0m\n",
      "\u001b[34m[132]#011train-logloss:0.19888#011validation-logloss:0.320003\u001b[0m\n",
      "\u001b[34m[03:29:23] src/tree/updater_prune.cc:74: tree pruning end, 1 roots, 28 extra nodes, 20 pruned nodes, max_depth=8\u001b[0m\n",
      "\u001b[34m[133]#011train-logloss:0.19816#011validation-logloss:0.319717\u001b[0m\n",
      "\u001b[34m[03:29:25] src/tree/updater_prune.cc:74: tree pruning end, 1 roots, 18 extra nodes, 6 pruned nodes, max_depth=8\u001b[0m\n",
      "\u001b[34m[134]#011train-logloss:0.19774#011validation-logloss:0.319514\u001b[0m\n",
      "\u001b[34m[03:29:27] src/tree/updater_prune.cc:74: tree pruning end, 1 roots, 18 extra nodes, 20 pruned nodes, max_depth=8\u001b[0m\n",
      "\u001b[34m[135]#011train-logloss:0.197312#011validation-logloss:0.319175\u001b[0m\n",
      "\u001b[34m[03:29:29] src/tree/updater_prune.cc:74: tree pruning end, 1 roots, 18 extra nodes, 4 pruned nodes, max_depth=8\u001b[0m\n",
      "\u001b[34m[136]#011train-logloss:0.196935#011validation-logloss:0.318787\u001b[0m\n",
      "\u001b[34m[03:29:31] src/tree/updater_prune.cc:74: tree pruning end, 1 roots, 18 extra nodes, 6 pruned nodes, max_depth=8\u001b[0m\n",
      "\u001b[34m[137]#011train-logloss:0.196542#011validation-logloss:0.318508\u001b[0m\n",
      "\u001b[34m[03:29:33] src/tree/updater_prune.cc:74: tree pruning end, 1 roots, 28 extra nodes, 12 pruned nodes, max_depth=8\u001b[0m\n",
      "\u001b[34m[138]#011train-logloss:0.195932#011validation-logloss:0.318304\u001b[0m\n",
      "\u001b[34m[03:29:35] src/tree/updater_prune.cc:74: tree pruning end, 1 roots, 48 extra nodes, 22 pruned nodes, max_depth=8\u001b[0m\n",
      "\u001b[34m[139]#011train-logloss:0.194536#011validation-logloss:0.317948\u001b[0m\n",
      "\u001b[34m[03:29:36] src/tree/updater_prune.cc:74: tree pruning end, 1 roots, 34 extra nodes, 20 pruned nodes, max_depth=8\u001b[0m\n",
      "\u001b[34m[140]#011train-logloss:0.193812#011validation-logloss:0.317605\u001b[0m\n",
      "\u001b[34m[03:29:38] src/tree/updater_prune.cc:74: tree pruning end, 1 roots, 26 extra nodes, 16 pruned nodes, max_depth=8\u001b[0m\n",
      "\u001b[34m[141]#011train-logloss:0.193258#011validation-logloss:0.317393\u001b[0m\n",
      "\u001b[34m[03:29:40] src/tree/updater_prune.cc:74: tree pruning end, 1 roots, 18 extra nodes, 14 pruned nodes, max_depth=8\u001b[0m\n",
      "\u001b[34m[142]#011train-logloss:0.192849#011validation-logloss:0.317294\u001b[0m\n",
      "\u001b[34m[03:29:42] src/tree/updater_prune.cc:74: tree pruning end, 1 roots, 22 extra nodes, 2 pruned nodes, max_depth=8\u001b[0m\n",
      "\u001b[34m[143]#011train-logloss:0.192403#011validation-logloss:0.317079\u001b[0m\n",
      "\u001b[34m[03:29:44] src/tree/updater_prune.cc:74: tree pruning end, 1 roots, 42 extra nodes, 22 pruned nodes, max_depth=8\u001b[0m\n",
      "\u001b[34m[144]#011train-logloss:0.191252#011validation-logloss:0.316565\u001b[0m\n",
      "\u001b[34m[03:29:46] src/tree/updater_prune.cc:74: tree pruning end, 1 roots, 16 extra nodes, 2 pruned nodes, max_depth=8\u001b[0m\n",
      "\u001b[34m[145]#011train-logloss:0.190897#011validation-logloss:0.316482\u001b[0m\n",
      "\u001b[34m[03:29:48] src/tree/updater_prune.cc:74: tree pruning end, 1 roots, 44 extra nodes, 8 pruned nodes, max_depth=8\u001b[0m\n",
      "\u001b[34m[146]#011train-logloss:0.189842#011validation-logloss:0.316571\u001b[0m\n",
      "\u001b[34m[03:29:49] src/tree/updater_prune.cc:74: tree pruning end, 1 roots, 30 extra nodes, 10 pruned nodes, max_depth=8\u001b[0m\n",
      "\u001b[34m[147]#011train-logloss:0.189157#011validation-logloss:0.316191\u001b[0m\n",
      "\u001b[34m[03:29:51] src/tree/updater_prune.cc:74: tree pruning end, 1 roots, 20 extra nodes, 16 pruned nodes, max_depth=8\u001b[0m\n",
      "\u001b[34m[148]#011train-logloss:0.188707#011validation-logloss:0.315781\u001b[0m\n",
      "\u001b[34m[03:29:53] src/tree/updater_prune.cc:74: tree pruning end, 1 roots, 28 extra nodes, 10 pruned nodes, max_depth=8\u001b[0m\n",
      "\u001b[34m[149]#011train-logloss:0.188094#011validation-logloss:0.315651\u001b[0m\n",
      "\u001b[34m[03:29:55] src/tree/updater_prune.cc:74: tree pruning end, 1 roots, 26 extra nodes, 10 pruned nodes, max_depth=8\u001b[0m\n",
      "\u001b[34m[150]#011train-logloss:0.187548#011validation-logloss:0.315515\u001b[0m\n",
      "\u001b[34m[03:29:57] src/tree/updater_prune.cc:74: tree pruning end, 1 roots, 18 extra nodes, 6 pruned nodes, max_depth=8\u001b[0m\n",
      "\u001b[34m[151]#011train-logloss:0.18718#011validation-logloss:0.315359\u001b[0m\n",
      "\u001b[34m[03:29:59] src/tree/updater_prune.cc:74: tree pruning end, 1 roots, 28 extra nodes, 10 pruned nodes, max_depth=8\u001b[0m\n",
      "\u001b[34m[152]#011train-logloss:0.186613#011validation-logloss:0.314963\u001b[0m\n",
      "\u001b[34m[03:30:00] src/tree/updater_prune.cc:74: tree pruning end, 1 roots, 16 extra nodes, 20 pruned nodes, max_depth=8\u001b[0m\n",
      "\u001b[34m[153]#011train-logloss:0.186284#011validation-logloss:0.314791\u001b[0m\n",
      "\u001b[34m[03:30:02] src/tree/updater_prune.cc:74: tree pruning end, 1 roots, 38 extra nodes, 10 pruned nodes, max_depth=8\u001b[0m\n",
      "\u001b[34m[154]#011train-logloss:0.18546#011validation-logloss:0.314828\u001b[0m\n",
      "\u001b[34m[03:30:04] src/tree/updater_prune.cc:74: tree pruning end, 1 roots, 16 extra nodes, 8 pruned nodes, max_depth=8\u001b[0m\n",
      "\u001b[34m[155]#011train-logloss:0.185147#011validation-logloss:0.314571\u001b[0m\n",
      "\u001b[34m[03:30:06] src/tree/updater_prune.cc:74: tree pruning end, 1 roots, 26 extra nodes, 16 pruned nodes, max_depth=8\u001b[0m\n",
      "\u001b[34m[156]#011train-logloss:0.184637#011validation-logloss:0.314304\u001b[0m\n",
      "\u001b[34m[03:30:08] src/tree/updater_prune.cc:74: tree pruning end, 1 roots, 22 extra nodes, 18 pruned nodes, max_depth=8\u001b[0m\n",
      "\u001b[34m[157]#011train-logloss:0.184239#011validation-logloss:0.313946\u001b[0m\n",
      "\u001b[34m[03:30:10] src/tree/updater_prune.cc:74: tree pruning end, 1 roots, 16 extra nodes, 6 pruned nodes, max_depth=8\u001b[0m\n",
      "\u001b[34m[158]#011train-logloss:0.183941#011validation-logloss:0.313762\u001b[0m\n",
      "\u001b[34m[03:30:12] src/tree/updater_prune.cc:74: tree pruning end, 1 roots, 36 extra nodes, 12 pruned nodes, max_depth=8\u001b[0m\n",
      "\u001b[34m[159]#011train-logloss:0.183228#011validation-logloss:0.313481\u001b[0m\n",
      "\u001b[34m[03:30:13] src/tree/updater_prune.cc:74: tree pruning end, 1 roots, 28 extra nodes, 6 pruned nodes, max_depth=8\u001b[0m\n",
      "\u001b[34m[160]#011train-logloss:0.182672#011validation-logloss:0.313284\u001b[0m\n",
      "\u001b[34m[03:30:15] src/tree/updater_prune.cc:74: tree pruning end, 1 roots, 28 extra nodes, 14 pruned nodes, max_depth=8\u001b[0m\n",
      "\u001b[34m[161]#011train-logloss:0.18207#011validation-logloss:0.313196\u001b[0m\n",
      "\u001b[34m[03:30:17] src/tree/updater_prune.cc:74: tree pruning end, 1 roots, 46 extra nodes, 14 pruned nodes, max_depth=8\u001b[0m\n",
      "\u001b[34m[162]#011train-logloss:0.181085#011validation-logloss:0.312812\u001b[0m\n",
      "\u001b[34m[03:30:19] src/tree/updater_prune.cc:74: tree pruning end, 1 roots, 20 extra nodes, 12 pruned nodes, max_depth=8\u001b[0m\n",
      "\u001b[34m[163]#011train-logloss:0.180694#011validation-logloss:0.312638\u001b[0m\n",
      "\u001b[34m[03:30:21] src/tree/updater_prune.cc:74: tree pruning end, 1 roots, 22 extra nodes, 14 pruned nodes, max_depth=8\u001b[0m\n",
      "\u001b[34m[164]#011train-logloss:0.180284#011validation-logloss:0.312561\u001b[0m\n",
      "\u001b[34m[03:30:23] src/tree/updater_prune.cc:74: tree pruning end, 1 roots, 30 extra nodes, 18 pruned nodes, max_depth=8\u001b[0m\n",
      "\u001b[34m[165]#011train-logloss:0.17961#011validation-logloss:0.311868\u001b[0m\n",
      "\u001b[34m[03:30:25] src/tree/updater_prune.cc:74: tree pruning end, 1 roots, 16 extra nodes, 20 pruned nodes, max_depth=8\u001b[0m\n",
      "\u001b[34m[166]#011train-logloss:0.179328#011validation-logloss:0.311724\u001b[0m\n",
      "\u001b[34m[03:30:26] src/tree/updater_prune.cc:74: tree pruning end, 1 roots, 20 extra nodes, 12 pruned nodes, max_depth=8\u001b[0m\n",
      "\u001b[34m[167]#011train-logloss:0.178929#011validation-logloss:0.311676\u001b[0m\n",
      "\u001b[34m[03:30:28] src/tree/updater_prune.cc:74: tree pruning end, 1 roots, 16 extra nodes, 8 pruned nodes, max_depth=8\u001b[0m\n",
      "\u001b[34m[168]#011train-logloss:0.178626#011validation-logloss:0.311446\u001b[0m\n",
      "\u001b[34m[03:30:30] src/tree/updater_prune.cc:74: tree pruning end, 1 roots, 24 extra nodes, 16 pruned nodes, max_depth=8\u001b[0m\n",
      "\u001b[34m[169]#011train-logloss:0.178175#011validation-logloss:0.311483\u001b[0m\n",
      "\u001b[34m[03:30:32] src/tree/updater_prune.cc:74: tree pruning end, 1 roots, 16 extra nodes, 8 pruned nodes, max_depth=8\u001b[0m\n",
      "\u001b[34m[170]#011train-logloss:0.177888#011validation-logloss:0.31114\u001b[0m\n",
      "\u001b[34m[03:30:34] src/tree/updater_prune.cc:74: tree pruning end, 1 roots, 18 extra nodes, 8 pruned nodes, max_depth=8\u001b[0m\n",
      "\u001b[34m[171]#011train-logloss:0.177556#011validation-logloss:0.311037\u001b[0m\n",
      "\u001b[34m[03:30:36] src/tree/updater_prune.cc:74: tree pruning end, 1 roots, 20 extra nodes, 8 pruned nodes, max_depth=8\u001b[0m\n",
      "\u001b[34m[172]#011train-logloss:0.177162#011validation-logloss:0.310797\u001b[0m\n",
      "\u001b[34m[03:30:38] src/tree/updater_prune.cc:74: tree pruning end, 1 roots, 26 extra nodes, 12 pruned nodes, max_depth=8\u001b[0m\n",
      "\u001b[34m[173]#011train-logloss:0.17673#011validation-logloss:0.310695\u001b[0m\n",
      "\u001b[34m[03:30:39] src/tree/updater_prune.cc:74: tree pruning end, 1 roots, 26 extra nodes, 6 pruned nodes, max_depth=8\u001b[0m\n",
      "\u001b[34m[174]#011train-logloss:0.176232#011validation-logloss:0.310459\u001b[0m\n",
      "\u001b[34m[03:30:41] src/tree/updater_prune.cc:74: tree pruning end, 1 roots, 18 extra nodes, 14 pruned nodes, max_depth=8\u001b[0m\n",
      "\u001b[34m[175]#011train-logloss:0.175892#011validation-logloss:0.310285\u001b[0m\n",
      "\u001b[34m[03:30:43] src/tree/updater_prune.cc:74: tree pruning end, 1 roots, 20 extra nodes, 10 pruned nodes, max_depth=8\u001b[0m\n",
      "\u001b[34m[176]#011train-logloss:0.175524#011validation-logloss:0.309898\u001b[0m\n",
      "\u001b[34m[03:30:45] src/tree/updater_prune.cc:74: tree pruning end, 1 roots, 28 extra nodes, 8 pruned nodes, max_depth=8\u001b[0m\n",
      "\u001b[34m[177]#011train-logloss:0.175022#011validation-logloss:0.309674\u001b[0m\n",
      "\u001b[34m[03:30:47] src/tree/updater_prune.cc:74: tree pruning end, 1 roots, 34 extra nodes, 14 pruned nodes, max_depth=8\u001b[0m\n",
      "\u001b[34m[178]#011train-logloss:0.174339#011validation-logloss:0.309767\u001b[0m\n",
      "\u001b[34m[03:30:49] src/tree/updater_prune.cc:74: tree pruning end, 1 roots, 20 extra nodes, 4 pruned nodes, max_depth=8\u001b[0m\n",
      "\u001b[34m[179]#011train-logloss:0.173953#011validation-logloss:0.309596\u001b[0m\n",
      "\u001b[34m[03:30:51] src/tree/updater_prune.cc:74: tree pruning end, 1 roots, 38 extra nodes, 16 pruned nodes, max_depth=8\u001b[0m\n",
      "\u001b[34m[180]#011train-logloss:0.173205#011validation-logloss:0.309581\u001b[0m\n",
      "\u001b[34m[03:30:53] src/tree/updater_prune.cc:74: tree pruning end, 1 roots, 38 extra nodes, 10 pruned nodes, max_depth=8\u001b[0m\n",
      "\u001b[34m[181]#011train-logloss:0.172493#011validation-logloss:0.309384\u001b[0m\n",
      "\u001b[34m[03:30:54] src/tree/updater_prune.cc:74: tree pruning end, 1 roots, 40 extra nodes, 24 pruned nodes, max_depth=8\u001b[0m\n",
      "\u001b[34m[182]#011train-logloss:0.171735#011validation-logloss:0.309317\u001b[0m\n",
      "\u001b[34m[03:30:56] src/tree/updater_prune.cc:74: tree pruning end, 1 roots, 22 extra nodes, 6 pruned nodes, max_depth=8\u001b[0m\n",
      "\u001b[34m[183]#011train-logloss:0.171386#011validation-logloss:0.309312\u001b[0m\n",
      "\u001b[34m[03:30:58] src/tree/updater_prune.cc:74: tree pruning end, 1 roots, 22 extra nodes, 8 pruned nodes, max_depth=8\u001b[0m\n",
      "\u001b[34m[184]#011train-logloss:0.170895#011validation-logloss:0.309111\u001b[0m\n",
      "\u001b[34m[03:31:00] src/tree/updater_prune.cc:74: tree pruning end, 1 roots, 18 extra nodes, 8 pruned nodes, max_depth=8\u001b[0m\n",
      "\u001b[34m[185]#011train-logloss:0.170584#011validation-logloss:0.309086\u001b[0m\n",
      "\u001b[34m[03:31:02] src/tree/updater_prune.cc:74: tree pruning end, 1 roots, 34 extra nodes, 14 pruned nodes, max_depth=8\u001b[0m\n",
      "\u001b[34m[186]#011train-logloss:0.169878#011validation-logloss:0.309003\u001b[0m\n",
      "\u001b[34m[03:31:04] src/tree/updater_prune.cc:74: tree pruning end, 1 roots, 22 extra nodes, 14 pruned nodes, max_depth=8\u001b[0m\n",
      "\u001b[34m[187]#011train-logloss:0.169467#011validation-logloss:0.308831\u001b[0m\n",
      "\u001b[34m[03:31:06] src/tree/updater_prune.cc:74: tree pruning end, 1 roots, 30 extra nodes, 12 pruned nodes, max_depth=8\u001b[0m\n",
      "\u001b[34m[188]#011train-logloss:0.168932#011validation-logloss:0.308606\u001b[0m\n",
      "\u001b[34m[03:31:08] src/tree/updater_prune.cc:74: tree pruning end, 1 roots, 24 extra nodes, 18 pruned nodes, max_depth=8\u001b[0m\n",
      "\u001b[34m[189]#011train-logloss:0.168516#011validation-logloss:0.308359\u001b[0m\n",
      "\u001b[34m[03:31:09] src/tree/updater_prune.cc:74: tree pruning end, 1 roots, 20 extra nodes, 4 pruned nodes, max_depth=8\u001b[0m\n",
      "\u001b[34m[190]#011train-logloss:0.168182#011validation-logloss:0.308281\u001b[0m\n",
      "\u001b[34m[03:31:11] src/tree/updater_prune.cc:74: tree pruning end, 1 roots, 20 extra nodes, 8 pruned nodes, max_depth=8\u001b[0m\n",
      "\u001b[34m[191]#011train-logloss:0.167861#011validation-logloss:0.308043\u001b[0m\n",
      "\u001b[34m[03:31:13] src/tree/updater_prune.cc:74: tree pruning end, 1 roots, 18 extra nodes, 16 pruned nodes, max_depth=8\u001b[0m\n",
      "\u001b[34m[192]#011train-logloss:0.167562#011validation-logloss:0.307967\u001b[0m\n",
      "\u001b[34m[03:31:15] src/tree/updater_prune.cc:74: tree pruning end, 1 roots, 22 extra nodes, 10 pruned nodes, max_depth=8\u001b[0m\n",
      "\u001b[34m[193]#011train-logloss:0.167254#011validation-logloss:0.307687\u001b[0m\n",
      "\u001b[34m[03:31:17] src/tree/updater_prune.cc:74: tree pruning end, 1 roots, 16 extra nodes, 10 pruned nodes, max_depth=8\u001b[0m\n",
      "\u001b[34m[194]#011train-logloss:0.167011#011validation-logloss:0.30769\u001b[0m\n",
      "\u001b[34m[03:31:19] src/tree/updater_prune.cc:74: tree pruning end, 1 roots, 32 extra nodes, 14 pruned nodes, max_depth=8\u001b[0m\n",
      "\u001b[34m[195]#011train-logloss:0.166512#011validation-logloss:0.307808\u001b[0m\n",
      "\u001b[34m[03:31:21] src/tree/updater_prune.cc:74: tree pruning end, 1 roots, 44 extra nodes, 14 pruned nodes, max_depth=8\u001b[0m\n",
      "\u001b[34m[196]#011train-logloss:0.165686#011validation-logloss:0.307773\u001b[0m\n",
      "\u001b[34m[03:31:22] src/tree/updater_prune.cc:74: tree pruning end, 1 roots, 24 extra nodes, 4 pruned nodes, max_depth=8\u001b[0m\n",
      "\u001b[34m[197]#011train-logloss:0.165318#011validation-logloss:0.30768\u001b[0m\n",
      "\u001b[34m[03:31:24] src/tree/updater_prune.cc:74: tree pruning end, 1 roots, 36 extra nodes, 14 pruned nodes, max_depth=8\u001b[0m\n",
      "\u001b[34m[198]#011train-logloss:0.164692#011validation-logloss:0.307818\u001b[0m\n",
      "\u001b[34m[03:31:26] src/tree/updater_prune.cc:74: tree pruning end, 1 roots, 18 extra nodes, 10 pruned nodes, max_depth=8\u001b[0m\n",
      "\u001b[34m[199]#011train-logloss:0.1644#011validation-logloss:0.307642\u001b[0m\n",
      "Training seconds: 431\n",
      "Billable seconds: 431\n"
     ]
    }
   ],
   "source": [
    "# TODO: Create a new estimator object attached to the best training job found during hyperparameter tuning\n",
    "\n",
    "xgb_attached = sagemaker.estimator.Estimator.attach(xgb_hyperparameter_tuner.best_training_job())\n"
   ]
  },
  {
   "cell_type": "markdown",
   "metadata": {},
   "source": [
    "Now that we have an estimator object attached to the correct training job, we can proceed as we normally would and create a transformer object."
   ]
  },
  {
   "cell_type": "code",
   "execution_count": 30,
   "metadata": {},
   "outputs": [],
   "source": [
    "# TODO: Create a transformer object from the attached estimator. Using an instance count of 1 and an instance type of ml.m4.xlarge\n",
    "#       should be more than enough.\n",
    "\n",
    "xgb_transformer = xgb_attached.transformer(instance_count=1, instance_type='ml.m4.xlarge')\n"
   ]
  },
  {
   "cell_type": "markdown",
   "metadata": {},
   "source": [
    "Next we actually perform the transform job. When doing so we need to make sure to specify the type of data we are sending so that it is serialized correctly in the background. In our case we are providing our model with csv data so we specify `text/csv`. Also, if the test data that we have provided is too large to process all at once then we need to specify how the data file should be split up. Since each line is a single entry in our data set we tell SageMaker that it can split the input on each line."
   ]
  },
  {
   "cell_type": "code",
   "execution_count": 37,
   "metadata": {},
   "outputs": [],
   "source": [
    "# TODO: Start the transform job. Make sure to specify the content type and the split type of the test data.\n",
    "xgb_transformer.transform(test_location, content_type='text/csv', split_type='Line')"
   ]
  },
  {
   "cell_type": "markdown",
   "metadata": {},
   "source": [
    "Currently the transform job is running but it is doing so in the background. Since we wish to wait until the transform job is done and we would like a bit of feedback we can run the `wait()` method."
   ]
  },
  {
   "cell_type": "code",
   "execution_count": 38,
   "metadata": {},
   "outputs": [
    {
     "name": "stdout",
     "output_type": "stream",
     "text": [
      "....................\u001b[34mArguments: serve\u001b[0m\n",
      "\u001b[34m[2020-05-04 04:04:51 +0000] [1] [INFO] Starting gunicorn 19.7.1\u001b[0m\n",
      "\u001b[34m[2020-05-04 04:04:51 +0000] [1] [INFO] Listening at: http://0.0.0.0:8080 (1)\u001b[0m\n",
      "\u001b[34m[2020-05-04 04:04:51 +0000] [1] [INFO] Using worker: gevent\u001b[0m\n",
      "\u001b[34m[2020-05-04 04:04:51 +0000] [38] [INFO] Booting worker with pid: 38\u001b[0m\n",
      "\u001b[34m[2020-05-04 04:04:51 +0000] [39] [INFO] Booting worker with pid: 39\u001b[0m\n",
      "\u001b[34m[2020-05-04 04:04:51 +0000] [40] [INFO] Booting worker with pid: 40\u001b[0m\n",
      "\u001b[34m[2020-05-04:04:04:51:INFO] Model loaded successfully for worker : 38\u001b[0m\n",
      "\u001b[34m[2020-05-04 04:04:51 +0000] [41] [INFO] Booting worker with pid: 41\u001b[0m\n",
      "\u001b[34m[2020-05-04:04:04:51:INFO] Model loaded successfully for worker : 39\u001b[0m\n",
      "\u001b[34m[2020-05-04:04:04:51:INFO] Model loaded successfully for worker : 40\u001b[0m\n",
      "\u001b[34m[2020-05-04:04:04:51:INFO] Model loaded successfully for worker : 41\u001b[0m\n",
      "\u001b[32m2020-05-04T04:05:10.488:[sagemaker logs]: MaxConcurrentTransforms=4, MaxPayloadInMB=6, BatchStrategy=MULTI_RECORD\u001b[0m\n",
      "\u001b[34m[2020-05-04:04:05:13:INFO] Sniff delimiter as ','\u001b[0m\n",
      "\u001b[34m[2020-05-04:04:05:13:INFO] Determined delimiter of CSV input is ','\u001b[0m\n",
      "\u001b[35m[2020-05-04:04:05:13:INFO] Sniff delimiter as ','\u001b[0m\n",
      "\u001b[35m[2020-05-04:04:05:13:INFO] Determined delimiter of CSV input is ','\u001b[0m\n",
      "\u001b[34m[2020-05-04:04:05:14:INFO] Sniff delimiter as ','\u001b[0m\n",
      "\u001b[34m[2020-05-04:04:05:14:INFO] Determined delimiter of CSV input is ','\u001b[0m\n",
      "\u001b[34m[2020-05-04:04:05:14:INFO] Sniff delimiter as ','\u001b[0m\n",
      "\u001b[34m[2020-05-04:04:05:14:INFO] Determined delimiter of CSV input is ','\u001b[0m\n",
      "\u001b[35m[2020-05-04:04:05:14:INFO] Sniff delimiter as ','\u001b[0m\n",
      "\u001b[35m[2020-05-04:04:05:14:INFO] Determined delimiter of CSV input is ','\u001b[0m\n",
      "\u001b[35m[2020-05-04:04:05:14:INFO] Sniff delimiter as ','\u001b[0m\n",
      "\u001b[35m[2020-05-04:04:05:14:INFO] Determined delimiter of CSV input is ','\u001b[0m\n",
      "\u001b[34m[2020-05-04:04:05:14:INFO] Sniff delimiter as ','\u001b[0m\n",
      "\u001b[34m[2020-05-04:04:05:14:INFO] Determined delimiter of CSV input is ','\u001b[0m\n",
      "\u001b[35m[2020-05-04:04:05:14:INFO] Sniff delimiter as ','\u001b[0m\n",
      "\u001b[35m[2020-05-04:04:05:14:INFO] Determined delimiter of CSV input is ','\u001b[0m\n",
      "\u001b[34m[2020-05-04:04:05:15:INFO] Sniff delimiter as ','\u001b[0m\n",
      "\u001b[34m[2020-05-04:04:05:15:INFO] Determined delimiter of CSV input is ','\u001b[0m\n",
      "\u001b[35m[2020-05-04:04:05:15:INFO] Sniff delimiter as ','\u001b[0m\n",
      "\u001b[35m[2020-05-04:04:05:15:INFO] Determined delimiter of CSV input is ','\u001b[0m\n",
      "\u001b[34m[2020-05-04:04:05:16:INFO] Sniff delimiter as ','\u001b[0m\n",
      "\u001b[34m[2020-05-04:04:05:16:INFO] Determined delimiter of CSV input is ','\u001b[0m\n",
      "\u001b[34m[2020-05-04:04:05:16:INFO] Sniff delimiter as ','\u001b[0m\n",
      "\u001b[34m[2020-05-04:04:05:16:INFO] Determined delimiter of CSV input is ','\u001b[0m\n",
      "\u001b[34m[2020-05-04:04:05:17:INFO] Sniff delimiter as ','\u001b[0m\n",
      "\u001b[34m[2020-05-04:04:05:17:INFO] Determined delimiter of CSV input is ','\u001b[0m\n",
      "\u001b[35m[2020-05-04:04:05:16:INFO] Sniff delimiter as ','\u001b[0m\n",
      "\u001b[35m[2020-05-04:04:05:16:INFO] Determined delimiter of CSV input is ','\u001b[0m\n",
      "\u001b[35m[2020-05-04:04:05:16:INFO] Sniff delimiter as ','\u001b[0m\n",
      "\u001b[35m[2020-05-04:04:05:16:INFO] Determined delimiter of CSV input is ','\u001b[0m\n",
      "\u001b[35m[2020-05-04:04:05:17:INFO] Sniff delimiter as ','\u001b[0m\n",
      "\u001b[35m[2020-05-04:04:05:17:INFO] Determined delimiter of CSV input is ','\u001b[0m\n",
      "\u001b[34m[2020-05-04:04:05:18:INFO] Sniff delimiter as ','\u001b[0m\n",
      "\u001b[34m[2020-05-04:04:05:18:INFO] Determined delimiter of CSV input is ','\u001b[0m\n",
      "\u001b[35m[2020-05-04:04:05:18:INFO] Sniff delimiter as ','\u001b[0m\n",
      "\u001b[35m[2020-05-04:04:05:18:INFO] Determined delimiter of CSV input is ','\u001b[0m\n",
      "\u001b[34m[2020-05-04:04:05:19:INFO] Sniff delimiter as ','\u001b[0m\n",
      "\u001b[34m[2020-05-04:04:05:19:INFO] Determined delimiter of CSV input is ','\u001b[0m\n",
      "\u001b[34m[2020-05-04:04:05:19:INFO] Sniff delimiter as ','\u001b[0m\n",
      "\u001b[34m[2020-05-04:04:05:19:INFO] Determined delimiter of CSV input is ','\u001b[0m\n",
      "\u001b[34m[2020-05-04:04:05:19:INFO] Sniff delimiter as ','\u001b[0m\n",
      "\u001b[34m[2020-05-04:04:05:19:INFO] Determined delimiter of CSV input is ','\u001b[0m\n",
      "\u001b[35m[2020-05-04:04:05:19:INFO] Sniff delimiter as ','\u001b[0m\n",
      "\u001b[35m[2020-05-04:04:05:19:INFO] Determined delimiter of CSV input is ','\u001b[0m\n",
      "\u001b[35m[2020-05-04:04:05:19:INFO] Sniff delimiter as ','\u001b[0m\n",
      "\u001b[35m[2020-05-04:04:05:19:INFO] Determined delimiter of CSV input is ','\u001b[0m\n",
      "\u001b[35m[2020-05-04:04:05:19:INFO] Sniff delimiter as ','\u001b[0m\n",
      "\u001b[35m[2020-05-04:04:05:19:INFO] Determined delimiter of CSV input is ','\u001b[0m\n",
      "\u001b[34m[2020-05-04:04:05:20:INFO] Sniff delimiter as ','\u001b[0m\n",
      "\u001b[34m[2020-05-04:04:05:20:INFO] Determined delimiter of CSV input is ','\u001b[0m\n",
      "\u001b[34m[2020-05-04:04:05:21:INFO] Sniff delimiter as ','\u001b[0m\n",
      "\u001b[34m[2020-05-04:04:05:21:INFO] Determined delimiter of CSV input is ','\u001b[0m\n",
      "\u001b[35m[2020-05-04:04:05:20:INFO] Sniff delimiter as ','\u001b[0m\n",
      "\u001b[35m[2020-05-04:04:05:20:INFO] Determined delimiter of CSV input is ','\u001b[0m\n",
      "\u001b[35m[2020-05-04:04:05:21:INFO] Sniff delimiter as ','\u001b[0m\n",
      "\u001b[35m[2020-05-04:04:05:21:INFO] Determined delimiter of CSV input is ','\u001b[0m\n",
      "\u001b[34m[2020-05-04:04:05:21:INFO] Sniff delimiter as ','\u001b[0m\n",
      "\u001b[34m[2020-05-04:04:05:21:INFO] Determined delimiter of CSV input is ','\u001b[0m\n",
      "\u001b[35m[2020-05-04:04:05:21:INFO] Sniff delimiter as ','\u001b[0m\n",
      "\u001b[35m[2020-05-04:04:05:21:INFO] Determined delimiter of CSV input is ','\u001b[0m\n",
      "\u001b[34m[2020-05-04:04:05:22:INFO] Sniff delimiter as ','\u001b[0m\n",
      "\u001b[34m[2020-05-04:04:05:22:INFO] Determined delimiter of CSV input is ','\u001b[0m\n",
      "\u001b[35m[2020-05-04:04:05:22:INFO] Sniff delimiter as ','\u001b[0m\n",
      "\u001b[35m[2020-05-04:04:05:22:INFO] Determined delimiter of CSV input is ','\u001b[0m\n",
      "\u001b[34m[2020-05-04:04:05:24:INFO] Sniff delimiter as ','\u001b[0m\n",
      "\u001b[34m[2020-05-04:04:05:24:INFO] Determined delimiter of CSV input is ','\u001b[0m\n",
      "\u001b[34m[2020-05-04:04:05:24:INFO] Sniff delimiter as ','\u001b[0m\n",
      "\u001b[34m[2020-05-04:04:05:24:INFO] Determined delimiter of CSV input is ','\u001b[0m\n",
      "\u001b[34m[2020-05-04:04:05:24:INFO] Sniff delimiter as ','\u001b[0m\n",
      "\u001b[34m[2020-05-04:04:05:24:INFO] Determined delimiter of CSV input is ','\u001b[0m\n",
      "\u001b[35m[2020-05-04:04:05:24:INFO] Sniff delimiter as ','\u001b[0m\n",
      "\u001b[35m[2020-05-04:04:05:24:INFO] Determined delimiter of CSV input is ','\u001b[0m\n",
      "\u001b[35m[2020-05-04:04:05:24:INFO] Sniff delimiter as ','\u001b[0m\n",
      "\u001b[35m[2020-05-04:04:05:24:INFO] Determined delimiter of CSV input is ','\u001b[0m\n",
      "\u001b[35m[2020-05-04:04:05:24:INFO] Sniff delimiter as ','\u001b[0m\n",
      "\u001b[35m[2020-05-04:04:05:24:INFO] Determined delimiter of CSV input is ','\u001b[0m\n",
      "\u001b[34m[2020-05-04:04:05:25:INFO] Sniff delimiter as ','\u001b[0m\n",
      "\u001b[34m[2020-05-04:04:05:25:INFO] Determined delimiter of CSV input is ','\u001b[0m\n",
      "\u001b[34m[2020-05-04:04:05:26:INFO] Sniff delimiter as ','\u001b[0m\n",
      "\u001b[35m[2020-05-04:04:05:25:INFO] Sniff delimiter as ','\u001b[0m\n",
      "\u001b[35m[2020-05-04:04:05:25:INFO] Determined delimiter of CSV input is ','\u001b[0m\n",
      "\u001b[35m[2020-05-04:04:05:26:INFO] Sniff delimiter as ','\u001b[0m\n",
      "\u001b[34m[2020-05-04:04:05:26:INFO] Determined delimiter of CSV input is ','\u001b[0m\n",
      "\u001b[34m[2020-05-04:04:05:26:INFO] Sniff delimiter as ','\u001b[0m\n",
      "\u001b[34m[2020-05-04:04:05:26:INFO] Determined delimiter of CSV input is ','\u001b[0m\n",
      "\u001b[35m[2020-05-04:04:05:26:INFO] Determined delimiter of CSV input is ','\u001b[0m\n",
      "\u001b[35m[2020-05-04:04:05:26:INFO] Sniff delimiter as ','\u001b[0m\n",
      "\u001b[35m[2020-05-04:04:05:26:INFO] Determined delimiter of CSV input is ','\u001b[0m\n",
      "\u001b[34m[2020-05-04:04:05:26:INFO] Sniff delimiter as ','\u001b[0m\n",
      "\u001b[34m[2020-05-04:04:05:26:INFO] Determined delimiter of CSV input is ','\u001b[0m\n",
      "\u001b[35m[2020-05-04:04:05:26:INFO] Sniff delimiter as ','\u001b[0m\n",
      "\u001b[35m[2020-05-04:04:05:26:INFO] Determined delimiter of CSV input is ','\u001b[0m\n",
      "\u001b[34m[2020-05-04:04:05:28:INFO] Sniff delimiter as ','\u001b[0m\n",
      "\u001b[34m[2020-05-04:04:05:28:INFO] Determined delimiter of CSV input is ','\u001b[0m\n",
      "\u001b[35m[2020-05-04:04:05:28:INFO] Sniff delimiter as ','\u001b[0m\n",
      "\u001b[35m[2020-05-04:04:05:28:INFO] Determined delimiter of CSV input is ','\u001b[0m\n",
      "\u001b[34m[2020-05-04:04:05:29:INFO] Sniff delimiter as ','\u001b[0m\n",
      "\u001b[34m[2020-05-04:04:05:29:INFO] Determined delimiter of CSV input is ','\u001b[0m\n",
      "\u001b[34m[2020-05-04:04:05:29:INFO] Sniff delimiter as ','\u001b[0m\n",
      "\u001b[34m[2020-05-04:04:05:29:INFO] Determined delimiter of CSV input is ','\u001b[0m\n",
      "\u001b[34m[2020-05-04:04:05:29:INFO] Sniff delimiter as ','\u001b[0m\n",
      "\u001b[34m[2020-05-04:04:05:29:INFO] Determined delimiter of CSV input is ','\u001b[0m\n",
      "\u001b[35m[2020-05-04:04:05:29:INFO] Sniff delimiter as ','\u001b[0m\n",
      "\u001b[35m[2020-05-04:04:05:29:INFO] Determined delimiter of CSV input is ','\u001b[0m\n",
      "\u001b[35m[2020-05-04:04:05:29:INFO] Sniff delimiter as ','\u001b[0m\n",
      "\u001b[35m[2020-05-04:04:05:29:INFO] Determined delimiter of CSV input is ','\u001b[0m\n",
      "\u001b[35m[2020-05-04:04:05:29:INFO] Sniff delimiter as ','\u001b[0m\n",
      "\u001b[35m[2020-05-04:04:05:29:INFO] Determined delimiter of CSV input is ','\u001b[0m\n",
      "\u001b[34m[2020-05-04:04:05:30:INFO] Sniff delimiter as ','\u001b[0m\n",
      "\u001b[34m[2020-05-04:04:05:30:INFO] Determined delimiter of CSV input is ','\u001b[0m\n",
      "\u001b[34m[2020-05-04:04:05:31:INFO] Sniff delimiter as ','\u001b[0m\n",
      "\u001b[34m[2020-05-04:04:05:31:INFO] Determined delimiter of CSV input is ','\u001b[0m\n",
      "\u001b[34m[2020-05-04:04:05:31:INFO] Sniff delimiter as ','\u001b[0m\n",
      "\u001b[34m[2020-05-04:04:05:31:INFO] Determined delimiter of CSV input is ','\u001b[0m\n",
      "\u001b[35m[2020-05-04:04:05:30:INFO] Sniff delimiter as ','\u001b[0m\n",
      "\u001b[35m[2020-05-04:04:05:30:INFO] Determined delimiter of CSV input is ','\u001b[0m\n",
      "\u001b[35m[2020-05-04:04:05:31:INFO] Sniff delimiter as ','\u001b[0m\n",
      "\u001b[35m[2020-05-04:04:05:31:INFO] Determined delimiter of CSV input is ','\u001b[0m\n",
      "\u001b[35m[2020-05-04:04:05:31:INFO] Sniff delimiter as ','\u001b[0m\n",
      "\u001b[35m[2020-05-04:04:05:31:INFO] Determined delimiter of CSV input is ','\u001b[0m\n",
      "\u001b[34m[2020-05-04:04:05:31:INFO] Sniff delimiter as ','\u001b[0m\n",
      "\u001b[34m[2020-05-04:04:05:31:INFO] Determined delimiter of CSV input is ','\u001b[0m\n",
      "\u001b[35m[2020-05-04:04:05:31:INFO] Sniff delimiter as ','\u001b[0m\n",
      "\u001b[35m[2020-05-04:04:05:31:INFO] Determined delimiter of CSV input is ','\u001b[0m\n"
     ]
    },
    {
     "name": "stdout",
     "output_type": "stream",
     "text": [
      "\u001b[34m[2020-05-04:04:05:33:INFO] Sniff delimiter as ','\u001b[0m\n",
      "\u001b[34m[2020-05-04:04:05:33:INFO] Determined delimiter of CSV input is ','\u001b[0m\n",
      "\u001b[34m[2020-05-04:04:05:34:INFO] Sniff delimiter as ','\u001b[0m\n",
      "\u001b[34m[2020-05-04:04:05:34:INFO] Determined delimiter of CSV input is ','\u001b[0m\n",
      "\u001b[34m[2020-05-04:04:05:34:INFO] Sniff delimiter as ','\u001b[0m\n",
      "\u001b[34m[2020-05-04:04:05:34:INFO] Determined delimiter of CSV input is ','\u001b[0m\n",
      "\u001b[35m[2020-05-04:04:05:33:INFO] Sniff delimiter as ','\u001b[0m\n",
      "\u001b[35m[2020-05-04:04:05:33:INFO] Determined delimiter of CSV input is ','\u001b[0m\n",
      "\u001b[35m[2020-05-04:04:05:34:INFO] Sniff delimiter as ','\u001b[0m\n",
      "\u001b[35m[2020-05-04:04:05:34:INFO] Determined delimiter of CSV input is ','\u001b[0m\n",
      "\u001b[35m[2020-05-04:04:05:34:INFO] Sniff delimiter as ','\u001b[0m\n",
      "\u001b[35m[2020-05-04:04:05:34:INFO] Determined delimiter of CSV input is ','\u001b[0m\n",
      "\u001b[34m[2020-05-04:04:05:35:INFO] Sniff delimiter as ','\u001b[0m\n",
      "\u001b[34m[2020-05-04:04:05:35:INFO] Determined delimiter of CSV input is ','\u001b[0m\n",
      "\u001b[34m[2020-05-04:04:05:36:INFO] Sniff delimiter as ','\u001b[0m\n",
      "\u001b[34m[2020-05-04:04:05:36:INFO] Determined delimiter of CSV input is ','\u001b[0m\n",
      "\u001b[34m[2020-05-04:04:05:36:INFO] Sniff delimiter as ','\u001b[0m\n",
      "\u001b[34m[2020-05-04:04:05:36:INFO] Determined delimiter of CSV input is ','\u001b[0m\n",
      "\u001b[34m[2020-05-04:04:05:36:INFO] Sniff delimiter as ','\u001b[0m\n",
      "\u001b[34m[2020-05-04:04:05:36:INFO] Determined delimiter of CSV input is ','\u001b[0m\n",
      "\u001b[35m[2020-05-04:04:05:35:INFO] Sniff delimiter as ','\u001b[0m\n",
      "\u001b[35m[2020-05-04:04:05:35:INFO] Determined delimiter of CSV input is ','\u001b[0m\n",
      "\u001b[35m[2020-05-04:04:05:36:INFO] Sniff delimiter as ','\u001b[0m\n",
      "\u001b[35m[2020-05-04:04:05:36:INFO] Determined delimiter of CSV input is ','\u001b[0m\n",
      "\u001b[35m[2020-05-04:04:05:36:INFO] Sniff delimiter as ','\u001b[0m\n",
      "\u001b[35m[2020-05-04:04:05:36:INFO] Determined delimiter of CSV input is ','\u001b[0m\n",
      "\u001b[35m[2020-05-04:04:05:36:INFO] Sniff delimiter as ','\u001b[0m\n",
      "\u001b[35m[2020-05-04:04:05:36:INFO] Determined delimiter of CSV input is ','\u001b[0m\n",
      "\n"
     ]
    }
   ],
   "source": [
    "xgb_transformer.wait()"
   ]
  },
  {
   "cell_type": "markdown",
   "metadata": {},
   "source": [
    "Now the transform job has executed and the result, the estimated sentiment of each review, has been saved on S3. Since we would rather work on this file locally we can perform a bit of notebook magic to copy the file to the `data_dir`."
   ]
  },
  {
   "cell_type": "code",
   "execution_count": 39,
   "metadata": {},
   "outputs": [
    {
     "name": "stdout",
     "output_type": "stream",
     "text": [
      "Completed 256.0 KiB/372.9 KiB (3.6 MiB/s) with 1 file(s) remaining\r",
      "Completed 372.9 KiB/372.9 KiB (5.0 MiB/s) with 1 file(s) remaining\r",
      "download: s3://sagemaker-us-east-2-319963865301/xgboost-200504-0251-016-03f6248a-2020-05-04-04-01-34-008/test.csv.out to ../data/xgboost/test.csv.out\r\n"
     ]
    }
   ],
   "source": [
    "!aws s3 cp --recursive $xgb_transformer.output_path $data_dir"
   ]
  },
  {
   "cell_type": "markdown",
   "metadata": {},
   "source": [
    "The last step is now to read in the output from our model, convert the output to something a little more usable, in this case we want the sentiment to be either `1` (positive) or `0` (negative), and then compare to the ground truth labels."
   ]
  },
  {
   "cell_type": "code",
   "execution_count": 41,
   "metadata": {},
   "outputs": [],
   "source": [
    "predictions = pd.read_csv(os.path.join(data_dir, 'test.csv.out'), header=None)\n",
    "predictions = [round(num) for num in predictions.squeeze().values]"
   ]
  },
  {
   "cell_type": "code",
   "execution_count": 42,
   "metadata": {},
   "outputs": [
    {
     "data": {
      "text/plain": [
       "0.86868"
      ]
     },
     "execution_count": 42,
     "metadata": {},
     "output_type": "execute_result"
    }
   ],
   "source": [
    "from sklearn.metrics import accuracy_score\n",
    "accuracy_score(test_y, predictions)"
   ]
  },
  {
   "cell_type": "markdown",
   "metadata": {},
   "source": [
    "## Optional: Clean up\n",
    "\n",
    "The default notebook instance on SageMaker doesn't have a lot of excess disk space available. As you continue to complete and execute notebooks you will eventually fill up this disk space, leading to errors which can be difficult to diagnose. Once you are completely finished using a notebook it is a good idea to remove the files that you created along the way. Of course, you can do this from the terminal or from the notebook hub if you would like. The cell below contains some commands to clean up the created files from within the notebook."
   ]
  },
  {
   "cell_type": "code",
   "execution_count": null,
   "metadata": {},
   "outputs": [],
   "source": [
    "# First we will remove all of the files contained in the data_dir directory\n",
    "!rm $data_dir/*\n",
    "\n",
    "# And then we delete the directory itself\n",
    "!rmdir $data_dir\n",
    "\n",
    "# Similarly we will remove the files in the cache_dir directory and the directory itself\n",
    "!rm $cache_dir/*\n",
    "!rmdir $cache_dir"
   ]
  },
  {
   "cell_type": "code",
   "execution_count": null,
   "metadata": {},
   "outputs": [],
   "source": []
  }
 ],
 "metadata": {
  "kernelspec": {
   "display_name": "conda_python3",
   "language": "python",
   "name": "conda_python3"
  },
  "language_info": {
   "codemirror_mode": {
    "name": "ipython",
    "version": 3
   },
   "file_extension": ".py",
   "mimetype": "text/x-python",
   "name": "python",
   "nbconvert_exporter": "python",
   "pygments_lexer": "ipython3",
   "version": "3.6.5"
  }
 },
 "nbformat": 4,
 "nbformat_minor": 2
}
