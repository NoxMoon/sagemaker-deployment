{
 "cells": [
  {
   "cell_type": "markdown",
   "metadata": {},
   "source": [
    "# Sentiment Analysis Web App\n",
    "\n",
    "_Deep Learning Nanodegree Program | Deployment_\n",
    "\n",
    "---\n",
    "\n",
    "In this notebook we will use Amazon's SageMaker service to construct a random tree model to predict the sentiment of a movie review. In addition, we will deploy this model to an endpoint and construct a very simple web app which will interact with our model's deployed endpoint.\n",
    "\n",
    "## General Outline\n",
    "\n",
    "Typically, when using a notebook instance with SageMaker, you will proceed through the following steps. Of course, not every step will need to be done with each project. Also, there is quite a lot of room for variation in many of the steps, as you will see throughout these lessons.\n",
    "\n",
    "1. Download or otherwise retrieve the data.\n",
    "2. Process / Prepare the data.\n",
    "3. Upload the processed data to S3.\n",
    "4. Train a chosen model.\n",
    "5. Test the trained model (typically using a batch transform job).\n",
    "6. Deploy the trained model.\n",
    "7. Use the deployed model.\n",
    "\n",
    "In this notebook we will progress through each of the steps above. We will also see that the final step, using the deployed model, can be quite challenging."
   ]
  },
  {
   "cell_type": "markdown",
   "metadata": {},
   "source": [
    "## Step 1: Downloading the data\n",
    "\n",
    "The dataset we are going to use is very popular among researchers in Natural Language Processing, usually referred to as the [IMDb dataset](http://ai.stanford.edu/~amaas/data/sentiment/). It consists of movie reviews from the website [imdb.com](http://www.imdb.com/), each labeled as either '**pos**itive', if the reviewer enjoyed the film, or '**neg**ative' otherwise.\n",
    "\n",
    "> Maas, Andrew L., et al. [Learning Word Vectors for Sentiment Analysis](http://ai.stanford.edu/~amaas/data/sentiment/). In _Proceedings of the 49th Annual Meeting of the Association for Computational Linguistics: Human Language Technologies_. Association for Computational Linguistics, 2011.\n",
    "\n",
    "We begin by using some Jupyter Notebook magic to download and extract the dataset."
   ]
  },
  {
   "cell_type": "code",
   "execution_count": null,
   "metadata": {},
   "outputs": [],
   "source": [
    "%mkdir ../data\n",
    "!wget -O ../data/aclImdb_v1.tar.gz http://ai.stanford.edu/~amaas/data/sentiment/aclImdb_v1.tar.gz\n",
    "!tar -zxf ../data/aclImdb_v1.tar.gz -C ../data"
   ]
  },
  {
   "cell_type": "markdown",
   "metadata": {},
   "source": [
    "## Step 2: Preparing and Processing the data\n",
    "\n",
    "The data we have downloaded is split into various files, each of which contains a single review. It will be much easier going forward if we combine these individual files into two large files, one for training and one for testing."
   ]
  },
  {
   "cell_type": "code",
   "execution_count": 1,
   "metadata": {},
   "outputs": [],
   "source": [
    "import os\n",
    "import glob\n",
    "\n",
    "def read_imdb_data(data_dir='../data/aclImdb'):\n",
    "    data = {}\n",
    "    labels = {}\n",
    "    \n",
    "    for data_type in ['train', 'test']:\n",
    "        data[data_type] = {}\n",
    "        labels[data_type] = {}\n",
    "        \n",
    "        for sentiment in ['pos', 'neg']:\n",
    "            data[data_type][sentiment] = []\n",
    "            labels[data_type][sentiment] = []\n",
    "            \n",
    "            path = os.path.join(data_dir, data_type, sentiment, '*.txt')\n",
    "            files = glob.glob(path)\n",
    "            \n",
    "            for f in files:\n",
    "                with open(f) as review:\n",
    "                    data[data_type][sentiment].append(review.read())\n",
    "                    # Here we represent a positive review by '1' and a negative review by '0'\n",
    "                    labels[data_type][sentiment].append(1 if sentiment == 'pos' else 0)\n",
    "                    \n",
    "            assert len(data[data_type][sentiment]) == len(labels[data_type][sentiment]), \\\n",
    "                    \"{}/{} data size does not match labels size\".format(data_type, sentiment)\n",
    "                \n",
    "    return data, labels"
   ]
  },
  {
   "cell_type": "code",
   "execution_count": 2,
   "metadata": {},
   "outputs": [
    {
     "name": "stdout",
     "output_type": "stream",
     "text": [
      "IMDB reviews: train = 12500 pos / 12500 neg, test = 12500 pos / 12500 neg\n"
     ]
    }
   ],
   "source": [
    "data, labels = read_imdb_data()\n",
    "print(\"IMDB reviews: train = {} pos / {} neg, test = {} pos / {} neg\".format(\n",
    "            len(data['train']['pos']), len(data['train']['neg']),\n",
    "            len(data['test']['pos']), len(data['test']['neg'])))"
   ]
  },
  {
   "cell_type": "code",
   "execution_count": 3,
   "metadata": {},
   "outputs": [],
   "source": [
    "from sklearn.utils import shuffle\n",
    "\n",
    "def prepare_imdb_data(data, labels):\n",
    "    \"\"\"Prepare training and test sets from IMDb movie reviews.\"\"\"\n",
    "    \n",
    "    #Combine positive and negative reviews and labels\n",
    "    data_train = data['train']['pos'] + data['train']['neg']\n",
    "    data_test = data['test']['pos'] + data['test']['neg']\n",
    "    labels_train = labels['train']['pos'] + labels['train']['neg']\n",
    "    labels_test = labels['test']['pos'] + labels['test']['neg']\n",
    "    \n",
    "    #Shuffle reviews and corresponding labels within training and test sets\n",
    "    data_train, labels_train = shuffle(data_train, labels_train)\n",
    "    data_test, labels_test = shuffle(data_test, labels_test)\n",
    "    \n",
    "    # Return a unified training data, test data, training labels, test labets\n",
    "    return data_train, data_test, labels_train, labels_test"
   ]
  },
  {
   "cell_type": "code",
   "execution_count": 4,
   "metadata": {},
   "outputs": [
    {
     "name": "stdout",
     "output_type": "stream",
     "text": [
      "IMDb reviews (combined): train = 25000, test = 25000\n"
     ]
    }
   ],
   "source": [
    "train_X, test_X, train_y, test_y = prepare_imdb_data(data, labels)\n",
    "print(\"IMDb reviews (combined): train = {}, test = {}\".format(len(train_X), len(test_X)))"
   ]
  },
  {
   "cell_type": "code",
   "execution_count": 5,
   "metadata": {},
   "outputs": [
    {
     "data": {
      "text/plain": [
       "\"This is an excellent film, with an extraordinary cast and acting. I was very disappointed with the Academy Awards when this didn't get the Oscar for best film and for best actress (Woopi Goldberg)... it certainly deserved it. In any case, take a look at it. i am sure you will enjoy it very much.\""
      ]
     },
     "execution_count": 5,
     "metadata": {},
     "output_type": "execute_result"
    }
   ],
   "source": [
    "train_X[100]"
   ]
  },
  {
   "cell_type": "markdown",
   "metadata": {},
   "source": [
    "## Processing the data\n",
    "\n",
    "Now that we have our training and testing datasets merged and ready to use, we need to start processing the raw data into something that will be useable by our machine learning algorithm. To begin with, we remove any html formatting and any non-alpha numeric characters that may appear in the reviews. We will do this in a very simplistic way using Python's regular expression module. We will discuss the reason for this rather simplistic pre-processing later on."
   ]
  },
  {
   "cell_type": "code",
   "execution_count": 6,
   "metadata": {},
   "outputs": [],
   "source": [
    "import re\n",
    "\n",
    "REPLACE_NO_SPACE = re.compile(\"(\\.)|(\\;)|(\\:)|(\\!)|(\\')|(\\?)|(\\,)|(\\\")|(\\()|(\\))|(\\[)|(\\])\")\n",
    "REPLACE_WITH_SPACE = re.compile(\"(<br\\s*/><br\\s*/>)|(\\-)|(\\/)\")\n",
    "\n",
    "def review_to_words(review):\n",
    "    words = REPLACE_NO_SPACE.sub(\"\", review.lower())\n",
    "    words = REPLACE_WITH_SPACE.sub(\" \", words)\n",
    "    return words"
   ]
  },
  {
   "cell_type": "code",
   "execution_count": 7,
   "metadata": {},
   "outputs": [
    {
     "data": {
      "text/plain": [
       "'this is an excellent film with an extraordinary cast and acting i was very disappointed with the academy awards when this didnt get the oscar for best film and for best actress woopi goldberg it certainly deserved it in any case take a look at it i am sure you will enjoy it very much'"
      ]
     },
     "execution_count": 7,
     "metadata": {},
     "output_type": "execute_result"
    }
   ],
   "source": [
    "review_to_words(train_X[100])"
   ]
  },
  {
   "cell_type": "code",
   "execution_count": 8,
   "metadata": {},
   "outputs": [],
   "source": [
    "import pickle\n",
    "\n",
    "cache_dir = os.path.join(\"../cache\", \"sentiment_web_app\")  # where to store cache files\n",
    "os.makedirs(cache_dir, exist_ok=True)  # ensure cache directory exists\n",
    "\n",
    "def preprocess_data(data_train, data_test, labels_train, labels_test,\n",
    "                    cache_dir=cache_dir, cache_file=\"preprocessed_data.pkl\"):\n",
    "    \"\"\"Convert each review to words; read from cache if available.\"\"\"\n",
    "\n",
    "    # If cache_file is not None, try to read from it first\n",
    "    cache_data = None\n",
    "    if cache_file is not None:\n",
    "        try:\n",
    "            with open(os.path.join(cache_dir, cache_file), \"rb\") as f:\n",
    "                cache_data = pickle.load(f)\n",
    "            print(\"Read preprocessed data from cache file:\", cache_file)\n",
    "        except:\n",
    "            pass  # unable to read from cache, but that's okay\n",
    "    \n",
    "    # If cache is missing, then do the heavy lifting\n",
    "    if cache_data is None:\n",
    "        # Preprocess training and test data to obtain words for each review\n",
    "        #words_train = list(map(review_to_words, data_train))\n",
    "        #words_test = list(map(review_to_words, data_test))\n",
    "        words_train = [review_to_words(review) for review in data_train]\n",
    "        words_test = [review_to_words(review) for review in data_test]\n",
    "        \n",
    "        # Write to cache file for future runs\n",
    "        if cache_file is not None:\n",
    "            cache_data = dict(words_train=words_train, words_test=words_test,\n",
    "                              labels_train=labels_train, labels_test=labels_test)\n",
    "            with open(os.path.join(cache_dir, cache_file), \"wb\") as f:\n",
    "                pickle.dump(cache_data, f)\n",
    "            print(\"Wrote preprocessed data to cache file:\", cache_file)\n",
    "    else:\n",
    "        # Unpack data loaded from cache file\n",
    "        words_train, words_test, labels_train, labels_test = (cache_data['words_train'],\n",
    "                cache_data['words_test'], cache_data['labels_train'], cache_data['labels_test'])\n",
    "    \n",
    "    return words_train, words_test, labels_train, labels_test"
   ]
  },
  {
   "cell_type": "code",
   "execution_count": 9,
   "metadata": {},
   "outputs": [
    {
     "name": "stdout",
     "output_type": "stream",
     "text": [
      "Wrote preprocessed data to cache file: preprocessed_data.pkl\n"
     ]
    }
   ],
   "source": [
    "# Preprocess data\n",
    "train_X, test_X, train_y, test_y = preprocess_data(train_X, test_X, train_y, test_y)"
   ]
  },
  {
   "cell_type": "markdown",
   "metadata": {},
   "source": [
    "### Extract Bag-of-Words features\n",
    "\n",
    "For the model we will be implementing, rather than using the reviews directly, we are going to transform each review into a Bag-of-Words feature representation. Keep in mind that 'in the wild' we will only have access to the training set so our transformer can only use the training set to construct a representation."
   ]
  },
  {
   "cell_type": "code",
   "execution_count": 12,
   "metadata": {},
   "outputs": [],
   "source": [
    "import numpy as np\n",
    "from sklearn.feature_extraction.text import CountVectorizer\n",
    "from sklearn.externals import joblib\n",
    "# joblib is an enhanced version of pickle that is more efficient for storing NumPy arrays\n",
    "\n",
    "def extract_BoW_features(words_train, words_test, vocabulary_size=5000,\n",
    "                         cache_dir=cache_dir, cache_file=\"bow_features.pkl\"):\n",
    "    \"\"\"Extract Bag-of-Words for a given set of documents, already preprocessed into words.\"\"\"\n",
    "    \n",
    "    # If cache_file is not None, try to read from it first\n",
    "    cache_data = None\n",
    "    if cache_file is not None:\n",
    "        try:\n",
    "            with open(os.path.join(cache_dir, cache_file), \"rb\") as f:\n",
    "                cache_data = joblib.load(f)\n",
    "            print(\"Read features from cache file:\", cache_file)\n",
    "        except:\n",
    "            pass  # unable to read from cache, but that's okay\n",
    "    \n",
    "    # If cache is missing, then do the heavy lifting\n",
    "    if cache_data is None:\n",
    "        # Fit a vectorizer to training documents and use it to transform them\n",
    "        # NOTE: Training documents have already been preprocessed and tokenized into words;\n",
    "        #       pass in dummy functions to skip those steps, e.g. preprocessor=lambda x: x\n",
    "        vectorizer = CountVectorizer(max_features=vocabulary_size)\n",
    "        features_train = vectorizer.fit_transform(words_train).toarray()\n",
    "\n",
    "        # Apply the same vectorizer to transform the test documents (ignore unknown words)\n",
    "        features_test = vectorizer.transform(words_test).toarray()\n",
    "        \n",
    "        # NOTE: Remember to convert the features using .toarray() for a compact representation\n",
    "        \n",
    "        # Write to cache file for future runs (store vocabulary as well)\n",
    "        if cache_file is not None:\n",
    "            vocabulary = vectorizer.vocabulary_\n",
    "            cache_data = dict(features_train=features_train, features_test=features_test,\n",
    "                             vocabulary=vocabulary)\n",
    "            with open(os.path.join(cache_dir, cache_file), \"wb\") as f:\n",
    "                joblib.dump(cache_data, f)\n",
    "            print(\"Wrote features to cache file:\", cache_file)\n",
    "    else:\n",
    "        # Unpack data loaded from cache file\n",
    "        features_train, features_test, vocabulary = (cache_data['features_train'],\n",
    "                cache_data['features_test'], cache_data['vocabulary'])\n",
    "    \n",
    "    # Return both the extracted features as well as the vocabulary\n",
    "    return features_train, features_test, vocabulary"
   ]
  },
  {
   "cell_type": "code",
   "execution_count": 15,
   "metadata": {},
   "outputs": [
    {
     "name": "stdout",
     "output_type": "stream",
     "text": [
      "Wrote features to cache file: bow_features.pkl\n"
     ]
    }
   ],
   "source": [
    "# Extract Bag of Words features for both training and test datasets\n",
    "train_X, test_X, vocabulary = extract_BoW_features(train_X, test_X)"
   ]
  },
  {
   "cell_type": "code",
   "execution_count": 16,
   "metadata": {},
   "outputs": [
    {
     "data": {
      "text/plain": [
       "5000"
      ]
     },
     "execution_count": 16,
     "metadata": {},
     "output_type": "execute_result"
    }
   ],
   "source": [
    "len(train_X[100])"
   ]
  },
  {
   "cell_type": "markdown",
   "metadata": {},
   "source": [
    "## Step 3: Upload data to S3\n",
    "\n",
    "Now that we have created the feature representation of our training (and testing) data, it is time to start setting up and using the XGBoost classifier provided by SageMaker.\n",
    "\n",
    "### Writing the datasets\n",
    "\n",
    "The XGBoost classifier that we will be using requires the dataset to be written to a file and stored using Amazon S3. To do this, we will start by splitting the training dataset into two parts, the data we will train the model with and a validation set. Then, we will write those datasets to a file locally and then upload the files to S3. In addition, we will write the test set to a file and upload that file to S3. This is so that we can use SageMakers Batch Transform functionality to test our model once we've fit it."
   ]
  },
  {
   "cell_type": "code",
   "execution_count": 17,
   "metadata": {},
   "outputs": [],
   "source": [
    "import pandas as pd\n",
    "\n",
    "# Earlier we shuffled the training dataset so to make things simple we can just assign\n",
    "# the first 10 000 reviews to the validation set and use the remaining reviews for training.\n",
    "val_X = pd.DataFrame(train_X[:10000])\n",
    "train_X = pd.DataFrame(train_X[10000:])\n",
    "\n",
    "val_y = pd.DataFrame(train_y[:10000])\n",
    "train_y = pd.DataFrame(train_y[10000:])"
   ]
  },
  {
   "cell_type": "markdown",
   "metadata": {},
   "source": [
    "The documentation for the XGBoost algorithm in SageMaker requires that the training and validation datasets should contain no headers or index and that the label should occur first for each sample.\n",
    "\n",
    "For more information about this and other algorithms, the SageMaker developer documentation can be found on __[Amazon's website.](https://docs.aws.amazon.com/sagemaker/latest/dg/)__"
   ]
  },
  {
   "cell_type": "code",
   "execution_count": 18,
   "metadata": {},
   "outputs": [],
   "source": [
    "# First we make sure that the local directory in which we'd like to store the training and validation csv files exists.\n",
    "data_dir = '../data/sentiment_web_app'\n",
    "if not os.path.exists(data_dir):\n",
    "    os.makedirs(data_dir)"
   ]
  },
  {
   "cell_type": "code",
   "execution_count": 19,
   "metadata": {},
   "outputs": [],
   "source": [
    "pd.DataFrame(test_X).to_csv(os.path.join(data_dir, 'test.csv'), header=False, index=False)\n",
    "\n",
    "pd.concat([val_y, val_X], axis=1).to_csv(os.path.join(data_dir, 'validation.csv'), header=False, index=False)\n",
    "pd.concat([train_y, train_X], axis=1).to_csv(os.path.join(data_dir, 'train.csv'), header=False, index=False)"
   ]
  },
  {
   "cell_type": "code",
   "execution_count": 20,
   "metadata": {},
   "outputs": [],
   "source": [
    "# To save a bit of memory we can set text_X, train_X, val_X, train_y and val_y to None.\n",
    "\n",
    "test_X = train_X = val_X = train_y = val_y = None"
   ]
  },
  {
   "cell_type": "markdown",
   "metadata": {},
   "source": [
    "### Uploading Training / Validation files to S3\n",
    "\n",
    "Amazon's S3 service allows us to store files that can be accessed by both the built-in training models such as the XGBoost model we will be using as well as custom models such as the one we will see a little later.\n",
    "\n",
    "For this and most other tasks we will be doing using SageMaker, there are two methods we could use. The first is to use the low level functionality of SageMaker which requires knowing each of the objects involved in the SageMaker environment. The second is to use the high level functionality in which certain choices have been made on the user's behalf. The low level approach benefits from allowing the user a great deal of flexibility while the high level approach makes development much quicker. For our purposes we will opt to use the high level approach although using the low-level approach is certainly an option.\n",
    "\n",
    "Recall the method `upload_data()` which is a member of the object representing our current SageMaker session. What this method does is upload the data to the default bucket (which is created if it does not exist) into the path described by the key_prefix variable. To see this for yourself, once you have uploaded the data files, go to the S3 console and look to see where the files have been uploaded.\n",
    "\n",
    "For additional resources, see the __[SageMaker API documentation](http://sagemaker.readthedocs.io/en/latest/)__ and in addition the __[SageMaker Developer Guide.](https://docs.aws.amazon.com/sagemaker/latest/dg/)__"
   ]
  },
  {
   "cell_type": "code",
   "execution_count": 21,
   "metadata": {},
   "outputs": [],
   "source": [
    "import sagemaker\n",
    "\n",
    "session = sagemaker.Session() # Store the current SageMaker session\n",
    "\n",
    "# S3 prefix (which folder will we use)\n",
    "prefix = 'sentiment-web-app'\n",
    "\n",
    "test_location = session.upload_data(os.path.join(data_dir, 'test.csv'), key_prefix=prefix)\n",
    "val_location = session.upload_data(os.path.join(data_dir, 'validation.csv'), key_prefix=prefix)\n",
    "train_location = session.upload_data(os.path.join(data_dir, 'train.csv'), key_prefix=prefix)"
   ]
  },
  {
   "cell_type": "markdown",
   "metadata": {},
   "source": [
    "## Step 4: Creating the XGBoost model\n",
    "\n",
    "Now that the data has been uploaded it is time to create the XGBoost model. To begin with, we need to do some setup. At this point it is worth discussing what a model is in SageMaker. It is easiest to think of a model of comprising three different objects in the SageMaker ecosystem, which interact with one another.\n",
    "\n",
    "- Model Artifacts\n",
    "- Training Code (Container)\n",
    "- Inference Code (Container)\n",
    "\n",
    "The Model Artifacts are what you might think of as the actual model itself. For example, if you were building a neural network, the model artifacts would be the weights of the various layers. In our case, for an XGBoost model, the artifacts are the actual trees that are created during training.\n",
    "\n",
    "The other two objects, the training code and the inference code are then used to manipulate the training artifacts. More precisely, the training code uses the training data that is provided and creates the model artifacts, while the inference code uses the model artifacts to make predictions on new data.\n",
    "\n",
    "The way that SageMaker runs the training and inference code is by making use of Docker containers. For now, think of a container as being a way of packaging code up so that dependencies aren't an issue."
   ]
  },
  {
   "cell_type": "code",
   "execution_count": 22,
   "metadata": {},
   "outputs": [],
   "source": [
    "from sagemaker import get_execution_role\n",
    "\n",
    "# Our current execution role is required when creating the model as the training\n",
    "# and inference code will need to access the model artifacts.\n",
    "role = get_execution_role()"
   ]
  },
  {
   "cell_type": "code",
   "execution_count": 23,
   "metadata": {},
   "outputs": [
    {
     "name": "stderr",
     "output_type": "stream",
     "text": [
      "WARNING:root:There is a more up to date SageMaker XGBoost image. To use the newer image, please set 'repo_version'='0.90-2'. For example:\n",
      "\tget_image_uri(region, 'xgboost', '0.90-2').\n"
     ]
    }
   ],
   "source": [
    "# We need to retrieve the location of the container which is provided by Amazon for using XGBoost.\n",
    "# As a matter of convenience, the training and inference code both use the same container.\n",
    "from sagemaker.amazon.amazon_estimator import get_image_uri\n",
    "\n",
    "container = get_image_uri(session.boto_region_name, 'xgboost')"
   ]
  },
  {
   "cell_type": "code",
   "execution_count": 24,
   "metadata": {},
   "outputs": [],
   "source": [
    "# First we create a SageMaker estimator object for our model.\n",
    "xgb = sagemaker.estimator.Estimator(container, # The location of the container we wish to use\n",
    "                                    role,                                    # What is our current IAM Role\n",
    "                                    train_instance_count=1,                  # How many compute instances\n",
    "                                    train_instance_type='ml.m4.xlarge',      # What kind of compute instances\n",
    "                                    output_path='s3://{}/{}/output'.format(session.default_bucket(), prefix),\n",
    "                                    sagemaker_session=session)\n",
    "\n",
    "# And then set the algorithm specific parameters.\n",
    "xgb.set_hyperparameters(max_depth=5,\n",
    "                        eta=0.2,\n",
    "                        gamma=4,\n",
    "                        min_child_weight=6,\n",
    "                        subsample=0.8,\n",
    "                        silent=0,\n",
    "                        objective='binary:logistic',\n",
    "                        early_stopping_rounds=10,\n",
    "                        num_round=500)"
   ]
  },
  {
   "cell_type": "markdown",
   "metadata": {},
   "source": [
    "### Fit the XGBoost model\n",
    "\n",
    "Now that our model has been set up we simply need to attach the training and validation datasets and then ask SageMaker to set up the computation."
   ]
  },
  {
   "cell_type": "code",
   "execution_count": 25,
   "metadata": {},
   "outputs": [],
   "source": [
    "s3_input_train = sagemaker.s3_input(s3_data=train_location, content_type='csv')\n",
    "s3_input_validation = sagemaker.s3_input(s3_data=val_location, content_type='csv')"
   ]
  },
  {
   "cell_type": "code",
   "execution_count": 26,
   "metadata": {},
   "outputs": [
    {
     "name": "stdout",
     "output_type": "stream",
     "text": [
      "2020-05-03 22:51:18 Starting - Starting the training job...\n",
      "2020-05-03 22:51:19 Starting - Launching requested ML instances......\n",
      "2020-05-03 22:52:20 Starting - Preparing the instances for training...\n",
      "2020-05-03 22:53:18 Downloading - Downloading input data...\n",
      "2020-05-03 22:53:44 Training - Downloading the training image...\n",
      "2020-05-03 22:54:04 Training - Training image download completed. Training in progress.\u001b[34mArguments: train\u001b[0m\n",
      "\u001b[34m[2020-05-03:22:54:04:INFO] Running standalone xgboost training.\u001b[0m\n",
      "\u001b[34m[2020-05-03:22:54:04:INFO] File size need to be processed in the node: 238.5mb. Available memory size in the node: 8479.94mb\u001b[0m\n",
      "\u001b[34m[2020-05-03:22:54:04:INFO] Determined delimiter of CSV input is ','\u001b[0m\n",
      "\u001b[34m[22:54:04] S3DistributionType set as FullyReplicated\u001b[0m\n",
      "\u001b[34m[22:54:06] 15000x5000 matrix with 75000000 entries loaded from /opt/ml/input/data/train?format=csv&label_column=0&delimiter=,\u001b[0m\n",
      "\u001b[34m[2020-05-03:22:54:06:INFO] Determined delimiter of CSV input is ','\u001b[0m\n",
      "\u001b[34m[22:54:06] S3DistributionType set as FullyReplicated\u001b[0m\n",
      "\u001b[34m[22:54:07] 10000x5000 matrix with 50000000 entries loaded from /opt/ml/input/data/validation?format=csv&label_column=0&delimiter=,\u001b[0m\n",
      "\u001b[34m[22:54:11] src/tree/updater_prune.cc:74: tree pruning end, 1 roots, 42 extra nodes, 8 pruned nodes, max_depth=5\u001b[0m\n",
      "\u001b[34m[0]#011train-error:0.307067#011validation-error:0.3072\u001b[0m\n",
      "\u001b[34mMultiple eval metrics have been passed: 'validation-error' will be used for early stopping.\n",
      "\u001b[0m\n",
      "\u001b[34mWill train until validation-error hasn't improved in 10 rounds.\u001b[0m\n",
      "\u001b[34m[22:54:12] src/tree/updater_prune.cc:74: tree pruning end, 1 roots, 38 extra nodes, 0 pruned nodes, max_depth=5\u001b[0m\n",
      "\u001b[34m[1]#011train-error:0.304533#011validation-error:0.3013\u001b[0m\n",
      "\u001b[34m[22:54:13] src/tree/updater_prune.cc:74: tree pruning end, 1 roots, 48 extra nodes, 4 pruned nodes, max_depth=5\u001b[0m\n",
      "\u001b[34m[2]#011train-error:0.278333#011validation-error:0.2802\u001b[0m\n",
      "\u001b[34m[22:54:15] src/tree/updater_prune.cc:74: tree pruning end, 1 roots, 32 extra nodes, 4 pruned nodes, max_depth=5\u001b[0m\n",
      "\u001b[34m[3]#011train-error:0.271#011validation-error:0.2724\u001b[0m\n",
      "\u001b[34m[22:54:17] src/tree/updater_prune.cc:74: tree pruning end, 1 roots, 26 extra nodes, 10 pruned nodes, max_depth=5\u001b[0m\n",
      "\u001b[34m[4]#011train-error:0.2644#011validation-error:0.2643\u001b[0m\n",
      "\u001b[34m[22:54:18] src/tree/updater_prune.cc:74: tree pruning end, 1 roots, 46 extra nodes, 4 pruned nodes, max_depth=5\u001b[0m\n",
      "\u001b[34m[5]#011train-error:0.2558#011validation-error:0.2602\u001b[0m\n",
      "\u001b[34m[22:54:19] src/tree/updater_prune.cc:74: tree pruning end, 1 roots, 28 extra nodes, 2 pruned nodes, max_depth=5\u001b[0m\n",
      "\u001b[34m[6]#011train-error:0.247067#011validation-error:0.2511\u001b[0m\n",
      "\u001b[34m[22:54:20] src/tree/updater_prune.cc:74: tree pruning end, 1 roots, 36 extra nodes, 8 pruned nodes, max_depth=5\u001b[0m\n",
      "\u001b[34m[7]#011train-error:0.238733#011validation-error:0.2439\u001b[0m\n",
      "\u001b[34m[22:54:22] src/tree/updater_prune.cc:74: tree pruning end, 1 roots, 26 extra nodes, 12 pruned nodes, max_depth=5\u001b[0m\n",
      "\u001b[34m[8]#011train-error:0.235#011validation-error:0.2422\u001b[0m\n",
      "\u001b[34m[22:54:23] src/tree/updater_prune.cc:74: tree pruning end, 1 roots, 20 extra nodes, 12 pruned nodes, max_depth=5\u001b[0m\n",
      "\u001b[34m[9]#011train-error:0.228467#011validation-error:0.2367\u001b[0m\n",
      "\u001b[34m[22:54:24] src/tree/updater_prune.cc:74: tree pruning end, 1 roots, 28 extra nodes, 10 pruned nodes, max_depth=5\u001b[0m\n",
      "\u001b[34m[10]#011train-error:0.222067#011validation-error:0.2319\u001b[0m\n",
      "\u001b[34m[22:54:26] src/tree/updater_prune.cc:74: tree pruning end, 1 roots, 32 extra nodes, 8 pruned nodes, max_depth=5\u001b[0m\n",
      "\u001b[34m[11]#011train-error:0.214933#011validation-error:0.227\u001b[0m\n",
      "\u001b[34m[22:54:27] src/tree/updater_prune.cc:74: tree pruning end, 1 roots, 30 extra nodes, 4 pruned nodes, max_depth=5\u001b[0m\n",
      "\u001b[34m[12]#011train-error:0.212067#011validation-error:0.2221\u001b[0m\n",
      "\u001b[34m[22:54:28] src/tree/updater_prune.cc:74: tree pruning end, 1 roots, 32 extra nodes, 6 pruned nodes, max_depth=5\u001b[0m\n",
      "\u001b[34m[13]#011train-error:0.208133#011validation-error:0.2204\u001b[0m\n",
      "\u001b[34m[22:54:29] src/tree/updater_prune.cc:74: tree pruning end, 1 roots, 24 extra nodes, 10 pruned nodes, max_depth=5\u001b[0m\n",
      "\u001b[34m[14]#011train-error:0.205733#011validation-error:0.2166\u001b[0m\n",
      "\u001b[34m[22:54:31] src/tree/updater_prune.cc:74: tree pruning end, 1 roots, 42 extra nodes, 0 pruned nodes, max_depth=5\u001b[0m\n",
      "\u001b[34m[15]#011train-error:0.201867#011validation-error:0.2137\u001b[0m\n",
      "\u001b[34m[22:54:32] src/tree/updater_prune.cc:74: tree pruning end, 1 roots, 26 extra nodes, 12 pruned nodes, max_depth=5\u001b[0m\n",
      "\u001b[34m[16]#011train-error:0.1994#011validation-error:0.2125\u001b[0m\n",
      "\u001b[34m[22:54:33] src/tree/updater_prune.cc:74: tree pruning end, 1 roots, 42 extra nodes, 0 pruned nodes, max_depth=5\u001b[0m\n",
      "\u001b[34m[17]#011train-error:0.196#011validation-error:0.2116\u001b[0m\n",
      "\u001b[34m[22:54:34] src/tree/updater_prune.cc:74: tree pruning end, 1 roots, 28 extra nodes, 10 pruned nodes, max_depth=5\u001b[0m\n",
      "\u001b[34m[18]#011train-error:0.192#011validation-error:0.2077\u001b[0m\n",
      "\u001b[34m[22:54:36] src/tree/updater_prune.cc:74: tree pruning end, 1 roots, 22 extra nodes, 16 pruned nodes, max_depth=5\u001b[0m\n",
      "\u001b[34m[19]#011train-error:0.188467#011validation-error:0.2049\u001b[0m\n",
      "\u001b[34m[22:54:37] src/tree/updater_prune.cc:74: tree pruning end, 1 roots, 24 extra nodes, 8 pruned nodes, max_depth=5\u001b[0m\n",
      "\u001b[34m[20]#011train-error:0.184933#011validation-error:0.2023\u001b[0m\n",
      "\u001b[34m[22:54:38] src/tree/updater_prune.cc:74: tree pruning end, 1 roots, 20 extra nodes, 10 pruned nodes, max_depth=5\u001b[0m\n",
      "\u001b[34m[21]#011train-error:0.183467#011validation-error:0.2029\u001b[0m\n",
      "\u001b[34m[22:54:40] src/tree/updater_prune.cc:74: tree pruning end, 1 roots, 32 extra nodes, 12 pruned nodes, max_depth=5\u001b[0m\n",
      "\u001b[34m[22]#011train-error:0.1818#011validation-error:0.1989\u001b[0m\n",
      "\u001b[34m[22:54:41] src/tree/updater_prune.cc:74: tree pruning end, 1 roots, 50 extra nodes, 4 pruned nodes, max_depth=5\u001b[0m\n",
      "\u001b[34m[23]#011train-error:0.177867#011validation-error:0.1965\u001b[0m\n",
      "\u001b[34m[22:54:42] src/tree/updater_prune.cc:74: tree pruning end, 1 roots, 28 extra nodes, 6 pruned nodes, max_depth=5\u001b[0m\n",
      "\u001b[34m[24]#011train-error:0.1746#011validation-error:0.1946\u001b[0m\n",
      "\u001b[34m[22:54:43] src/tree/updater_prune.cc:74: tree pruning end, 1 roots, 34 extra nodes, 4 pruned nodes, max_depth=5\u001b[0m\n",
      "\u001b[34m[25]#011train-error:0.1722#011validation-error:0.1915\u001b[0m\n",
      "\u001b[34m[22:54:45] src/tree/updater_prune.cc:74: tree pruning end, 1 roots, 14 extra nodes, 12 pruned nodes, max_depth=5\u001b[0m\n",
      "\u001b[34m[26]#011train-error:0.1692#011validation-error:0.1927\u001b[0m\n",
      "\u001b[34m[22:54:46] src/tree/updater_prune.cc:74: tree pruning end, 1 roots, 32 extra nodes, 10 pruned nodes, max_depth=5\u001b[0m\n",
      "\u001b[34m[27]#011train-error:0.168067#011validation-error:0.1911\u001b[0m\n",
      "\u001b[34m[22:54:47] src/tree/updater_prune.cc:74: tree pruning end, 1 roots, 32 extra nodes, 6 pruned nodes, max_depth=5\u001b[0m\n",
      "\u001b[34m[28]#011train-error:0.1668#011validation-error:0.191\u001b[0m\n",
      "\u001b[34m[22:54:48] src/tree/updater_prune.cc:74: tree pruning end, 1 roots, 16 extra nodes, 12 pruned nodes, max_depth=5\u001b[0m\n",
      "\u001b[34m[29]#011train-error:0.1664#011validation-error:0.1904\u001b[0m\n",
      "\u001b[34m[22:54:50] src/tree/updater_prune.cc:74: tree pruning end, 1 roots, 24 extra nodes, 8 pruned nodes, max_depth=5\u001b[0m\n",
      "\u001b[34m[30]#011train-error:0.1656#011validation-error:0.1868\u001b[0m\n",
      "\u001b[34m[22:54:51] src/tree/updater_prune.cc:74: tree pruning end, 1 roots, 36 extra nodes, 4 pruned nodes, max_depth=5\u001b[0m\n",
      "\u001b[34m[31]#011train-error:0.162067#011validation-error:0.1873\u001b[0m\n",
      "\u001b[34m[22:54:52] src/tree/updater_prune.cc:74: tree pruning end, 1 roots, 14 extra nodes, 8 pruned nodes, max_depth=5\u001b[0m\n",
      "\u001b[34m[32]#011train-error:0.161267#011validation-error:0.1861\u001b[0m\n",
      "\u001b[34m[22:54:54] src/tree/updater_prune.cc:74: tree pruning end, 1 roots, 22 extra nodes, 6 pruned nodes, max_depth=5\u001b[0m\n",
      "\u001b[34m[33]#011train-error:0.160267#011validation-error:0.1853\u001b[0m\n",
      "\u001b[34m[22:54:55] src/tree/updater_prune.cc:74: tree pruning end, 1 roots, 20 extra nodes, 8 pruned nodes, max_depth=5\u001b[0m\n",
      "\u001b[34m[34]#011train-error:0.159667#011validation-error:0.1851\u001b[0m\n",
      "\u001b[34m[22:54:56] src/tree/updater_prune.cc:74: tree pruning end, 1 roots, 30 extra nodes, 10 pruned nodes, max_depth=5\u001b[0m\n",
      "\u001b[34m[35]#011train-error:0.156733#011validation-error:0.183\u001b[0m\n",
      "\u001b[34m[22:54:57] src/tree/updater_prune.cc:74: tree pruning end, 1 roots, 32 extra nodes, 8 pruned nodes, max_depth=5\u001b[0m\n",
      "\u001b[34m[36]#011train-error:0.155667#011validation-error:0.1827\u001b[0m\n",
      "\u001b[34m[22:54:59] src/tree/updater_prune.cc:74: tree pruning end, 1 roots, 22 extra nodes, 14 pruned nodes, max_depth=5\u001b[0m\n",
      "\u001b[34m[37]#011train-error:0.155067#011validation-error:0.1815\u001b[0m\n",
      "\u001b[34m[22:55:00] src/tree/updater_prune.cc:74: tree pruning end, 1 roots, 18 extra nodes, 10 pruned nodes, max_depth=5\u001b[0m\n",
      "\u001b[34m[38]#011train-error:0.154067#011validation-error:0.1805\u001b[0m\n",
      "\u001b[34m[22:55:01] src/tree/updater_prune.cc:74: tree pruning end, 1 roots, 26 extra nodes, 4 pruned nodes, max_depth=5\u001b[0m\n",
      "\u001b[34m[39]#011train-error:0.152867#011validation-error:0.1801\u001b[0m\n",
      "\u001b[34m[22:55:02] src/tree/updater_prune.cc:74: tree pruning end, 1 roots, 20 extra nodes, 12 pruned nodes, max_depth=5\u001b[0m\n",
      "\u001b[34m[40]#011train-error:0.1528#011validation-error:0.1795\u001b[0m\n",
      "\u001b[34m[22:55:04] src/tree/updater_prune.cc:74: tree pruning end, 1 roots, 16 extra nodes, 16 pruned nodes, max_depth=5\u001b[0m\n",
      "\u001b[34m[41]#011train-error:0.150267#011validation-error:0.179\u001b[0m\n",
      "\u001b[34m[22:55:05] src/tree/updater_prune.cc:74: tree pruning end, 1 roots, 38 extra nodes, 6 pruned nodes, max_depth=5\u001b[0m\n",
      "\u001b[34m[42]#011train-error:0.1482#011validation-error:0.1768\u001b[0m\n",
      "\u001b[34m[22:55:06] src/tree/updater_prune.cc:74: tree pruning end, 1 roots, 20 extra nodes, 12 pruned nodes, max_depth=5\u001b[0m\n",
      "\u001b[34m[43]#011train-error:0.1472#011validation-error:0.1768\u001b[0m\n"
     ]
    },
    {
     "name": "stdout",
     "output_type": "stream",
     "text": [
      "\u001b[34m[22:55:08] src/tree/updater_prune.cc:74: tree pruning end, 1 roots, 18 extra nodes, 10 pruned nodes, max_depth=5\u001b[0m\n",
      "\u001b[34m[44]#011train-error:0.1462#011validation-error:0.1751\u001b[0m\n",
      "\u001b[34m[22:55:09] src/tree/updater_prune.cc:74: tree pruning end, 1 roots, 34 extra nodes, 0 pruned nodes, max_depth=5\u001b[0m\n",
      "\u001b[34m[45]#011train-error:0.1446#011validation-error:0.175\u001b[0m\n",
      "\u001b[34m[22:55:10] src/tree/updater_prune.cc:74: tree pruning end, 1 roots, 24 extra nodes, 6 pruned nodes, max_depth=5\u001b[0m\n",
      "\u001b[34m[46]#011train-error:0.142933#011validation-error:0.1745\u001b[0m\n",
      "\u001b[34m[22:55:11] src/tree/updater_prune.cc:74: tree pruning end, 1 roots, 26 extra nodes, 8 pruned nodes, max_depth=5\u001b[0m\n",
      "\u001b[34m[47]#011train-error:0.141733#011validation-error:0.1739\u001b[0m\n",
      "\u001b[34m[22:55:13] src/tree/updater_prune.cc:74: tree pruning end, 1 roots, 20 extra nodes, 14 pruned nodes, max_depth=5\u001b[0m\n",
      "\u001b[34m[48]#011train-error:0.140467#011validation-error:0.1734\u001b[0m\n",
      "\u001b[34m[22:55:14] src/tree/updater_prune.cc:74: tree pruning end, 1 roots, 12 extra nodes, 10 pruned nodes, max_depth=5\u001b[0m\n",
      "\u001b[34m[49]#011train-error:0.139933#011validation-error:0.1738\u001b[0m\n",
      "\u001b[34m[22:55:15] src/tree/updater_prune.cc:74: tree pruning end, 1 roots, 20 extra nodes, 8 pruned nodes, max_depth=5\u001b[0m\n",
      "\u001b[34m[50]#011train-error:0.138867#011validation-error:0.1734\u001b[0m\n",
      "\u001b[34m[22:55:17] src/tree/updater_prune.cc:74: tree pruning end, 1 roots, 28 extra nodes, 10 pruned nodes, max_depth=5\u001b[0m\n",
      "\u001b[34m[51]#011train-error:0.136133#011validation-error:0.1728\u001b[0m\n",
      "\u001b[34m[22:55:18] src/tree/updater_prune.cc:74: tree pruning end, 1 roots, 14 extra nodes, 10 pruned nodes, max_depth=5\u001b[0m\n",
      "\u001b[34m[52]#011train-error:0.136#011validation-error:0.172\u001b[0m\n",
      "\u001b[34m[22:55:19] src/tree/updater_prune.cc:74: tree pruning end, 1 roots, 22 extra nodes, 10 pruned nodes, max_depth=5\u001b[0m\n",
      "\u001b[34m[53]#011train-error:0.135267#011validation-error:0.1695\u001b[0m\n",
      "\u001b[34m[22:55:20] src/tree/updater_prune.cc:74: tree pruning end, 1 roots, 20 extra nodes, 4 pruned nodes, max_depth=5\u001b[0m\n",
      "\u001b[34m[54]#011train-error:0.134533#011validation-error:0.1688\u001b[0m\n",
      "\u001b[34m[22:55:22] src/tree/updater_prune.cc:74: tree pruning end, 1 roots, 34 extra nodes, 4 pruned nodes, max_depth=5\u001b[0m\n",
      "\u001b[34m[55]#011train-error:0.132733#011validation-error:0.1683\u001b[0m\n",
      "\u001b[34m[22:55:23] src/tree/updater_prune.cc:74: tree pruning end, 1 roots, 18 extra nodes, 8 pruned nodes, max_depth=5\u001b[0m\n",
      "\u001b[34m[56]#011train-error:0.131733#011validation-error:0.1676\u001b[0m\n",
      "\u001b[34m[22:55:24] src/tree/updater_prune.cc:74: tree pruning end, 1 roots, 28 extra nodes, 4 pruned nodes, max_depth=5\u001b[0m\n",
      "\u001b[34m[57]#011train-error:0.131133#011validation-error:0.167\u001b[0m\n",
      "\u001b[34m[22:55:25] src/tree/updater_prune.cc:74: tree pruning end, 1 roots, 16 extra nodes, 4 pruned nodes, max_depth=5\u001b[0m\n",
      "\u001b[34m[58]#011train-error:0.130267#011validation-error:0.1664\u001b[0m\n",
      "\u001b[34m[22:55:27] src/tree/updater_prune.cc:74: tree pruning end, 1 roots, 20 extra nodes, 6 pruned nodes, max_depth=5\u001b[0m\n",
      "\u001b[34m[59]#011train-error:0.129#011validation-error:0.1682\u001b[0m\n",
      "\u001b[34m[22:55:28] src/tree/updater_prune.cc:74: tree pruning end, 1 roots, 12 extra nodes, 8 pruned nodes, max_depth=5\u001b[0m\n",
      "\u001b[34m[60]#011train-error:0.128333#011validation-error:0.1664\u001b[0m\n",
      "\u001b[34m[22:55:29] src/tree/updater_prune.cc:74: tree pruning end, 1 roots, 34 extra nodes, 2 pruned nodes, max_depth=5\u001b[0m\n",
      "\u001b[34m[61]#011train-error:0.127867#011validation-error:0.1656\u001b[0m\n",
      "\u001b[34m[22:55:31] src/tree/updater_prune.cc:74: tree pruning end, 1 roots, 18 extra nodes, 4 pruned nodes, max_depth=5\u001b[0m\n",
      "\u001b[34m[62]#011train-error:0.127933#011validation-error:0.1659\u001b[0m\n",
      "\u001b[34m[22:55:32] src/tree/updater_prune.cc:74: tree pruning end, 1 roots, 26 extra nodes, 8 pruned nodes, max_depth=5\u001b[0m\n",
      "\u001b[34m[63]#011train-error:0.126533#011validation-error:0.1649\u001b[0m\n",
      "\u001b[34m[22:55:33] src/tree/updater_prune.cc:74: tree pruning end, 1 roots, 26 extra nodes, 8 pruned nodes, max_depth=5\u001b[0m\n",
      "\u001b[34m[64]#011train-error:0.125267#011validation-error:0.164\u001b[0m\n",
      "\u001b[34m[22:55:34] src/tree/updater_prune.cc:74: tree pruning end, 1 roots, 26 extra nodes, 6 pruned nodes, max_depth=5\u001b[0m\n",
      "\u001b[34m[65]#011train-error:0.125533#011validation-error:0.1637\u001b[0m\n",
      "\u001b[34m[22:55:36] src/tree/updater_prune.cc:74: tree pruning end, 1 roots, 26 extra nodes, 8 pruned nodes, max_depth=5\u001b[0m\n",
      "\u001b[34m[66]#011train-error:0.1236#011validation-error:0.1618\u001b[0m\n",
      "\u001b[34m[22:55:37] src/tree/updater_prune.cc:74: tree pruning end, 1 roots, 18 extra nodes, 8 pruned nodes, max_depth=5\u001b[0m\n",
      "\u001b[34m[67]#011train-error:0.123067#011validation-error:0.1617\u001b[0m\n",
      "\u001b[34m[22:55:38] src/tree/updater_prune.cc:74: tree pruning end, 1 roots, 30 extra nodes, 4 pruned nodes, max_depth=5\u001b[0m\n",
      "\u001b[34m[68]#011train-error:0.122667#011validation-error:0.1611\u001b[0m\n",
      "\u001b[34m[22:55:39] src/tree/updater_prune.cc:74: tree pruning end, 1 roots, 22 extra nodes, 2 pruned nodes, max_depth=5\u001b[0m\n",
      "\u001b[34m[69]#011train-error:0.122333#011validation-error:0.1609\u001b[0m\n",
      "\u001b[34m[22:55:41] src/tree/updater_prune.cc:74: tree pruning end, 1 roots, 26 extra nodes, 4 pruned nodes, max_depth=5\u001b[0m\n",
      "\u001b[34m[70]#011train-error:0.1208#011validation-error:0.1597\u001b[0m\n",
      "\u001b[34m[22:55:42] src/tree/updater_prune.cc:74: tree pruning end, 1 roots, 28 extra nodes, 2 pruned nodes, max_depth=5\u001b[0m\n",
      "\u001b[34m[71]#011train-error:0.12#011validation-error:0.1591\u001b[0m\n",
      "\u001b[34m[22:55:43] src/tree/updater_prune.cc:74: tree pruning end, 1 roots, 20 extra nodes, 18 pruned nodes, max_depth=5\u001b[0m\n",
      "\u001b[34m[72]#011train-error:0.1198#011validation-error:0.1588\u001b[0m\n",
      "\u001b[34m[22:55:44] src/tree/updater_prune.cc:74: tree pruning end, 1 roots, 18 extra nodes, 10 pruned nodes, max_depth=5\u001b[0m\n",
      "\u001b[34m[73]#011train-error:0.118867#011validation-error:0.158\u001b[0m\n",
      "\u001b[34m[22:55:46] src/tree/updater_prune.cc:74: tree pruning end, 1 roots, 18 extra nodes, 4 pruned nodes, max_depth=5\u001b[0m\n",
      "\u001b[34m[74]#011train-error:0.118267#011validation-error:0.159\u001b[0m\n",
      "\u001b[34m[22:55:47] src/tree/updater_prune.cc:74: tree pruning end, 1 roots, 20 extra nodes, 10 pruned nodes, max_depth=5\u001b[0m\n",
      "\u001b[34m[75]#011train-error:0.117067#011validation-error:0.1589\u001b[0m\n",
      "\u001b[34m[22:55:48] src/tree/updater_prune.cc:74: tree pruning end, 1 roots, 18 extra nodes, 10 pruned nodes, max_depth=5\u001b[0m\n",
      "\u001b[34m[76]#011train-error:0.115933#011validation-error:0.1578\u001b[0m\n",
      "\u001b[34m[22:55:50] src/tree/updater_prune.cc:74: tree pruning end, 1 roots, 12 extra nodes, 12 pruned nodes, max_depth=5\u001b[0m\n",
      "\u001b[34m[77]#011train-error:0.1154#011validation-error:0.1581\u001b[0m\n",
      "\u001b[34m[22:55:51] src/tree/updater_prune.cc:74: tree pruning end, 1 roots, 14 extra nodes, 8 pruned nodes, max_depth=5\u001b[0m\n",
      "\u001b[34m[78]#011train-error:0.114333#011validation-error:0.1575\u001b[0m\n",
      "\u001b[34m[22:55:52] src/tree/updater_prune.cc:74: tree pruning end, 1 roots, 20 extra nodes, 8 pruned nodes, max_depth=5\u001b[0m\n",
      "\u001b[34m[79]#011train-error:0.113733#011validation-error:0.1568\u001b[0m\n",
      "\u001b[34m[22:55:53] src/tree/updater_prune.cc:74: tree pruning end, 1 roots, 18 extra nodes, 8 pruned nodes, max_depth=5\u001b[0m\n",
      "\u001b[34m[80]#011train-error:0.113667#011validation-error:0.1567\u001b[0m\n",
      "\u001b[34m[22:55:55] src/tree/updater_prune.cc:74: tree pruning end, 1 roots, 16 extra nodes, 6 pruned nodes, max_depth=5\u001b[0m\n",
      "\u001b[34m[81]#011train-error:0.113933#011validation-error:0.1552\u001b[0m\n",
      "\u001b[34m[22:55:56] src/tree/updater_prune.cc:74: tree pruning end, 1 roots, 10 extra nodes, 10 pruned nodes, max_depth=5\u001b[0m\n",
      "\u001b[34m[82]#011train-error:0.114333#011validation-error:0.1556\u001b[0m\n",
      "\u001b[34m[22:55:57] src/tree/updater_prune.cc:74: tree pruning end, 1 roots, 22 extra nodes, 12 pruned nodes, max_depth=5\u001b[0m\n",
      "\u001b[34m[83]#011train-error:0.112533#011validation-error:0.155\u001b[0m\n",
      "\u001b[34m[22:55:58] src/tree/updater_prune.cc:74: tree pruning end, 1 roots, 22 extra nodes, 4 pruned nodes, max_depth=5\u001b[0m\n",
      "\u001b[34m[84]#011train-error:0.1118#011validation-error:0.1538\u001b[0m\n",
      "\u001b[34m[22:56:00] src/tree/updater_prune.cc:74: tree pruning end, 1 roots, 20 extra nodes, 18 pruned nodes, max_depth=5\u001b[0m\n",
      "\u001b[34m[85]#011train-error:0.111267#011validation-error:0.153\u001b[0m\n",
      "\u001b[34m[22:56:01] src/tree/updater_prune.cc:74: tree pruning end, 1 roots, 22 extra nodes, 12 pruned nodes, max_depth=5\u001b[0m\n",
      "\u001b[34m[86]#011train-error:0.1114#011validation-error:0.1526\u001b[0m\n",
      "\u001b[34m[22:56:02] src/tree/updater_prune.cc:74: tree pruning end, 1 roots, 18 extra nodes, 6 pruned nodes, max_depth=5\u001b[0m\n",
      "\u001b[34m[87]#011train-error:0.1108#011validation-error:0.1534\u001b[0m\n",
      "\u001b[34m[22:56:03] src/tree/updater_prune.cc:74: tree pruning end, 1 roots, 16 extra nodes, 8 pruned nodes, max_depth=5\u001b[0m\n",
      "\u001b[34m[88]#011train-error:0.111133#011validation-error:0.1533\u001b[0m\n",
      "\u001b[34m[22:56:05] src/tree/updater_prune.cc:74: tree pruning end, 1 roots, 24 extra nodes, 8 pruned nodes, max_depth=5\u001b[0m\n",
      "\u001b[34m[89]#011train-error:0.110733#011validation-error:0.1529\u001b[0m\n",
      "\u001b[34m[22:56:06] src/tree/updater_prune.cc:74: tree pruning end, 1 roots, 14 extra nodes, 4 pruned nodes, max_depth=5\u001b[0m\n",
      "\u001b[34m[90]#011train-error:0.1098#011validation-error:0.1538\u001b[0m\n",
      "\u001b[34m[22:56:07] src/tree/updater_prune.cc:74: tree pruning end, 1 roots, 18 extra nodes, 12 pruned nodes, max_depth=5\u001b[0m\n",
      "\u001b[34m[91]#011train-error:0.11#011validation-error:0.1519\u001b[0m\n"
     ]
    },
    {
     "name": "stdout",
     "output_type": "stream",
     "text": [
      "\u001b[34m[22:56:09] src/tree/updater_prune.cc:74: tree pruning end, 1 roots, 14 extra nodes, 6 pruned nodes, max_depth=5\u001b[0m\n",
      "\u001b[34m[92]#011train-error:0.109133#011validation-error:0.1517\u001b[0m\n",
      "\u001b[34m[22:56:10] src/tree/updater_prune.cc:74: tree pruning end, 1 roots, 28 extra nodes, 4 pruned nodes, max_depth=5\u001b[0m\n",
      "\u001b[34m[93]#011train-error:0.107733#011validation-error:0.151\u001b[0m\n",
      "\u001b[34m[22:56:11] src/tree/updater_prune.cc:74: tree pruning end, 1 roots, 14 extra nodes, 0 pruned nodes, max_depth=5\u001b[0m\n",
      "\u001b[34m[94]#011train-error:0.1072#011validation-error:0.1516\u001b[0m\n",
      "\u001b[34m[22:56:12] src/tree/updater_prune.cc:74: tree pruning end, 1 roots, 24 extra nodes, 4 pruned nodes, max_depth=5\u001b[0m\n",
      "\u001b[34m[95]#011train-error:0.107133#011validation-error:0.1522\u001b[0m\n",
      "\u001b[34m[22:56:14] src/tree/updater_prune.cc:74: tree pruning end, 1 roots, 10 extra nodes, 8 pruned nodes, max_depth=5\u001b[0m\n",
      "\u001b[34m[96]#011train-error:0.106867#011validation-error:0.1522\u001b[0m\n",
      "\u001b[34m[22:56:15] src/tree/updater_prune.cc:74: tree pruning end, 1 roots, 22 extra nodes, 8 pruned nodes, max_depth=5\u001b[0m\n",
      "\u001b[34m[97]#011train-error:0.106267#011validation-error:0.1518\u001b[0m\n",
      "\u001b[34m[22:56:16] src/tree/updater_prune.cc:74: tree pruning end, 1 roots, 12 extra nodes, 4 pruned nodes, max_depth=5\u001b[0m\n",
      "\u001b[34m[98]#011train-error:0.106267#011validation-error:0.1514\u001b[0m\n",
      "\u001b[34m[22:56:18] src/tree/updater_prune.cc:74: tree pruning end, 1 roots, 32 extra nodes, 4 pruned nodes, max_depth=5\u001b[0m\n",
      "\u001b[34m[99]#011train-error:0.1056#011validation-error:0.1516\u001b[0m\n",
      "\u001b[34m[22:56:19] src/tree/updater_prune.cc:74: tree pruning end, 1 roots, 18 extra nodes, 6 pruned nodes, max_depth=5\u001b[0m\n",
      "\u001b[34m[100]#011train-error:0.105333#011validation-error:0.1518\u001b[0m\n",
      "\u001b[34m[22:56:20] src/tree/updater_prune.cc:74: tree pruning end, 1 roots, 18 extra nodes, 12 pruned nodes, max_depth=5\u001b[0m\n",
      "\u001b[34m[101]#011train-error:0.104867#011validation-error:0.1515\u001b[0m\n",
      "\u001b[34m[22:56:21] src/tree/updater_prune.cc:74: tree pruning end, 1 roots, 12 extra nodes, 14 pruned nodes, max_depth=5\u001b[0m\n",
      "\u001b[34m[102]#011train-error:0.103933#011validation-error:0.1519\u001b[0m\n",
      "\u001b[34m[22:56:23] src/tree/updater_prune.cc:74: tree pruning end, 1 roots, 16 extra nodes, 8 pruned nodes, max_depth=5\u001b[0m\n",
      "\u001b[34m[103]#011train-error:0.103267#011validation-error:0.1503\u001b[0m\n",
      "\u001b[34m[22:56:24] src/tree/updater_prune.cc:74: tree pruning end, 1 roots, 26 extra nodes, 12 pruned nodes, max_depth=5\u001b[0m\n",
      "\u001b[34m[104]#011train-error:0.103067#011validation-error:0.1499\u001b[0m\n",
      "\u001b[34m[22:56:25] src/tree/updater_prune.cc:74: tree pruning end, 1 roots, 12 extra nodes, 6 pruned nodes, max_depth=5\u001b[0m\n",
      "\u001b[34m[105]#011train-error:0.1024#011validation-error:0.1497\u001b[0m\n",
      "\u001b[34m[22:56:26] src/tree/updater_prune.cc:74: tree pruning end, 1 roots, 16 extra nodes, 12 pruned nodes, max_depth=5\u001b[0m\n",
      "\u001b[34m[106]#011train-error:0.1022#011validation-error:0.1498\u001b[0m\n",
      "\u001b[34m[22:56:28] src/tree/updater_prune.cc:74: tree pruning end, 1 roots, 10 extra nodes, 4 pruned nodes, max_depth=5\u001b[0m\n",
      "\u001b[34m[107]#011train-error:0.101933#011validation-error:0.15\u001b[0m\n",
      "\u001b[34m[22:56:29] src/tree/updater_prune.cc:74: tree pruning end, 1 roots, 18 extra nodes, 4 pruned nodes, max_depth=5\u001b[0m\n",
      "\u001b[34m[108]#011train-error:0.1014#011validation-error:0.1502\u001b[0m\n",
      "\u001b[34m[22:56:30] src/tree/updater_prune.cc:74: tree pruning end, 1 roots, 12 extra nodes, 4 pruned nodes, max_depth=5\u001b[0m\n",
      "\u001b[34m[109]#011train-error:0.101267#011validation-error:0.1498\u001b[0m\n",
      "\u001b[34m[22:56:32] src/tree/updater_prune.cc:74: tree pruning end, 1 roots, 12 extra nodes, 6 pruned nodes, max_depth=5\u001b[0m\n",
      "\u001b[34m[110]#011train-error:0.100867#011validation-error:0.1493\u001b[0m\n",
      "\u001b[34m[22:56:33] src/tree/updater_prune.cc:74: tree pruning end, 1 roots, 26 extra nodes, 8 pruned nodes, max_depth=5\u001b[0m\n",
      "\u001b[34m[111]#011train-error:0.100067#011validation-error:0.1493\u001b[0m\n",
      "\u001b[34m[22:56:34] src/tree/updater_prune.cc:74: tree pruning end, 1 roots, 24 extra nodes, 6 pruned nodes, max_depth=5\u001b[0m\n",
      "\u001b[34m[112]#011train-error:0.099467#011validation-error:0.1497\u001b[0m\n",
      "\u001b[34m[22:56:35] src/tree/updater_prune.cc:74: tree pruning end, 1 roots, 18 extra nodes, 6 pruned nodes, max_depth=5\u001b[0m\n",
      "\u001b[34m[113]#011train-error:0.0992#011validation-error:0.1487\u001b[0m\n",
      "\u001b[34m[22:56:37] src/tree/updater_prune.cc:74: tree pruning end, 1 roots, 16 extra nodes, 6 pruned nodes, max_depth=5\u001b[0m\n",
      "\u001b[34m[114]#011train-error:0.098933#011validation-error:0.1488\u001b[0m\n",
      "\u001b[34m[22:56:38] src/tree/updater_prune.cc:74: tree pruning end, 1 roots, 28 extra nodes, 8 pruned nodes, max_depth=5\u001b[0m\n",
      "\u001b[34m[115]#011train-error:0.098#011validation-error:0.148\u001b[0m\n",
      "\u001b[34m[22:56:39] src/tree/updater_prune.cc:74: tree pruning end, 1 roots, 20 extra nodes, 4 pruned nodes, max_depth=5\u001b[0m\n",
      "\u001b[34m[116]#011train-error:0.097133#011validation-error:0.1477\u001b[0m\n",
      "\u001b[34m[22:56:40] src/tree/updater_prune.cc:74: tree pruning end, 1 roots, 10 extra nodes, 8 pruned nodes, max_depth=5\u001b[0m\n",
      "\u001b[34m[117]#011train-error:0.096933#011validation-error:0.1478\u001b[0m\n",
      "\u001b[34m[22:56:42] src/tree/updater_prune.cc:74: tree pruning end, 1 roots, 14 extra nodes, 14 pruned nodes, max_depth=5\u001b[0m\n",
      "\u001b[34m[118]#011train-error:0.096533#011validation-error:0.1477\u001b[0m\n",
      "\u001b[34m[22:56:43] src/tree/updater_prune.cc:74: tree pruning end, 1 roots, 30 extra nodes, 16 pruned nodes, max_depth=5\u001b[0m\n",
      "\u001b[34m[119]#011train-error:0.096067#011validation-error:0.1467\u001b[0m\n",
      "\u001b[34m[22:56:44] src/tree/updater_prune.cc:74: tree pruning end, 1 roots, 14 extra nodes, 12 pruned nodes, max_depth=5\u001b[0m\n",
      "\u001b[34m[120]#011train-error:0.095733#011validation-error:0.1472\u001b[0m\n",
      "\u001b[34m[22:56:46] src/tree/updater_prune.cc:74: tree pruning end, 1 roots, 12 extra nodes, 4 pruned nodes, max_depth=5\u001b[0m\n",
      "\u001b[34m[121]#011train-error:0.0954#011validation-error:0.1462\u001b[0m\n",
      "\u001b[34m[22:56:47] src/tree/updater_prune.cc:74: tree pruning end, 1 roots, 18 extra nodes, 2 pruned nodes, max_depth=5\u001b[0m\n",
      "\u001b[34m[122]#011train-error:0.094733#011validation-error:0.1466\u001b[0m\n",
      "\u001b[34m[22:56:48] src/tree/updater_prune.cc:74: tree pruning end, 1 roots, 10 extra nodes, 6 pruned nodes, max_depth=5\u001b[0m\n",
      "\u001b[34m[123]#011train-error:0.094467#011validation-error:0.1467\u001b[0m\n",
      "\u001b[34m[22:56:50] src/tree/updater_prune.cc:74: tree pruning end, 1 roots, 26 extra nodes, 10 pruned nodes, max_depth=5\u001b[0m\n",
      "\u001b[34m[124]#011train-error:0.093267#011validation-error:0.147\u001b[0m\n",
      "\u001b[34m[22:56:51] src/tree/updater_prune.cc:74: tree pruning end, 1 roots, 16 extra nodes, 8 pruned nodes, max_depth=5\u001b[0m\n",
      "\u001b[34m[125]#011train-error:0.092733#011validation-error:0.1469\u001b[0m\n",
      "\u001b[34m[22:56:52] src/tree/updater_prune.cc:74: tree pruning end, 1 roots, 14 extra nodes, 8 pruned nodes, max_depth=5\u001b[0m\n",
      "\u001b[34m[126]#011train-error:0.092067#011validation-error:0.1463\u001b[0m\n",
      "\u001b[34m[22:56:53] src/tree/updater_prune.cc:74: tree pruning end, 1 roots, 10 extra nodes, 6 pruned nodes, max_depth=5\u001b[0m\n",
      "\u001b[34m[127]#011train-error:0.092067#011validation-error:0.146\u001b[0m\n",
      "\u001b[34m[22:56:55] src/tree/updater_prune.cc:74: tree pruning end, 1 roots, 12 extra nodes, 10 pruned nodes, max_depth=5\u001b[0m\n",
      "\u001b[34m[128]#011train-error:0.091933#011validation-error:0.1455\u001b[0m\n",
      "\u001b[34m[22:56:56] src/tree/updater_prune.cc:74: tree pruning end, 1 roots, 22 extra nodes, 8 pruned nodes, max_depth=5\u001b[0m\n",
      "\u001b[34m[129]#011train-error:0.091867#011validation-error:0.1447\u001b[0m\n",
      "\u001b[34m[22:56:57] src/tree/updater_prune.cc:74: tree pruning end, 1 roots, 12 extra nodes, 6 pruned nodes, max_depth=5\u001b[0m\n",
      "\u001b[34m[130]#011train-error:0.090933#011validation-error:0.1448\u001b[0m\n",
      "\u001b[34m[22:56:58] src/tree/updater_prune.cc:74: tree pruning end, 1 roots, 16 extra nodes, 0 pruned nodes, max_depth=5\u001b[0m\n",
      "\u001b[34m[131]#011train-error:0.090533#011validation-error:0.1445\u001b[0m\n",
      "\u001b[34m[22:57:00] src/tree/updater_prune.cc:74: tree pruning end, 1 roots, 16 extra nodes, 4 pruned nodes, max_depth=5\u001b[0m\n",
      "\u001b[34m[132]#011train-error:0.090533#011validation-error:0.1442\u001b[0m\n",
      "\u001b[34m[22:57:01] src/tree/updater_prune.cc:74: tree pruning end, 1 roots, 26 extra nodes, 8 pruned nodes, max_depth=5\u001b[0m\n",
      "\u001b[34m[133]#011train-error:0.0904#011validation-error:0.143\u001b[0m\n",
      "\u001b[34m[22:57:02] src/tree/updater_prune.cc:74: tree pruning end, 1 roots, 16 extra nodes, 4 pruned nodes, max_depth=5\u001b[0m\n",
      "\u001b[34m[134]#011train-error:0.089933#011validation-error:0.1434\u001b[0m\n",
      "\u001b[34m[22:57:03] src/tree/updater_prune.cc:74: tree pruning end, 1 roots, 10 extra nodes, 18 pruned nodes, max_depth=5\u001b[0m\n",
      "\u001b[34m[135]#011train-error:0.089733#011validation-error:0.1435\u001b[0m\n"
     ]
    },
    {
     "name": "stdout",
     "output_type": "stream",
     "text": [
      "\n",
      "2020-05-03 22:57:17 Uploading - Uploading generated training model\u001b[34m[22:57:05] src/tree/updater_prune.cc:74: tree pruning end, 1 roots, 20 extra nodes, 2 pruned nodes, max_depth=5\u001b[0m\n",
      "\u001b[34m[136]#011train-error:0.0898#011validation-error:0.1436\u001b[0m\n",
      "\u001b[34m[22:57:06] src/tree/updater_prune.cc:74: tree pruning end, 1 roots, 22 extra nodes, 8 pruned nodes, max_depth=5\u001b[0m\n",
      "\u001b[34m[137]#011train-error:0.0894#011validation-error:0.1435\u001b[0m\n",
      "\u001b[34m[22:57:07] src/tree/updater_prune.cc:74: tree pruning end, 1 roots, 20 extra nodes, 2 pruned nodes, max_depth=5\u001b[0m\n",
      "\u001b[34m[138]#011train-error:0.089067#011validation-error:0.1433\u001b[0m\n",
      "\u001b[34m[22:57:09] src/tree/updater_prune.cc:74: tree pruning end, 1 roots, 20 extra nodes, 6 pruned nodes, max_depth=5\u001b[0m\n",
      "\u001b[34m[139]#011train-error:0.088867#011validation-error:0.1433\u001b[0m\n",
      "\u001b[34m[22:57:10] src/tree/updater_prune.cc:74: tree pruning end, 1 roots, 22 extra nodes, 12 pruned nodes, max_depth=5\u001b[0m\n",
      "\u001b[34m[140]#011train-error:0.0886#011validation-error:0.1438\u001b[0m\n",
      "\u001b[34m[22:57:11] src/tree/updater_prune.cc:74: tree pruning end, 1 roots, 10 extra nodes, 8 pruned nodes, max_depth=5\u001b[0m\n",
      "\u001b[34m[141]#011train-error:0.088333#011validation-error:0.1438\u001b[0m\n",
      "\u001b[34m[22:57:12] src/tree/updater_prune.cc:74: tree pruning end, 1 roots, 14 extra nodes, 8 pruned nodes, max_depth=5\u001b[0m\n",
      "\u001b[34m[142]#011train-error:0.088533#011validation-error:0.1442\u001b[0m\n",
      "\u001b[34m[22:57:14] src/tree/updater_prune.cc:74: tree pruning end, 1 roots, 24 extra nodes, 10 pruned nodes, max_depth=5\u001b[0m\n",
      "\u001b[34m[143]#011train-error:0.088333#011validation-error:0.1445\u001b[0m\n",
      "\u001b[34mStopping. Best iteration:\u001b[0m\n",
      "\u001b[34m[133]#011train-error:0.0904#011validation-error:0.143\n",
      "\u001b[0m\n",
      "\n",
      "2020-05-03 22:57:24 Completed - Training job completed\n",
      "Training seconds: 246\n",
      "Billable seconds: 246\n"
     ]
    }
   ],
   "source": [
    "xgb.fit({'train': s3_input_train, 'validation': s3_input_validation})"
   ]
  },
  {
   "cell_type": "markdown",
   "metadata": {},
   "source": [
    "## Step 5: Testing the model\n",
    "\n",
    "Now that we've fit our XGBoost model, it's time to see how well it performs. To do this we will use SageMakers Batch Transform functionality. Batch Transform is a convenient way to perform inference on a large dataset in a way that is not realtime. That is, we don't necessarily need to use our model's results immediately and instead we can perform inference on a large number of samples. An example of this in industry might be performing an end of month report. This method of inference can also be useful to us as it means that we can perform inference on our entire test set. \n",
    "\n",
    "To perform a Batch Transformation we need to first create a transformer objects from our trained estimator object."
   ]
  },
  {
   "cell_type": "code",
   "execution_count": 27,
   "metadata": {},
   "outputs": [],
   "source": [
    "xgb_transformer = xgb.transformer(instance_count = 1, instance_type = 'ml.m4.xlarge')"
   ]
  },
  {
   "cell_type": "markdown",
   "metadata": {},
   "source": [
    "Next we actually perform the transform job. When doing so we need to make sure to specify the type of data we are sending so that it is serialized correctly in the background. In our case we are providing our model with csv data so we specify `text/csv`. Also, if the test data that we have provided is too large to process all at once then we need to specify how the data file should be split up. Since each line is a single entry in our data set we tell SageMaker that it can split the input on each line."
   ]
  },
  {
   "cell_type": "code",
   "execution_count": 28,
   "metadata": {},
   "outputs": [],
   "source": [
    "xgb_transformer.transform(test_location, content_type='text/csv', split_type='Line')"
   ]
  },
  {
   "cell_type": "markdown",
   "metadata": {},
   "source": [
    "Currently the transform job is running but it is doing so in the background. Since we wish to wait until the transform job is done and we would like a bit of feedback we can run the `wait()` method."
   ]
  },
  {
   "cell_type": "code",
   "execution_count": 29,
   "metadata": {
    "scrolled": true
   },
   "outputs": [
    {
     "name": "stdout",
     "output_type": "stream",
     "text": [
      "....................\u001b[34mArguments: serve\u001b[0m\n",
      "\u001b[34m[2020-05-03 23:01:18 +0000] [1] [INFO] Starting gunicorn 19.7.1\u001b[0m\n",
      "\u001b[34m[2020-05-03 23:01:18 +0000] [1] [INFO] Listening at: http://0.0.0.0:8080 (1)\u001b[0m\n",
      "\u001b[34m[2020-05-03 23:01:18 +0000] [1] [INFO] Using worker: gevent\u001b[0m\n",
      "\u001b[34m[2020-05-03 23:01:18 +0000] [38] [INFO] Booting worker with pid: 38\u001b[0m\n",
      "\u001b[34m[2020-05-03 23:01:18 +0000] [39] [INFO] Booting worker with pid: 39\u001b[0m\n",
      "\u001b[34m[2020-05-03 23:01:19 +0000] [40] [INFO] Booting worker with pid: 40\u001b[0m\n",
      "\u001b[34m[2020-05-03 23:01:19 +0000] [41] [INFO] Booting worker with pid: 41\u001b[0m\n",
      "\u001b[34m[2020-05-03:23:01:19:INFO] Model loaded successfully for worker : 39\u001b[0m\n",
      "\u001b[34m[2020-05-03:23:01:19:INFO] Model loaded successfully for worker : 38\u001b[0m\n",
      "\u001b[34m[2020-05-03:23:01:19:INFO] Model loaded successfully for worker : 40\u001b[0m\n",
      "\u001b[34m[2020-05-03:23:01:19:INFO] Model loaded successfully for worker : 41\u001b[0m\n",
      "\u001b[32m2020-05-03T23:01:38.197:[sagemaker logs]: MaxConcurrentTransforms=4, MaxPayloadInMB=6, BatchStrategy=MULTI_RECORD\u001b[0m\n",
      "\u001b[34m[2020-05-03:23:01:40:INFO] Sniff delimiter as ','\u001b[0m\n",
      "\u001b[34m[2020-05-03:23:01:40:INFO] Determined delimiter of CSV input is ','\u001b[0m\n",
      "\u001b[34m[2020-05-03:23:01:40:INFO] Sniff delimiter as ','\u001b[0m\n",
      "\u001b[34m[2020-05-03:23:01:40:INFO] Determined delimiter of CSV input is ','\u001b[0m\n",
      "\u001b[34m[2020-05-03:23:01:41:INFO] Sniff delimiter as ','\u001b[0m\n",
      "\u001b[34m[2020-05-03:23:01:41:INFO] Determined delimiter of CSV input is ','\u001b[0m\n",
      "\u001b[34m[2020-05-03:23:01:41:INFO] Sniff delimiter as ','\u001b[0m\n",
      "\u001b[34m[2020-05-03:23:01:41:INFO] Determined delimiter of CSV input is ','\u001b[0m\n",
      "\u001b[35m[2020-05-03:23:01:40:INFO] Sniff delimiter as ','\u001b[0m\n",
      "\u001b[35m[2020-05-03:23:01:40:INFO] Determined delimiter of CSV input is ','\u001b[0m\n",
      "\u001b[35m[2020-05-03:23:01:40:INFO] Sniff delimiter as ','\u001b[0m\n",
      "\u001b[35m[2020-05-03:23:01:40:INFO] Determined delimiter of CSV input is ','\u001b[0m\n",
      "\u001b[35m[2020-05-03:23:01:41:INFO] Sniff delimiter as ','\u001b[0m\n",
      "\u001b[35m[2020-05-03:23:01:41:INFO] Determined delimiter of CSV input is ','\u001b[0m\n",
      "\u001b[35m[2020-05-03:23:01:41:INFO] Sniff delimiter as ','\u001b[0m\n",
      "\u001b[35m[2020-05-03:23:01:41:INFO] Determined delimiter of CSV input is ','\u001b[0m\n",
      "\u001b[34m[2020-05-03:23:01:43:INFO] Sniff delimiter as ','\u001b[0m\n",
      "\u001b[34m[2020-05-03:23:01:43:INFO] Determined delimiter of CSV input is ','\u001b[0m\n",
      "\u001b[34m[2020-05-03:23:01:43:INFO] Sniff delimiter as ','\u001b[0m\n",
      "\u001b[34m[2020-05-03:23:01:43:INFO] Determined delimiter of CSV input is ','\u001b[0m\n",
      "\u001b[35m[2020-05-03:23:01:43:INFO] Sniff delimiter as ','\u001b[0m\n",
      "\u001b[35m[2020-05-03:23:01:43:INFO] Determined delimiter of CSV input is ','\u001b[0m\n",
      "\u001b[35m[2020-05-03:23:01:43:INFO] Sniff delimiter as ','\u001b[0m\n",
      "\u001b[35m[2020-05-03:23:01:43:INFO] Determined delimiter of CSV input is ','\u001b[0m\n",
      "\u001b[34m[2020-05-03:23:01:43:INFO] Sniff delimiter as ','\u001b[0m\n",
      "\u001b[34m[2020-05-03:23:01:43:INFO] Determined delimiter of CSV input is ','\u001b[0m\n",
      "\u001b[34m[2020-05-03:23:01:43:INFO] Sniff delimiter as ','\u001b[0m\n",
      "\u001b[34m[2020-05-03:23:01:43:INFO] Determined delimiter of CSV input is ','\u001b[0m\n",
      "\u001b[35m[2020-05-03:23:01:43:INFO] Sniff delimiter as ','\u001b[0m\n",
      "\u001b[35m[2020-05-03:23:01:43:INFO] Determined delimiter of CSV input is ','\u001b[0m\n",
      "\u001b[35m[2020-05-03:23:01:43:INFO] Sniff delimiter as ','\u001b[0m\n",
      "\u001b[35m[2020-05-03:23:01:43:INFO] Determined delimiter of CSV input is ','\u001b[0m\n",
      "\u001b[34m[2020-05-03:23:01:45:INFO] Sniff delimiter as ','\u001b[0m\n",
      "\u001b[34m[2020-05-03:23:01:45:INFO] Determined delimiter of CSV input is ','\u001b[0m\n",
      "\u001b[34m[2020-05-03:23:01:45:INFO] Sniff delimiter as ','\u001b[0m\n",
      "\u001b[34m[2020-05-03:23:01:45:INFO] Determined delimiter of CSV input is ','\u001b[0m\n",
      "\u001b[34m[2020-05-03:23:01:46:INFO] Sniff delimiter as ','\u001b[0m\n",
      "\u001b[34m[2020-05-03:23:01:46:INFO] Determined delimiter of CSV input is ','\u001b[0m\n",
      "\u001b[34m[2020-05-03:23:01:46:INFO] Sniff delimiter as ','\u001b[0m\n",
      "\u001b[34m[2020-05-03:23:01:46:INFO] Determined delimiter of CSV input is ','\u001b[0m\n",
      "\u001b[35m[2020-05-03:23:01:45:INFO] Sniff delimiter as ','\u001b[0m\n",
      "\u001b[35m[2020-05-03:23:01:45:INFO] Determined delimiter of CSV input is ','\u001b[0m\n",
      "\u001b[35m[2020-05-03:23:01:45:INFO] Sniff delimiter as ','\u001b[0m\n",
      "\u001b[35m[2020-05-03:23:01:45:INFO] Determined delimiter of CSV input is ','\u001b[0m\n",
      "\u001b[35m[2020-05-03:23:01:46:INFO] Sniff delimiter as ','\u001b[0m\n",
      "\u001b[35m[2020-05-03:23:01:46:INFO] Determined delimiter of CSV input is ','\u001b[0m\n",
      "\u001b[35m[2020-05-03:23:01:46:INFO] Sniff delimiter as ','\u001b[0m\n",
      "\u001b[35m[2020-05-03:23:01:46:INFO] Determined delimiter of CSV input is ','\u001b[0m\n",
      "\u001b[34m[2020-05-03:23:01:48:INFO] Sniff delimiter as ','\u001b[0m\n",
      "\u001b[34m[2020-05-03:23:01:48:INFO] Determined delimiter of CSV input is ','\u001b[0m\n",
      "\u001b[34m[2020-05-03:23:01:48:INFO] Sniff delimiter as ','\u001b[0m\n",
      "\u001b[34m[2020-05-03:23:01:48:INFO] Determined delimiter of CSV input is ','\u001b[0m\n",
      "\u001b[35m[2020-05-03:23:01:48:INFO] Sniff delimiter as ','\u001b[0m\n",
      "\u001b[35m[2020-05-03:23:01:48:INFO] Determined delimiter of CSV input is ','\u001b[0m\n",
      "\u001b[35m[2020-05-03:23:01:48:INFO] Sniff delimiter as ','\u001b[0m\n",
      "\u001b[35m[2020-05-03:23:01:48:INFO] Determined delimiter of CSV input is ','\u001b[0m\n",
      "\u001b[34m[2020-05-03:23:01:48:INFO] Sniff delimiter as ','\u001b[0m\n",
      "\u001b[35m[2020-05-03:23:01:48:INFO] Sniff delimiter as ','\u001b[0m\n",
      "\u001b[34m[2020-05-03:23:01:48:INFO] Determined delimiter of CSV input is ','\u001b[0m\n",
      "\u001b[34m[2020-05-03:23:01:48:INFO] Sniff delimiter as ','\u001b[0m\n",
      "\u001b[34m[2020-05-03:23:01:48:INFO] Determined delimiter of CSV input is ','\u001b[0m\n",
      "\u001b[35m[2020-05-03:23:01:48:INFO] Determined delimiter of CSV input is ','\u001b[0m\n",
      "\u001b[35m[2020-05-03:23:01:48:INFO] Sniff delimiter as ','\u001b[0m\n",
      "\u001b[35m[2020-05-03:23:01:48:INFO] Determined delimiter of CSV input is ','\u001b[0m\n",
      "\u001b[34m[2020-05-03:23:01:50:INFO] Determined delimiter of CSV input is ','\u001b[0m\n",
      "\u001b[34m[2020-05-03:23:01:51:INFO] Sniff delimiter as ','\u001b[0m\n",
      "\u001b[34m[2020-05-03:23:01:51:INFO] Determined delimiter of CSV input is ','\u001b[0m\n",
      "\u001b[34m[2020-05-03:23:01:51:INFO] Sniff delimiter as ','\u001b[0m\n",
      "\u001b[34m[2020-05-03:23:01:51:INFO] Determined delimiter of CSV input is ','\u001b[0m\n",
      "\u001b[35m[2020-05-03:23:01:50:INFO] Determined delimiter of CSV input is ','\u001b[0m\n",
      "\u001b[35m[2020-05-03:23:01:51:INFO] Sniff delimiter as ','\u001b[0m\n",
      "\u001b[35m[2020-05-03:23:01:51:INFO] Determined delimiter of CSV input is ','\u001b[0m\n",
      "\u001b[35m[2020-05-03:23:01:51:INFO] Sniff delimiter as ','\u001b[0m\n",
      "\u001b[35m[2020-05-03:23:01:51:INFO] Determined delimiter of CSV input is ','\u001b[0m\n",
      "\u001b[34m[2020-05-03:23:01:53:INFO] Sniff delimiter as ','\u001b[0m\n",
      "\u001b[35m[2020-05-03:23:01:53:INFO] Sniff delimiter as ','\u001b[0m\n",
      "\u001b[34m[2020-05-03:23:01:53:INFO] Determined delimiter of CSV input is ','\u001b[0m\n",
      "\u001b[34m[2020-05-03:23:01:53:INFO] Sniff delimiter as ','\u001b[0m\n",
      "\u001b[34m[2020-05-03:23:01:53:INFO] Determined delimiter of CSV input is ','\u001b[0m\n",
      "\u001b[35m[2020-05-03:23:01:53:INFO] Determined delimiter of CSV input is ','\u001b[0m\n",
      "\u001b[35m[2020-05-03:23:01:53:INFO] Sniff delimiter as ','\u001b[0m\n",
      "\u001b[35m[2020-05-03:23:01:53:INFO] Determined delimiter of CSV input is ','\u001b[0m\n",
      "\u001b[34m[2020-05-03:23:01:53:INFO] Sniff delimiter as ','\u001b[0m\n",
      "\u001b[34m[2020-05-03:23:01:53:INFO] Determined delimiter of CSV input is ','\u001b[0m\n",
      "\u001b[34m[2020-05-03:23:01:53:INFO] Sniff delimiter as ','\u001b[0m\n",
      "\u001b[34m[2020-05-03:23:01:53:INFO] Determined delimiter of CSV input is ','\u001b[0m\n",
      "\u001b[35m[2020-05-03:23:01:53:INFO] Sniff delimiter as ','\u001b[0m\n",
      "\u001b[35m[2020-05-03:23:01:53:INFO] Determined delimiter of CSV input is ','\u001b[0m\n",
      "\u001b[35m[2020-05-03:23:01:53:INFO] Sniff delimiter as ','\u001b[0m\n",
      "\u001b[35m[2020-05-03:23:01:53:INFO] Determined delimiter of CSV input is ','\u001b[0m\n",
      "\u001b[34m[2020-05-03:23:01:55:INFO] Sniff delimiter as ','\u001b[0m\n",
      "\u001b[34m[2020-05-03:23:01:55:INFO] Determined delimiter of CSV input is ','\u001b[0m\n",
      "\u001b[34m[2020-05-03:23:01:55:INFO] Sniff delimiter as ','\u001b[0m\n",
      "\u001b[34m[2020-05-03:23:01:55:INFO] Determined delimiter of CSV input is ','\u001b[0m\n",
      "\u001b[34m[2020-05-03:23:01:55:INFO] Sniff delimiter as ','\u001b[0m\n",
      "\u001b[34m[2020-05-03:23:01:55:INFO] Determined delimiter of CSV input is ','\u001b[0m\n",
      "\u001b[34m[2020-05-03:23:01:56:INFO] Sniff delimiter as ','\u001b[0m\n",
      "\u001b[34m[2020-05-03:23:01:56:INFO] Determined delimiter of CSV input is ','\u001b[0m\n",
      "\u001b[35m[2020-05-03:23:01:55:INFO] Sniff delimiter as ','\u001b[0m\n",
      "\u001b[35m[2020-05-03:23:01:55:INFO] Determined delimiter of CSV input is ','\u001b[0m\n",
      "\u001b[35m[2020-05-03:23:01:55:INFO] Sniff delimiter as ','\u001b[0m\n",
      "\u001b[35m[2020-05-03:23:01:55:INFO] Determined delimiter of CSV input is ','\u001b[0m\n",
      "\u001b[35m[2020-05-03:23:01:55:INFO] Sniff delimiter as ','\u001b[0m\n",
      "\u001b[35m[2020-05-03:23:01:55:INFO] Determined delimiter of CSV input is ','\u001b[0m\n",
      "\u001b[35m[2020-05-03:23:01:56:INFO] Sniff delimiter as ','\u001b[0m\n",
      "\u001b[35m[2020-05-03:23:01:56:INFO] Determined delimiter of CSV input is ','\u001b[0m\n",
      "\u001b[34m[2020-05-03:23:01:57:INFO] Sniff delimiter as ','\u001b[0m\n",
      "\u001b[34m[2020-05-03:23:01:57:INFO] Determined delimiter of CSV input is ','\u001b[0m\n",
      "\u001b[34m[2020-05-03:23:01:58:INFO] Sniff delimiter as ','\u001b[0m\n",
      "\u001b[34m[2020-05-03:23:01:58:INFO] Determined delimiter of CSV input is ','\u001b[0m\n",
      "\u001b[34m[2020-05-03:23:01:58:INFO] Sniff delimiter as ','\u001b[0m\n",
      "\u001b[35m[2020-05-03:23:01:57:INFO] Sniff delimiter as ','\u001b[0m\n",
      "\u001b[35m[2020-05-03:23:01:57:INFO] Determined delimiter of CSV input is ','\u001b[0m\n",
      "\u001b[35m[2020-05-03:23:01:58:INFO] Sniff delimiter as ','\u001b[0m\n",
      "\u001b[35m[2020-05-03:23:01:58:INFO] Determined delimiter of CSV input is ','\u001b[0m\n",
      "\u001b[35m[2020-05-03:23:01:58:INFO] Sniff delimiter as ','\u001b[0m\n",
      "\u001b[34m[2020-05-03:23:01:58:INFO] Determined delimiter of CSV input is ','\u001b[0m\n",
      "\u001b[35m[2020-05-03:23:01:58:INFO] Determined delimiter of CSV input is ','\u001b[0m\n",
      "\u001b[34m[2020-05-03:23:01:58:INFO] Sniff delimiter as ','\u001b[0m\n",
      "\u001b[34m[2020-05-03:23:01:58:INFO] Determined delimiter of CSV input is ','\u001b[0m\n",
      "\u001b[35m[2020-05-03:23:01:58:INFO] Sniff delimiter as ','\u001b[0m\n",
      "\u001b[35m[2020-05-03:23:01:58:INFO] Determined delimiter of CSV input is ','\u001b[0m\n",
      "\u001b[34m[2020-05-03:23:02:00:INFO] Sniff delimiter as ','\u001b[0m\n",
      "\u001b[35m[2020-05-03:23:02:00:INFO] Sniff delimiter as ','\u001b[0m\n",
      "\u001b[34m[2020-05-03:23:02:00:INFO] Determined delimiter of CSV input is ','\u001b[0m\n",
      "\u001b[35m[2020-05-03:23:02:00:INFO] Determined delimiter of CSV input is ','\u001b[0m\n"
     ]
    },
    {
     "name": "stdout",
     "output_type": "stream",
     "text": [
      "\n",
      "\u001b[34m[2020-05-03:23:02:00:INFO] Determined delimiter of CSV input is ','\u001b[0m\n",
      "\u001b[34m[2020-05-03:23:02:00:INFO] Sniff delimiter as ','\u001b[0m\n",
      "\u001b[34m[2020-05-03:23:02:00:INFO] Determined delimiter of CSV input is ','\u001b[0m\n",
      "\u001b[34m[2020-05-03:23:02:01:INFO] Sniff delimiter as ','\u001b[0m\n",
      "\u001b[34m[2020-05-03:23:02:01:INFO] Determined delimiter of CSV input is ','\u001b[0m\n",
      "\u001b[35m[2020-05-03:23:02:00:INFO] Determined delimiter of CSV input is ','\u001b[0m\n",
      "\u001b[35m[2020-05-03:23:02:00:INFO] Sniff delimiter as ','\u001b[0m\n",
      "\u001b[35m[2020-05-03:23:02:00:INFO] Determined delimiter of CSV input is ','\u001b[0m\n",
      "\u001b[35m[2020-05-03:23:02:01:INFO] Sniff delimiter as ','\u001b[0m\n",
      "\u001b[35m[2020-05-03:23:02:01:INFO] Determined delimiter of CSV input is ','\u001b[0m\n",
      "\u001b[34m[2020-05-03:23:02:02:INFO] Sniff delimiter as ','\u001b[0m\n",
      "\u001b[34m[2020-05-03:23:02:02:INFO] Determined delimiter of CSV input is ','\u001b[0m\n",
      "\u001b[34m[2020-05-03:23:02:03:INFO] Sniff delimiter as ','\u001b[0m\n",
      "\u001b[34m[2020-05-03:23:02:03:INFO] Determined delimiter of CSV input is ','\u001b[0m\n",
      "\u001b[35m[2020-05-03:23:02:02:INFO] Sniff delimiter as ','\u001b[0m\n",
      "\u001b[35m[2020-05-03:23:02:02:INFO] Determined delimiter of CSV input is ','\u001b[0m\n",
      "\u001b[35m[2020-05-03:23:02:03:INFO] Sniff delimiter as ','\u001b[0m\n",
      "\u001b[35m[2020-05-03:23:02:03:INFO] Determined delimiter of CSV input is ','\u001b[0m\n",
      "\u001b[34m[2020-05-03:23:02:03:INFO] Sniff delimiter as ','\u001b[0m\n",
      "\u001b[34m[2020-05-03:23:02:03:INFO] Determined delimiter of CSV input is ','\u001b[0m\n",
      "\u001b[35m[2020-05-03:23:02:03:INFO] Sniff delimiter as ','\u001b[0m\n",
      "\u001b[35m[2020-05-03:23:02:03:INFO] Determined delimiter of CSV input is ','\u001b[0m\n",
      "\u001b[34m[2020-05-03:23:02:03:INFO] Sniff delimiter as ','\u001b[0m\n",
      "\u001b[34m[2020-05-03:23:02:03:INFO] Determined delimiter of CSV input is ','\u001b[0m\n",
      "\u001b[35m[2020-05-03:23:02:03:INFO] Sniff delimiter as ','\u001b[0m\n",
      "\u001b[35m[2020-05-03:23:02:03:INFO] Determined delimiter of CSV input is ','\u001b[0m\n"
     ]
    }
   ],
   "source": [
    "xgb_transformer.wait()"
   ]
  },
  {
   "cell_type": "markdown",
   "metadata": {},
   "source": [
    "Now the transform job has executed and the result, the estimated sentiment of each review, has been saved on S3. Since we would rather work on this file locally we can perform a bit of notebook magic to copy the file to the `data_dir`."
   ]
  },
  {
   "cell_type": "code",
   "execution_count": 30,
   "metadata": {},
   "outputs": [
    {
     "name": "stdout",
     "output_type": "stream",
     "text": [
      "Completed 256.0 KiB/369.1 KiB (2.8 MiB/s) with 1 file(s) remaining\r",
      "Completed 369.1 KiB/369.1 KiB (3.9 MiB/s) with 1 file(s) remaining\r",
      "download: s3://sagemaker-us-east-2-319963865301/xgboost-2020-05-03-22-58-12-405/test.csv.out to ../data/sentiment_web_app/test.csv.out\r\n"
     ]
    }
   ],
   "source": [
    "!aws s3 cp --recursive $xgb_transformer.output_path $data_dir"
   ]
  },
  {
   "cell_type": "markdown",
   "metadata": {},
   "source": [
    "The last step is now to read in the output from our model, convert the output to something a little more usable, in this case we want the sentiment to be either `1` (positive) or `0` (negative), and then compare to the ground truth labels."
   ]
  },
  {
   "cell_type": "code",
   "execution_count": 31,
   "metadata": {},
   "outputs": [],
   "source": [
    "predictions = pd.read_csv(os.path.join(data_dir, 'test.csv.out'), header=None)\n",
    "predictions = [round(num) for num in predictions.squeeze().values]"
   ]
  },
  {
   "cell_type": "code",
   "execution_count": 32,
   "metadata": {},
   "outputs": [
    {
     "data": {
      "text/plain": [
       "0.85516"
      ]
     },
     "execution_count": 32,
     "metadata": {},
     "output_type": "execute_result"
    }
   ],
   "source": [
    "from sklearn.metrics import accuracy_score\n",
    "accuracy_score(test_y, predictions)"
   ]
  },
  {
   "cell_type": "markdown",
   "metadata": {},
   "source": [
    "## Step 6: Deploying the model\n",
    "\n",
    "Once we construct and fit our model, SageMaker stores the resulting model artifacts and we can use those to deploy an endpoint (inference code). To see this, look in the SageMaker console and you should see that a model has been created along with a link to the S3 location where the model artifacts have been stored.\n",
    "\n",
    "Deploying an endpoint is a lot like training the model with a few important differences. The first is that a deployed model doesn't change the model artifacts, so as you send it various testing instances the model won't change. Another difference is that since we aren't performing a fixed computation, as we were in the training step or while performing a batch transform, the compute instance that gets started stays running until we tell it to stop. This is important to note as if we forget and leave it running we will be charged the entire time.\n",
    "\n",
    "In other words **If you are no longer using a deployed endpoint, shut it down!**"
   ]
  },
  {
   "cell_type": "code",
   "execution_count": 33,
   "metadata": {},
   "outputs": [
    {
     "name": "stderr",
     "output_type": "stream",
     "text": [
      "WARNING:sagemaker:Using already existing model: xgboost-2020-05-03-22-51-18-167\n"
     ]
    },
    {
     "name": "stdout",
     "output_type": "stream",
     "text": [
      "-------------!"
     ]
    }
   ],
   "source": [
    "xgb_predictor = xgb.deploy(initial_instance_count = 1, instance_type = 'ml.m4.xlarge')"
   ]
  },
  {
   "cell_type": "markdown",
   "metadata": {},
   "source": [
    "### Testing the model (again)\n",
    "\n",
    "Now that we have deployed our endpoint, we can send the testing data to it and get back the inference results. We already did this earlier using the batch transform functionality of SageMaker, however, we will test our model again using the newly deployed endpoint so that we can make sure that it works properly and to get a bit of a feel for how the endpoint works.\n",
    "\n",
    "When using the created endpoint it is important to know that we are limited in the amount of information we can send in each call so we need to break the testing data up into chunks and then send each chunk. Also, we need to serialize our data before we send it to the endpoint to ensure that our data is transmitted properly. Fortunately, SageMaker can do the serialization part for us provided we tell it the format of our data."
   ]
  },
  {
   "cell_type": "code",
   "execution_count": 34,
   "metadata": {},
   "outputs": [],
   "source": [
    "from sagemaker.predictor import csv_serializer\n",
    "\n",
    "# We need to tell the endpoint what format the data we are sending is in so that SageMaker can perform the serialization.\n",
    "xgb_predictor.content_type = 'text/csv'\n",
    "xgb_predictor.serializer = csv_serializer"
   ]
  },
  {
   "cell_type": "code",
   "execution_count": 35,
   "metadata": {},
   "outputs": [],
   "source": [
    "# We split the data into chunks and send each chunk seperately, accumulating the results.\n",
    "\n",
    "def predict(data, rows=512):\n",
    "    split_array = np.array_split(data, int(data.shape[0] / float(rows) + 1))\n",
    "    predictions = ''\n",
    "    for array in split_array:\n",
    "        predictions = ','.join([predictions, xgb_predictor.predict(array).decode('utf-8')])\n",
    "    \n",
    "    return np.fromstring(predictions[1:], sep=',')"
   ]
  },
  {
   "cell_type": "code",
   "execution_count": 36,
   "metadata": {},
   "outputs": [],
   "source": [
    "test_X = pd.read_csv(os.path.join(data_dir, 'test.csv'), header=None).values\n",
    "\n",
    "predictions = predict(test_X)\n",
    "predictions = [round(num) for num in predictions]"
   ]
  },
  {
   "cell_type": "markdown",
   "metadata": {},
   "source": [
    "Lastly, we check to see what the accuracy of our model is."
   ]
  },
  {
   "cell_type": "code",
   "execution_count": 37,
   "metadata": {},
   "outputs": [
    {
     "data": {
      "text/plain": [
       "0.85516"
      ]
     },
     "execution_count": 37,
     "metadata": {},
     "output_type": "execute_result"
    }
   ],
   "source": [
    "from sklearn.metrics import accuracy_score\n",
    "accuracy_score(test_y, predictions)"
   ]
  },
  {
   "cell_type": "markdown",
   "metadata": {},
   "source": [
    "And the results here should agree with the model testing that we did earlier using the batch transform job.\n",
    "\n",
    "### Cleaning up\n",
    "\n",
    "Now that we've determined that deploying our model works as expected, we are going to shut it down. Remember that the longer the endpoint is left running, the greater the cost and since we have a bit more work to do before we are able to use our endpoint with our simple web app, we should shut everything down."
   ]
  },
  {
   "cell_type": "code",
   "execution_count": 38,
   "metadata": {},
   "outputs": [],
   "source": [
    "xgb_predictor.delete_endpoint()"
   ]
  },
  {
   "cell_type": "markdown",
   "metadata": {},
   "source": [
    "## Step 7: Putting our model to work\n",
    "\n",
    "As we've mentioned a few times now, our goal is to have our model deployed and then access it using a very simple web app. The intent is for this web app to take some user submitted data (a review), send it off to our endpoint (the model) and then display the result.\n",
    "\n",
    "However, there is a small catch. Currently the only way we can access the endpoint to send it data is using the SageMaker API. We can, if we wish, expose the actual URL that our model's endpoint is receiving data from, however, if we just send it data ourselves we will not get anything in return. This is because the endpoint created by SageMaker requires the entity accessing it have the correct permissions. So, we would need to somehow authenticate our web app with AWS.\n",
    "\n",
    "Having a website that authenticates to AWS seems a bit beyond the scope of this lesson so we will opt for an alternative approach. Namely, we will create a new endpoint which does not require authentication and which acts as a proxy for the SageMaker endpoint.\n",
    "\n",
    "As an additional constraint, we will try to avoid doing any data processing in the web app itself. Remember that when we constructed and tested our model we started with a movie review, then we simplified it by removing any html formatting and punctuation, then we constructed a bag of words embedding and the resulting vector is what we sent to our model. All of this needs to be done to our user input as well.\n",
    "\n",
    "Fortunately we can do all of this data processing in the backend, using Amazon's Lambda service.\n",
    "\n",
    "<img src=\"Web App Diagram.svg\">\n",
    "\n",
    "The diagram above gives an overview of how the various services will work together. On the far right is the model which we trained above and which will be deployed using SageMaker. On the far left is our web app that collects a user's movie review, sends it off and expects a positive or negative sentiment in return.\n",
    "\n",
    "In the middle is where some of the magic happens. We will construct a Lambda function, which you can think of as a straightforward Python function that can be executed whenever a specified event occurs. This Python function will do the data processing we need to perform on a user submitted review. In addition, we will give this function permission to send and recieve data from a SageMaker endpoint.\n",
    "\n",
    "Lastly, the method we will use to execute the Lambda function is a new endpoint that we will create using API Gateway. This endpoint will be a url that listens for data to be sent to it. Once it gets some data it will pass that data on to the Lambda function and then return whatever the Lambda function returns. Essentially it will act as an interface that lets our web app communicate with the Lambda function.\n",
    "\n",
    "### Processing a single review\n",
    "\n",
    "For now, suppose we are given a movie review by our user in the form of a string, like so:"
   ]
  },
  {
   "cell_type": "code",
   "execution_count": 39,
   "metadata": {},
   "outputs": [],
   "source": [
    "test_review = \"Nothing but a disgusting materialistic pageant of glistening abed remote control greed zombies, totally devoid of any heart or heat. A romantic comedy that has zero romantic chemestry and zero laughs!\""
   ]
  },
  {
   "cell_type": "markdown",
   "metadata": {},
   "source": [
    "How do we go from this string to the bag of words feature vector that is expected by our model?\n",
    "\n",
    "If we recall at the beginning of this notebook, the first step is to remove any unnecessary characters using the `review_to_words` method. Remember that we intentionally did this in a very simplistic way. This is because we are going to have to copy this method to our (eventual) Lambda function (we will go into more detail later) and this means it needs to be rather simplistic."
   ]
  },
  {
   "cell_type": "code",
   "execution_count": 40,
   "metadata": {},
   "outputs": [
    {
     "name": "stdout",
     "output_type": "stream",
     "text": [
      "nothing but a disgusting materialistic pageant of glistening abed remote control greed zombies totally devoid of any heart or heat a romantic comedy that has zero romantic chemestry and zero laughs\n"
     ]
    }
   ],
   "source": [
    "test_words = review_to_words(test_review)\n",
    "print(test_words)"
   ]
  },
  {
   "cell_type": "markdown",
   "metadata": {},
   "source": [
    "Next, we need to construct a bag of words embedding of the `test_words` string. To do this, remember that a bag of words embedding uses a `vocabulary` consisting of the most frequently appearing words in a set of documents. Then, for each word in the vocabulary we record the number of times that word appears in `test_words`. We constructed the `vocabulary` earlier using the training set for our problem so encoding `test_words` is relatively straightforward."
   ]
  },
  {
   "cell_type": "code",
   "execution_count": 41,
   "metadata": {},
   "outputs": [],
   "source": [
    "def bow_encoding(words, vocabulary):\n",
    "    bow = [0] * len(vocabulary) # Start by setting the count for each word in the vocabulary to zero.\n",
    "    for word in words.split():  # For each word in the string\n",
    "        if word in vocabulary:  # If the word is one that occurs in the vocabulary, increase its count.\n",
    "            bow[vocabulary[word]] += 1\n",
    "    return bow"
   ]
  },
  {
   "cell_type": "code",
   "execution_count": 42,
   "metadata": {},
   "outputs": [
    {
     "name": "stdout",
     "output_type": "stream",
     "text": [
      "[0, 0, 0, 0, 0, 0, 0, 0, 0, 0, 0, 0, 0, 0, 0, 0, 0, 0, 0, 0, 0, 0, 0, 0, 0, 0, 0, 0, 0, 0, 0, 0, 0, 0, 0, 0, 0, 0, 0, 0, 0, 0, 0, 0, 0, 0, 0, 0, 0, 0, 0, 0, 0, 0, 0, 0, 0, 0, 0, 0, 0, 0, 0, 0, 0, 0, 0, 0, 0, 0, 0, 0, 0, 0, 0, 0, 0, 0, 0, 0, 0, 0, 0, 0, 0, 0, 0, 0, 0, 0, 0, 0, 0, 0, 0, 0, 0, 0, 0, 0, 0, 0, 0, 0, 0, 0, 0, 0, 0, 0, 0, 0, 0, 0, 0, 0, 0, 0, 0, 0, 0, 0, 0, 0, 0, 0, 0, 0, 0, 0, 0, 0, 0, 0, 0, 0, 0, 0, 0, 0, 0, 0, 0, 0, 0, 0, 0, 0, 0, 0, 0, 0, 0, 0, 0, 0, 0, 0, 0, 0, 0, 0, 0, 0, 0, 0, 0, 0, 0, 0, 0, 0, 0, 0, 0, 0, 0, 0, 0, 0, 0, 0, 0, 0, 0, 0, 0, 0, 0, 0, 0, 0, 0, 0, 0, 0, 0, 0, 0, 0, 0, 0, 0, 0, 0, 0, 0, 0, 0, 0, 0, 0, 0, 0, 0, 0, 0, 0, 0, 0, 0, 0, 0, 0, 0, 0, 1, 0, 0, 0, 0, 0, 0, 0, 0, 0, 0, 0, 0, 0, 0, 0, 0, 0, 0, 0, 0, 0, 0, 0, 0, 0, 0, 0, 0, 0, 1, 0, 0, 0, 0, 0, 0, 0, 0, 0, 0, 0, 0, 0, 0, 0, 0, 0, 0, 0, 0, 0, 0, 0, 0, 0, 0, 0, 0, 0, 0, 0, 0, 0, 0, 0, 0, 0, 0, 0, 0, 0, 0, 0, 0, 0, 0, 0, 0, 0, 0, 0, 0, 0, 0, 0, 0, 0, 0, 0, 0, 0, 0, 0, 0, 0, 0, 0, 0, 0, 0, 0, 0, 0, 0, 0, 0, 0, 0, 0, 0, 0, 0, 0, 0, 0, 0, 0, 0, 0, 0, 0, 0, 0, 0, 0, 0, 0, 0, 0, 0, 0, 0, 0, 0, 0, 0, 0, 0, 0, 0, 0, 0, 0, 0, 0, 0, 0, 0, 0, 0, 0, 0, 0, 0, 0, 0, 0, 0, 0, 0, 0, 0, 0, 0, 0, 0, 0, 0, 0, 0, 0, 0, 0, 0, 0, 0, 0, 0, 0, 0, 0, 0, 0, 0, 0, 0, 0, 0, 0, 0, 0, 0, 0, 0, 0, 0, 0, 0, 0, 0, 0, 0, 0, 0, 0, 0, 0, 0, 0, 0, 0, 0, 0, 0, 0, 0, 0, 0, 0, 0, 0, 0, 0, 0, 0, 0, 0, 0, 0, 0, 0, 0, 0, 0, 0, 0, 0, 0, 0, 0, 0, 0, 0, 0, 0, 0, 0, 0, 0, 0, 0, 0, 0, 0, 0, 0, 0, 0, 0, 0, 0, 0, 0, 0, 0, 0, 0, 0, 0, 0, 0, 0, 0, 0, 0, 0, 0, 0, 0, 0, 0, 0, 0, 0, 0, 0, 0, 0, 0, 0, 0, 0, 0, 0, 0, 0, 0, 0, 0, 0, 0, 0, 0, 0, 0, 0, 0, 0, 0, 0, 0, 0, 0, 0, 0, 0, 0, 0, 0, 0, 0, 0, 0, 0, 0, 0, 0, 0, 0, 0, 0, 0, 0, 0, 0, 0, 0, 0, 0, 0, 0, 0, 0, 0, 0, 0, 0, 0, 0, 0, 0, 0, 0, 0, 0, 0, 0, 0, 0, 0, 0, 0, 0, 0, 0, 0, 0, 0, 0, 0, 0, 0, 0, 0, 0, 0, 0, 0, 0, 0, 0, 0, 0, 0, 0, 0, 0, 0, 0, 0, 0, 0, 0, 0, 0, 0, 0, 0, 0, 0, 0, 0, 0, 0, 0, 0, 0, 0, 0, 1, 0, 0, 0, 0, 0, 0, 0, 0, 0, 0, 0, 0, 0, 0, 0, 0, 0, 0, 0, 0, 0, 0, 0, 0, 0, 0, 0, 0, 0, 0, 0, 0, 0, 0, 0, 0, 0, 0, 0, 0, 0, 0, 0, 0, 0, 0, 0, 0, 0, 0, 0, 0, 0, 0, 0, 0, 0, 0, 0, 0, 0, 0, 0, 0, 0, 0, 0, 0, 0, 0, 0, 0, 0, 0, 0, 0, 0, 0, 0, 0, 0, 0, 0, 0, 0, 0, 0, 0, 0, 0, 0, 0, 0, 0, 0, 0, 0, 0, 0, 0, 0, 0, 0, 0, 0, 0, 0, 0, 0, 0, 0, 0, 0, 0, 0, 0, 0, 0, 0, 0, 0, 0, 0, 0, 0, 0, 0, 0, 0, 0, 0, 0, 0, 0, 0, 0, 0, 0, 0, 0, 0, 0, 0, 0, 0, 0, 0, 0, 0, 0, 0, 0, 0, 0, 0, 0, 0, 0, 0, 0, 0, 0, 0, 0, 0, 0, 0, 0, 0, 0, 0, 0, 0, 0, 0, 0, 0, 0, 0, 0, 0, 0, 0, 0, 0, 0, 0, 0, 0, 0, 0, 0, 0, 0, 0, 0, 0, 0, 0, 0, 0, 0, 0, 0, 0, 0, 0, 0, 0, 0, 0, 0, 0, 0, 0, 0, 0, 0, 0, 0, 0, 0, 0, 0, 0, 0, 0, 0, 0, 0, 0, 0, 0, 0, 0, 0, 0, 0, 0, 0, 0, 0, 0, 0, 0, 0, 0, 0, 0, 0, 0, 0, 0, 1, 0, 0, 0, 0, 0, 0, 0, 0, 0, 0, 0, 0, 0, 0, 0, 0, 0, 0, 0, 0, 0, 0, 0, 0, 0, 0, 0, 0, 0, 0, 0, 0, 0, 0, 0, 0, 0, 0, 0, 0, 0, 0, 0, 0, 0, 0, 0, 0, 0, 0, 0, 0, 0, 0, 0, 0, 0, 0, 0, 0, 0, 0, 0, 0, 0, 0, 0, 0, 0, 0, 0, 0, 0, 0, 0, 0, 0, 0, 0, 0, 0, 0, 0, 0, 0, 0, 1, 0, 0, 0, 0, 0, 0, 0, 0, 0, 0, 0, 0, 0, 0, 0, 0, 0, 0, 0, 0, 0, 0, 0, 0, 0, 0, 0, 0, 0, 0, 0, 0, 0, 0, 0, 0, 0, 0, 0, 0, 0, 0, 0, 0, 0, 0, 0, 0, 0, 0, 0, 0, 0, 0, 0, 0, 0, 0, 0, 0, 0, 0, 0, 0, 0, 0, 0, 0, 0, 0, 0, 0, 0, 0, 0, 0, 0, 0, 0, 0, 0, 0, 0, 0, 0, 0, 0, 0, 0, 0, 0, 0, 0, 0, 0, 0, 0, 0, 0, 0, 0, 0, 0, 0, 0, 0, 0, 0, 0, 0, 0, 0, 0, 0, 0, 0, 0, 0, 0, 0, 0, 0, 0, 0, 0, 0, 0, 0, 0, 0, 0, 0, 0, 0, 0, 0, 0, 0, 0, 0, 0, 0, 0, 0, 0, 0, 0, 0, 0, 0, 0, 0, 0, 0, 0, 0, 0, 0, 0, 0, 0, 0, 0, 0, 0, 0, 0, 0, 0, 0, 0, 0, 0, 0, 0, 0, 0, 0, 0, 0, 0, 0, 0, 0, 0, 0, 0, 0, 0, 0, 0, 0, 0, 0, 0, 0, 0, 0, 0, 0, 0, 0, 0, 0, 0, 0, 0, 0, 0, 0, 0, 0, 0, 0, 0, 0, 0, 0, 0, 0, 0, 0, 0, 0, 0, 0, 0, 0, 0, 0, 0, 0, 0, 0, 0, 0, 0, 0, 0, 0, 0, 0, 0, 0, 0, 0, 0, 0, 0, 0, 0, 0, 1, 0, 0, 0, 0, 0, 0, 0, 0, 0, 0, 0, 0, 0, 0, 0, 0, 0, 0, 0, 0, 0, 0, 0, 0, 0, 0, 0, 0, 0, 0, 0, 0, 0, 0, 0, 0, 0, 0, 0, 0, 0, 0, 0, 0, 0, 0, 0, 0, 0, 0, 0, 0, 0, 0, 0, 1, 0, 0, 0, 0, 0, 0, 0, 0, 0, 0, 0, 0, 0, 0, 0, 0, 0, 0, 0, 0, 0, 0, 0, 0, 0, 0, 0, 0, 0, 0, 0, 0, 0, 0, 0, 0, 0, 0, 0, 0, 0, 0, 0, 0, 0, 0, 0, 0, 0, 0, 0, 0, 0, 0, 0, 0, 0, 0, 0, 0, 0, 0, 0, 0, 0, 0, 0, 0, 0, 0, 0, 0, 0, 0, 0, 0, 0, 0, 0, 0, 0, 0, 0, 0, 0, 0, 0, 0, 0, 0, 0, 0, 0, 0, 0, 0, 0, 0, 0, 0, 0, 0, 0, 0, 0, 0, 0, 0, 0, 0, 0, 0, 0, 0, 0, 0, 0, 0, 0, 0, 0, 0, 0, 0, 0, 0, 0, 0, 0, 0, 0, 0, 0, 0, 0, 0, 0, 0, 0, 0, 0, 0, 0, 0, 0, 0, 0, 0, 0, 0, 0, 0, 0, 0, 0, 0, 0, 0, 0, 0, 0, 0, 0, 0, 0, 0, 0, 0, 0, 0, 0, 0, 0, 0, 0, 0, 0, 0, 0, 0, 0, 0, 0, 0, 0, 0, 0, 0, 0, 0, 0, 0, 0, 0, 0, 0, 0, 0, 0, 0, 0, 0, 0, 0, 0, 0, 0, 0, 0, 0, 0, 0, 0, 0, 0, 0, 0, 0, 0, 0, 0, 0, 0, 0, 0, 0, 0, 0, 0, 0, 0, 0, 0, 0, 0, 0, 0, 0, 0, 0, 0, 0, 0, 0, 0, 0, 0, 0, 0, 0, 0, 0, 0, 0, 0, 0, 0, 0, 0, 0, 0, 0, 0, 0, 0, 0, 0, 0, 0, 0, 0, 0, 0, 0, 0, 0, 0, 0, 0, 0, 0, 0, 0, 0, 0, 0, 0, 0, 0, 0, 0, 0, 0, 0, 0, 0, 0, 0, 0, 0, 0, 0, 0, 0, 0, 0, 0, 0, 0, 0, 0, 0, 0, 0, 0, 0, 0, 0, 0, 0, 0, 0, 0, 0, 0, 0, 0, 0, 0, 0, 0, 0, 0, 0, 0, 0, 0, 0, 0, 0, 0, 0, 0, 0, 0, 0, 0, 0, 0, 0, 0, 0, 0, 0, 0, 0, 0, 0, 0, 0, 0, 0, 0, 0, 0, 0, 0, 0, 0, 0, 0, 0, 0, 0, 0, 0, 0, 0, 0, 0, 0, 0, 0, 0, 0, 0, 0, 0, 0, 0, 0, 0, 0, 0, 0, 0, 0, 0, 0, 0, 0, 0, 0, 0, 0, 0, 0, 0, 0, 0, 0, 0, 0, 0, 0, 0, 0, 0, 0, 0, 0, 0, 0, 0, 0, 0, 0, 0, 0, 0, 0, 0, 0, 0, 0, 0, 0, 0, 0, 0, 0, 0, 0, 0, 0, 0, 0, 0, 0, 0, 0, 0, 0, 0, 0, 0, 0, 0, 0, 0, 0, 0, 0, 0, 0, 0, 0, 0, 0, 0, 0, 0, 0, 0, 0, 0, 0, 0, 0, 0, 0, 0, 0, 0, 0, 0, 0, 0, 0, 0, 0, 0, 0, 0, 0, 0, 0, 0, 0, 0, 0, 0, 0, 0, 0, 0, 0, 0, 0, 0, 0, 0, 0, 0, 0, 0, 0, 0, 0, 0, 0, 0, 0, 0, 0, 0, 0, 0, 0, 0, 0, 0, 0, 0, 0, 0, 0, 0, 0, 0, 0, 0, 0, 0, 0, 0, 0, 0, 0, 0, 0, 0, 0, 0, 0, 0, 0, 0, 0, 0, 0, 0, 0, 0, 0, 0, 0, 0, 0, 0, 0, 0, 0, 0, 0, 0, 0, 0, 0, 0, 0, 0, 0, 0, 0, 0, 0, 0, 0, 0, 0, 0, 0, 0, 0, 0, 0, 0, 0, 0, 0, 0, 0, 0, 0, 0, 0, 0, 0, 0, 0, 0, 0, 0, 0, 0, 0, 0, 0, 0, 0, 0, 0, 0, 0, 0, 0, 0, 0, 0, 0, 0, 0, 0, 0, 0, 0, 0, 0, 0, 0, 0, 0, 0, 0, 0, 0, 0, 0, 0, 0, 0, 0, 0, 0, 0, 0, 0, 0, 0, 0, 0, 0, 0, 0, 0, 0, 0, 0, 0, 0, 0, 0, 0, 0, 0, 0, 0, 0, 0, 0, 1, 0, 0, 0, 0, 0, 0, 0, 0, 0, 0, 0, 0, 0, 0, 0, 0, 0, 0, 0, 0, 0, 0, 0, 0, 0, 0, 0, 0, 0, 0, 0, 0, 0, 0, 0, 0, 0, 0, 0, 0, 0, 0, 0, 0, 0, 0, 0, 0, 0, 0, 0, 0, 0, 0, 0, 0, 0, 0, 0, 0, 0, 0, 0, 0, 0, 0, 0, 0, 0, 0, 0, 0, 0, 0, 1, 0, 0, 0, 0, 0, 0, 0, 0, 0, 0, 0, 0, 0, 0, 0, 0, 0, 0, 0, 0, 1, 0, 0, 1, 0, 0, 0, 0, 0, 0, 0, 0, 0, 0, 0, 0, 0, 0, 0, 0, 0, 0, 0, 0, 0, 0, 0, 0, 0, 0, 0, 0, 0, 0, 0, 0, 0, 0, 0, 0, 0, 0, 0, 0, 0, 0, 0, 0, 0, 0, 0, 0, 0, 0, 0, 0, 0, 0, 0, 0, 0, 0, 0, 0, 0, 0, 0, 0, 0, 0, 0, 0, 0, 0, 0, 0, 0, 0, 0, 0, 0, 0, 0, 0, 0, 0, 0, 0, 0, 0, 0, 0, 0, 0, 0, 0, 0, 0, 0, 0, 0, 0, 0, 0, 0, 0, 0, 0, 0, 0, 0, 0, 0, 0, 0, 0, 0, 0, 0, 0, 0, 0, 0, 0, 0, 0, 0, 0, 0, 0, 0, 0, 0, 0, 0, 0, 0, 0, 0, 0, 0, 0, 0, 0, 0, 0, 0, 0, 0, 0, 0, 0, 0, 0, 0, 0, 0, 0, 0, 0, 0, 0, 0, 0, 0, 0, 0, 0, 0, 0, 0, 0, 0, 0, 0, 0, 0, 0, 0, 0, 0, 0, 0, 0, 0, 0, 0, 0, 0, 0, 0, 0, 0, 0, 0, 0, 0, 0, 0, 0, 0, 0, 0, 0, 0, 0, 0, 0, 0, 0, 0, 0, 0, 0, 0, 0, 0, 0, 0, 0, 0, 0, 0, 0, 0, 0, 0, 0, 0, 0, 0, 0, 0, 0, 0, 0, 0, 0, 0, 0, 0, 0, 0, 0, 0, 0, 0, 0, 0, 0, 0, 0, 0, 0, 0, 0, 0, 0, 0, 0, 0, 0, 0, 0, 0, 0, 0, 0, 0, 0, 0, 0, 0, 0, 0, 0, 0, 0, 0, 0, 0, 0, 0, 0, 0, 0, 0, 0, 0, 0, 0, 0, 0, 0, 0, 0, 0, 0, 0, 0, 0, 0, 0, 0, 0, 0, 0, 0, 0, 0, 0, 0, 0, 0, 0, 0, 0, 0, 0, 0, 0, 0, 0, 0, 0, 0, 0, 0, 0, 0, 0, 0, 0, 0, 0, 0, 0, 0, 0, 0, 0, 0, 0, 0, 0, 0, 0, 0, 0, 0, 0, 0, 0, 0, 0, 0, 0, 0, 0, 0, 0, 0, 0, 0, 0, 0, 0, 0, 0, 0, 0, 0, 0, 0, 0, 0, 0, 0, 0, 0, 0, 0, 0, 0, 0, 0, 0, 0, 0, 0, 0, 0, 0, 0, 0, 0, 0, 0, 0, 0, 0, 0, 0, 0, 0, 0, 0, 0, 0, 0, 0, 0, 0, 0, 0, 0, 0, 0, 0, 0, 0, 0, 0, 0, 0, 0, 0, 0, 0, 0, 0, 0, 0, 0, 0, 0, 0, 0, 0, 0, 0, 0, 0, 0, 0, 0, 0, 0, 0, 0, 0, 0, 0, 0, 0, 0, 0, 0, 0, 0, 0, 0, 0, 0, 0, 0, 0, 0, 0, 0, 1, 0, 0, 0, 0, 0, 0, 0, 0, 0, 0, 0, 0, 0, 0, 0, 0, 0, 0, 0, 0, 0, 0, 0, 0, 0, 0, 0, 0, 0, 0, 0, 0, 0, 0, 0, 0, 0, 0, 0, 0, 0, 0, 0, 0, 0, 0, 0, 0, 0, 0, 0, 0, 0, 0, 0, 0, 0, 0, 0, 0, 0, 0, 0, 0, 0, 0, 0, 0, 0, 0, 0, 0, 0, 0, 0, 0, 0, 0, 0, 0, 0, 0, 0, 0, 0, 0, 0, 0, 0, 0, 0, 0, 0, 0, 0, 0, 0, 0, 0, 0, 0, 0, 0, 0, 0, 0, 0, 0, 0, 0, 0, 0, 0, 0, 0, 0, 0, 0, 0, 0, 0, 0, 0, 0, 0, 0, 0, 0, 0, 0, 0, 0, 0, 0, 0, 0, 0, 0, 0, 0, 0, 0, 0, 0, 0, 0, 0, 0, 0, 0, 0, 0, 0, 0, 0, 0, 0, 0, 0, 0, 0, 0, 0, 0, 0, 0, 0, 0, 0, 0, 0, 0, 0, 0, 0, 0, 0, 0, 0, 0, 0, 0, 0, 0, 0, 0, 0, 0, 0, 0, 0, 0, 0, 0, 0, 0, 0, 0, 0, 0, 0, 0, 0, 0, 0, 0, 0, 0, 0, 0, 0, 0, 0, 0, 0, 0, 0, 0, 0, 0, 0, 0, 0, 0, 0, 0, 0, 0, 0, 0, 0, 0, 0, 0, 0, 0, 0, 0, 0, 0, 0, 0, 0, 0, 0, 0, 0, 0, 0, 0, 0, 0, 0, 0, 0, 0, 0, 0, 0, 0, 0, 0, 0, 0, 0, 0, 0, 0, 0, 0, 0, 0, 0, 0, 0, 0, 0, 0, 0, 0, 0, 0, 0, 0, 0, 0, 0, 0, 0, 0, 0, 0, 0, 0, 0, 0, 0, 0, 0, 0, 0, 0, 0, 0, 0, 0, 0, 0, 0, 0, 0, 0, 0, 0, 0, 0, 0, 0, 0, 0, 0, 0, 0, 0, 0, 0, 0, 0, 0, 0, 0, 0, 0, 0, 0, 0, 0, 0, 0, 0, 0, 0, 0, 0, 0, 0, 0, 0, 0, 0, 0, 0, 0, 0, 0, 0, 0, 0, 0, 0, 0, 0, 0, 0, 0, 0, 0, 0, 0, 0, 0, 0, 0, 0, 0, 0, 0, 0, 0, 0, 0, 0, 0, 0, 0, 0, 0, 0, 0, 0, 0, 0, 0, 0, 0, 0, 0, 0, 0, 0, 0, 0, 0, 0, 0, 0, 0, 0, 0, 0, 0, 0, 0, 0, 0, 0, 0, 0, 0, 0, 0, 0, 0, 0, 0, 0, 0, 0, 0, 0, 0, 0, 0, 0, 0, 0, 0, 0, 0, 0, 0, 0, 0, 0, 0, 0, 0, 0, 0, 0, 0, 0, 0, 0, 0, 0, 0, 0, 0, 0, 0, 0, 0, 0, 0, 0, 0, 0, 0, 0, 0, 0, 0, 0, 0, 0, 0, 0, 0, 0, 0, 0, 0, 0, 0, 0, 0, 0, 0, 0, 0, 0, 0, 0, 0, 0, 0, 0, 0, 0, 0, 0, 0, 0, 0, 0, 0, 0, 0, 0, 0, 0, 1, 0, 0, 0, 0, 0, 0, 0, 0, 0, 0, 0, 0, 0, 0, 0, 0, 0, 0, 0, 0, 0, 0, 0, 0, 0, 0, 0, 0, 0, 0, 0, 0, 0, 0, 0, 2, 0, 0, 0, 0, 0, 0, 0, 0, 0, 0, 0, 0, 0, 0, 0, 0, 0, 0, 0, 0, 0, 0, 0, 0, 0, 0, 0, 0, 0, 0, 0, 0, 0, 0, 0, 0, 0, 0, 0, 0, 1, 0, 0, 0, 0, 0, 0, 0, 0, 0, 0, 0, 0, 0, 0, 0, 0, 0, 0, 0, 0, 0, 0, 0, 0, 0, 0, 0, 0, 0, 0, 0, 0, 0, 0, 0, 0, 0, 0, 0, 0, 0, 0, 0, 0, 0, 0, 0, 0, 0, 0, 0, 0, 0, 0, 0, 0, 0, 0, 0, 0, 0, 0, 0, 0, 0, 0, 0, 0, 0, 0, 0, 0, 0, 0, 0, 0, 0, 0, 0, 0, 0, 0, 0, 0, 0, 0, 0, 0, 0, 0, 0, 0, 0, 0, 0, 0, 0, 0, 0, 0, 0, 0, 0, 0, 0, 0, 0, 0, 0, 0, 0, 0, 0, 0, 0, 0, 0, 0, 0, 0, 0, 0, 0, 0, 0, 0, 0, 0, 0, 0, 0, 0, 0, 0, 0, 0, 0, 0, 0, 0, 0, 0, 0, 0, 0, 0, 0, 0, 0, 0, 0, 0, 0, 0, 0, 0, 0, 0, 0, 0, 0, 0, 0, 0, 0, 0, 0, 0, 0, 0, 0, 0, 0, 0, 0, 0, 0, 0, 0, 0, 0, 0, 0, 0, 0, 0, 0, 0, 0, 0, 0, 0, 0, 0, 0, 0, 0, 0, 0, 0, 0, 0, 0, 0, 0, 0, 0, 0, 0, 0, 0, 0, 0, 0, 0, 0, 0, 0, 0, 0, 0, 0, 0, 0, 0, 0, 0, 0, 0, 0, 0, 0, 0, 0, 0, 0, 0, 0, 0, 0, 0, 0, 0, 0, 0, 0, 0, 0, 0, 0, 0, 0, 0, 0, 0, 0, 0, 0, 0, 0, 0, 0, 0, 0, 0, 0, 0, 0, 0, 0, 0, 0, 0, 0, 0, 0, 0, 0, 0, 0, 0, 0, 0, 0, 0, 0, 0, 0, 0, 0, 0, 0, 0, 0, 0, 0, 0, 0, 0, 0, 0, 0, 0, 0, 0, 0, 0, 0, 0, 0, 0, 0, 0, 0, 0, 0, 0, 0, 0, 0, 0, 0, 0, 0, 0, 0, 0, 0, 0, 0, 0, 0, 0, 0, 0, 0, 0, 0, 0, 0, 0, 0, 0, 0, 0, 0, 0, 0, 0, 0, 0, 0, 0, 0, 0, 0, 0, 0, 0, 0, 0, 0, 0, 0, 0, 0, 0, 0, 0, 0, 0, 0, 0, 0, 0, 0, 0, 0, 0, 0, 0, 0, 0, 0, 0, 0, 0, 0, 0, 0, 0, 0, 0, 0, 0, 0, 0, 0, 0, 0, 0, 0, 0, 0, 0, 0, 0, 0, 0, 0, 0, 0, 0, 0, 0, 0, 0, 0, 0, 0, 0, 0, 0, 0, 0, 0, 0, 0, 0, 0, 0, 0, 0, 0, 0, 0, 0, 0, 0, 0, 0, 0, 0, 0, 0, 0, 0, 0, 0, 0, 0, 0, 0, 0, 0, 0, 0, 0, 0, 0, 0, 0, 0, 0, 0, 0, 0, 0, 0, 0, 0, 0, 0, 0, 0, 0, 0, 0, 0, 0, 0, 0, 0, 0, 0, 0, 0, 0, 0, 0, 0, 0, 0, 0, 0, 0, 0, 1, 0, 0, 0, 0, 0, 0, 0, 0, 0, 0, 0, 0, 0, 0, 0, 0, 0, 0, 0, 0, 0, 0, 0, 0, 0, 0, 0, 0, 0, 0, 0, 0, 0, 0, 0, 0, 0, 0, 0, 0, 0, 0, 0, 0, 0, 0, 0, 0, 0, 0, 0, 0, 0, 0, 0, 0, 0, 0, 0, 0, 0, 0, 0, 0, 0, 0, 0, 0, 0, 0, 0, 0, 0, 0, 0, 0, 0, 0, 0, 0, 0, 0, 0, 0, 0, 0, 0, 0, 0, 0, 0, 0, 0, 0, 0, 0, 0, 0, 0, 0, 0, 0, 0, 0, 0, 0, 0, 0, 0, 0, 2, 0, 0, 0, 0, 0, 0, 0, 0, 0, 0, 0, 0, 0, 0, 0, 0, 0, 0, 0, 0, 0, 0, 0, 0, 0, 0, 0, 0, 0, 0, 0, 0, 0, 0, 0, 0, 0, 0, 0, 0, 0, 0, 0, 0, 0, 0, 0, 0, 0, 0, 0, 0, 0, 0, 0, 0, 0, 0, 0, 0, 0, 0, 0, 0, 0, 0, 0, 0, 0, 0, 0, 0, 0, 0, 0, 0, 0, 0, 0, 0, 0, 0, 0, 0, 0, 0, 0, 0, 0, 0, 0, 0, 0, 0, 0, 0, 0, 0, 0, 0, 0, 0, 0, 0, 0, 0, 0, 0, 0, 0, 0, 0, 0, 0, 0, 0, 0, 0, 0, 0, 0, 0, 0, 0, 0, 0, 0, 0, 0, 0, 0, 0, 0, 0, 0, 0, 0, 0, 0, 0, 0, 0, 0, 0, 0, 0, 0, 0, 0, 0, 0, 0, 0, 0, 0, 0, 0, 0, 0, 0, 0, 0, 0, 0, 0, 0, 0, 0, 0, 0, 0, 0, 0, 0, 0, 0, 0, 0, 0, 0, 0, 0, 0, 0, 0, 0, 0, 0, 0, 0, 0, 0, 0, 0, 0, 0, 0, 0, 0, 0, 0, 0, 0, 0, 0, 0, 0, 0, 0, 0, 0, 0, 0, 0, 0, 0, 0, 0, 0, 0, 0, 0, 0, 0, 0, 0, 0, 0, 0, 0, 0, 0, 0, 0, 0, 0, 0, 0, 0, 0, 0, 0, 0, 0, 0, 0, 0, 0, 0, 0, 0, 0, 0, 0, 0, 0, 0, 0, 0, 0, 0, 0, 0, 0, 0, 0, 0, 0, 0, 0, 0, 0, 0, 0, 0, 0, 0, 0, 0, 0, 0, 0, 0, 0, 0, 0, 0, 0, 0, 0, 0, 0, 0, 0, 0, 0, 0, 0, 0, 0, 0, 0, 0, 0, 0, 0, 0, 0, 0, 0, 0, 0, 0, 0, 0, 0, 0, 0, 0, 0, 0, 0, 0, 0, 0, 0, 0, 0, 0, 0, 0, 0, 0, 0, 0, 0, 0, 0, 0, 0, 0, 0, 0, 0, 0, 0, 0, 0, 0, 0, 0, 0, 0, 0, 0, 0, 0, 0, 0, 0, 0, 0, 0, 0, 0, 0, 0, 0, 0, 0, 0, 0, 0, 0, 0, 0, 0, 0, 0, 0, 0, 0, 0, 0, 0, 0, 0, 0, 0, 0, 0, 0, 0, 0, 0, 0, 0, 0, 0, 0, 0, 0, 0, 0, 0, 0, 0, 0, 0, 0, 0, 0, 0, 0, 0, 0, 0, 0, 0, 0, 0, 0, 0, 0, 0, 0, 0, 0, 0, 0, 0, 0, 0, 0, 0, 0, 0, 0, 0, 0, 0, 0, 0, 0, 0, 0, 0, 0, 0, 0, 0, 0, 0, 0, 0, 0, 0, 0, 0, 0, 0, 0, 0, 0, 0, 0, 0, 0, 0, 0, 0, 0, 0, 0, 0, 0, 0, 0, 0, 0, 0, 0, 0, 0, 0, 0, 0, 0, 0, 0, 0, 0, 0, 0, 0, 0, 0, 0, 0, 0, 0, 0, 0, 0, 0, 0, 0, 0, 0, 0, 0, 0, 0, 0, 0, 0, 0, 0, 0, 0, 0, 0, 0, 0, 0, 0, 0, 0, 0, 0, 0, 0, 0, 0, 0, 0, 0, 0, 0, 0, 0, 0, 0, 0, 0, 0, 0, 0, 0, 0, 0, 0, 0, 0, 0, 0, 0, 0, 0, 0, 0, 0, 0, 0, 0, 0, 0, 0, 0, 0, 0, 0, 0, 0, 0, 0, 0, 0, 0, 0, 0, 0, 0, 0, 0, 0, 0, 0, 0, 0, 0, 0, 0, 0, 0, 0, 0, 0, 0, 0, 0, 0, 0, 0, 0, 0, 0, 0, 0, 0, 0, 0, 0, 0, 0, 0, 0, 0, 0, 0, 0, 0, 0, 0, 0, 0, 0, 0, 0, 0, 0, 0, 0, 0, 0, 0, 0, 0, 0, 0, 0, 0, 0, 0, 0, 0, 0, 0, 0, 0, 0, 0, 0, 0, 0, 0, 0, 0, 0, 0, 0, 0, 0, 0, 0, 0, 0, 0, 0, 0, 0, 0, 0, 0, 0, 0, 0, 0, 0, 0, 0, 0, 0, 0, 0, 0, 0, 0, 0, 0, 1, 0, 0, 0, 0, 0, 0, 0, 0, 0, 0, 0, 0, 0, 0, 0, 0, 0, 0, 0, 0, 0, 0, 0, 0, 0, 0, 0, 0, 0, 0, 0, 0, 0, 0, 0, 0, 0, 0, 0, 0, 0, 0, 0, 0, 0, 0, 0, 0, 0, 0, 0, 0, 0, 0, 0, 0, 0, 0, 0, 0, 0, 0, 0, 0, 0, 0, 0, 0, 0, 0, 0, 0, 0, 0, 0, 0, 0, 0, 0, 0, 0, 0, 0, 0, 0, 0, 0, 0, 0, 0, 0, 0, 0, 0, 0, 0, 0, 0, 0, 0, 0, 0, 0, 0, 0, 0, 0, 1, 0, 0, 0, 0, 0, 0, 0, 0, 0, 0, 0, 0, 0, 0, 0, 0, 0, 0, 0, 0, 0, 0, 0, 0, 0, 0, 0, 0, 0, 0, 0, 0, 0, 0, 0, 0, 0, 0, 0, 0, 0, 0, 0, 0, 0, 0, 0, 0, 0, 0, 0, 0, 0, 0, 0, 0, 0, 0, 0, 0, 0, 0, 0, 0, 0, 0, 0, 0, 0, 0, 0, 0, 0, 0, 0, 0, 0, 0, 0, 0, 0, 0, 0, 0, 0, 0, 0, 0, 0, 0, 0, 0, 0, 0, 0, 0, 0, 0, 0, 0, 0, 0, 0, 0, 0, 0, 0, 0, 0, 0, 0, 0, 0, 0, 0, 0, 0, 0, 0, 0, 0, 0, 0, 0, 0, 0, 0, 0, 0, 0, 0, 0, 0, 0, 0, 0, 0, 0, 0, 0, 0, 0, 0, 0, 0, 0, 0, 0, 0, 0, 0, 0, 0, 0, 0, 0, 0, 0, 0, 0, 0, 0, 0, 0, 0, 0, 0, 0, 0, 0, 0, 0, 0, 0, 0, 0, 0, 0, 0, 0, 0, 0, 0, 0, 0, 0, 0, 0, 0, 0, 0, 0, 0, 0, 0, 0, 0, 0, 0, 0, 0, 0, 0, 0, 0, 0, 0, 0, 0, 0, 0, 0, 0, 0, 0, 0, 0, 0, 0, 0, 0, 0, 0, 0, 0, 0, 0, 0, 0, 0, 0, 0, 0, 0, 0, 0, 0, 0, 0, 0, 0, 0, 0, 0, 0, 0, 0, 0, 0, 0, 0, 0, 0, 0, 0, 0, 0, 0, 0, 0, 0, 0, 0, 0, 0, 0, 0, 0, 0, 0, 0, 0, 0, 0, 0, 0, 0, 0, 0, 0, 0, 0, 0, 0, 0, 0, 0, 0, 0, 0, 0, 0, 0, 0, 0, 0, 0, 0, 0, 0, 0, 0, 0, 0, 0, 0, 0, 0, 0, 0, 0, 0, 0, 0, 0, 0, 0, 0, 0, 0, 0, 0, 0, 0, 0, 0, 0, 0, 0, 0, 0, 0, 0, 0, 0, 0, 0, 0, 0, 0, 0, 0, 0, 0, 0, 0, 0, 0, 0, 0, 0, 0, 0, 0, 0, 0, 0, 0, 0, 0, 0, 0, 0, 0, 0, 0, 0, 0, 0, 0, 0, 0, 0, 0, 0, 0, 0, 0, 0, 0, 0, 0, 0, 0, 0, 0, 0, 0, 0, 0, 0, 0, 0, 0, 0, 0, 0, 0, 0, 0, 0, 0, 0, 0, 0, 0, 0, 0, 0, 0, 0, 0, 0, 0, 0, 0, 0, 0, 0, 0, 0, 0, 0, 0, 0, 0, 0, 0, 0, 0, 0, 0, 0, 0, 0, 0, 0, 0, 0, 0, 0, 0, 0, 0, 0, 0, 0, 0, 0, 0, 0, 0, 0, 0, 0, 0, 0, 0, 0, 0, 0, 0, 0, 2, 0, 1, 0]\n"
     ]
    }
   ],
   "source": [
    "test_bow = bow_encoding(test_words, vocabulary)\n",
    "print(test_bow)"
   ]
  },
  {
   "cell_type": "code",
   "execution_count": 43,
   "metadata": {},
   "outputs": [
    {
     "data": {
      "text/plain": [
       "5000"
      ]
     },
     "execution_count": 43,
     "metadata": {},
     "output_type": "execute_result"
    }
   ],
   "source": [
    "len(test_bow)"
   ]
  },
  {
   "cell_type": "markdown",
   "metadata": {},
   "source": [
    "So now we know how to construct a bag of words encoding of a user provided review, how to we send it to our endpoint? First, we need to start the endpoint back up."
   ]
  },
  {
   "cell_type": "code",
   "execution_count": 44,
   "metadata": {},
   "outputs": [
    {
     "name": "stderr",
     "output_type": "stream",
     "text": [
      "WARNING:sagemaker:Using already existing model: xgboost-2020-05-03-22-51-18-167\n"
     ]
    },
    {
     "name": "stdout",
     "output_type": "stream",
     "text": [
      "-------------!"
     ]
    }
   ],
   "source": [
    "xgb_predictor = xgb.deploy(initial_instance_count = 1, instance_type = 'ml.m4.xlarge')"
   ]
  },
  {
   "cell_type": "markdown",
   "metadata": {},
   "source": [
    "At this point we could just do the same thing that we did earlier when we tested our deployed model and send `test_bow` to our endpoint using the `xgb_predictor` object. However, when we eventually construct our Lambda function we won't have access to this object, so how do we call a SageMaker endpoint?\n",
    "\n",
    "It turns out that Python functions that are used in Lambda have access to another Amazon library called `boto3`. This library provides an API for working with Amazon services, including SageMaker. To start with, we need to get a handle to the SageMaker runtime."
   ]
  },
  {
   "cell_type": "code",
   "execution_count": 45,
   "metadata": {},
   "outputs": [],
   "source": [
    "import boto3\n",
    "\n",
    "runtime = boto3.Session().client('sagemaker-runtime')"
   ]
  },
  {
   "cell_type": "markdown",
   "metadata": {},
   "source": [
    "And now that we have access to the SageMaker runtime, we can ask it to make use of (invoke) an endpoint that has already been created. However, we need to provide SageMaker with the name of the deployed endpoint. To find this out we can print it out using the `xgb_predictor` object."
   ]
  },
  {
   "cell_type": "code",
   "execution_count": 46,
   "metadata": {},
   "outputs": [
    {
     "data": {
      "text/plain": [
       "'xgboost-2020-05-03-22-51-18-167'"
      ]
     },
     "execution_count": 46,
     "metadata": {},
     "output_type": "execute_result"
    }
   ],
   "source": [
    "xgb_predictor.endpoint"
   ]
  },
  {
   "cell_type": "markdown",
   "metadata": {},
   "source": [
    "Using the SageMaker runtime and the name of our endpoint, we can invoke the endpoint and send it the `test_bow` data."
   ]
  },
  {
   "cell_type": "code",
   "execution_count": 47,
   "metadata": {
    "scrolled": true
   },
   "outputs": [
    {
     "ename": "ParamValidationError",
     "evalue": "Parameter validation failed:\nInvalid type for parameter Body, value: [0, 0, 0, 0, 0, 0, 0, 0, 0, 0, 0, 0, 0, 0, 0, 0, 0, 0, 0, 0, 0, 0, 0, 0, 0, 0, 0, 0, 0, 0, 0, 0, 0, 0, 0, 0, 0, 0, 0, 0, 0, 0, 0, 0, 0, 0, 0, 0, 0, 0, 0, 0, 0, 0, 0, 0, 0, 0, 0, 0, 0, 0, 0, 0, 0, 0, 0, 0, 0, 0, 0, 0, 0, 0, 0, 0, 0, 0, 0, 0, 0, 0, 0, 0, 0, 0, 0, 0, 0, 0, 0, 0, 0, 0, 0, 0, 0, 0, 0, 0, 0, 0, 0, 0, 0, 0, 0, 0, 0, 0, 0, 0, 0, 0, 0, 0, 0, 0, 0, 0, 0, 0, 0, 0, 0, 0, 0, 0, 0, 0, 0, 0, 0, 0, 0, 0, 0, 0, 0, 0, 0, 0, 0, 0, 0, 0, 0, 0, 0, 0, 0, 0, 0, 0, 0, 0, 0, 0, 0, 0, 0, 0, 0, 0, 0, 0, 0, 0, 0, 0, 0, 0, 0, 0, 0, 0, 0, 0, 0, 0, 0, 0, 0, 0, 0, 0, 0, 0, 0, 0, 0, 0, 0, 0, 0, 0, 0, 0, 0, 0, 0, 0, 0, 0, 0, 0, 0, 0, 0, 0, 0, 0, 0, 0, 0, 0, 0, 0, 0, 0, 0, 0, 0, 0, 0, 0, 1, 0, 0, 0, 0, 0, 0, 0, 0, 0, 0, 0, 0, 0, 0, 0, 0, 0, 0, 0, 0, 0, 0, 0, 0, 0, 0, 0, 0, 0, 1, 0, 0, 0, 0, 0, 0, 0, 0, 0, 0, 0, 0, 0, 0, 0, 0, 0, 0, 0, 0, 0, 0, 0, 0, 0, 0, 0, 0, 0, 0, 0, 0, 0, 0, 0, 0, 0, 0, 0, 0, 0, 0, 0, 0, 0, 0, 0, 0, 0, 0, 0, 0, 0, 0, 0, 0, 0, 0, 0, 0, 0, 0, 0, 0, 0, 0, 0, 0, 0, 0, 0, 0, 0, 0, 0, 0, 0, 0, 0, 0, 0, 0, 0, 0, 0, 0, 0, 0, 0, 0, 0, 0, 0, 0, 0, 0, 0, 0, 0, 0, 0, 0, 0, 0, 0, 0, 0, 0, 0, 0, 0, 0, 0, 0, 0, 0, 0, 0, 0, 0, 0, 0, 0, 0, 0, 0, 0, 0, 0, 0, 0, 0, 0, 0, 0, 0, 0, 0, 0, 0, 0, 0, 0, 0, 0, 0, 0, 0, 0, 0, 0, 0, 0, 0, 0, 0, 0, 0, 0, 0, 0, 0, 0, 0, 0, 0, 0, 0, 0, 0, 0, 0, 0, 0, 0, 0, 0, 0, 0, 0, 0, 0, 0, 0, 0, 0, 0, 0, 0, 0, 0, 0, 0, 0, 0, 0, 0, 0, 0, 0, 0, 0, 0, 0, 0, 0, 0, 0, 0, 0, 0, 0, 0, 0, 0, 0, 0, 0, 0, 0, 0, 0, 0, 0, 0, 0, 0, 0, 0, 0, 0, 0, 0, 0, 0, 0, 0, 0, 0, 0, 0, 0, 0, 0, 0, 0, 0, 0, 0, 0, 0, 0, 0, 0, 0, 0, 0, 0, 0, 0, 0, 0, 0, 0, 0, 0, 0, 0, 0, 0, 0, 0, 0, 0, 0, 0, 0, 0, 0, 0, 0, 0, 0, 0, 0, 0, 0, 0, 0, 0, 0, 0, 0, 0, 0, 0, 0, 0, 0, 0, 0, 0, 0, 0, 0, 0, 0, 0, 0, 0, 0, 0, 0, 0, 0, 0, 0, 0, 0, 0, 0, 0, 0, 0, 0, 0, 0, 0, 0, 0, 0, 0, 0, 0, 0, 0, 0, 0, 0, 0, 0, 0, 0, 0, 0, 0, 0, 0, 0, 0, 0, 0, 0, 0, 0, 0, 0, 0, 0, 0, 0, 0, 0, 0, 0, 0, 0, 0, 0, 0, 0, 0, 0, 0, 0, 0, 0, 0, 0, 1, 0, 0, 0, 0, 0, 0, 0, 0, 0, 0, 0, 0, 0, 0, 0, 0, 0, 0, 0, 0, 0, 0, 0, 0, 0, 0, 0, 0, 0, 0, 0, 0, 0, 0, 0, 0, 0, 0, 0, 0, 0, 0, 0, 0, 0, 0, 0, 0, 0, 0, 0, 0, 0, 0, 0, 0, 0, 0, 0, 0, 0, 0, 0, 0, 0, 0, 0, 0, 0, 0, 0, 0, 0, 0, 0, 0, 0, 0, 0, 0, 0, 0, 0, 0, 0, 0, 0, 0, 0, 0, 0, 0, 0, 0, 0, 0, 0, 0, 0, 0, 0, 0, 0, 0, 0, 0, 0, 0, 0, 0, 0, 0, 0, 0, 0, 0, 0, 0, 0, 0, 0, 0, 0, 0, 0, 0, 0, 0, 0, 0, 0, 0, 0, 0, 0, 0, 0, 0, 0, 0, 0, 0, 0, 0, 0, 0, 0, 0, 0, 0, 0, 0, 0, 0, 0, 0, 0, 0, 0, 0, 0, 0, 0, 0, 0, 0, 0, 0, 0, 0, 0, 0, 0, 0, 0, 0, 0, 0, 0, 0, 0, 0, 0, 0, 0, 0, 0, 0, 0, 0, 0, 0, 0, 0, 0, 0, 0, 0, 0, 0, 0, 0, 0, 0, 0, 0, 0, 0, 0, 0, 0, 0, 0, 0, 0, 0, 0, 0, 0, 0, 0, 0, 0, 0, 0, 0, 0, 0, 0, 0, 0, 0, 0, 0, 0, 0, 0, 0, 0, 0, 0, 0, 0, 0, 0, 0, 0, 0, 0, 0, 0, 0, 0, 1, 0, 0, 0, 0, 0, 0, 0, 0, 0, 0, 0, 0, 0, 0, 0, 0, 0, 0, 0, 0, 0, 0, 0, 0, 0, 0, 0, 0, 0, 0, 0, 0, 0, 0, 0, 0, 0, 0, 0, 0, 0, 0, 0, 0, 0, 0, 0, 0, 0, 0, 0, 0, 0, 0, 0, 0, 0, 0, 0, 0, 0, 0, 0, 0, 0, 0, 0, 0, 0, 0, 0, 0, 0, 0, 0, 0, 0, 0, 0, 0, 0, 0, 0, 0, 0, 0, 1, 0, 0, 0, 0, 0, 0, 0, 0, 0, 0, 0, 0, 0, 0, 0, 0, 0, 0, 0, 0, 0, 0, 0, 0, 0, 0, 0, 0, 0, 0, 0, 0, 0, 0, 0, 0, 0, 0, 0, 0, 0, 0, 0, 0, 0, 0, 0, 0, 0, 0, 0, 0, 0, 0, 0, 0, 0, 0, 0, 0, 0, 0, 0, 0, 0, 0, 0, 0, 0, 0, 0, 0, 0, 0, 0, 0, 0, 0, 0, 0, 0, 0, 0, 0, 0, 0, 0, 0, 0, 0, 0, 0, 0, 0, 0, 0, 0, 0, 0, 0, 0, 0, 0, 0, 0, 0, 0, 0, 0, 0, 0, 0, 0, 0, 0, 0, 0, 0, 0, 0, 0, 0, 0, 0, 0, 0, 0, 0, 0, 0, 0, 0, 0, 0, 0, 0, 0, 0, 0, 0, 0, 0, 0, 0, 0, 0, 0, 0, 0, 0, 0, 0, 0, 0, 0, 0, 0, 0, 0, 0, 0, 0, 0, 0, 0, 0, 0, 0, 0, 0, 0, 0, 0, 0, 0, 0, 0, 0, 0, 0, 0, 0, 0, 0, 0, 0, 0, 0, 0, 0, 0, 0, 0, 0, 0, 0, 0, 0, 0, 0, 0, 0, 0, 0, 0, 0, 0, 0, 0, 0, 0, 0, 0, 0, 0, 0, 0, 0, 0, 0, 0, 0, 0, 0, 0, 0, 0, 0, 0, 0, 0, 0, 0, 0, 0, 0, 0, 0, 0, 0, 0, 0, 0, 0, 0, 0, 0, 0, 0, 0, 0, 0, 1, 0, 0, 0, 0, 0, 0, 0, 0, 0, 0, 0, 0, 0, 0, 0, 0, 0, 0, 0, 0, 0, 0, 0, 0, 0, 0, 0, 0, 0, 0, 0, 0, 0, 0, 0, 0, 0, 0, 0, 0, 0, 0, 0, 0, 0, 0, 0, 0, 0, 0, 0, 0, 0, 0, 0, 1, 0, 0, 0, 0, 0, 0, 0, 0, 0, 0, 0, 0, 0, 0, 0, 0, 0, 0, 0, 0, 0, 0, 0, 0, 0, 0, 0, 0, 0, 0, 0, 0, 0, 0, 0, 0, 0, 0, 0, 0, 0, 0, 0, 0, 0, 0, 0, 0, 0, 0, 0, 0, 0, 0, 0, 0, 0, 0, 0, 0, 0, 0, 0, 0, 0, 0, 0, 0, 0, 0, 0, 0, 0, 0, 0, 0, 0, 0, 0, 0, 0, 0, 0, 0, 0, 0, 0, 0, 0, 0, 0, 0, 0, 0, 0, 0, 0, 0, 0, 0, 0, 0, 0, 0, 0, 0, 0, 0, 0, 0, 0, 0, 0, 0, 0, 0, 0, 0, 0, 0, 0, 0, 0, 0, 0, 0, 0, 0, 0, 0, 0, 0, 0, 0, 0, 0, 0, 0, 0, 0, 0, 0, 0, 0, 0, 0, 0, 0, 0, 0, 0, 0, 0, 0, 0, 0, 0, 0, 0, 0, 0, 0, 0, 0, 0, 0, 0, 0, 0, 0, 0, 0, 0, 0, 0, 0, 0, 0, 0, 0, 0, 0, 0, 0, 0, 0, 0, 0, 0, 0, 0, 0, 0, 0, 0, 0, 0, 0, 0, 0, 0, 0, 0, 0, 0, 0, 0, 0, 0, 0, 0, 0, 0, 0, 0, 0, 0, 0, 0, 0, 0, 0, 0, 0, 0, 0, 0, 0, 0, 0, 0, 0, 0, 0, 0, 0, 0, 0, 0, 0, 0, 0, 0, 0, 0, 0, 0, 0, 0, 0, 0, 0, 0, 0, 0, 0, 0, 0, 0, 0, 0, 0, 0, 0, 0, 0, 0, 0, 0, 0, 0, 0, 0, 0, 0, 0, 0, 0, 0, 0, 0, 0, 0, 0, 0, 0, 0, 0, 0, 0, 0, 0, 0, 0, 0, 0, 0, 0, 0, 0, 0, 0, 0, 0, 0, 0, 0, 0, 0, 0, 0, 0, 0, 0, 0, 0, 0, 0, 0, 0, 0, 0, 0, 0, 0, 0, 0, 0, 0, 0, 0, 0, 0, 0, 0, 0, 0, 0, 0, 0, 0, 0, 0, 0, 0, 0, 0, 0, 0, 0, 0, 0, 0, 0, 0, 0, 0, 0, 0, 0, 0, 0, 0, 0, 0, 0, 0, 0, 0, 0, 0, 0, 0, 0, 0, 0, 0, 0, 0, 0, 0, 0, 0, 0, 0, 0, 0, 0, 0, 0, 0, 0, 0, 0, 0, 0, 0, 0, 0, 0, 0, 0, 0, 0, 0, 0, 0, 0, 0, 0, 0, 0, 0, 0, 0, 0, 0, 0, 0, 0, 0, 0, 0, 0, 0, 0, 0, 0, 0, 0, 0, 0, 0, 0, 0, 0, 0, 0, 0, 0, 0, 0, 0, 0, 0, 0, 0, 0, 0, 0, 0, 0, 0, 0, 0, 0, 0, 0, 0, 0, 0, 0, 0, 0, 0, 0, 0, 0, 0, 0, 0, 0, 0, 0, 0, 0, 0, 0, 0, 0, 0, 0, 0, 0, 0, 0, 0, 0, 0, 0, 0, 0, 0, 0, 0, 0, 0, 0, 0, 0, 0, 0, 0, 0, 0, 0, 0, 0, 0, 0, 0, 0, 0, 0, 0, 0, 0, 0, 0, 0, 0, 0, 0, 0, 0, 0, 0, 0, 0, 0, 0, 0, 0, 0, 0, 0, 0, 0, 0, 0, 0, 0, 0, 0, 0, 0, 0, 0, 0, 0, 0, 0, 0, 0, 0, 0, 0, 0, 0, 0, 0, 0, 0, 0, 0, 0, 0, 0, 0, 0, 0, 0, 0, 0, 0, 0, 0, 0, 0, 0, 0, 0, 0, 0, 0, 0, 0, 0, 0, 0, 0, 0, 0, 0, 0, 0, 0, 0, 0, 0, 0, 0, 0, 0, 0, 0, 0, 0, 0, 0, 0, 0, 0, 0, 0, 0, 0, 0, 0, 0, 0, 0, 0, 0, 0, 0, 0, 0, 0, 0, 0, 0, 0, 0, 0, 0, 0, 0, 0, 0, 0, 0, 0, 0, 0, 0, 0, 0, 0, 0, 0, 0, 0, 0, 0, 0, 0, 0, 0, 0, 0, 0, 0, 0, 0, 0, 0, 0, 0, 0, 0, 0, 0, 0, 0, 0, 0, 0, 0, 0, 0, 1, 0, 0, 0, 0, 0, 0, 0, 0, 0, 0, 0, 0, 0, 0, 0, 0, 0, 0, 0, 0, 0, 0, 0, 0, 0, 0, 0, 0, 0, 0, 0, 0, 0, 0, 0, 0, 0, 0, 0, 0, 0, 0, 0, 0, 0, 0, 0, 0, 0, 0, 0, 0, 0, 0, 0, 0, 0, 0, 0, 0, 0, 0, 0, 0, 0, 0, 0, 0, 0, 0, 0, 0, 0, 0, 1, 0, 0, 0, 0, 0, 0, 0, 0, 0, 0, 0, 0, 0, 0, 0, 0, 0, 0, 0, 0, 1, 0, 0, 1, 0, 0, 0, 0, 0, 0, 0, 0, 0, 0, 0, 0, 0, 0, 0, 0, 0, 0, 0, 0, 0, 0, 0, 0, 0, 0, 0, 0, 0, 0, 0, 0, 0, 0, 0, 0, 0, 0, 0, 0, 0, 0, 0, 0, 0, 0, 0, 0, 0, 0, 0, 0, 0, 0, 0, 0, 0, 0, 0, 0, 0, 0, 0, 0, 0, 0, 0, 0, 0, 0, 0, 0, 0, 0, 0, 0, 0, 0, 0, 0, 0, 0, 0, 0, 0, 0, 0, 0, 0, 0, 0, 0, 0, 0, 0, 0, 0, 0, 0, 0, 0, 0, 0, 0, 0, 0, 0, 0, 0, 0, 0, 0, 0, 0, 0, 0, 0, 0, 0, 0, 0, 0, 0, 0, 0, 0, 0, 0, 0, 0, 0, 0, 0, 0, 0, 0, 0, 0, 0, 0, 0, 0, 0, 0, 0, 0, 0, 0, 0, 0, 0, 0, 0, 0, 0, 0, 0, 0, 0, 0, 0, 0, 0, 0, 0, 0, 0, 0, 0, 0, 0, 0, 0, 0, 0, 0, 0, 0, 0, 0, 0, 0, 0, 0, 0, 0, 0, 0, 0, 0, 0, 0, 0, 0, 0, 0, 0, 0, 0, 0, 0, 0, 0, 0, 0, 0, 0, 0, 0, 0, 0, 0, 0, 0, 0, 0, 0, 0, 0, 0, 0, 0, 0, 0, 0, 0, 0, 0, 0, 0, 0, 0, 0, 0, 0, 0, 0, 0, 0, 0, 0, 0, 0, 0, 0, 0, 0, 0, 0, 0, 0, 0, 0, 0, 0, 0, 0, 0, 0, 0, 0, 0, 0, 0, 0, 0, 0, 0, 0, 0, 0, 0, 0, 0, 0, 0, 0, 0, 0, 0, 0, 0, 0, 0, 0, 0, 0, 0, 0, 0, 0, 0, 0, 0, 0, 0, 0, 0, 0, 0, 0, 0, 0, 0, 0, 0, 0, 0, 0, 0, 0, 0, 0, 0, 0, 0, 0, 0, 0, 0, 0, 0, 0, 0, 0, 0, 0, 0, 0, 0, 0, 0, 0, 0, 0, 0, 0, 0, 0, 0, 0, 0, 0, 0, 0, 0, 0, 0, 0, 0, 0, 0, 0, 0, 0, 0, 0, 0, 0, 0, 0, 0, 0, 0, 0, 0, 0, 0, 0, 0, 0, 0, 0, 0, 0, 0, 0, 0, 0, 0, 0, 0, 0, 0, 0, 0, 0, 0, 0, 0, 0, 0, 0, 0, 0, 0, 0, 0, 0, 0, 0, 0, 0, 0, 0, 0, 0, 0, 0, 0, 0, 0, 0, 0, 0, 0, 0, 0, 0, 0, 0, 0, 0, 0, 0, 0, 0, 0, 0, 0, 0, 0, 0, 0, 0, 0, 0, 0, 0, 0, 0, 0, 0, 0, 0, 0, 0, 0, 0, 0, 0, 0, 0, 0, 0, 0, 0, 0, 0, 0, 0, 0, 0, 0, 0, 0, 1, 0, 0, 0, 0, 0, 0, 0, 0, 0, 0, 0, 0, 0, 0, 0, 0, 0, 0, 0, 0, 0, 0, 0, 0, 0, 0, 0, 0, 0, 0, 0, 0, 0, 0, 0, 0, 0, 0, 0, 0, 0, 0, 0, 0, 0, 0, 0, 0, 0, 0, 0, 0, 0, 0, 0, 0, 0, 0, 0, 0, 0, 0, 0, 0, 0, 0, 0, 0, 0, 0, 0, 0, 0, 0, 0, 0, 0, 0, 0, 0, 0, 0, 0, 0, 0, 0, 0, 0, 0, 0, 0, 0, 0, 0, 0, 0, 0, 0, 0, 0, 0, 0, 0, 0, 0, 0, 0, 0, 0, 0, 0, 0, 0, 0, 0, 0, 0, 0, 0, 0, 0, 0, 0, 0, 0, 0, 0, 0, 0, 0, 0, 0, 0, 0, 0, 0, 0, 0, 0, 0, 0, 0, 0, 0, 0, 0, 0, 0, 0, 0, 0, 0, 0, 0, 0, 0, 0, 0, 0, 0, 0, 0, 0, 0, 0, 0, 0, 0, 0, 0, 0, 0, 0, 0, 0, 0, 0, 0, 0, 0, 0, 0, 0, 0, 0, 0, 0, 0, 0, 0, 0, 0, 0, 0, 0, 0, 0, 0, 0, 0, 0, 0, 0, 0, 0, 0, 0, 0, 0, 0, 0, 0, 0, 0, 0, 0, 0, 0, 0, 0, 0, 0, 0, 0, 0, 0, 0, 0, 0, 0, 0, 0, 0, 0, 0, 0, 0, 0, 0, 0, 0, 0, 0, 0, 0, 0, 0, 0, 0, 0, 0, 0, 0, 0, 0, 0, 0, 0, 0, 0, 0, 0, 0, 0, 0, 0, 0, 0, 0, 0, 0, 0, 0, 0, 0, 0, 0, 0, 0, 0, 0, 0, 0, 0, 0, 0, 0, 0, 0, 0, 0, 0, 0, 0, 0, 0, 0, 0, 0, 0, 0, 0, 0, 0, 0, 0, 0, 0, 0, 0, 0, 0, 0, 0, 0, 0, 0, 0, 0, 0, 0, 0, 0, 0, 0, 0, 0, 0, 0, 0, 0, 0, 0, 0, 0, 0, 0, 0, 0, 0, 0, 0, 0, 0, 0, 0, 0, 0, 0, 0, 0, 0, 0, 0, 0, 0, 0, 0, 0, 0, 0, 0, 0, 0, 0, 0, 0, 0, 0, 0, 0, 0, 0, 0, 0, 0, 0, 0, 0, 0, 0, 0, 0, 0, 0, 0, 0, 0, 0, 0, 0, 0, 0, 0, 0, 0, 0, 0, 0, 0, 0, 0, 0, 0, 0, 0, 0, 0, 0, 0, 0, 0, 0, 0, 0, 0, 0, 0, 0, 0, 0, 0, 0, 0, 0, 0, 0, 0, 0, 0, 0, 0, 0, 0, 0, 0, 0, 0, 0, 0, 0, 0, 0, 0, 0, 0, 0, 0, 0, 0, 0, 0, 0, 0, 0, 0, 0, 0, 0, 0, 0, 0, 0, 0, 0, 0, 0, 0, 0, 0, 0, 0, 0, 0, 0, 0, 0, 0, 0, 0, 0, 0, 0, 0, 0, 0, 0, 0, 0, 0, 0, 0, 0, 0, 0, 0, 0, 0, 0, 0, 0, 0, 0, 0, 0, 0, 0, 0, 0, 0, 0, 0, 1, 0, 0, 0, 0, 0, 0, 0, 0, 0, 0, 0, 0, 0, 0, 0, 0, 0, 0, 0, 0, 0, 0, 0, 0, 0, 0, 0, 0, 0, 0, 0, 0, 0, 0, 0, 2, 0, 0, 0, 0, 0, 0, 0, 0, 0, 0, 0, 0, 0, 0, 0, 0, 0, 0, 0, 0, 0, 0, 0, 0, 0, 0, 0, 0, 0, 0, 0, 0, 0, 0, 0, 0, 0, 0, 0, 0, 1, 0, 0, 0, 0, 0, 0, 0, 0, 0, 0, 0, 0, 0, 0, 0, 0, 0, 0, 0, 0, 0, 0, 0, 0, 0, 0, 0, 0, 0, 0, 0, 0, 0, 0, 0, 0, 0, 0, 0, 0, 0, 0, 0, 0, 0, 0, 0, 0, 0, 0, 0, 0, 0, 0, 0, 0, 0, 0, 0, 0, 0, 0, 0, 0, 0, 0, 0, 0, 0, 0, 0, 0, 0, 0, 0, 0, 0, 0, 0, 0, 0, 0, 0, 0, 0, 0, 0, 0, 0, 0, 0, 0, 0, 0, 0, 0, 0, 0, 0, 0, 0, 0, 0, 0, 0, 0, 0, 0, 0, 0, 0, 0, 0, 0, 0, 0, 0, 0, 0, 0, 0, 0, 0, 0, 0, 0, 0, 0, 0, 0, 0, 0, 0, 0, 0, 0, 0, 0, 0, 0, 0, 0, 0, 0, 0, 0, 0, 0, 0, 0, 0, 0, 0, 0, 0, 0, 0, 0, 0, 0, 0, 0, 0, 0, 0, 0, 0, 0, 0, 0, 0, 0, 0, 0, 0, 0, 0, 0, 0, 0, 0, 0, 0, 0, 0, 0, 0, 0, 0, 0, 0, 0, 0, 0, 0, 0, 0, 0, 0, 0, 0, 0, 0, 0, 0, 0, 0, 0, 0, 0, 0, 0, 0, 0, 0, 0, 0, 0, 0, 0, 0, 0, 0, 0, 0, 0, 0, 0, 0, 0, 0, 0, 0, 0, 0, 0, 0, 0, 0, 0, 0, 0, 0, 0, 0, 0, 0, 0, 0, 0, 0, 0, 0, 0, 0, 0, 0, 0, 0, 0, 0, 0, 0, 0, 0, 0, 0, 0, 0, 0, 0, 0, 0, 0, 0, 0, 0, 0, 0, 0, 0, 0, 0, 0, 0, 0, 0, 0, 0, 0, 0, 0, 0, 0, 0, 0, 0, 0, 0, 0, 0, 0, 0, 0, 0, 0, 0, 0, 0, 0, 0, 0, 0, 0, 0, 0, 0, 0, 0, 0, 0, 0, 0, 0, 0, 0, 0, 0, 0, 0, 0, 0, 0, 0, 0, 0, 0, 0, 0, 0, 0, 0, 0, 0, 0, 0, 0, 0, 0, 0, 0, 0, 0, 0, 0, 0, 0, 0, 0, 0, 0, 0, 0, 0, 0, 0, 0, 0, 0, 0, 0, 0, 0, 0, 0, 0, 0, 0, 0, 0, 0, 0, 0, 0, 0, 0, 0, 0, 0, 0, 0, 0, 0, 0, 0, 0, 0, 0, 0, 0, 0, 0, 0, 0, 0, 0, 0, 0, 0, 0, 0, 0, 0, 0, 0, 0, 0, 0, 0, 0, 0, 0, 0, 0, 0, 0, 0, 0, 0, 0, 0, 0, 0, 0, 0, 0, 0, 0, 0, 0, 0, 0, 0, 0, 0, 0, 0, 0, 0, 0, 0, 0, 0, 0, 0, 0, 0, 0, 0, 0, 0, 0, 0, 0, 0, 0, 0, 0, 0, 0, 0, 0, 0, 0, 0, 0, 0, 0, 0, 0, 0, 0, 0, 0, 0, 0, 0, 0, 0, 0, 0, 0, 0, 0, 0, 0, 0, 1, 0, 0, 0, 0, 0, 0, 0, 0, 0, 0, 0, 0, 0, 0, 0, 0, 0, 0, 0, 0, 0, 0, 0, 0, 0, 0, 0, 0, 0, 0, 0, 0, 0, 0, 0, 0, 0, 0, 0, 0, 0, 0, 0, 0, 0, 0, 0, 0, 0, 0, 0, 0, 0, 0, 0, 0, 0, 0, 0, 0, 0, 0, 0, 0, 0, 0, 0, 0, 0, 0, 0, 0, 0, 0, 0, 0, 0, 0, 0, 0, 0, 0, 0, 0, 0, 0, 0, 0, 0, 0, 0, 0, 0, 0, 0, 0, 0, 0, 0, 0, 0, 0, 0, 0, 0, 0, 0, 0, 0, 0, 2, 0, 0, 0, 0, 0, 0, 0, 0, 0, 0, 0, 0, 0, 0, 0, 0, 0, 0, 0, 0, 0, 0, 0, 0, 0, 0, 0, 0, 0, 0, 0, 0, 0, 0, 0, 0, 0, 0, 0, 0, 0, 0, 0, 0, 0, 0, 0, 0, 0, 0, 0, 0, 0, 0, 0, 0, 0, 0, 0, 0, 0, 0, 0, 0, 0, 0, 0, 0, 0, 0, 0, 0, 0, 0, 0, 0, 0, 0, 0, 0, 0, 0, 0, 0, 0, 0, 0, 0, 0, 0, 0, 0, 0, 0, 0, 0, 0, 0, 0, 0, 0, 0, 0, 0, 0, 0, 0, 0, 0, 0, 0, 0, 0, 0, 0, 0, 0, 0, 0, 0, 0, 0, 0, 0, 0, 0, 0, 0, 0, 0, 0, 0, 0, 0, 0, 0, 0, 0, 0, 0, 0, 0, 0, 0, 0, 0, 0, 0, 0, 0, 0, 0, 0, 0, 0, 0, 0, 0, 0, 0, 0, 0, 0, 0, 0, 0, 0, 0, 0, 0, 0, 0, 0, 0, 0, 0, 0, 0, 0, 0, 0, 0, 0, 0, 0, 0, 0, 0, 0, 0, 0, 0, 0, 0, 0, 0, 0, 0, 0, 0, 0, 0, 0, 0, 0, 0, 0, 0, 0, 0, 0, 0, 0, 0, 0, 0, 0, 0, 0, 0, 0, 0, 0, 0, 0, 0, 0, 0, 0, 0, 0, 0, 0, 0, 0, 0, 0, 0, 0, 0, 0, 0, 0, 0, 0, 0, 0, 0, 0, 0, 0, 0, 0, 0, 0, 0, 0, 0, 0, 0, 0, 0, 0, 0, 0, 0, 0, 0, 0, 0, 0, 0, 0, 0, 0, 0, 0, 0, 0, 0, 0, 0, 0, 0, 0, 0, 0, 0, 0, 0, 0, 0, 0, 0, 0, 0, 0, 0, 0, 0, 0, 0, 0, 0, 0, 0, 0, 0, 0, 0, 0, 0, 0, 0, 0, 0, 0, 0, 0, 0, 0, 0, 0, 0, 0, 0, 0, 0, 0, 0, 0, 0, 0, 0, 0, 0, 0, 0, 0, 0, 0, 0, 0, 0, 0, 0, 0, 0, 0, 0, 0, 0, 0, 0, 0, 0, 0, 0, 0, 0, 0, 0, 0, 0, 0, 0, 0, 0, 0, 0, 0, 0, 0, 0, 0, 0, 0, 0, 0, 0, 0, 0, 0, 0, 0, 0, 0, 0, 0, 0, 0, 0, 0, 0, 0, 0, 0, 0, 0, 0, 0, 0, 0, 0, 0, 0, 0, 0, 0, 0, 0, 0, 0, 0, 0, 0, 0, 0, 0, 0, 0, 0, 0, 0, 0, 0, 0, 0, 0, 0, 0, 0, 0, 0, 0, 0, 0, 0, 0, 0, 0, 0, 0, 0, 0, 0, 0, 0, 0, 0, 0, 0, 0, 0, 0, 0, 0, 0, 0, 0, 0, 0, 0, 0, 0, 0, 0, 0, 0, 0, 0, 0, 0, 0, 0, 0, 0, 0, 0, 0, 0, 0, 0, 0, 0, 0, 0, 0, 0, 0, 0, 0, 0, 0, 0, 0, 0, 0, 0, 0, 0, 0, 0, 0, 0, 0, 0, 0, 0, 0, 0, 0, 0, 0, 0, 0, 0, 0, 0, 0, 0, 0, 0, 0, 0, 0, 0, 0, 0, 0, 0, 0, 0, 0, 0, 0, 0, 0, 0, 0, 0, 0, 0, 0, 0, 0, 0, 0, 0, 0, 0, 0, 0, 0, 0, 0, 0, 0, 0, 0, 0, 0, 0, 0, 0, 0, 0, 0, 0, 0, 0, 0, 0, 0, 0, 0, 0, 0, 0, 0, 0, 0, 0, 0, 0, 0, 0, 0, 0, 0, 0, 0, 0, 0, 0, 0, 0, 0, 0, 0, 0, 0, 0, 0, 0, 0, 0, 0, 0, 0, 0, 0, 0, 0, 0, 0, 0, 0, 0, 0, 0, 0, 0, 0, 0, 0, 0, 0, 0, 0, 0, 0, 0, 0, 0, 0, 0, 0, 0, 0, 0, 0, 0, 0, 0, 0, 0, 0, 0, 0, 0, 0, 0, 0, 0, 0, 0, 0, 0, 0, 0, 0, 0, 0, 0, 0, 0, 0, 0, 0, 0, 0, 0, 0, 0, 0, 0, 0, 0, 0, 0, 0, 0, 0, 0, 0, 0, 0, 0, 0, 1, 0, 0, 0, 0, 0, 0, 0, 0, 0, 0, 0, 0, 0, 0, 0, 0, 0, 0, 0, 0, 0, 0, 0, 0, 0, 0, 0, 0, 0, 0, 0, 0, 0, 0, 0, 0, 0, 0, 0, 0, 0, 0, 0, 0, 0, 0, 0, 0, 0, 0, 0, 0, 0, 0, 0, 0, 0, 0, 0, 0, 0, 0, 0, 0, 0, 0, 0, 0, 0, 0, 0, 0, 0, 0, 0, 0, 0, 0, 0, 0, 0, 0, 0, 0, 0, 0, 0, 0, 0, 0, 0, 0, 0, 0, 0, 0, 0, 0, 0, 0, 0, 0, 0, 0, 0, 0, 0, 1, 0, 0, 0, 0, 0, 0, 0, 0, 0, 0, 0, 0, 0, 0, 0, 0, 0, 0, 0, 0, 0, 0, 0, 0, 0, 0, 0, 0, 0, 0, 0, 0, 0, 0, 0, 0, 0, 0, 0, 0, 0, 0, 0, 0, 0, 0, 0, 0, 0, 0, 0, 0, 0, 0, 0, 0, 0, 0, 0, 0, 0, 0, 0, 0, 0, 0, 0, 0, 0, 0, 0, 0, 0, 0, 0, 0, 0, 0, 0, 0, 0, 0, 0, 0, 0, 0, 0, 0, 0, 0, 0, 0, 0, 0, 0, 0, 0, 0, 0, 0, 0, 0, 0, 0, 0, 0, 0, 0, 0, 0, 0, 0, 0, 0, 0, 0, 0, 0, 0, 0, 0, 0, 0, 0, 0, 0, 0, 0, 0, 0, 0, 0, 0, 0, 0, 0, 0, 0, 0, 0, 0, 0, 0, 0, 0, 0, 0, 0, 0, 0, 0, 0, 0, 0, 0, 0, 0, 0, 0, 0, 0, 0, 0, 0, 0, 0, 0, 0, 0, 0, 0, 0, 0, 0, 0, 0, 0, 0, 0, 0, 0, 0, 0, 0, 0, 0, 0, 0, 0, 0, 0, 0, 0, 0, 0, 0, 0, 0, 0, 0, 0, 0, 0, 0, 0, 0, 0, 0, 0, 0, 0, 0, 0, 0, 0, 0, 0, 0, 0, 0, 0, 0, 0, 0, 0, 0, 0, 0, 0, 0, 0, 0, 0, 0, 0, 0, 0, 0, 0, 0, 0, 0, 0, 0, 0, 0, 0, 0, 0, 0, 0, 0, 0, 0, 0, 0, 0, 0, 0, 0, 0, 0, 0, 0, 0, 0, 0, 0, 0, 0, 0, 0, 0, 0, 0, 0, 0, 0, 0, 0, 0, 0, 0, 0, 0, 0, 0, 0, 0, 0, 0, 0, 0, 0, 0, 0, 0, 0, 0, 0, 0, 0, 0, 0, 0, 0, 0, 0, 0, 0, 0, 0, 0, 0, 0, 0, 0, 0, 0, 0, 0, 0, 0, 0, 0, 0, 0, 0, 0, 0, 0, 0, 0, 0, 0, 0, 0, 0, 0, 0, 0, 0, 0, 0, 0, 0, 0, 0, 0, 0, 0, 0, 0, 0, 0, 0, 0, 0, 0, 0, 0, 0, 0, 0, 0, 0, 0, 0, 0, 0, 0, 0, 0, 0, 0, 0, 0, 0, 0, 0, 0, 0, 0, 0, 0, 0, 0, 0, 0, 0, 0, 0, 0, 0, 0, 0, 0, 0, 0, 0, 0, 0, 0, 0, 0, 0, 0, 0, 0, 0, 0, 0, 0, 0, 0, 0, 0, 0, 0, 0, 0, 0, 0, 0, 0, 0, 0, 0, 0, 0, 0, 0, 0, 0, 0, 0, 0, 0, 0, 0, 0, 0, 0, 0, 0, 0, 0, 0, 0, 0, 0, 0, 0, 0, 0, 0, 0, 0, 0, 0, 0, 0, 0, 2, 0, 1, 0], type: <class 'list'>, valid types: <class 'bytes'>, <class 'bytearray'>, file-like object",
     "output_type": "error",
     "traceback": [
      "\u001b[0;31m---------------------------------------------------------------------------\u001b[0m",
      "\u001b[0;31mParamValidationError\u001b[0m                      Traceback (most recent call last)",
      "\u001b[0;32m<ipython-input-47-c9ab54ae3a48>\u001b[0m in \u001b[0;36m<module>\u001b[0;34m()\u001b[0m\n\u001b[1;32m      1\u001b[0m response = runtime.invoke_endpoint(EndpointName = xgb_predictor.endpoint, # The name of the endpoint we created\n\u001b[1;32m      2\u001b[0m                                        \u001b[0mContentType\u001b[0m \u001b[0;34m=\u001b[0m \u001b[0;34m'text/csv'\u001b[0m\u001b[0;34m,\u001b[0m                     \u001b[0;31m# The data format that is expected\u001b[0m\u001b[0;34m\u001b[0m\u001b[0m\n\u001b[0;32m----> 3\u001b[0;31m                                        Body = test_bow)\n\u001b[0m",
      "\u001b[0;32m~/anaconda3/envs/python3/lib/python3.6/site-packages/botocore/client.py\u001b[0m in \u001b[0;36m_api_call\u001b[0;34m(self, *args, **kwargs)\u001b[0m\n\u001b[1;32m    314\u001b[0m                     \"%s() only accepts keyword arguments.\" % py_operation_name)\n\u001b[1;32m    315\u001b[0m             \u001b[0;31m# The \"self\" in this scope is referring to the BaseClient.\u001b[0m\u001b[0;34m\u001b[0m\u001b[0;34m\u001b[0m\u001b[0m\n\u001b[0;32m--> 316\u001b[0;31m             \u001b[0;32mreturn\u001b[0m \u001b[0mself\u001b[0m\u001b[0;34m.\u001b[0m\u001b[0m_make_api_call\u001b[0m\u001b[0;34m(\u001b[0m\u001b[0moperation_name\u001b[0m\u001b[0;34m,\u001b[0m \u001b[0mkwargs\u001b[0m\u001b[0;34m)\u001b[0m\u001b[0;34m\u001b[0m\u001b[0m\n\u001b[0m\u001b[1;32m    317\u001b[0m \u001b[0;34m\u001b[0m\u001b[0m\n\u001b[1;32m    318\u001b[0m         \u001b[0m_api_call\u001b[0m\u001b[0;34m.\u001b[0m\u001b[0m__name__\u001b[0m \u001b[0;34m=\u001b[0m \u001b[0mstr\u001b[0m\u001b[0;34m(\u001b[0m\u001b[0mpy_operation_name\u001b[0m\u001b[0;34m)\u001b[0m\u001b[0;34m\u001b[0m\u001b[0m\n",
      "\u001b[0;32m~/anaconda3/envs/python3/lib/python3.6/site-packages/botocore/client.py\u001b[0m in \u001b[0;36m_make_api_call\u001b[0;34m(self, operation_name, api_params)\u001b[0m\n\u001b[1;32m    597\u001b[0m         }\n\u001b[1;32m    598\u001b[0m         request_dict = self._convert_to_request_dict(\n\u001b[0;32m--> 599\u001b[0;31m             api_params, operation_model, context=request_context)\n\u001b[0m\u001b[1;32m    600\u001b[0m \u001b[0;34m\u001b[0m\u001b[0m\n\u001b[1;32m    601\u001b[0m         \u001b[0mservice_id\u001b[0m \u001b[0;34m=\u001b[0m \u001b[0mself\u001b[0m\u001b[0;34m.\u001b[0m\u001b[0m_service_model\u001b[0m\u001b[0;34m.\u001b[0m\u001b[0mservice_id\u001b[0m\u001b[0;34m.\u001b[0m\u001b[0mhyphenize\u001b[0m\u001b[0;34m(\u001b[0m\u001b[0;34m)\u001b[0m\u001b[0;34m\u001b[0m\u001b[0m\n",
      "\u001b[0;32m~/anaconda3/envs/python3/lib/python3.6/site-packages/botocore/client.py\u001b[0m in \u001b[0;36m_convert_to_request_dict\u001b[0;34m(self, api_params, operation_model, context)\u001b[0m\n\u001b[1;32m    645\u001b[0m             api_params, operation_model, context)\n\u001b[1;32m    646\u001b[0m         request_dict = self._serializer.serialize_to_request(\n\u001b[0;32m--> 647\u001b[0;31m             api_params, operation_model)\n\u001b[0m\u001b[1;32m    648\u001b[0m         \u001b[0;32mif\u001b[0m \u001b[0;32mnot\u001b[0m \u001b[0mself\u001b[0m\u001b[0;34m.\u001b[0m\u001b[0m_client_config\u001b[0m\u001b[0;34m.\u001b[0m\u001b[0minject_host_prefix\u001b[0m\u001b[0;34m:\u001b[0m\u001b[0;34m\u001b[0m\u001b[0m\n\u001b[1;32m    649\u001b[0m             \u001b[0mrequest_dict\u001b[0m\u001b[0;34m.\u001b[0m\u001b[0mpop\u001b[0m\u001b[0;34m(\u001b[0m\u001b[0;34m'host_prefix'\u001b[0m\u001b[0;34m,\u001b[0m \u001b[0;32mNone\u001b[0m\u001b[0;34m)\u001b[0m\u001b[0;34m\u001b[0m\u001b[0m\n",
      "\u001b[0;32m~/anaconda3/envs/python3/lib/python3.6/site-packages/botocore/validate.py\u001b[0m in \u001b[0;36mserialize_to_request\u001b[0;34m(self, parameters, operation_model)\u001b[0m\n\u001b[1;32m    295\u001b[0m                                                     operation_model.input_shape)\n\u001b[1;32m    296\u001b[0m             \u001b[0;32mif\u001b[0m \u001b[0mreport\u001b[0m\u001b[0;34m.\u001b[0m\u001b[0mhas_errors\u001b[0m\u001b[0;34m(\u001b[0m\u001b[0;34m)\u001b[0m\u001b[0;34m:\u001b[0m\u001b[0;34m\u001b[0m\u001b[0m\n\u001b[0;32m--> 297\u001b[0;31m                 \u001b[0;32mraise\u001b[0m \u001b[0mParamValidationError\u001b[0m\u001b[0;34m(\u001b[0m\u001b[0mreport\u001b[0m\u001b[0;34m=\u001b[0m\u001b[0mreport\u001b[0m\u001b[0;34m.\u001b[0m\u001b[0mgenerate_report\u001b[0m\u001b[0;34m(\u001b[0m\u001b[0;34m)\u001b[0m\u001b[0;34m)\u001b[0m\u001b[0;34m\u001b[0m\u001b[0m\n\u001b[0m\u001b[1;32m    298\u001b[0m         return self._serializer.serialize_to_request(parameters,\n\u001b[1;32m    299\u001b[0m                                                      operation_model)\n",
      "\u001b[0;31mParamValidationError\u001b[0m: Parameter validation failed:\nInvalid type for parameter Body, value: [0, 0, 0, 0, 0, 0, 0, 0, 0, 0, 0, 0, 0, 0, 0, 0, 0, 0, 0, 0, 0, 0, 0, 0, 0, 0, 0, 0, 0, 0, 0, 0, 0, 0, 0, 0, 0, 0, 0, 0, 0, 0, 0, 0, 0, 0, 0, 0, 0, 0, 0, 0, 0, 0, 0, 0, 0, 0, 0, 0, 0, 0, 0, 0, 0, 0, 0, 0, 0, 0, 0, 0, 0, 0, 0, 0, 0, 0, 0, 0, 0, 0, 0, 0, 0, 0, 0, 0, 0, 0, 0, 0, 0, 0, 0, 0, 0, 0, 0, 0, 0, 0, 0, 0, 0, 0, 0, 0, 0, 0, 0, 0, 0, 0, 0, 0, 0, 0, 0, 0, 0, 0, 0, 0, 0, 0, 0, 0, 0, 0, 0, 0, 0, 0, 0, 0, 0, 0, 0, 0, 0, 0, 0, 0, 0, 0, 0, 0, 0, 0, 0, 0, 0, 0, 0, 0, 0, 0, 0, 0, 0, 0, 0, 0, 0, 0, 0, 0, 0, 0, 0, 0, 0, 0, 0, 0, 0, 0, 0, 0, 0, 0, 0, 0, 0, 0, 0, 0, 0, 0, 0, 0, 0, 0, 0, 0, 0, 0, 0, 0, 0, 0, 0, 0, 0, 0, 0, 0, 0, 0, 0, 0, 0, 0, 0, 0, 0, 0, 0, 0, 0, 0, 0, 0, 0, 0, 1, 0, 0, 0, 0, 0, 0, 0, 0, 0, 0, 0, 0, 0, 0, 0, 0, 0, 0, 0, 0, 0, 0, 0, 0, 0, 0, 0, 0, 0, 1, 0, 0, 0, 0, 0, 0, 0, 0, 0, 0, 0, 0, 0, 0, 0, 0, 0, 0, 0, 0, 0, 0, 0, 0, 0, 0, 0, 0, 0, 0, 0, 0, 0, 0, 0, 0, 0, 0, 0, 0, 0, 0, 0, 0, 0, 0, 0, 0, 0, 0, 0, 0, 0, 0, 0, 0, 0, 0, 0, 0, 0, 0, 0, 0, 0, 0, 0, 0, 0, 0, 0, 0, 0, 0, 0, 0, 0, 0, 0, 0, 0, 0, 0, 0, 0, 0, 0, 0, 0, 0, 0, 0, 0, 0, 0, 0, 0, 0, 0, 0, 0, 0, 0, 0, 0, 0, 0, 0, 0, 0, 0, 0, 0, 0, 0, 0, 0, 0, 0, 0, 0, 0, 0, 0, 0, 0, 0, 0, 0, 0, 0, 0, 0, 0, 0, 0, 0, 0, 0, 0, 0, 0, 0, 0, 0, 0, 0, 0, 0, 0, 0, 0, 0, 0, 0, 0, 0, 0, 0, 0, 0, 0, 0, 0, 0, 0, 0, 0, 0, 0, 0, 0, 0, 0, 0, 0, 0, 0, 0, 0, 0, 0, 0, 0, 0, 0, 0, 0, 0, 0, 0, 0, 0, 0, 0, 0, 0, 0, 0, 0, 0, 0, 0, 0, 0, 0, 0, 0, 0, 0, 0, 0, 0, 0, 0, 0, 0, 0, 0, 0, 0, 0, 0, 0, 0, 0, 0, 0, 0, 0, 0, 0, 0, 0, 0, 0, 0, 0, 0, 0, 0, 0, 0, 0, 0, 0, 0, 0, 0, 0, 0, 0, 0, 0, 0, 0, 0, 0, 0, 0, 0, 0, 0, 0, 0, 0, 0, 0, 0, 0, 0, 0, 0, 0, 0, 0, 0, 0, 0, 0, 0, 0, 0, 0, 0, 0, 0, 0, 0, 0, 0, 0, 0, 0, 0, 0, 0, 0, 0, 0, 0, 0, 0, 0, 0, 0, 0, 0, 0, 0, 0, 0, 0, 0, 0, 0, 0, 0, 0, 0, 0, 0, 0, 0, 0, 0, 0, 0, 0, 0, 0, 0, 0, 0, 0, 0, 0, 0, 0, 0, 0, 0, 0, 0, 0, 0, 0, 0, 0, 0, 0, 0, 0, 0, 0, 0, 0, 0, 0, 0, 0, 0, 0, 0, 0, 0, 0, 0, 0, 0, 0, 0, 0, 0, 0, 0, 0, 0, 0, 1, 0, 0, 0, 0, 0, 0, 0, 0, 0, 0, 0, 0, 0, 0, 0, 0, 0, 0, 0, 0, 0, 0, 0, 0, 0, 0, 0, 0, 0, 0, 0, 0, 0, 0, 0, 0, 0, 0, 0, 0, 0, 0, 0, 0, 0, 0, 0, 0, 0, 0, 0, 0, 0, 0, 0, 0, 0, 0, 0, 0, 0, 0, 0, 0, 0, 0, 0, 0, 0, 0, 0, 0, 0, 0, 0, 0, 0, 0, 0, 0, 0, 0, 0, 0, 0, 0, 0, 0, 0, 0, 0, 0, 0, 0, 0, 0, 0, 0, 0, 0, 0, 0, 0, 0, 0, 0, 0, 0, 0, 0, 0, 0, 0, 0, 0, 0, 0, 0, 0, 0, 0, 0, 0, 0, 0, 0, 0, 0, 0, 0, 0, 0, 0, 0, 0, 0, 0, 0, 0, 0, 0, 0, 0, 0, 0, 0, 0, 0, 0, 0, 0, 0, 0, 0, 0, 0, 0, 0, 0, 0, 0, 0, 0, 0, 0, 0, 0, 0, 0, 0, 0, 0, 0, 0, 0, 0, 0, 0, 0, 0, 0, 0, 0, 0, 0, 0, 0, 0, 0, 0, 0, 0, 0, 0, 0, 0, 0, 0, 0, 0, 0, 0, 0, 0, 0, 0, 0, 0, 0, 0, 0, 0, 0, 0, 0, 0, 0, 0, 0, 0, 0, 0, 0, 0, 0, 0, 0, 0, 0, 0, 0, 0, 0, 0, 0, 0, 0, 0, 0, 0, 0, 0, 0, 0, 0, 0, 0, 0, 0, 0, 0, 0, 0, 1, 0, 0, 0, 0, 0, 0, 0, 0, 0, 0, 0, 0, 0, 0, 0, 0, 0, 0, 0, 0, 0, 0, 0, 0, 0, 0, 0, 0, 0, 0, 0, 0, 0, 0, 0, 0, 0, 0, 0, 0, 0, 0, 0, 0, 0, 0, 0, 0, 0, 0, 0, 0, 0, 0, 0, 0, 0, 0, 0, 0, 0, 0, 0, 0, 0, 0, 0, 0, 0, 0, 0, 0, 0, 0, 0, 0, 0, 0, 0, 0, 0, 0, 0, 0, 0, 0, 1, 0, 0, 0, 0, 0, 0, 0, 0, 0, 0, 0, 0, 0, 0, 0, 0, 0, 0, 0, 0, 0, 0, 0, 0, 0, 0, 0, 0, 0, 0, 0, 0, 0, 0, 0, 0, 0, 0, 0, 0, 0, 0, 0, 0, 0, 0, 0, 0, 0, 0, 0, 0, 0, 0, 0, 0, 0, 0, 0, 0, 0, 0, 0, 0, 0, 0, 0, 0, 0, 0, 0, 0, 0, 0, 0, 0, 0, 0, 0, 0, 0, 0, 0, 0, 0, 0, 0, 0, 0, 0, 0, 0, 0, 0, 0, 0, 0, 0, 0, 0, 0, 0, 0, 0, 0, 0, 0, 0, 0, 0, 0, 0, 0, 0, 0, 0, 0, 0, 0, 0, 0, 0, 0, 0, 0, 0, 0, 0, 0, 0, 0, 0, 0, 0, 0, 0, 0, 0, 0, 0, 0, 0, 0, 0, 0, 0, 0, 0, 0, 0, 0, 0, 0, 0, 0, 0, 0, 0, 0, 0, 0, 0, 0, 0, 0, 0, 0, 0, 0, 0, 0, 0, 0, 0, 0, 0, 0, 0, 0, 0, 0, 0, 0, 0, 0, 0, 0, 0, 0, 0, 0, 0, 0, 0, 0, 0, 0, 0, 0, 0, 0, 0, 0, 0, 0, 0, 0, 0, 0, 0, 0, 0, 0, 0, 0, 0, 0, 0, 0, 0, 0, 0, 0, 0, 0, 0, 0, 0, 0, 0, 0, 0, 0, 0, 0, 0, 0, 0, 0, 0, 0, 0, 0, 0, 0, 0, 0, 0, 0, 0, 0, 0, 1, 0, 0, 0, 0, 0, 0, 0, 0, 0, 0, 0, 0, 0, 0, 0, 0, 0, 0, 0, 0, 0, 0, 0, 0, 0, 0, 0, 0, 0, 0, 0, 0, 0, 0, 0, 0, 0, 0, 0, 0, 0, 0, 0, 0, 0, 0, 0, 0, 0, 0, 0, 0, 0, 0, 0, 1, 0, 0, 0, 0, 0, 0, 0, 0, 0, 0, 0, 0, 0, 0, 0, 0, 0, 0, 0, 0, 0, 0, 0, 0, 0, 0, 0, 0, 0, 0, 0, 0, 0, 0, 0, 0, 0, 0, 0, 0, 0, 0, 0, 0, 0, 0, 0, 0, 0, 0, 0, 0, 0, 0, 0, 0, 0, 0, 0, 0, 0, 0, 0, 0, 0, 0, 0, 0, 0, 0, 0, 0, 0, 0, 0, 0, 0, 0, 0, 0, 0, 0, 0, 0, 0, 0, 0, 0, 0, 0, 0, 0, 0, 0, 0, 0, 0, 0, 0, 0, 0, 0, 0, 0, 0, 0, 0, 0, 0, 0, 0, 0, 0, 0, 0, 0, 0, 0, 0, 0, 0, 0, 0, 0, 0, 0, 0, 0, 0, 0, 0, 0, 0, 0, 0, 0, 0, 0, 0, 0, 0, 0, 0, 0, 0, 0, 0, 0, 0, 0, 0, 0, 0, 0, 0, 0, 0, 0, 0, 0, 0, 0, 0, 0, 0, 0, 0, 0, 0, 0, 0, 0, 0, 0, 0, 0, 0, 0, 0, 0, 0, 0, 0, 0, 0, 0, 0, 0, 0, 0, 0, 0, 0, 0, 0, 0, 0, 0, 0, 0, 0, 0, 0, 0, 0, 0, 0, 0, 0, 0, 0, 0, 0, 0, 0, 0, 0, 0, 0, 0, 0, 0, 0, 0, 0, 0, 0, 0, 0, 0, 0, 0, 0, 0, 0, 0, 0, 0, 0, 0, 0, 0, 0, 0, 0, 0, 0, 0, 0, 0, 0, 0, 0, 0, 0, 0, 0, 0, 0, 0, 0, 0, 0, 0, 0, 0, 0, 0, 0, 0, 0, 0, 0, 0, 0, 0, 0, 0, 0, 0, 0, 0, 0, 0, 0, 0, 0, 0, 0, 0, 0, 0, 0, 0, 0, 0, 0, 0, 0, 0, 0, 0, 0, 0, 0, 0, 0, 0, 0, 0, 0, 0, 0, 0, 0, 0, 0, 0, 0, 0, 0, 0, 0, 0, 0, 0, 0, 0, 0, 0, 0, 0, 0, 0, 0, 0, 0, 0, 0, 0, 0, 0, 0, 0, 0, 0, 0, 0, 0, 0, 0, 0, 0, 0, 0, 0, 0, 0, 0, 0, 0, 0, 0, 0, 0, 0, 0, 0, 0, 0, 0, 0, 0, 0, 0, 0, 0, 0, 0, 0, 0, 0, 0, 0, 0, 0, 0, 0, 0, 0, 0, 0, 0, 0, 0, 0, 0, 0, 0, 0, 0, 0, 0, 0, 0, 0, 0, 0, 0, 0, 0, 0, 0, 0, 0, 0, 0, 0, 0, 0, 0, 0, 0, 0, 0, 0, 0, 0, 0, 0, 0, 0, 0, 0, 0, 0, 0, 0, 0, 0, 0, 0, 0, 0, 0, 0, 0, 0, 0, 0, 0, 0, 0, 0, 0, 0, 0, 0, 0, 0, 0, 0, 0, 0, 0, 0, 0, 0, 0, 0, 0, 0, 0, 0, 0, 0, 0, 0, 0, 0, 0, 0, 0, 0, 0, 0, 0, 0, 0, 0, 0, 0, 0, 0, 0, 0, 0, 0, 0, 0, 0, 0, 0, 0, 0, 0, 0, 0, 0, 0, 0, 0, 0, 0, 0, 0, 0, 0, 0, 0, 0, 0, 0, 0, 0, 0, 0, 0, 0, 0, 0, 0, 0, 0, 0, 0, 0, 0, 0, 0, 0, 0, 0, 0, 0, 0, 0, 0, 0, 0, 0, 0, 0, 0, 0, 0, 0, 0, 0, 0, 0, 0, 0, 0, 0, 0, 0, 0, 0, 0, 0, 0, 0, 0, 0, 0, 0, 0, 0, 0, 0, 0, 0, 0, 0, 0, 0, 0, 0, 0, 0, 0, 0, 0, 0, 0, 0, 0, 0, 0, 0, 0, 0, 0, 0, 0, 0, 0, 0, 0, 0, 0, 0, 0, 0, 0, 0, 0, 0, 0, 0, 0, 0, 0, 0, 0, 0, 0, 0, 0, 0, 0, 0, 0, 0, 0, 0, 0, 0, 0, 0, 0, 0, 0, 0, 0, 0, 0, 0, 0, 0, 0, 0, 0, 0, 0, 0, 0, 0, 0, 0, 0, 0, 0, 0, 0, 0, 0, 0, 0, 0, 0, 0, 0, 0, 0, 0, 0, 0, 0, 0, 1, 0, 0, 0, 0, 0, 0, 0, 0, 0, 0, 0, 0, 0, 0, 0, 0, 0, 0, 0, 0, 0, 0, 0, 0, 0, 0, 0, 0, 0, 0, 0, 0, 0, 0, 0, 0, 0, 0, 0, 0, 0, 0, 0, 0, 0, 0, 0, 0, 0, 0, 0, 0, 0, 0, 0, 0, 0, 0, 0, 0, 0, 0, 0, 0, 0, 0, 0, 0, 0, 0, 0, 0, 0, 0, 1, 0, 0, 0, 0, 0, 0, 0, 0, 0, 0, 0, 0, 0, 0, 0, 0, 0, 0, 0, 0, 1, 0, 0, 1, 0, 0, 0, 0, 0, 0, 0, 0, 0, 0, 0, 0, 0, 0, 0, 0, 0, 0, 0, 0, 0, 0, 0, 0, 0, 0, 0, 0, 0, 0, 0, 0, 0, 0, 0, 0, 0, 0, 0, 0, 0, 0, 0, 0, 0, 0, 0, 0, 0, 0, 0, 0, 0, 0, 0, 0, 0, 0, 0, 0, 0, 0, 0, 0, 0, 0, 0, 0, 0, 0, 0, 0, 0, 0, 0, 0, 0, 0, 0, 0, 0, 0, 0, 0, 0, 0, 0, 0, 0, 0, 0, 0, 0, 0, 0, 0, 0, 0, 0, 0, 0, 0, 0, 0, 0, 0, 0, 0, 0, 0, 0, 0, 0, 0, 0, 0, 0, 0, 0, 0, 0, 0, 0, 0, 0, 0, 0, 0, 0, 0, 0, 0, 0, 0, 0, 0, 0, 0, 0, 0, 0, 0, 0, 0, 0, 0, 0, 0, 0, 0, 0, 0, 0, 0, 0, 0, 0, 0, 0, 0, 0, 0, 0, 0, 0, 0, 0, 0, 0, 0, 0, 0, 0, 0, 0, 0, 0, 0, 0, 0, 0, 0, 0, 0, 0, 0, 0, 0, 0, 0, 0, 0, 0, 0, 0, 0, 0, 0, 0, 0, 0, 0, 0, 0, 0, 0, 0, 0, 0, 0, 0, 0, 0, 0, 0, 0, 0, 0, 0, 0, 0, 0, 0, 0, 0, 0, 0, 0, 0, 0, 0, 0, 0, 0, 0, 0, 0, 0, 0, 0, 0, 0, 0, 0, 0, 0, 0, 0, 0, 0, 0, 0, 0, 0, 0, 0, 0, 0, 0, 0, 0, 0, 0, 0, 0, 0, 0, 0, 0, 0, 0, 0, 0, 0, 0, 0, 0, 0, 0, 0, 0, 0, 0, 0, 0, 0, 0, 0, 0, 0, 0, 0, 0, 0, 0, 0, 0, 0, 0, 0, 0, 0, 0, 0, 0, 0, 0, 0, 0, 0, 0, 0, 0, 0, 0, 0, 0, 0, 0, 0, 0, 0, 0, 0, 0, 0, 0, 0, 0, 0, 0, 0, 0, 0, 0, 0, 0, 0, 0, 0, 0, 0, 0, 0, 0, 0, 0, 0, 0, 0, 0, 0, 0, 0, 0, 0, 0, 0, 0, 0, 0, 0, 0, 0, 0, 0, 0, 0, 0, 0, 0, 0, 0, 0, 0, 0, 0, 0, 0, 0, 0, 0, 0, 0, 0, 0, 0, 0, 0, 0, 0, 0, 0, 0, 0, 0, 0, 0, 0, 0, 0, 0, 0, 0, 0, 0, 0, 0, 0, 0, 0, 0, 0, 0, 0, 0, 0, 0, 0, 0, 0, 0, 0, 0, 0, 0, 0, 0, 0, 0, 0, 0, 0, 0, 0, 0, 0, 0, 0, 0, 0, 0, 0, 0, 0, 0, 0, 0, 0, 0, 0, 0, 0, 0, 0, 0, 0, 0, 0, 0, 0, 0, 0, 0, 0, 0, 1, 0, 0, 0, 0, 0, 0, 0, 0, 0, 0, 0, 0, 0, 0, 0, 0, 0, 0, 0, 0, 0, 0, 0, 0, 0, 0, 0, 0, 0, 0, 0, 0, 0, 0, 0, 0, 0, 0, 0, 0, 0, 0, 0, 0, 0, 0, 0, 0, 0, 0, 0, 0, 0, 0, 0, 0, 0, 0, 0, 0, 0, 0, 0, 0, 0, 0, 0, 0, 0, 0, 0, 0, 0, 0, 0, 0, 0, 0, 0, 0, 0, 0, 0, 0, 0, 0, 0, 0, 0, 0, 0, 0, 0, 0, 0, 0, 0, 0, 0, 0, 0, 0, 0, 0, 0, 0, 0, 0, 0, 0, 0, 0, 0, 0, 0, 0, 0, 0, 0, 0, 0, 0, 0, 0, 0, 0, 0, 0, 0, 0, 0, 0, 0, 0, 0, 0, 0, 0, 0, 0, 0, 0, 0, 0, 0, 0, 0, 0, 0, 0, 0, 0, 0, 0, 0, 0, 0, 0, 0, 0, 0, 0, 0, 0, 0, 0, 0, 0, 0, 0, 0, 0, 0, 0, 0, 0, 0, 0, 0, 0, 0, 0, 0, 0, 0, 0, 0, 0, 0, 0, 0, 0, 0, 0, 0, 0, 0, 0, 0, 0, 0, 0, 0, 0, 0, 0, 0, 0, 0, 0, 0, 0, 0, 0, 0, 0, 0, 0, 0, 0, 0, 0, 0, 0, 0, 0, 0, 0, 0, 0, 0, 0, 0, 0, 0, 0, 0, 0, 0, 0, 0, 0, 0, 0, 0, 0, 0, 0, 0, 0, 0, 0, 0, 0, 0, 0, 0, 0, 0, 0, 0, 0, 0, 0, 0, 0, 0, 0, 0, 0, 0, 0, 0, 0, 0, 0, 0, 0, 0, 0, 0, 0, 0, 0, 0, 0, 0, 0, 0, 0, 0, 0, 0, 0, 0, 0, 0, 0, 0, 0, 0, 0, 0, 0, 0, 0, 0, 0, 0, 0, 0, 0, 0, 0, 0, 0, 0, 0, 0, 0, 0, 0, 0, 0, 0, 0, 0, 0, 0, 0, 0, 0, 0, 0, 0, 0, 0, 0, 0, 0, 0, 0, 0, 0, 0, 0, 0, 0, 0, 0, 0, 0, 0, 0, 0, 0, 0, 0, 0, 0, 0, 0, 0, 0, 0, 0, 0, 0, 0, 0, 0, 0, 0, 0, 0, 0, 0, 0, 0, 0, 0, 0, 0, 0, 0, 0, 0, 0, 0, 0, 0, 0, 0, 0, 0, 0, 0, 0, 0, 0, 0, 0, 0, 0, 0, 0, 0, 0, 0, 0, 0, 0, 0, 0, 0, 0, 0, 0, 0, 0, 0, 0, 0, 0, 0, 0, 0, 0, 0, 0, 0, 0, 0, 0, 0, 0, 0, 0, 0, 0, 0, 0, 0, 0, 0, 0, 0, 0, 0, 0, 0, 0, 0, 0, 0, 0, 0, 0, 0, 0, 0, 0, 0, 0, 0, 0, 0, 0, 0, 0, 0, 0, 0, 0, 0, 0, 0, 0, 0, 0, 0, 0, 0, 0, 0, 0, 0, 0, 0, 0, 0, 0, 0, 0, 0, 0, 0, 0, 0, 0, 0, 0, 0, 0, 0, 0, 0, 0, 0, 0, 0, 0, 1, 0, 0, 0, 0, 0, 0, 0, 0, 0, 0, 0, 0, 0, 0, 0, 0, 0, 0, 0, 0, 0, 0, 0, 0, 0, 0, 0, 0, 0, 0, 0, 0, 0, 0, 0, 2, 0, 0, 0, 0, 0, 0, 0, 0, 0, 0, 0, 0, 0, 0, 0, 0, 0, 0, 0, 0, 0, 0, 0, 0, 0, 0, 0, 0, 0, 0, 0, 0, 0, 0, 0, 0, 0, 0, 0, 0, 1, 0, 0, 0, 0, 0, 0, 0, 0, 0, 0, 0, 0, 0, 0, 0, 0, 0, 0, 0, 0, 0, 0, 0, 0, 0, 0, 0, 0, 0, 0, 0, 0, 0, 0, 0, 0, 0, 0, 0, 0, 0, 0, 0, 0, 0, 0, 0, 0, 0, 0, 0, 0, 0, 0, 0, 0, 0, 0, 0, 0, 0, 0, 0, 0, 0, 0, 0, 0, 0, 0, 0, 0, 0, 0, 0, 0, 0, 0, 0, 0, 0, 0, 0, 0, 0, 0, 0, 0, 0, 0, 0, 0, 0, 0, 0, 0, 0, 0, 0, 0, 0, 0, 0, 0, 0, 0, 0, 0, 0, 0, 0, 0, 0, 0, 0, 0, 0, 0, 0, 0, 0, 0, 0, 0, 0, 0, 0, 0, 0, 0, 0, 0, 0, 0, 0, 0, 0, 0, 0, 0, 0, 0, 0, 0, 0, 0, 0, 0, 0, 0, 0, 0, 0, 0, 0, 0, 0, 0, 0, 0, 0, 0, 0, 0, 0, 0, 0, 0, 0, 0, 0, 0, 0, 0, 0, 0, 0, 0, 0, 0, 0, 0, 0, 0, 0, 0, 0, 0, 0, 0, 0, 0, 0, 0, 0, 0, 0, 0, 0, 0, 0, 0, 0, 0, 0, 0, 0, 0, 0, 0, 0, 0, 0, 0, 0, 0, 0, 0, 0, 0, 0, 0, 0, 0, 0, 0, 0, 0, 0, 0, 0, 0, 0, 0, 0, 0, 0, 0, 0, 0, 0, 0, 0, 0, 0, 0, 0, 0, 0, 0, 0, 0, 0, 0, 0, 0, 0, 0, 0, 0, 0, 0, 0, 0, 0, 0, 0, 0, 0, 0, 0, 0, 0, 0, 0, 0, 0, 0, 0, 0, 0, 0, 0, 0, 0, 0, 0, 0, 0, 0, 0, 0, 0, 0, 0, 0, 0, 0, 0, 0, 0, 0, 0, 0, 0, 0, 0, 0, 0, 0, 0, 0, 0, 0, 0, 0, 0, 0, 0, 0, 0, 0, 0, 0, 0, 0, 0, 0, 0, 0, 0, 0, 0, 0, 0, 0, 0, 0, 0, 0, 0, 0, 0, 0, 0, 0, 0, 0, 0, 0, 0, 0, 0, 0, 0, 0, 0, 0, 0, 0, 0, 0, 0, 0, 0, 0, 0, 0, 0, 0, 0, 0, 0, 0, 0, 0, 0, 0, 0, 0, 0, 0, 0, 0, 0, 0, 0, 0, 0, 0, 0, 0, 0, 0, 0, 0, 0, 0, 0, 0, 0, 0, 0, 0, 0, 0, 0, 0, 0, 0, 0, 0, 0, 0, 0, 0, 0, 0, 0, 0, 0, 0, 0, 0, 0, 0, 0, 0, 0, 0, 0, 0, 0, 0, 0, 0, 0, 0, 0, 0, 0, 0, 0, 0, 0, 0, 0, 0, 0, 0, 0, 0, 0, 0, 0, 0, 0, 0, 0, 0, 0, 0, 0, 0, 0, 0, 0, 0, 0, 0, 0, 0, 0, 0, 0, 0, 0, 0, 0, 0, 0, 0, 0, 0, 0, 0, 0, 0, 0, 0, 0, 0, 0, 0, 0, 0, 0, 1, 0, 0, 0, 0, 0, 0, 0, 0, 0, 0, 0, 0, 0, 0, 0, 0, 0, 0, 0, 0, 0, 0, 0, 0, 0, 0, 0, 0, 0, 0, 0, 0, 0, 0, 0, 0, 0, 0, 0, 0, 0, 0, 0, 0, 0, 0, 0, 0, 0, 0, 0, 0, 0, 0, 0, 0, 0, 0, 0, 0, 0, 0, 0, 0, 0, 0, 0, 0, 0, 0, 0, 0, 0, 0, 0, 0, 0, 0, 0, 0, 0, 0, 0, 0, 0, 0, 0, 0, 0, 0, 0, 0, 0, 0, 0, 0, 0, 0, 0, 0, 0, 0, 0, 0, 0, 0, 0, 0, 0, 0, 2, 0, 0, 0, 0, 0, 0, 0, 0, 0, 0, 0, 0, 0, 0, 0, 0, 0, 0, 0, 0, 0, 0, 0, 0, 0, 0, 0, 0, 0, 0, 0, 0, 0, 0, 0, 0, 0, 0, 0, 0, 0, 0, 0, 0, 0, 0, 0, 0, 0, 0, 0, 0, 0, 0, 0, 0, 0, 0, 0, 0, 0, 0, 0, 0, 0, 0, 0, 0, 0, 0, 0, 0, 0, 0, 0, 0, 0, 0, 0, 0, 0, 0, 0, 0, 0, 0, 0, 0, 0, 0, 0, 0, 0, 0, 0, 0, 0, 0, 0, 0, 0, 0, 0, 0, 0, 0, 0, 0, 0, 0, 0, 0, 0, 0, 0, 0, 0, 0, 0, 0, 0, 0, 0, 0, 0, 0, 0, 0, 0, 0, 0, 0, 0, 0, 0, 0, 0, 0, 0, 0, 0, 0, 0, 0, 0, 0, 0, 0, 0, 0, 0, 0, 0, 0, 0, 0, 0, 0, 0, 0, 0, 0, 0, 0, 0, 0, 0, 0, 0, 0, 0, 0, 0, 0, 0, 0, 0, 0, 0, 0, 0, 0, 0, 0, 0, 0, 0, 0, 0, 0, 0, 0, 0, 0, 0, 0, 0, 0, 0, 0, 0, 0, 0, 0, 0, 0, 0, 0, 0, 0, 0, 0, 0, 0, 0, 0, 0, 0, 0, 0, 0, 0, 0, 0, 0, 0, 0, 0, 0, 0, 0, 0, 0, 0, 0, 0, 0, 0, 0, 0, 0, 0, 0, 0, 0, 0, 0, 0, 0, 0, 0, 0, 0, 0, 0, 0, 0, 0, 0, 0, 0, 0, 0, 0, 0, 0, 0, 0, 0, 0, 0, 0, 0, 0, 0, 0, 0, 0, 0, 0, 0, 0, 0, 0, 0, 0, 0, 0, 0, 0, 0, 0, 0, 0, 0, 0, 0, 0, 0, 0, 0, 0, 0, 0, 0, 0, 0, 0, 0, 0, 0, 0, 0, 0, 0, 0, 0, 0, 0, 0, 0, 0, 0, 0, 0, 0, 0, 0, 0, 0, 0, 0, 0, 0, 0, 0, 0, 0, 0, 0, 0, 0, 0, 0, 0, 0, 0, 0, 0, 0, 0, 0, 0, 0, 0, 0, 0, 0, 0, 0, 0, 0, 0, 0, 0, 0, 0, 0, 0, 0, 0, 0, 0, 0, 0, 0, 0, 0, 0, 0, 0, 0, 0, 0, 0, 0, 0, 0, 0, 0, 0, 0, 0, 0, 0, 0, 0, 0, 0, 0, 0, 0, 0, 0, 0, 0, 0, 0, 0, 0, 0, 0, 0, 0, 0, 0, 0, 0, 0, 0, 0, 0, 0, 0, 0, 0, 0, 0, 0, 0, 0, 0, 0, 0, 0, 0, 0, 0, 0, 0, 0, 0, 0, 0, 0, 0, 0, 0, 0, 0, 0, 0, 0, 0, 0, 0, 0, 0, 0, 0, 0, 0, 0, 0, 0, 0, 0, 0, 0, 0, 0, 0, 0, 0, 0, 0, 0, 0, 0, 0, 0, 0, 0, 0, 0, 0, 0, 0, 0, 0, 0, 0, 0, 0, 0, 0, 0, 0, 0, 0, 0, 0, 0, 0, 0, 0, 0, 0, 0, 0, 0, 0, 0, 0, 0, 0, 0, 0, 0, 0, 0, 0, 0, 0, 0, 0, 0, 0, 0, 0, 0, 0, 0, 0, 0, 0, 0, 0, 0, 0, 0, 0, 0, 0, 0, 0, 0, 0, 0, 0, 0, 0, 0, 0, 0, 0, 0, 0, 0, 0, 0, 0, 0, 0, 0, 0, 0, 0, 0, 0, 0, 0, 0, 0, 0, 0, 0, 0, 0, 0, 0, 0, 0, 0, 0, 0, 0, 0, 0, 0, 0, 0, 0, 0, 0, 0, 0, 0, 0, 0, 0, 0, 0, 0, 0, 0, 0, 0, 0, 0, 0, 0, 0, 0, 0, 0, 0, 0, 0, 0, 0, 0, 0, 0, 0, 0, 0, 0, 0, 0, 0, 0, 0, 0, 0, 0, 0, 0, 0, 0, 0, 0, 0, 0, 0, 0, 0, 0, 0, 0, 0, 0, 0, 0, 0, 0, 0, 0, 0, 0, 0, 0, 0, 0, 0, 0, 0, 0, 0, 0, 0, 0, 0, 0, 0, 0, 0, 0, 0, 0, 0, 0, 0, 0, 0, 0, 0, 0, 0, 0, 1, 0, 0, 0, 0, 0, 0, 0, 0, 0, 0, 0, 0, 0, 0, 0, 0, 0, 0, 0, 0, 0, 0, 0, 0, 0, 0, 0, 0, 0, 0, 0, 0, 0, 0, 0, 0, 0, 0, 0, 0, 0, 0, 0, 0, 0, 0, 0, 0, 0, 0, 0, 0, 0, 0, 0, 0, 0, 0, 0, 0, 0, 0, 0, 0, 0, 0, 0, 0, 0, 0, 0, 0, 0, 0, 0, 0, 0, 0, 0, 0, 0, 0, 0, 0, 0, 0, 0, 0, 0, 0, 0, 0, 0, 0, 0, 0, 0, 0, 0, 0, 0, 0, 0, 0, 0, 0, 0, 1, 0, 0, 0, 0, 0, 0, 0, 0, 0, 0, 0, 0, 0, 0, 0, 0, 0, 0, 0, 0, 0, 0, 0, 0, 0, 0, 0, 0, 0, 0, 0, 0, 0, 0, 0, 0, 0, 0, 0, 0, 0, 0, 0, 0, 0, 0, 0, 0, 0, 0, 0, 0, 0, 0, 0, 0, 0, 0, 0, 0, 0, 0, 0, 0, 0, 0, 0, 0, 0, 0, 0, 0, 0, 0, 0, 0, 0, 0, 0, 0, 0, 0, 0, 0, 0, 0, 0, 0, 0, 0, 0, 0, 0, 0, 0, 0, 0, 0, 0, 0, 0, 0, 0, 0, 0, 0, 0, 0, 0, 0, 0, 0, 0, 0, 0, 0, 0, 0, 0, 0, 0, 0, 0, 0, 0, 0, 0, 0, 0, 0, 0, 0, 0, 0, 0, 0, 0, 0, 0, 0, 0, 0, 0, 0, 0, 0, 0, 0, 0, 0, 0, 0, 0, 0, 0, 0, 0, 0, 0, 0, 0, 0, 0, 0, 0, 0, 0, 0, 0, 0, 0, 0, 0, 0, 0, 0, 0, 0, 0, 0, 0, 0, 0, 0, 0, 0, 0, 0, 0, 0, 0, 0, 0, 0, 0, 0, 0, 0, 0, 0, 0, 0, 0, 0, 0, 0, 0, 0, 0, 0, 0, 0, 0, 0, 0, 0, 0, 0, 0, 0, 0, 0, 0, 0, 0, 0, 0, 0, 0, 0, 0, 0, 0, 0, 0, 0, 0, 0, 0, 0, 0, 0, 0, 0, 0, 0, 0, 0, 0, 0, 0, 0, 0, 0, 0, 0, 0, 0, 0, 0, 0, 0, 0, 0, 0, 0, 0, 0, 0, 0, 0, 0, 0, 0, 0, 0, 0, 0, 0, 0, 0, 0, 0, 0, 0, 0, 0, 0, 0, 0, 0, 0, 0, 0, 0, 0, 0, 0, 0, 0, 0, 0, 0, 0, 0, 0, 0, 0, 0, 0, 0, 0, 0, 0, 0, 0, 0, 0, 0, 0, 0, 0, 0, 0, 0, 0, 0, 0, 0, 0, 0, 0, 0, 0, 0, 0, 0, 0, 0, 0, 0, 0, 0, 0, 0, 0, 0, 0, 0, 0, 0, 0, 0, 0, 0, 0, 0, 0, 0, 0, 0, 0, 0, 0, 0, 0, 0, 0, 0, 0, 0, 0, 0, 0, 0, 0, 0, 0, 0, 0, 0, 0, 0, 0, 0, 0, 0, 0, 0, 0, 0, 0, 0, 0, 0, 0, 0, 0, 0, 0, 0, 0, 0, 0, 0, 0, 0, 0, 0, 0, 0, 0, 0, 0, 0, 0, 0, 0, 0, 0, 0, 0, 0, 0, 0, 0, 0, 0, 0, 0, 0, 0, 0, 0, 0, 0, 0, 0, 0, 0, 0, 0, 0, 0, 0, 0, 0, 0, 0, 0, 0, 0, 0, 0, 0, 0, 0, 0, 0, 0, 0, 0, 0, 2, 0, 1, 0], type: <class 'list'>, valid types: <class 'bytes'>, <class 'bytearray'>, file-like object"
     ]
    }
   ],
   "source": [
    "response = runtime.invoke_endpoint(EndpointName = xgb_predictor.endpoint, # The name of the endpoint we created\n",
    "                                       ContentType = 'text/csv',                     # The data format that is expected\n",
    "                                       Body = test_bow)"
   ]
  },
  {
   "cell_type": "markdown",
   "metadata": {},
   "source": [
    "So why did we get an error?\n",
    "\n",
    "Because we tried to send the endpoint a list of integers but it expected us to send data of type `text/csv`. So, we need to convert it."
   ]
  },
  {
   "cell_type": "code",
   "execution_count": 48,
   "metadata": {},
   "outputs": [],
   "source": [
    "response = runtime.invoke_endpoint(EndpointName = xgb_predictor.endpoint, # The name of the endpoint we created\n",
    "                                       ContentType = 'text/csv',                     # The data format that is expected\n",
    "                                       Body = ','.join([str(val) for val in test_bow]).encode('utf-8'))"
   ]
  },
  {
   "cell_type": "code",
   "execution_count": 49,
   "metadata": {},
   "outputs": [
    {
     "name": "stdout",
     "output_type": "stream",
     "text": [
      "{'ResponseMetadata': {'RequestId': '258c4dee-43c9-4e7d-a323-093cfae6aaa0', 'HTTPStatusCode': 200, 'HTTPHeaders': {'x-amzn-requestid': '258c4dee-43c9-4e7d-a323-093cfae6aaa0', 'x-amzn-invoked-production-variant': 'AllTraffic', 'date': 'Sun, 3 May 2020 23:23:26 GMT', 'content-type': 'text/csv; charset=utf-8', 'content-length': '13'}, 'RetryAttempts': 0}, 'ContentType': 'text/csv; charset=utf-8', 'InvokedProductionVariant': 'AllTraffic', 'Body': <botocore.response.StreamingBody object at 0x7f3bedadec50>}\n"
     ]
    }
   ],
   "source": [
    "print(response)"
   ]
  },
  {
   "cell_type": "markdown",
   "metadata": {},
   "source": [
    "As we can see, the response from our model is a somewhat complicated looking dict that contains a bunch of information. The bit that we are most interested in is `'Body'` object which is a streaming object that we need to `read` in order to make use of."
   ]
  },
  {
   "cell_type": "code",
   "execution_count": 50,
   "metadata": {},
   "outputs": [
    {
     "name": "stdout",
     "output_type": "stream",
     "text": [
      "0.39583671093\n"
     ]
    }
   ],
   "source": [
    "response = response['Body'].read().decode('utf-8')\n",
    "print(response)"
   ]
  },
  {
   "cell_type": "markdown",
   "metadata": {},
   "source": [
    "Now that we know how to process the incoming user data we can start setting up the infrastructure to make our simple web app work. To do this we will make use of two different services. Amazon's Lambda and API Gateway services.\n",
    "\n",
    "Lambda is a service which allows someone to write some relatively simple code and have it executed whenever a chosen trigger occurs. For example, you may want to update a database whenever new data is uploaded to a folder stored on S3.\n",
    "\n",
    "API Gateway is a service that allows you to create HTTP endpoints (url addresses) which are connected to other AWS services. One of the benefits to this is that you get to decide what credentials, if any, are required to access these endpoints.\n",
    "\n",
    "In our case we are going to set up an HTTP endpoint through API Gateway which is open to the public. Then, whenever anyone sends data to our public endpoint we will trigger a Lambda function which will send the input (in our case a review) to our model's endpoint and then return the result."
   ]
  },
  {
   "cell_type": "markdown",
   "metadata": {},
   "source": [
    "### Setting up a Lambda function\n",
    "\n",
    "The first thing we are going to do is set up a Lambda function. This Lambda function will be executed whenever our public API has data sent to it. When it is executed it will receive the data, perform any sort of processing that is required, send the data (the review) to the SageMaker endpoint we've created and then return the result.\n",
    "\n",
    "#### Part A: Create an IAM Role for the Lambda function\n",
    "\n",
    "Since we want the Lambda function to call a SageMaker endpoint, we need to make sure that it has permission to do so. To do this, we will construct a role that we can later give the Lambda function.\n",
    "\n",
    "Using the AWS Console, navigate to the **IAM** page and click on **Roles**. Then, click on **Create role**. Make sure that the **AWS service** is the type of trusted entity selected and choose **Lambda** as the service that will use this role, then click **Next: Permissions**.\n",
    "\n",
    "In the search box type `sagemaker` and select the check box next to the **AmazonSageMakerFullAccess** policy. Then, click on **Next: Review**.\n",
    "\n",
    "Lastly, give this role a name. Make sure you use a name that you will remember later on, for example `LambdaSageMakerRole`. Then, click on **Create role**."
   ]
  },
  {
   "cell_type": "markdown",
   "metadata": {},
   "source": [
    "#### Part B: Create a Lambda function\n",
    "\n",
    "Now it is time to actually create the Lambda function. Remember from earlier that in order to process the user provided input and send it to our endpoint we need to gather two pieces of information:\n",
    "\n",
    " - The name of the endpoint, and\n",
    " - the vocabulary object.\n",
    "\n",
    "We will copy these pieces of information to our Lambda function after we create it.\n",
    "\n",
    "To start, using the AWS Console, navigate to the AWS Lambda page and click on **Create a function**. When you get to the next page, make sure that **Author from scratch** is selected. Now, name your Lambda function, using a name that you will remember later on, for example `sentiment_analysis_xgboost_func`. Make sure that the **Python 3.6** runtime is selected and then choose the role that you created in the previous part. Then, click on **Create Function**.\n",
    "\n",
    "On the next page you will see some information about the Lambda function you've just created. If you scroll down you should see an editor in which you can write the code that will be executed when your Lambda function is triggered. Collecting the code we wrote above to process a single review and adding it to the provided example `lambda_handler` we arrive at the following.\n",
    "\n",
    "```python\n",
    "# We need to use the low-level library to interact with SageMaker since the SageMaker API\n",
    "# is not available natively through Lambda.\n",
    "import boto3\n",
    "\n",
    "# And we need the regular expression library to do some of the data processing\n",
    "import re\n",
    "\n",
    "REPLACE_NO_SPACE = re.compile(\"(\\.)|(\\;)|(\\:)|(\\!)|(\\')|(\\?)|(\\,)|(\\\")|(\\()|(\\))|(\\[)|(\\])\")\n",
    "REPLACE_WITH_SPACE = re.compile(\"(<br\\s*/><br\\s*/>)|(\\-)|(\\/)\")\n",
    "\n",
    "def review_to_words(review):\n",
    "    words = REPLACE_NO_SPACE.sub(\"\", review.lower())\n",
    "    words = REPLACE_WITH_SPACE.sub(\" \", words)\n",
    "    return words\n",
    "    \n",
    "def bow_encoding(words, vocabulary):\n",
    "    bow = [0] * len(vocabulary) # Start by setting the count for each word in the vocabulary to zero.\n",
    "    for word in words.split():  # For each word in the string\n",
    "        if word in vocabulary:  # If the word is one that occurs in the vocabulary, increase its count.\n",
    "            bow[vocabulary[word]] += 1\n",
    "    return bow\n",
    "\n",
    "\n",
    "def lambda_handler(event, context):\n",
    "    \n",
    "    vocab = \"*** ACTUAL VOCABULARY GOES HERE ***\"\n",
    "    \n",
    "    words = review_to_words(event['body'])\n",
    "    bow = bow_encoding(words, vocab)\n",
    "\n",
    "    # The SageMaker runtime is what allows us to invoke the endpoint that we've created.\n",
    "    runtime = boto3.Session().client('sagemaker-runtime')\n",
    "\n",
    "    # Now we use the SageMaker runtime to invoke our endpoint, sending the review we were given\n",
    "    response = runtime.invoke_endpoint(EndpointName = '***ENDPOINT NAME HERE***',# The name of the endpoint we created\n",
    "                                       ContentType = 'text/csv',                 # The data format that is expected\n",
    "                                       Body = ','.join([str(val) for val in bow]).encode('utf-8')) # The actual review\n",
    "\n",
    "    # The response is an HTTP response whose body contains the result of our inference\n",
    "    result = response['Body'].read().decode('utf-8')\n",
    "    \n",
    "    # Round the result so that our web app only gets '1' or '0' as a response.\n",
    "    result = round(float(result))\n",
    "\n",
    "    return {\n",
    "        'statusCode' : 200,\n",
    "        'headers' : { 'Content-Type' : 'text/plain', 'Access-Control-Allow-Origin' : '*' },\n",
    "        'body' : str(result)\n",
    "    }\n",
    "```"
   ]
  },
  {
   "cell_type": "markdown",
   "metadata": {},
   "source": [
    "Once you have copy and pasted the code above into the Lambda code editor, replace the `**ENDPOINT NAME HERE**` portion with the name of the endpoint that we deployed earlier. You can determine the name of the endpoint using the code cell below."
   ]
  },
  {
   "cell_type": "code",
   "execution_count": 51,
   "metadata": {},
   "outputs": [
    {
     "data": {
      "text/plain": [
       "'xgboost-2020-05-03-22-51-18-167'"
      ]
     },
     "execution_count": 51,
     "metadata": {},
     "output_type": "execute_result"
    }
   ],
   "source": [
    "xgb_predictor.endpoint"
   ]
  },
  {
   "cell_type": "markdown",
   "metadata": {},
   "source": [
    "In addition, you will need to copy the vocabulary dict to the appropriate place in the code at the beginning of the `lambda_handler` method. The cell below prints out the vocabulary dict in a way that is easy to copy and paste."
   ]
  },
  {
   "cell_type": "code",
   "execution_count": 52,
   "metadata": {},
   "outputs": [
    {
     "name": "stdout",
     "output_type": "stream",
     "text": [
      "{'dolph': 1317, 'stars': 4155, 'as': 311, 'wilson': 4891, 'an': 223, 'alcoholic': 177, 'ex': 1549, 'cop': 991, 'who': 4871, 'gets': 1900, 'involved': 2346, 'with': 4911, 'serial': 3889, 'killer': 2470, 'kills': 2474, 'during': 1387, 'sex': 3907, 'after': 143, 'his': 2118, 'brother': 598, 'is': 2360, 'murdered': 2940, 'starts': 4159, 'own': 3158, 'investigation': 2343, 'and': 226, 'finds': 1728, 'out': 3141, 'lot': 2661, 'of': 3083, 'brothers': 599, 'secrets': 3852, 'in': 2257, 'this': 4457, 'very': 4723, 'dull': 1384, 'thriller': 4472, 'performance': 3228, 'the': 4426, 'movie': 2926, 'flat': 1748, 'also': 199, 'when': 4862, 'has': 2043, 'anyone': 259, 'watched': 4813, 'for': 1784, 'anything': 260, 'but': 636, 'action': 100, 'went': 4847, 'to': 4507, 'see': 3855, 'my': 2951, 'girlfriend': 1910, 'place': 3282, 'was': 4805, 'pretty': 3384, 'packed': 3166, 'we': 4823, 'all': 187, 'laughed': 2532, 'so': 4046, 'hard': 2033, 'it': 2366, 'easy': 1410, 'miss': 2866, 'lines': 2612, 'knew': 2486, 'looked': 2647, 'like': 2599, 'would': 4957, 'be': 418, 'good': 1937, 'much': 2934, 'funnier': 1850, 'than': 4420, 'thought': 4462, 'liked': 2600, 'both': 547, 'edward': 1426, 'they': 4442, 'seemed': 3862, 'really': 3556, 'weird': 4841, 'just': 2437, 'normal': 3033, 'people': 3221, 'if': 2222, 'that': 4424, 'makes': 2716, 'sense': 3877, 'get': 1899, 'sick': 3963, 'movies': 2927, 'show': 3953, 'teenagers': 4391, 'being': 448, 'or': 3124, 'characters': 760, 'were': 4848, 'unique': 4662, 'still': 4188, 'human': 2188, 'enough': 1491, 'relate': 3593, 'will': 4886, 'friends': 1837, 'waiting': 4772, 'on': 3105, 'dvd': 1391, 'go': 1924, 'your': 4991, 'can': 665, 'laugh': 2529, 'at': 331, 'funniest': 1851, 'parts': 3199, 'life': 2592, 'plan': 3287, 'again': 146, 'theater': 4427, 'dont': 1324, 'things': 4451, 'more': 2904, 'once': 3106, 'often': 3095, 'its': 2370, 'fact': 1621, 'you': 4986, 'cannot': 670, 'understand': 4643, 'unless': 4669, 'youre': 4992, 'from': 1840, 'most': 2909, 'actors': 104, 'are': 285, 'now': 3054, 'dead': 1132, 'those': 4460, 'best': 469, 'appreciate': 279, 'have': 2052, 'collection': 874, 'melting': 2799, 'pot': 3354, 'nations': 2971, 'could': 1007, 'dream': 1354, 'land': 2511, 'other': 3135, 'wouldnt': 4958, 'mind': 2849, 'their': 4431, 'ideas': 2215, 'feels': 1687, 'swedish': 4335, 'trying': 4601, 'become': 433, 'american': 213, 'don': 1320, 'some': 4061, 'horrible': 2163, 'script': 3834, 'nothing': 3047, 'special': 4097, 'waste': 4808, 'time': 4495, '10': 0, 'less': 2575, 'one': 3107, 'under': 4639, 'pictures': 3270, 'simplicity': 3984, 'independent': 2272, 'honest': 2146, 'ad': 110, 'performances': 3229, 'by': 642, 'two': 4620, 'leads': 2548, 'morgan': 2905, 'freeman': 1829, 'quite': 3495, 'unlikely': 4671, 'duo': 1386, 'great': 1964, 'thing': 4450, 'entire': 1502, 'looks': 2649, 'despite': 1211, 'road': 3709, 'roots': 3738, 'how': 2181, 'character': 758, 'not': 3040, 'where': 4864, 'he': 2056, 'meets': 2795, 'check': 777, 'girl': 1909, 'relationship': 3597, 'her': 2085, 'current': 1084, 'happens': 2029, 'getting': 1901, 'husband': 2204, 'played': 3297, 'bobby': 525, 'small': 4033, 'role': 3726, 'somehow': 4063, 'left': 2561, 'us': 4690, 'witness': 4914, 'witty': 4917, 'opposite': 3123, 'sides': 3967, 'society': 4050, 'simple': 3983, 'while': 4868, 'there': 4438, 'arent': 288, 'any': 256, 'bang': 393, 'moments': 2887, 'earth': 1403, 'quirky': 3493, 'little': 2624, 'mood': 2898, 'piece': 3272, 'probably': 3407, 'otherwise': 3137, 'got': 1944, 'lost': 2660, 'which': 4867, 'came': 656, '2006': 36, 'deserves': 1201, 'seen': 3865, 'only': 3110, 'honesty': 2148, 'tears': 4380, 'original': 3129, 'yet': 4984, 'flawed': 1750, 'horror': 2168, 'film': 1716, 'into': 2332, 'cult': 1077, 'group': 1980, 'india': 2273, 'german': 1896, 'learned': 2551, 'control': 977, 'bodies': 526, 'point': 3316, 'cause': 723, 'others': 3136, 'through': 4477, 'techniques': 4384, 'physical': 3262, 'pain': 3170, 'torture': 4529, 'release': 3602, 'up': 4683, 'demons': 1178, 'inside': 2297, 'them': 4432, 'shown': 3959, 'series': 3890, 'about': 67, 'taylor': 4372, 'above': 68, 'mentioned': 2811, 'first': 1736, 'segment': 3867, 'somewhat': 4068, 'rest': 3657, 'serves': 3895, 'fine': 1729, 'set': 3898, 'premise': 3370, 'plays': 3301, 'key': 2458, 'thrown': 4481, 'mix': 2876, 'full': 1846, 'nudity': 3059, 'gore': 1941, 'keep': 2449, 'happy': 2032, 'say': 3799, 'may': 2775, 'spectacular': 4101, 'concept': 930, 'delivers': 1172, 'right': 3696, 'spots': 4132, 'well': 4843, 'put': 3480, 'end': 1468, 'question': 3487, 'what': 4858, 'worst': 4952, 'ever': 1538, 'flight': 1757, 'fury': 1855, 'starring': 4154, 'co': 867, 'written': 4972, 'steven': 4182, 'seagal': 3839, 'sure': 4308, 'lots': 2662, 'bad': 382, 'takes': 4351, 'cake': 648, 'itself': 2371, 'seriously': 3892, 'made': 2697, 'speaks': 4096, 'far': 1653, 'catch': 714, 'bollywood': 530, 'utterly': 4702, 'devoid': 1230, 'talent': 4354, 'literally': 2622, 'feel': 1684, 'watching': 4815, 'need': 2987, 'corner': 996, 'shower': 3957, 'cry': 1073, 'knowing': 2490, 'make': 2713, 'clean': 838, 'released': 3603, 'video': 4733, 'cant': 671, 'imagine': 2238, 'why': 4878, 'suspect': 4327, 'workers': 4943, 'had': 2003, 'dvds': 1392, 'wear': 4830, 'receive': 3563, 'regular': 3592, 'comedy': 890, 'gem': 1877, 'loud': 2664, 'shop': 3945, 'scenes': 3811, 'me': 2778, 'laughing': 2533, 'dialogue': 1234, 'know': 2489, 'humour': 2194, 'surprisingly': 4316, 'gentle': 1890, 'sound': 4081, 'strange': 4211, 'puts': 3481, 'detail': 1217, 'certainly': 738, 'number': 3060, 'viewings': 4741, 'ive': 2372, 'few': 1700, 'times': 4497, 'been': 438, 'showing': 3958, 'notice': 3048, 'something': 4066, 'new': 3003, 'each': 1395, 'bit': 488, 'visual': 4757, 'hadnt': 2004, 'picked': 3266, 'before': 440, 'find': 1726, 'couple': 1016, 'im': 2232, 'going': 1931, 'because': 432, 'overall': 3150, 'fun': 1848, 'worth': 4953, 'watch': 4811, 'must': 2950, 'enjoy': 1484, 'hope': 2155, 'oh': 3096, 'soundtrack': 4085, 'amusing': 221, 'hell': 2077, 'sometimes': 4067, 'even': 1533, 'downright': 1337, 'funny': 1852, 'underlying': 4641, 'message': 2819, 'though': 4461, 'women': 4923, 'responsible': 3656, 'troubles': 4594, 'man': 2721, 'every': 1539, 'woman': 4921, 'depicted': 1183, 'she': 3923, 'lazy': 2543, 'poor': 3328, 'guy': 2000, 'no': 3020, 'apparent': 269, 'reason': 3557, 'think': 4452, 'gay': 1876, 'men': 2805, 'art': 304, 'simply': 3986, 'someones': 4065, 'view': 4736, 'agree': 155, 'comments': 901, 'plain': 3286, 'stupid': 4247, 'foot': 1781, 'actually': 109, 'christopher': 811, 'lee': 2559, 'wasnt': 4807, 'better': 472, 'does': 1308, 'live': 2625, 'scary': 3807, 'overly': 3155, 'melodramatic': 2798, 'here': 2086, 'comes': 891, 'part': 3193, 'never': 3001, 'arrived': 301, 'evil': 1548, 'ones': 3108, 'convincing': 985, 'lacking': 2504, 'depth': 1190, 'perhaps': 3235, 'id': 2212, 'proper': 3436, 'frame': 1815, 'might': 2835, 'enjoyed': 1486, 'films': 1721, 'didnt': 1242, 'seem': 3861, 'effort': 1432, 'mediocre': 2791, 'totally': 4532, 'last': 2521, 'minute': 2858, 'brilliantly': 584, 'shot': 3949, 'interesting': 2325, 'camera': 659, 'angles': 237, 'plot': 3309, 'deaf': 1134, 'alike': 185, 'assistant': 326, 'work': 4940, 'true': 4596, 'intention': 2319, 'love': 2669, 'hes': 2093, 'con': 928, 'advantage': 129, 'him': 2110, 'revenge': 3675, 'hurt': 2202, 'return': 3665, 'help': 2079, 'requires': 3642, 'reading': 3544, 'skills': 4014, 'pull': 3461, 'off': 3084, 'dark': 1115, 'noir': 3023, 'truly': 4597, 'excellent': 1555, 'finale': 1723, 'real': 3547, 'beauty': 430, 'way': 4820, 'director': 1264, 'leading': 2547, 'use': 4692, 'keeps': 2451, 'tension': 4404, 'consistent': 953, 'dramatic': 1348, 'silence': 3974, 'noise': 3024, 'blood': 512, 'thats': 4425, 'throw': 4479, 'black': 493, 'erotic': 1515, 'sexual': 3908, 'youve': 4995, 'sort': 4077, 'hollywood': 2137, 'wants': 4791, 'references': 3583, 'mad': 2696, 'max': 2774, 'ii': 2226, 'wild': 4885, 'many': 2732, 'face': 1616, 'clear': 839, 'reference': 3582, 'tribute': 4581, 'peter': 3247, 'masterpiece': 2759, 'talk': 4358, 'future': 1856, 'dear': 1140, 'richard': 3686, 'loved': 2670, 'home': 2142, 'improvement': 2256, 'tim': 4494, 'allen': 188, 'do': 1302, 'else': 1448, 'besides': 468, 'lame': 2510, 'sequels': 3886, 'air': 164, 'bud': 607, 'give': 1912, 'becoming': 435, 'personal': 3240, 'seems': 3864, 'ironic': 2355, 'pay': 3216, 'everybody': 1540, 'around': 297, 'instantly': 2306, 'roles': 3727, 'bob': 524, 'instead': 2307, 'appear': 273, 'minutes': 2859, 'golden': 1934, 'smiling': 4037, 'added': 116, 'mean': 2779, 'come': 886, 'line': 2610, 'contrary': 974, 'fake': 1635, 'talking': 4360, 'seeing': 3857, 'dogs': 1311, 'play': 3296, 'sports': 4130, 'mr': 2929, 'anybody': 257, 'porn': 3336, 'gory': 1943, 'heard': 2062, 'star': 4150, 'excited': 1561, 'course': 1019, 'years': 4979, 'ago': 154, 'trouble': 4592, 'making': 2718, 'did': 1241, 'ashamed': 312, 'admit': 122, 'flaws': 1752, 'story': 4207, 'ireland': 2352, 'called': 652, 'want': 4788, 'tell': 4395, 'skip': 4016, 'third': 4455, 'grade': 1951, 'report': 3635, 'irish': 2353, 'halloween': 2010, 'breaks': 571, 'rules': 3754, 'safe': 3771, 'then': 4436, 'cannibal': 669, 'start': 4156, 'running': 3756, 'everywhere': 1545, 'dealing': 1136, 'theres': 4440, 'big': 478, 'stone': 4197, 'castle': 712, 'obviously': 3072, 'ancient': 225, 'noticed': 3049, 'self': 3869, 'annoying': 249, 'heroine': 2091, 'flashback': 1746, 'montage': 2894, 'include': 2261, 'met': 2822, 'ending': 1471, 'works': 4945, 'refreshing': 3586, 'such': 4268, 'nasty': 2968, 'afraid': 140, 'murders': 2943, 'over': 3148, 'top': 4525, 'nice': 3008, 'disgusting': 1286, 'scene': 3809, 'given': 1913, 'extended': 1604, 'shots': 3950, 'always': 203, 'overcome': 3151, 'comment': 898, 'imdb': 2240, 'website': 4834, 'viewers': 4739, 'save': 3794, 'walls': 4783, 'write': 4967, 'minimum': 2856, 'text': 4419, 'low': 2676, 'budget': 610, 'acting': 99, 'name': 2960, 'wolf': 4920, 'brings': 587, 'effects': 1431, '80s': 59, 'style': 4249, 'almost': 193, 'saw': 3798, 'recently': 3567, 'aware': 368, 'intrigued': 2334, 'title': 4504, 'belongs': 460, 'favourite': 1673, 'describe': 1194, 'incredible': 2269, 'subject': 4253, 'matter': 2769, 'discovered': 1280, 'everything': 1544, 'wonderfully': 4929, 'memorable': 2802, 'images': 2235, 'private': 3404, 'world': 4946, 'fell': 1690, 'filmmakers': 1720, 'cast': 710, 'spell': 4104, 'audience': 352, 'drawn': 1351, 'eccentric': 1414, 'family': 1645, 'atmosphere': 333, 'found': 1811, 'myself': 2953, 'wishing': 4907, 'away': 369, 'table': 4346, 'sadness': 3770, 'throughout': 4478, 'fall': 1637, 'money': 2888, 'gone': 1935, 'drew': 1360, 'long': 2644, 'finished': 1733, 'wondering': 4930, 'fate': 1665, 'took': 4523, 'walk': 4775, 'along': 195, 'east': 1407, 'beach': 419, 'hear': 2061, 'old': 3100, 'voice': 4761, 'night': 3013, 'edie': 1419, 'dancing': 1107, 'window': 4894, 'behind': 447, 'thick': 4447, 'hanging': 2023, 'unforgettable': 4652, 'yes': 4982, 'definitely': 1162, 'viewing': 4740, 'death': 1141, 'deaths': 1142, 'decent': 1147, 'kind': 2476, 'wrong': 4973, 'turn': 4605, 'hills': 2109, 'eyes': 1613, 'kids': 2467, 'high': 2100, 'school': 3813, 'college': 875, 'kitchen': 2485, 'says': 3801, 'exact': 1550, 'quote': 3496, 'scream': 3826, '1996': 26, 'girls': 1911, 'etc': 1527, 'steve': 4181, 'unnecessary': 4672, 'ask': 316, 'humorous': 2193, 'explain': 1586, 'loose': 2650, 'ends': 1474, 'wow': 4962, 'sam': 3777, 'gary': 1873, 'sister': 4001, 'theyre': 4445, 'psychic': 3456, 'couldnt': 1008, 'killed': 2469, 'bathroom': 412, 'became': 431, 'screams': 3828, 'standing': 4146, 'outside': 3146, 'door': 1328, 'commented': 900, 'primarily': 3393, 'scottish': 3825, 'lesson': 2577, 'crack': 1027, 'smile': 4036, 'whole': 4873, 'youll': 4988, 'cool': 989, 'walking': 4779, 'brought': 600, 'forget': 1793, 'wonder': 4926, '11': 2, 'beat': 423, '12': 3, 'flashbacks': 1747, 'half': 2007, 'alive': 186, '13': 4, 'kill': 2468, '14': 6, 'call': 651, 'police': 3322, 'apparently': 270, 'lived': 2626, 'woods': 4935, 'zombies': 4998, 'vampires': 4712, 'everyone': 1542, 'giant': 1905, 'huh': 2187, 'sloppy': 4030, 'placed': 3283, 'considering': 952, 'close': 853, 'cuba': 1075, 'jr': 2423, 'secret': 3849, 'service': 3896, 'agent': 150, 'himself': 2111, 'president': 3378, 'ill': 2228, 'straight': 4210, 'type': 4621, 'talented': 4355, 'actor': 103, 'noted': 3045, 'shows': 3960, 'news': 3005, 'reporter': 3636, 'conspiracy': 956, 'surrounding': 4319, 'blah': 496, 'james': 2378, 'anne': 246, 'game': 1864, 'fails': 1628, 'grab': 1949, 'attention': 345, 'isnt': 2362, 'although': 201, 'clichéd': 845, 'done': 1322, 'lead': 2545, 'entertaining': 1499, 'enjoyable': 1485, 'doesnt': 1309, 'writing': 4971, 'direction': 1261, 'absolutely': 72, 'suck': 4269, 'slightest': 4028, 'boring': 543, 'predictable': 3367, 'store': 4204, 'yourself': 4993, 'box': 555, 'expecting': 1578, 'proof': 3434, 'actual': 108, 'violence': 4747, 'look': 2646, 'poster': 3353, 'stunts': 4246, 'rock': 3720, 'goes': 1930, 'back': 378, 'forth': 1804, 'week': 4837, 'la': 2500, 'band': 391, 'crappy': 1032, 'magic': 2703, 'level': 2584, 'youd': 4987, 'maybe': 2776, 'lesser': 2576, 'strip': 4228, 'town': 4541, 'finding': 1727, 'feet': 1688, 'meet': 2793, 'party': 3200, 'needed': 2988, 'stuff': 4243, 'frankly': 1823, 'second': 3846, 'playing': 3300, 'already': 197, 'dated': 1119, 'said': 3774, 'stunt': 4245, 'bits': 490, 'genuinely': 1892, 'fellow': 1691, 'largely': 2518, 'respect': 3652, 'hung': 2197, 'crazy': 1035, 'hed': 2072, 'next': 3007, 'wish': 4904, 'vehicle': 4718, 'quality': 3484, '2000': 30, 'scenario': 3808, 'based': 404, 'novel': 3052, 'transfer': 4559, 'screen': 3829, 'brilliant': 583, 'photography': 3260, 'gives': 1914, 'date': 1118, 'performs': 3234, 'chess': 783, 'player': 3298, 'extremely': 1610, 'everyday': 1541, 'presented': 3376, 'non': 3027, 'multiple': 2936, 'childhood': 790, 'complex': 923, 'described': 1195, 'suggest': 4280, 'begins': 444, 'vincent': 4746, 'price': 3389, 'begin': 442, 'however': 2183, 'mid': 2832, 'successful': 4266, 'shut': 3961, 'down': 1335, 'boss': 546, 'cheated': 775, 'tricks': 4583, 'created': 1037, 'result': 3660, 'problem': 3408, 'viewer': 4738, 'understood': 4647, 'stop': 4201, 'eating': 1413, 'creative': 1041, 'including': 2264, 'huge': 2185, 'twists': 4619, 'exciting': 1563, 'subtle': 4260, 'version': 4720, 'house': 2178, 'wonderful': 4928, 'highly': 2105, 'reminiscent': 3621, 'bottom': 551, 'since': 3990, 'formula': 1802, 're': 3535, 'follow': 1772, 'committed': 905, 'biggest': 480, 'differences': 1247, 'color': 877, 'mystery': 2956, 'advice': 133, 'terrific': 4409, '1950s': 14, 'generous': 1886, 'portrayal': 3341, 'century': 736, 'bizarre': 492, 'different': 1248, 'species': 4098, 'antics': 255, 'outrageous': 3145, 'historical': 2119, 'figure': 1711, 'beating': 425, 'without': 4913, 'mental': 2808, 'illness': 2230, 'believable': 453, 'worked': 4941, 'state': 4160, 'hospital': 2172, 'these': 4441, 'guys': 2001, 'too': 4522, 'smart': 4035, 'outstanding': 3147, 'deeper': 1155, 'nature': 2975, 'captures': 678, 'among': 217, 'horse': 2170, 'fantastic': 1651, 'lovers': 2673, 'giallo': 1904, 'feature': 1678, 'grave': 1962, 'combination': 883, 'gothic': 1945, 'weve': 4856, 'side': 3965, 'lose': 2654, 'earlier': 1399, 'delight': 1167, 'emphasis': 1463, 'details': 1219, 'typical': 4623, 'red': 3576, 'definite': 1161, 'bonus': 534, 'confusing': 942, 'hold': 2129, 'audiences': 353, 'interest': 2323, 'storytelling': 4209, 'improved': 2255, 'opens': 3115, 'sees': 3866, 'young': 4989, 'fighting': 1709, 'grandfather': 1954, 'explains': 1589, 'legend': 2564, 'rather': 3528, 'painting': 3175, 'revolves': 3682, 'queen': 3485, 'returns': 3668, 'hundred': 2195, 'seven': 3903, 'later': 2525, 'occur': 3076, 'obvious': 3071, 'colour': 880, 'important': 2247, 'features': 1680, 'heavily': 2069, 'appears': 278, 'against': 147, 'likes': 2602, 'stylish': 4251, 'knows': 2493, 'drop': 1369, 'murder': 2939, 'involving': 2349, 'iron': 2354, 'female': 1693, 'stunning': 4244, 'barbara': 397, 'eye': 1611, 'ladies': 2506, 'take': 4349, 'clothes': 860, 'score': 3822, 'catchy': 717, 'fits': 1741, 'across': 96, 'rushed': 3760, 'identity': 2217, 'murderer': 2941, 'recommend': 3571, 'fans': 1650, 'genre': 1888, 'public': 3460, 'china': 795, 'fancy': 1649, 'sets': 3899, 'explosion': 1596, 'note': 3044, 'son': 4070, 'believes': 456, 'father': 1666, 'dying': 1393, 'surprised': 4313, 'dad': 1095, 'business': 633, 'usual': 4699, 'retarded': 3663, 'caring': 691, 'soon': 4074, 'becomes': 434, 'traditional': 4550, 'city': 825, 'value': 4709, 'changes': 751, 'exceptional': 1558, 'chinese': 796, 'picture': 3269, 'jet': 2400, 'li': 2587, 'tiger': 4491, 'hidden': 2096, 'dragon': 1344, 'particularly': 3195, 'care': 684, 'examples': 1554, 'achievement': 94, 'hilariously': 2107, 'awful': 372, 'cage': 645, 'category': 718, 'class': 833, 'wearing': 4831, 'hair': 2005, 'ears': 1402, 'touch': 4533, 'creates': 1038, 'hero': 2088, 'neil': 2995, 'females': 1694, 'pays': 3218, 'having': 2054, 'punch': 3466, 'several': 3905, 'directly': 1263, 'early': 1400, 'solely': 4056, 'ellen': 1446, 'finally': 1724, 'appearance': 274, 'clearly': 840, 'visible': 4753, 'oscar': 3133, 'saying': 3800, 'white': 4870, 'blue': 518, 'gold': 1932, 'paint': 3173, 'working': 4944, 'headed': 2058, 'believed': 455, 'highlights': 2104, 'nicholas': 3010, 'falling': 1639, 'hill': 2108, 'stealing': 4171, 'looking': 2648, 'ms': 2931, 'wizard': 4919, 'oz': 3160, 'riding': 3695, 'island': 2361, 'kicking': 2462, 'doors': 1329, 'missing': 2869, 'promising': 3433, 'career': 686, 'screaming': 3827, 'burned': 626, 'bear': 420, 'costume': 1005, 'kidding': 2465, 'taking': 4352, 'leaving': 2557, 'doing': 1312, 'moves': 2925, 'villains': 4745, 'havent': 2053, 'until': 4680, 'final': 1722, '15': 7, 'dreadful': 1353, 'yesterday': 4983, 'basement': 405, 'needless': 2989, 'deserve': 1199, 'stopped': 4202, 'elaborate': 1439, 'send': 3875, 'reminded': 3619, 'disappointment': 1275, 'read': 3543, 'reviews': 3679, 'bar': 396, 'expectations': 1576, 'york': 4985, 'recognize': 3569, 'certain': 737, 'places': 3284, 'supposed': 4306, 'setting': 3900, 'main': 2707, 'tender': 4401, 'conversations': 981, 'wanted': 4789, 'positive': 3346, 'leave': 2555, 'wanting': 4790, 'fashion': 1659, 'within': 4912, 'between': 475, 'ultimately': 4628, 'distant': 1295, 'conversation': 980, 'realized': 3553, 'justice': 2438, 'example': 1553, 'involve': 2345, 'middle': 2833, 'aged': 149, 'paris': 3189, 'disappointing': 1274, 'giving': 1915, 'disagree': 1269, 'opinion': 3118, 'wont': 4932, 'review': 3676, 'meant': 2784, 'everyones': 1543, 'vague': 4705, 'heads': 2059, 'expect': 1575, 'ways': 4822, 'loses': 2657, 'amazing': 209, 'poem': 3312, 'harder': 2035, 'climactic': 848, 'battle': 414, 'ball': 388, 'same': 3778, 'describes': 1196, 'concern': 931, 'tries': 4585, 'marry': 2745, 'mass': 2753, 'depiction': 1185, 'hilarious': 2106, 'especially': 1520, 'marvelous': 2750, 'weight': 4840, 'masterful': 2758, 'building': 615, 'suspense': 4330, 'effect': 1428, 'technical': 4381, 'except': 1556, 'sequence': 3887, 'hall': 2009, 'burns': 628, 'object': 3066, 'spoilers': 4124, 'visits': 4756, 'cell': 730, 'demands': 1175, 'reveal': 3670, 'refuses': 3587, 'herself': 2092, 'possibly': 3351, 'warrior': 4802, 'calling': 653, 'devil': 1228, 'silly': 3976, 'ah': 158, 'prison': 3401, 'settings': 3901, 'reduced': 3579, 'challenging': 744, 'beyond': 476, 'should': 3951, 'pure': 3471, 'die': 1243, 'solid': 4057, 'matthau': 2771, 'favorite': 1671, 'waited': 4771, 'robbins': 3712, 'okay': 3099, 'recent': 3566, 'history': 2121, 'trek': 4578, 'generation': 1883, 'seasons': 3844, 'stayed': 4167, 'started': 4157, 'promise': 3430, 'episode': 1507, 'broken': 594, 'problems': 3409, 'material': 2766, 'opening': 3114, 'theme': 4433, 'forward': 1808, 'sitting': 4007, 'completely': 922, 'gratuitous': 1961, 'wife': 4884, 'room': 3735, 'cut': 1089, 'nonsense': 3030, 'strong': 4229, 'moved': 2922, 'slightly': 4029, 'able': 66, 'stand': 4143, 'proud': 3444, 'deal': 1135, 'fears': 1677, 'stay': 4166, 'significant': 3972, 'past': 3207, 'plenty': 3307, 'bring': 585, 'shooting': 3943, 'instant': 2305, 'technology': 4385, 'fix': 1744, 'inevitable': 2282, 'travel': 4567, 'stories': 4205, 'pool': 3327, 'enormous': 1490, 'potential': 3355, 'universe': 4666, 'fresh': 1833, 'chance': 747, 'learn': 2550, 'insulting': 2310, 'war': 4792, 'form': 1798, 'charge': 761, 'prime': 3395, 'episodes': 1508, 'imagery': 2234, 'tiny': 4500, 'impression': 2252, 'shock': 3938, 'graphic': 1958, 'anime': 243, 'particular': 3194, 'street': 4216, 'basically': 407, 'matrix': 2767, 'cash': 709, 'punk': 3468, 'post': 3352, 'bands': 392, 'checking': 778, 'confused': 941, 'cousin': 1021, 'truth': 4599, 'younger': 4990, 'kevin': 2457, 'shes': 3930, 'cared': 685, 'trust': 4598, 'suspicious': 4332, 'either': 1438, 'died': 1244, 'hello': 2078, 'act': 97, 'reviewers': 3678, 'enter': 1494, 'nowhere': 3056, 'near': 2979, 'michael': 2829, 'glad': 1916, 'jobs': 2406, 'wet': 4855, 'paper': 3183, 'bag': 384, 'english': 1483, 'fighter': 1708, 'leg': 2562, 'sub': 4252, 'par': 3184, 'dialog': 1232, '90': 60, 'cops': 993, 'audio': 354, 'spare': 4093, 'misery': 2865, 'delivery': 1173, 'cinematography': 820, 'cheesy': 781, 'spoil': 4121, 'familiar': 1643, 'notably': 3042, 'market': 2740, 'helicopter': 2076, 'guess': 1989, 'someone': 4064, 'least': 2554, 'flick': 1754, 'sequel': 3885, 'kingdom': 2480, 'twisted': 4618, 'sit': 4003, 'hours': 2177, 'ghosts': 1903, 'stomach': 4196, 'available': 361, 'theatre': 4429, 'sadly': 3769, 'year': 4978, 'filmed': 1717, 'let': 2579, 'used': 4693, 'today': 4508, 'site': 4005, 'lowest': 2678, 'possible': 3350, 'rating': 3529, 'hundreds': 2196, 'contrast': 975, 'intentions': 2321, 'failure': 1629, 'horribly': 2164, 'princess': 3397, 'entirely': 1503, 'unbelievable': 4634, 'boy': 557, 'worse': 4951, 'french': 1830, 'source': 4086, 'reached': 3537, 'passionate': 3206, 'scientist': 3818, 'names': 2963, 'famous': 1647, 'scientists': 3819, 'romance': 3732, 'pair': 3176, 'danes': 1108, 'award': 366, 'uninspired': 4657, 'interpretation': 2328, 'teens': 4392, 'literature': 2623, '1990s': 25, 'aside': 315, 'atrocious': 335, 'attempts': 343, 'introduce': 2336, 'artistic': 308, 'filming': 1718, 'handful': 2017, 'principal': 3398, 'realize': 3552, 'adapted': 114, 'happen': 2026, 'crowd': 1067, 'moment': 2886, 'creepy': 1052, 'distracting': 1297, 'un': 4630, 'zombie': 4997, 'appearing': 277, 'song': 4071, 'matthew': 2772, 'contains': 964, 'laughs': 2534, 'gags': 1862, 'stooges': 4200, 'finest': 1730, 'short': 3946, 'comedies': 889, 'produced': 3414, 'originally': 3131, 'wrote': 4974, 'screenplay': 3831, 'howard': 2182, 'suffered': 4276, 'team': 4378, 'lane': 2515, 'terror': 4412, 'pass': 3201, 'calls': 654, 'larry': 2520, 'fear': 1676, 'arrive': 300, 'disappeared': 1271, 'try': 4600, 'rid': 3690, 'reactions': 3542, 'mickey': 2831, 'superb': 4296, 'trademark': 4548, 'fight': 1707, 'members': 2801, 'duke': 1383, 'unusual': 4681, 'portrayed': 3342, 'classic': 835, 'era': 1513, 'conceived': 929, 'stage': 4139, 'nonetheless': 3029, 'beginning': 443, 'silver': 3977, 'effectively': 1430, 'study': 4242, 'jesse': 2397, 'thrill': 4471, 'perspective': 3245, 'attack': 337, 'lawrence': 2539, 'awesome': 371, 'romantic': 3733, 'turns': 4609, 'jonathan': 2417, 'desperate': 1208, 'situation': 4008, 'survive': 4321, 'hatred': 2049, 'beautiful': 428, 'psychological': 3458, 'journey': 2421, 'nightmare': 3014, 'eric': 1514, 'student': 4238, 'fan': 1648, 'separate': 3883, 'psycho': 3457, 'producer': 3415, 'bruce': 602, 'campbell': 663, 'add': 115, 'humor': 2192, 'ghost': 1902, 'general': 1880, 'atmospheric': 334, 'british': 589, 'period': 3236, 'naive': 2958, 'lawyer': 2541, 'sent': 3880, 'village': 4743, 'settle': 3902, 'elderly': 1440, 'deceased': 1146, 'womans': 4922, 'estate': 1525, 'vacation': 4704, 'health': 2060, 'saves': 3796, 'none': 3028, 'spirit': 4113, 'presence': 3373, 'legal': 2563, 'shed': 3924, 'shell': 3927, 'pop': 3330, 'nail': 2957, 'suspenseful': 4331, 'elements': 1443, 'locked': 2637, 'enters': 1496, 'manages': 2725, 'combine': 884, 'compelling': 916, 'buddy': 609, 'warm': 4794, 'onto': 3111, 'writer': 4968, 'amounts': 220, 'idea': 2213, 'rubbish': 3748, 'satan': 3787, 'robert': 3713, 'jones': 2418, 'spending': 4106, 'our': 3139, 'folks': 1771, 'camp': 662, 'christmas': 810, 'tree': 4576, 'rate': 3526, 'badly': 383, 'scripted': 3835, 'developed': 1223, 'uk': 4626, 'lives': 2628, 'case': 707, 'absolute': 71, 'utter': 4701, 'crap': 1031, 'saving': 3797, 'grace': 1950, 'producers': 3416, 'hang': 2022, 'shame': 3918, 'am': 204, 'standard': 4144, 'national': 2970, 'body': 527, 'support': 4303, 'supporting': 4304, 'industry': 2280, 'whilst': 4869, 'idiots': 2220, 'harvey': 2042, 'forgive': 1795, 'super': 4295, 'slick': 4026, 'entertainment': 1500, 'stellar': 4174, 'turning': 4608, 'dozens': 1339, 'whatever': 4859, 'late': 2523, '40s': 49, 'further': 1853, 'coming': 896, 'decade': 1144, 'jim': 2402, 'cary': 706, 'grant': 1956, 'daughters': 1122, 'words': 4938, 'afford': 138, 'thousands': 4466, 'tired': 4501, 'living': 2629, 'urban': 4688, 'cave': 727, 'strike': 4224, 'countryside': 1015, 'arms': 294, 'hardly': 2036, 'writers': 4969, 'frank': 1821, 'build': 614, 'rural': 3758, 'pile': 3275, 'fast': 1661, 'types': 4622, 'construction': 960, 'carries': 699, 'frustration': 1843, 'another': 250, 'closet': 858, 'oddly': 3081, 'comedic': 888, 'triumph': 4590, 'reaching': 3539, '60': 53, 'ahead': 159, 'cities': 823, 'job': 2405, 'sell': 3871, 'ham': 2011, 'feeling': 1685, 'belief': 451, 'stick': 4185, 'indeed': 2271, 'improve': 2254, 'deeply': 1156, 'day': 1129, 'easily': 1406, 'sheer': 3925, 'statement': 4162, 'sad': 3767, '17': 9, 'pilot': 3276, 'brady': 561, 'territory': 4411, 'local': 2634, 'cost': 1003, 'told': 4513, 'burt': 629, 'reynolds': 3684, 'appeared': 276, 'thru': 4483, 'product': 3418, 'run': 3755, 'watchable': 4812, 'race': 3499, 'anderson': 227, 'dumb': 1385, 'blonde': 511, 'embarrassing': 1454, 'dressing': 1359, 'sounds': 4084, 'pick': 3265, 'fair': 1630, 'drama': 1346, 'focuses': 1768, 'average': 362, 'fonda': 1777, 'de': 1131, 'niro': 3019, 'age': 148, 'interested': 2324, 'regarding': 3589, 'asked': 317, 'word': 4937, 'shallow': 3917, 'jerry': 2396, 'production': 3419, 'wasted': 4809, 'productions': 3420, 'nearly': 2981, 'fire': 1734, 'hits': 2125, 'office': 3091, 'critical': 1062, 'critics': 1064, 'head': 2057, 'officer': 3092, 'received': 3564, 'alas': 172, 'conflict': 939, 'ultra': 4629, 'russian': 3762, 'nuclear': 3057, 'base': 402, 'west': 4852, 'cold': 872, 'unconvincing': 4638, 'helped': 2080, 'errors': 1516, 'sea': 3838, 'consists': 955, 'footage': 1782, 'featuring': 1681, 'conflicts': 940, 'vietnam': 4735, 'concerning': 933, 'orders': 3127, 'tony': 4521, 'scott': 3824, 'lies': 2591, '1980s': 21, 'possibility': 3349, 'ended': 1470, 'means': 2783, 'impact': 2244, 'pathetic': 3210, 'singer': 3993, 'crying': 1074, 'community': 908, 'uses': 4697, 'basketball': 409, 'crime': 1055, 'adventure': 130, 'whose': 4877, 'expert': 1585, 'taken': 4350, 'friend': 1835, 'gang': 1867, 'dangerous': 1110, 'criminals': 1058, 'search': 3841, 'suit': 4284, 'cases': 708, 'stolen': 4195, 'rocky': 3723, 'mountains': 2918, 'impressive': 2253, 'walker': 4778, 'sequences': 3888, 'border': 539, 'unrealistic': 4677, 'sake': 3775, 'willing': 4889, 'suspend': 4329, 'disbelief': 1277, 'john': 2409, 'turner': 4607, 'rex': 3683, 'executed': 1565, 'realistic': 3550, 'tough': 4537, 'studio': 4240, 'somewhere': 4069, 'locations': 2636, 'chose': 804, 'felt': 1692, 'views': 4742, 'mountain': 2917, 'adding': 117, 'reality': 3551, 'inventive': 2341, 'wouldve': 4959, 'focused': 1767, 'central': 735, 'pacing': 3163, 'slow': 4031, 'chances': 748, 'development': 1225, 'excitement': 1562, 'thrills': 4475, 'sisters': 4002, 'bbc': 417, '3rd': 47, 'doubt': 1332, 'marks': 2742, 'limits': 2607, 'considered': 951, 'adult': 125, 'dinner': 1254, 'greatest': 1966, 'cinema': 816, 'manner': 2729, 'portray': 3340, 'magnificent': 2705, 'doctors': 1305, 'filled': 1715, 'choice': 797, 'questionable': 3488, 'closing': 859, 'indian': 2274, 'language': 2516, 'medium': 2792, 'aspects': 322, 'novels': 3053, 'typically': 4624, 'climax': 849, 'treats': 4575, 'light': 2595, 'inspired': 2301, 'george': 1893, 'mill': 2845, 'eyed': 1612, 'mother': 2911, 'spite': 4117, 'winner': 4897, 'quest': 3486, 'chosen': 805, 'apart': 264, 'countries': 1013, 'move': 2921, 'jumping': 2431, 'chair': 742, 'gotten': 1947, 'fabulous': 1615, 'hated': 2047, 'villain': 4744, 'shocked': 3939, 'victim': 4729, 'anger': 235, 'ride': 3692, 'missed': 2867, 'mistake': 2871, 'list': 2617, 'turkey': 4604, 'surely': 4309, 'incomprehensible': 2267, 'poorly': 3329, 'delivered': 1170, 'paid': 3169, 'embarrassed': 1453, 'celluloid': 731, 'lately': 2524, 'pat': 3208, 'uncomfortable': 4637, 'worthwhile': 4955, 'bin': 483, 'resist': 3648, 'urge': 4689, 'isolated': 2363, 'hotel': 2175, 'picks': 3268, 'unfortunate': 4653, 'mouth': 2920, 'ready': 3546, 'competent': 917, 'involves': 2348, 'toy': 4542, 'tape': 4365, 'linda': 2609, 'blair': 497, 'possessed': 3347, 'tv': 4610, 'remember': 3616, 'stays': 4169, 'club': 863, 'computer': 927, 'rich': 3685, 'space': 4090, 'iran': 2350, 'events': 1536, 'toilet': 4512, 'incident': 2260, 'daughter': 1121, 'follows': 1775, 'six': 4010, 'entry': 1504, 'soccer': 4048, 'match': 2762, '2005': 35, 'decide': 1148, 'whether': 4866, 'cup': 1080, 'bleak': 503, 'ten': 4399, 'universal': 4665, 'appeal': 271, 'social': 4049, 'commentary': 899, 'digital': 1251, 'using': 4698, 'professional': 3421, 'task': 4368, 'sneak': 4043, 'arrested': 298, 'holding': 2130, 'area': 286, 'three': 4469, 'army': 295, 'express': 1600, 'political': 3324, 'soldiers': 4054, 'wait': 4770, 'vice': 4727, 'victims': 4730, 'achieve': 92, 'minor': 2857, 'provide': 3448, 'prisoner': 3402, 'soldier': 4053, 'prevent': 3385, 'greater': 1965, 'country': 1014, 'root': 3737, 'telling': 4396, 'growing': 1983, 'politically': 3325, 'force': 1786, 'terms': 4406, 'closer': 856, 'falk': 1636, 'paul': 3214, 'scenery': 3810, 'moral': 2902, 'values': 4710, 'sappy': 3784, 'junk': 2436, 'situations': 4009, 'limited': 2606, 'ok': 3098, 'godfather': 1927, 'purpose': 3474, 'bunch': 623, 'accomplished': 87, 'wrap': 4963, 'fictional': 1703, 'sorts': 4078, 'ultimate': 4627, 'knowledge': 2491, 'unpleasant': 4674, 'results': 3662, 'segments': 3868, 'germany': 1898, 'carefully': 689, 'develop': 1222, 'patients': 3212, 'loaded': 2632, 'clues': 865, 'power': 3359, 'forces': 1788, 'deals': 1137, 'personality': 3242, 'journalist': 2420, 'lady': 2507, 'previous': 3387, 'patient': 3211, 'runs': 3757, 'folk': 1770, 'extras': 1608, 'extra': 1606, 'suffering': 4277, 'redemption': 3578, 'bound': 553, 'structure': 4233, 'beliefs': 452, 'exploitation': 1592, 'relation': 3595, 'research': 3644, 'credit': 1049, 'skill': 4013, 'thoughtful': 4463, 'chilling': 794, 'eerie': 1427, 'piano': 3264, 'notable': 3041, 'sinister': 3998, 'doctor': 1304, 'veteran': 4724, 'faith': 1633, 'involvement': 2347, 'gripping': 1976, 'occasionally': 3075, 'mostly': 2910, 'brilliance': 582, 'worthy': 4956, 'useless': 4695, 'energy': 1478, 'pointless': 3318, 'break': 569, 'spend': 4105, 'child': 789, 'mothers': 2912, 'cliché': 844, 'sorry': 4076, 'total': 4531, 'cook': 988, 'explanation': 1590, 'happened': 2027, 'loss': 2659, 'fool': 1779, 'hired': 2117, 'copy': 994, 'tragedy': 4551, 'harris': 2038, 'derek': 1192, 'longer': 2645, 'shouldnt': 3952, 'blind': 506, 'ugly': 4625, 'hot': 2174, 'million': 2847, 'creating': 1039, 'moore': 2901, 'reputation': 3640, 'location': 2635, 'god': 1926, 'edgar': 1417, 'tried': 4584, 'bo': 521, 'jane': 2380, 'parker': 3191, 'africa': 141, 'abusive': 75, 'daddy': 1096, 'existence': 1571, 'conventional': 979, 'wisdom': 4902, 'includes': 2263, 'singing': 3995, 'elephant': 1444, 'furthermore': 1854, 'heat': 2067, 'ape': 266, 'miles': 2843, 'odd': 3080, 'debut': 1143, 'lord': 2652, 'jungle': 2434, 'unlike': 4670, 'johnny': 2410, 'ron': 3734, 'tarzan': 4367, 'eventually': 1537, 'reaches': 3538, 'halfway': 2008, 'generally': 1881, 'lying': 2690, 'areas': 287, 'crew': 1053, 'attempt': 340, 'abuse': 74, 'occasion': 3073, 'decides': 1150, 'nude': 3058, 'swim': 4337, 'single': 3996, 'male': 2719, 'lion': 2614, 'usually': 4700, 'wrestling': 4966, 'points': 3319, 'phone': 3255, 'ridiculous': 3693, 'hands': 2020, 'captured': 677, 'stereotypical': 4180, 'sacrifice': 3766, 'eat': 1411, 'suffice': 4279, 'wooden': 4934, 'spoiler': 4123, 'delivering': 1171, 'law': 2538, 'pity': 3281, 'directed': 1259, 'domestic': 1318, 'cure': 1081, 'virus': 4752, 'common': 906, 'began': 441, 'visuals': 4759, 'imagination': 2236, 'continued': 970, 'quickly': 3491, 'neo': 2998, 'together': 4511, 'twist': 4617, 'gave': 1875, 'music': 2946, 'storyline': 4208, 'fit': 1740, 'perfectly': 3226, 'satisfied': 3789, 'information': 2288, 'editing': 1421, 'pushed': 3478, 'accidentally': 85, 'yeah': 4977, 'putting': 3482, 'mild': 2839, 'massive': 2756, 'logic': 2638, 'hit': 2122, 'ignored': 2225, 'trial': 4580, 'memory': 2804, 'winter': 4900, 'downhill': 1336, 'rented': 3628, 'tom': 4514, 'clichés': 846, 'naked': 2959, 'fallen': 1638, 'angels': 234, 'occasional': 3074, 'witch': 4909, 'motion': 2913, 'molly': 2884, 'anthony': 253, 'forest': 1791, 'please': 3304, 'bother': 548, 'lousy': 2667, 'beaten': 424, 'warn': 4797, 'change': 749, 'gender': 1878, 'transformation': 4560, 'required': 3641, 'chicks': 787, 'themselves': 4435, 'specific': 4099, 'guessed': 1990, 'fail': 1625, 'drag': 1342, 'makeup': 2717, 'appalling': 268, 'built': 618, 'terrible': 4407, 'holes': 2133, 'avoid': 363, 'plague': 3285, 'wallace': 4782, 'impressed': 2251, 'expected': 1577, 'goofy': 1939, 'nicely': 3009, 'convoluted': 987, 'killings': 2473, 'bond': 532, 'sits': 4006, 'shadow': 3912, 'front': 1841, 'large': 2517, 'prisoners': 3403, 'monk': 2889, 'dressed': 1358, 'communist': 907, 'member': 2800, 'curious': 1083, 'teachers': 4376, 'approach': 282, 'known': 2492, 'colorful': 878, 'purchased': 3470, 'questions': 3489, 'answers': 252, 'comical': 894, 'account': 89, 'inspector': 2299, '60s': 54, 'stuck': 4237, 'italian': 2367, 'slapstick': 4019, 'ritter': 3705, 'steal': 4170, 'emotional': 1459, 'oscars': 3134, 'widmark': 4882, 'perfect': 3224, 'casting': 711, 'jean': 2389, 'peters': 3248, 'heavy': 2070, 'handed': 2016, 'faces': 1618, 'ray': 3533, 'thief': 4448, 'kid': 2464, 'trip': 4588, 'nyc': 3065, 'uncle': 4636, 'drive': 1363, 'south': 4087, 'river': 3707, 'hate': 2046, 'necessary': 2984, 'hasnt': 2044, 'drugs': 1374, 'nose': 3037, 'knife': 2487, 'tongue': 4518, 'gruesome': 1986, 'cuts': 1091, 'anyway': 261, 'fairly': 1631, 'buying': 641, 'prefer': 3368, 'link': 2613, 'summary': 4290, 'spider': 4109, 'supposedly': 4307, 'invasion': 2340, 'numerous': 3062, 'costumes': 1006, 'comics': 895, 'comic': 893, 'graphics': 1959, 'rough': 3741, '1980': 20, 'brian': 576, 'caine': 647, 'dr': 1340, 'kate': 2446, 'miller': 2846, 'sexually': 3910, 'frustrated': 1842, 'mature': 2773, 'gordon': 1940, 'blake': 498, 'detective': 1220, 'alfred': 181, 'similarities': 3979, 'nights': 3016, 'thinking': 4453, 'majority': 2712, 'mindless': 2851, 'drivel': 1364, '40': 48, 'alone': 194, 'countless': 1012, 'anymore': 258, 'book': 535, 'hour': 2176, 'finish': 1732, 'cameras': 660, 'affected': 137, 'heart': 2064, 'videos': 4734, 'joe': 2407, 'legendary': 2565, 'remains': 3611, 'witnessed': 4915, 'technically': 4382, 'monster': 2892, 'claim': 828, 'blend': 504, 'bare': 398, 'mans': 2730, 'exercise': 1568, 'length': 2569, 'asian': 314, 'philosophical': 3253, 'wandering': 4785, 'hey': 2095, 'meanwhile': 2785, 'bringing': 586, 'alien': 183, 'synopsis': 4344, 'eight': 1436, 'element': 1442, 'slowly': 4032, 'unwatchable': 4682, 'throat': 4476, 'incompetent': 2266, 'intended': 2315, 'crash': 1033, 'intense': 2316, '75': 57, 'thank': 4421, 'curse': 1086, 'record': 3573, 'church': 813, 'tone': 4517, 'selling': 3873, 'sympathetic': 4342, 'lovely': 2671, 'virginia': 4750, 'likable': 2598, 'remote': 3622, 'summer': 4291, 'claims': 830, 'discovers': 1281, 'david': 1124, 'hideous': 2098, 'deep': 1154, 'beast': 422, 'defeat': 1157, 'foul': 1810, 'routine': 3743, 'favor': 1670, 'friendly': 1836, 'teacher': 4375, 'anna': 245, 'maria': 2736, 'alex': 179, 'lighting': 2596, 'simon': 3982, 'spirited': 4114, 'covered': 1023, 'skin': 4015, 'spot': 4131, 'share': 3920, 'understanding': 4645, 'personally': 3243, 'warning': 4800, 'barely': 399, 'mile': 2842, 'tense': 4403, 'deadly': 1133, 'encounter': 1466, 'unknown': 4668, 'enemy': 1477, 'ya': 4976, 'sally': 3776, 'latest': 2526, 'plastic': 3294, 'access': 83, 'rooms': 3736, 'treat': 4572, 'four': 1812, 'zone': 4999, 'abandoned': 62, 'king': 2479, 'exactly': 1551, 'attractive': 351, 'acted': 98, 'stanwyck': 4149, 'douglas': 1334, 'soap': 4047, 'kick': 2460, 'needs': 2990, 'desire': 1205, 'usa': 4691, 'mixed': 2877, 'emotions': 1461, 'shocking': 3940, 'russell': 3761, 'wealthy': 4827, 'greedy': 1969, 'actress': 105, 'insane': 2296, 'japan': 2381, 'samurai': 3779, 'ages': 152, 'epic': 1506, 'spain': 4091, 'violent': 4748, 'storm': 4206, 'precious': 3366, 'buy': 640, 'weapons': 4829, 'odds': 3082, 'beloved': 461, 'multi': 2935, 'dollar': 1314, 'wars': 4804, 'rings': 3699, 'trilogy': 4586, 'davies': 1125, 'winning': 4898, 'bought': 552, 'eastern': 1408, 'ship': 3934, 'carrying': 701, 'priceless': 3390, 'musical': 2947, 'present': 3374, 'nominated': 3025, 'dealt': 1138, 'recommended': 3572, 'cinematic': 818, 'southern': 4088, 'similar': 3978, 'fish': 1738, 'swimming': 4338, 'happily': 2030, 'owner': 3159, 'cat': 713, 'wonders': 4931, 'cats': 721, 'jumps': 2432, 'walks': 4780, 'irony': 2357, 'complexity': 924, 'couldve': 1009, 'pulled': 3462, 'trick': 4582, '2003': 33, 'disappointed': 1273, 'mrs': 2930, 'leslie': 2574, 'carter': 703, 'lou': 2663, 'players': 3299, 'laura': 2536, 'victor': 4731, 'served': 3894, 'bitter': 491, 'divorce': 1301, 'undoubtedly': 4648, 'viewed': 4737, 'broke': 593, 'toward': 4539, 'driving': 1368, 'realizes': 3554, 'thoroughly': 4459, 'theatrical': 4430, 'wore': 4939, 'blew': 505, '35': 45, 'center': 732, 'bell': 458, '30': 42, 'aired': 165, 'wanna': 4786, 'disney': 1289, 'channel': 753, 'montana': 2895, 'nick': 3012, 'believe': 454, 'honestly': 2147, 'green': 1971, 'childish': 791, 'evening': 1534, 'sandler': 3781, 'intelligent': 2314, 'directing': 1260, 'americans': 214, 'stereotypes': 4179, 'racism': 3502, 'meaning': 2780, 'picking': 3267, 'judge': 2424, 'guide': 1993, 'thoughts': 4464, 'round': 3742, 'normally': 3034, 'culture': 1079, 'baker': 385, 'mitchell': 2875, 'fat': 1663, 'cowboy': 1025, 'listening': 2620, 'vaguely': 4706, 'criminal': 1057, 'named': 2961, 'shoots': 3944, 'sheriff': 3929, 'edited': 1420, 'chase': 769, 'texas': 4418, 'italy': 2368, 'major': 2711, 'embarrassment': 1455, 'government': 1948, 'bill': 481, 'master': 2757, 'ninja': 3018, 'freak': 1824, 'clint': 850, 'eastwood': 1409, 'plane': 3288, 'escapes': 1519, 'jon': 2416, 'jail': 2376, 'chief': 788, 'mentions': 2813, 'days': 1130, 'cute': 1090, 'julia': 2427, 'louise': 2666, 'sidekick': 3966, 'welcome': 4842, 'offer': 3087, 'sexy': 3911, 'shoot': 3942, 'tomatoes': 4515, 'threatening': 4468, 'clark': 832, 'ingredients': 2289, 'experience': 1580, 'steps': 4177, 'react': 3540, 'gonna': 1936, 'practically': 3362, 'dies': 1245, 'wound': 4960, 'angry': 238, 'gun': 1996, 'valuable': 4708, 'cardboard': 682, 'european': 1530, 'accents': 79, 'sounding': 4083, 'corny': 997, 'liners': 2611, 'cheap': 774, 'rip': 3700, 'complete': 921, 'fashioned': 1660, 'wake': 4774, 'jack': 2373, 'bullets': 621, 'gag': 1861, 'mess': 2818, 'assume': 328, 'whatsoever': 4861, 'implausible': 2245, 'conclusion': 936, 'bargain': 400, 'goodness': 1938, 'sign': 3970, 'studios': 4241, 'combined': 885, 'danger': 1109, 'pearl': 3220, 'luck': 2681, 'international': 2326, 'directors': 1266, 'order': 3126, 'twin': 4615, 'open': 3112, 'consider': 949, 'suggests': 4282, 'double': 1331, 'boys': 559, 'ken': 2453, 'september': 3884, '1973': 19, 'henry': 2084, 'cia': 814, 'anti': 254, 'tale': 4353, 'recognition': 3568, 'mainly': 2708, 'hysterical': 2208, 'car': 680, 'bomb': 531, 'choreography': 802, 'appealing': 272, 'western': 4853, 'muslim': 2949, 'sean': 3840, 'thirty': 4456, 'remembered': 3617, 'starting': 4158, 'tradition': 4549, 'event': 1535, 'following': 1774, 'depicts': 1186, 'baby': 376, 'serious': 3891, 'issues': 2365, 'person': 3238, 'relationships': 3598, 'marriage': 2743, 'drinking': 1362, 'necessarily': 2983, 'tie': 4488, 'profound': 3423, 'deliver': 1169, 'calm': 655, 'happening': 2028, 'feed': 1683, 'imaginative': 2237, 'damn': 1100, 'keeping': 2450, 'extraordinary': 1607, 'equally': 1510, 'clever': 841, 'satire': 3788, 'alert': 178, 'seemingly': 3863, 'background': 380, 'cusack': 1088, 'blank': 501, 'steals': 4172, 'lets': 2580, 'silent': 3975, 'sweet': 4336, 'joan': 2404, 'ben': 463, 'amount': 219, 'ps': 3453, 'free': 1827, '1972': 18, 'passion': 3205, 'remake': 3612, 'difficult': 1249, 'mexico': 2827, 'decided': 1149, 'choose': 799, 'brad': 560, 'pitt': 3280, 'rarely': 3524, 'jump': 2429, 'absurd': 73, 'billy': 482, 'ass': 323, 'elvis': 1451, 'martial': 2747, 'arts': 310, 'former': 1800, 'football': 1783, 'turned': 4606, 'ice': 2210, 'vegas': 4717, '24': 39, 'offered': 3088, 'target': 4366, 'hunt': 2198, 'ensues': 1493, 'explosions': 1597, 'bet': 470, 'worry': 4950, 'losers': 2656, 'cameos': 658, 'surprise': 4312, 'knock': 2488, 'decision': 1151, 'mark': 2739, 'starred': 4153, 'compare': 911, 'todays': 4509, 'sci': 3815, 'timeless': 4496, 'britain': 588, 'favorites': 1672, 'attracted': 349, 'ned': 2986, 'kelly': 2452, 'francis': 1818, 'rush': 3759, 'forced': 1787, 'familys': 1646, 'paying': 3217, 'joseph': 2419, 'dan': 1102, 'philip': 3252, 'hart': 2041, 'emily': 1456, 'rachel': 3500, 'susan': 4326, 'catching': 716, 'towards': 4540, 'eager': 1396, 'mine': 2853, 'genius': 1887, 'luke': 2687, '20': 29, 'acceptable': 81, 'realism': 3549, 'unbelievably': 4635, 'surviving': 4323, 'struck': 4232, 'test': 4416, 'screening': 3830, 'process': 3412, 'scripts': 3836, 'makers': 2715, 'annoyed': 248, 'step': 4175, 'offers': 3090, 'al': 170, 'pacino': 3164, 'kim': 2475, 'tea': 4373, 'ryan': 3765, 'dropped': 1370, 'cable': 644, 'staying': 4168, 'awake': 365, 'button': 639, 'asleep': 320, 'morning': 2906, 'bothered': 549, 'guarantee': 1987, 'sleep': 4024, 'continuity': 972, 'existent': 1572, 'hand': 2015, 'held': 2074, 'disaster': 1276, 'execution': 1566, 'politics': 3326, 'academy': 77, 'awards': 367, 'goldberg': 1933, 'deserved': 1200, '1940s': 13, 'tracy': 4546, 'thin': 4449, 'chemistry': 782, 'roberts': 3714, 'whenever': 4863, 'bride': 577, 'faced': 1617, 'intriguing': 2335, 'due': 1382, 'potentially': 3356, '45': 50, 'akshay': 169, 'jokes': 2415, 'whoever': 4872, 'idiot': 2218, 'translation': 4562, 'proves': 3447, 'proved': 3446, 'practice': 3363, 'difference': 1246, 'davis': 1126, 'alan': 171, 'teeth': 4393, 'married': 2744, 'dentist': 1180, 'dynamic': 1394, 'treated': 4573, 'empty': 1465, 'narrative': 2966, 'fever': 1699, 'travels': 4569, 'visit': 4755, 'hints': 2113, 'capable': 672, 'dedicated': 1153, 'neither': 2996, 'awkward': 374, 'upon': 4684, 'altogether': 202, 'amateur': 206, 'meat': 2787, 'homage': 2141, 'fulci': 1845, 'bore': 540, 'teen': 4388, 'spin': 4112, 'pie': 3271, 'franchise': 1817, 'games': 1865, 'cringe': 1059, 'ignore': 2224, 'dozen': 1338, 'rain': 3506, 'inevitably': 2283, 'plus': 3311, 'narration': 2965, 'author': 359, 'kinds': 2478, 'science': 3816, 'fiction': 1702, 'importantly': 2248, 'heights': 2073, 'reach': 3536, 'gifted': 1907, 'critic': 1061, 'guns': 1998, 'aliens': 184, 'pre': 3365, 'provoking': 3452, 'stretched': 4222, 'condition': 937, 'throws': 4482, 'offering': 3089, 'hollywoods': 2138, 'importance': 2246, 'fooled': 1780, 'aspect': 321, 'exposure': 1599, 'overlook': 3153, 'weak': 4824, 'robot': 3717, 'humanity': 2189, 'discover': 1279, 'intelligence': 2313, 'stood': 4199, 'solve': 4060, 'minds': 2852, 'vision': 4754, 'ie': 2221, 'books': 536, 'rights': 3697, 'upset': 4687, 'accept': 80, 'carrey': 696, 'returned': 3666, 'sends': 3876, 'speaking': 4095, 'france': 1816, 'alcohol': 176, 'parties': 3196, 'explore': 1594, 'powerful': 3360, 'religious': 3608, 'constant': 957, 'possibilities': 3348, 'backdrop': 379, 'manage': 2722, 'natural': 2973, 'born': 544, 'killers': 2471, 'quotes': 3497, 'notes': 3046, 'symbolism': 4341, 'confusion': 943, 'appropriate': 283, 'sidney': 3968, 'caused': 724, 'thinks': 4454, 'fathers': 1667, 'company': 910, 'falls': 1640, 'friendship': 1838, 'inspiration': 2300, 'discovery': 1282, 'fortunately': 1805, 'lust': 2689, 'tune': 4602, 'werent': 4849, 'arm': 292, 'hoped': 2156, 'authority': 360, 'responsibility': 3655, 'mafia': 2700, 'loyal': 2679, 'methods': 2825, 'effective': 1429, 'brutal': 603, 'corrupt': 1001, 'reaction': 3541, 'explained': 1587, 'menacing': 2807, 'thanks': 4423, 'attitude': 346, 'endure': 1475, 'dennis': 1179, 'hopper': 2161, 'wished': 4905, 'laughable': 2530, 'higher': 2101, 'pace': 3161, 'bloody': 513, 'kicks': 2463, 'charismatic': 763, 'rage': 3505, 'laughably': 2531, '2nd': 41, 'students': 4239, 'jennifer': 2392, 'established': 1524, 'martin': 2748, 'enjoying': 1487, 'blame': 499, 'whats': 4860, 'robin': 3715, 'williams': 4888, 'sandra': 3782, 'adds': 119, 'mom': 2885, 'nine': 3017, 'disturbing': 1300, 'impress': 2250, 'hitchcock': 2123, 'complaint': 920, 'hurts': 2203, 'navy': 2976, 'dislike': 1288, 'paced': 3162, 'rebel': 3561, 'eighties': 1437, 'caliber': 649, 'teaching': 4377, 'children': 792, 'matters': 2770, 'santa': 3783, 'older': 3101, 'contrived': 976, 'notion': 3050, 'drug': 1373, 'tear': 4379, 'suitable': 4285, 'garbage': 1870, 'fed': 1682, 'strongly': 4231, 'alice': 182, 'survived': 4322, 'dreams': 1355, 'freddy': 1826, 'striking': 4226, 'sleeping': 4025, 'amanda': 205, 'raped': 3522, '100': 1, 'pregnant': 3369, 'birth': 486, 'hbo': 2055, 'daring': 1114, 'popular': 3333, 'create': 1036, 'chaos': 755, 'fly': 1763, 'connection': 946, 'context': 968, 'meeting': 2794, 'proceeds': 3411, 'cross': 1066, 'soul': 4079, 'mate': 2765, 'leaves': 2556, 'train': 4556, 'quiet': 3492, 'tells': 4397, 'success': 4265, 'ear': 1397, 'humans': 2190, 'connected': 945, 'helps': 2082, 'nomination': 3026, 'innocence': 2293, 'ann': 244, 'satisfying': 3791, 'hunting': 2201, 'showed': 3956, 'forgotten': 1797, 'moving': 2928, 'blown': 516, 'spielberg': 4110, 'wrapped': 4964, 'emotion': 1458, 'pieces': 3273, 'feelings': 1686, 'cinderella': 815, 'five': 1743, 'animation': 242, 'charm': 767, 'generated': 1882, 'magical': 2704, 'essence': 1521, 'thankfully': 4422, 'introduced': 2337, 'vhs': 4725, 'television': 4394, 'pride': 3391, 'vivid': 4760, 'machine': 2693, 'roger': 3724, 'brief': 579, 'convey': 982, 'concerns': 934, 'discuss': 1283, 'exceptionally': 1559, 'negative': 2991, 'led': 2558, 'succeeds': 4264, 'format': 1799, 'england': 1482, 'brown': 601, 'experiences': 1582, 'stephen': 4176, 'stands': 4147, 'schools': 3814, 'resident': 3647, 'superior': 4300, 'thomas': 4458, 'treatment': 4574, 'screenwriter': 3833, 'ashley': 313, 'saga': 3773, 'pleasant': 3302, 'sincere': 3991, 'determined': 1221, 'introduction': 2339, 'fill': 1714, 'radio': 3504, 'raised': 3508, 'handsome': 2021, 'contain': 962, 'sounded': 4082, 'justin': 2440, 'wannabe': 4787, 'response': 3654, 'assault': 324, 'edge': 1418, 'bank': 394, 'investigate': 2342, 'sunday': 4293, 'drags': 1345, 'weekend': 4838, 'slasher': 4020, 'flicks': 1755, 'numbers': 3061, 'boredom': 542, 'seek': 3858, 'portion': 3338, 'overlooked': 3154, 'philosophy': 3254, 'suddenly': 4273, 'parody': 3192, 'household': 2179, 'enemies': 1476, '1990': 24, 'exception': 1557, 'priest': 3392, 'performing': 3233, 'attacked': 338, 'dawn': 1127, 'flesh': 1753, 'loves': 2674, 'fay': 1674, 'grim': 1974, 'commit': 904, 'continue': 969, 'twice': 4613, 'description': 1197, 'greek': 1970, 'writes': 4970, 'directs': 1267, 'prostitute': 3440, 'cheating': 776, 'lower': 2677, 'eg': 1434, 'water': 4816, 'network': 3000, 'canadian': 667, 'lucy': 2684, 'canada': 666, 'recall': 3562, 'snow': 4045, 'lol': 2640, 'granted': 1957, 'wise': 4903, 'lifestyle': 2593, 'lasted': 2522, 'liberal': 2588, 'accused': 91, 'neighbor': 2992, 'couples': 1017, 'poetic': 3313, 'nor': 3032, 'blunt': 520, 'controversial': 978, 'ordinary': 3128, 'trash': 4565, 'sum': 4289, 'documentary': 1307, 'impossible': 2249, 'ground': 1979, 'zero': 4996, 'month': 2896, 'seeking': 3859, 'station': 4164, 'focus': 1766, 'butt': 638, 'learns': 2553, 'latter': 2528, 'initial': 2290, 'occurs': 3078, '2001': 31, 'sky': 4017, 'gas': 1874, 'wall': 4781, 'sudden': 4272, 'flying': 1764, 'airplane': 166, 'north': 3036, 'trade': 4547, 'asks': 319, 'sole': 4055, 'united': 4664, 'capturing': 679, 'capture': 676, 'manhattan': 2726, 'sons': 4073, 'husbands': 2205, 'equipment': 1511, '80': 58, 'rescue': 3643, 'trapped': 4564, 'catches': 715, 'glimpse': 1919, 'duty': 1390, 'caught': 722, 'hitting': 2126, 'smoke': 4039, 'sight': 3969, 'official': 3094, 'department': 1182, 'poignant': 3315, 'arrives': 302, 'overwhelming': 3157, 'ranks': 3519, 'unfolds': 4651, 'dignity': 1252, 'program': 3424, 'seeks': 3860, 'glory': 1922, 'ratings': 3530, 'relatives': 3601, 'album': 175, 'freedom': 1828, 'robbery': 3711, 'path': 3209, 'environment': 1505, 'driven': 1365, 'raise': 3507, 'properly': 3437, 'remarkable': 3613, 'norman': 3035, 'touched': 4534, 'genuine': 1891, 'core': 995, 'spirits': 4115, 'degree': 1164, 'incredibly': 2270, 'breathtaking': 574, 'youth': 4994, 'immediately': 2242, 'wishes': 4906, 'position': 3345, 'university': 4667, 'chicago': 785, 'waters': 4817, 'thus': 4486, 'presents': 3377, 'passed': 3202, 'fond': 1776, 'memories': 2803, 'facts': 1624, 'joy': 2422, 'serve': 3893, 'vicious': 4728, 'complicated': 925, 'painfully': 3172, 'intellectual': 2312, 'haunted': 2050, 'destroyed': 1214, 'expensive': 1579, 'korean': 2495, 'horrid': 2165, 'complain': 919, 'board': 522, 'stress': 4220, 'rocket': 3721, 'dinosaurs': 1256, 'midnight': 2834, 'garden': 1872, 'amazed': 208, 'kenneth': 2455, 'accent': 78, 'rent': 3626, 'europe': 1529, 'expressed': 1601, 'burning': 627, 'season': 3843, 'julie': 2428, 'farm': 1656, 'kinda': 2477, 'cynical': 1093, 'behavior': 446, 'bored': 541, 'agrees': 157, 'jealous': 2388, 'murderous': 2942, 'winters': 4901, 'yellow': 4981, 'reviewer': 3677, 'bergman': 466, 'nation': 2969, 'facing': 1620, 'lena': 2568, 'acts': 107, 'authentic': 358, 'mighty': 2836, 'fest': 1696, 'hype': 2207, 'cliche': 843, 'inept': 2281, 'seventies': 3904, 'admittedly': 123, 'sentence': 3881, 'aint': 163, 'cgi': 740, 'jackson': 2375, 'sue': 4274, 'scares': 3806, 'addition': 118, 'reasons': 3560, 'grand': 1953, 'danny': 1112, 'glover': 1923, 'won': 4925, 'afternoon': 144, 'scrooge': 3837, 'repeated': 3631, 'charles': 764, 'dickens': 1240, 'rated': 3527, 'kicked': 2461, 'rule': 3753, 'cars': 702, 'chases': 771, 'commercial': 902, '50': 51, 'stiff': 4187, 'cares': 690, 'illogical': 2231, 'pulp': 3465, 'whos': 4876, 'saved': 3795, 'driver': 1366, 'resources': 3651, '25': 40, 'ripped': 3701, 'entertained': 1498, '70s': 56, 'streisand': 4218, 'concert': 935, 'speech': 4102, 'atlantis': 332, 'classics': 837, 'empire': 1464, 'breath': 573, 'escape': 1517, 'superbly': 4297, 'acid': 95, 'leo': 2571, 'mary': 2751, 'heroes': 2089, 'bugs': 613, 'bird': 484, 'artificial': 306, 'scare': 3803, 'creators': 1044, 'renting': 3629, '30s': 44, 'backgrounds': 381, 'wave': 4818, 'forgot': 1796, 'misses': 2868, 'captain': 674, 'wing': 4896, 'robots': 3718, 'spends': 4107, 'battles': 415, 'paltrow': 3178, 'laws': 2540, 'lack': 2502, '70': 55, 'flaw': 1749, 'identify': 2216, 'engaging': 1481, 'cg': 739, 'hooked': 2153, 'gadget': 1860, 'twelve': 4611, 'obsessed': 3069, 'focusing': 1769, 'designs': 1204, 'exaggerated': 1552, 'hat': 2045, 'ran': 3513, 'credits': 1050, 'aimed': 162, 'brain': 562, 'centered': 733, 'dog': 1310, 'gangster': 1868, 'sucked': 4270, 'sharp': 3922, 'rick': 3689, 'painful': 3171, 'variety': 4714, 'kept': 2456, 'cameo': 657, 'joke': 2414, 'dry': 1377, 'che': 773, 'poverty': 3357, 'hood': 2151, 'alongside': 196, 'soviet': 4089, 'union': 4661, 'washington': 4806, 'los': 2653, 'angeles': 233, 'finger': 1731, 'followed': 1773, 'icon': 2211, 'filmmaker': 1719, 'media': 2789, 'themes': 4434, 'wit': 4908, 'nazi': 2977, 'bush': 632, 'hitler': 2124, 'christians': 809, 'blowing': 515, 'mainstream': 2709, 'dirty': 1268, 'planet': 3289, 'intentionally': 2320, 'kiss': 2483, 'doom': 1326, 'struggling': 4236, 'shakespeare': 3915, 'letting': 2583, 'failed': 1626, 'flynn': 1765, 'naturally': 2974, 'clue': 864, 'handle': 2018, 'fourth': 1813, 'promised': 3431, 'appreciation': 281, 'credible': 1048, 'hopes': 2159, 'bed': 436, 'stilted': 4190, 'ease': 1404, 'soft': 4051, 'adventures': 131, 'unfortunately': 4654, 'spoof': 4127, 'sold': 4052, 'unexpected': 4650, 'remind': 3618, 'louis': 2665, 'traveling': 4568, 'experienced': 1581, 'advance': 127, 'slave': 4022, 'merely': 2815, 'clumsy': 866, 'produce': 3413, 'laughter': 2535, 'succeed': 4262, 'till': 4493, 'taste': 4369, 'suppose': 4305, 'clip': 851, 'pretentious': 3383, 'attempted': 341, 'lover': 2672, 'content': 966, 'brazil': 568, 'managed': 2723, 'dick': 1239, 'van': 4713, 'barry': 401, 'victoria': 4732, 'stewart': 4184, 'hoping': 2160, 'bigger': 479, 'replaced': 3634, 'charlie': 765, 'shoes': 3941, 'jessica': 2398, 'underrated': 4642, 'mysteries': 2954, 'included': 2262, 'bumbling': 622, 'manager': 2724, 'nurse': 3063, 'secretary': 3850, 'affair': 135, 'various': 4715, 'guest': 1992, 'walked': 4776, 'homosexual': 2145, 'lynch': 2691, 'figured': 1712, 'surreal': 4317, 'display': 1291, 'masterpieces': 2760, 'mysterious': 2955, 'grows': 1985, 'suited': 4286, 'gorgeous': 1942, 'speak': 4094, 'kings': 2481, 'admire': 121, 'alternate': 200, 'dubbing': 1380, 'criticism': 1063, 'tag': 4348, 'classes': 834, 'animal': 239, 'military': 2844, 'sadistic': 3768, 'cruel': 1070, 'wacky': 4769, 'magazine': 2701, 'felix': 1689, 'lemmon': 2567, 'suicide': 4283, 'heaven': 2068, 'smoking': 4040, 'birds': 485, 'upper': 4685, 'fu': 1844, 'smooth': 4041, 'bright': 581, 'highlight': 2103, 'sat': 3786, 'parent': 3187, 'irritating': 2359, 'agreed': 156, 'timing': 4498, 'stinks': 4192, 'boyfriend': 558, 'concerned': 932, 'grow': 1982, 'stinker': 4191, 'moon': 2900, 'adam': 111, 'ed': 1415, 'wicked': 4879, 'doomed': 1327, 'forever': 1792, 'werewolf': 4850, 'talked': 4359, 'costs': 1004, 'doll': 1313, 'jesus': 2399, 'offensive': 3086, 'tight': 4492, 'dating': 1120, 'theaters': 4428, 'ups': 4686, 'america': 212, 'greatly': 1967, 'insult': 2309, 'shortly': 3947, 'safety': 3772, 'speed': 4103, 'matt': 2768, 'technique': 4383, 'omen': 3104, 'busy': 635, 'terribly': 4408, 'pointed': 3317, 'adequate': 120, 'bat': 410, 'pitch': 3279, 'modern': 2882, 'dimensional': 1253, 'awe': 370, 'floating': 1758, 'flop': 1760, 'amazingly': 210, 'movement': 2923, 'raising': 3509, 'voices': 4763, 'batman': 413, 'mention': 2810, 'spent': 4108, 'landscape': 2513, 'reminds': 3620, 'somebody': 4062, 'rare': 3523, 'listen': 2619, 'rob': 3710, 'jeff': 2390, 'seconds': 3848, 'mentally': 2809, 'unfunny': 4655, 'gabriel': 1859, 'mildly': 2840, 'producing': 3417, 'remotely': 3623, 'opened': 3113, 'lit': 2621, 'honor': 2150, 'massacre': 2754, 'system': 4345, 'warned': 4798, 'unable': 4631, 'charisma': 762, 'teenager': 4390, 'manipulative': 2727, 'quick': 3490, 'lake': 2509, 'bullet': 620, 'waitress': 4773, 'recorded': 3574, 'meaningless': 2782, 'splatter': 4118, 'lesbian': 2573, 'innovative': 2295, 'abysmal': 76, 'revolution': 3680, 'madonna': 2699, 'increasingly': 2268, 'stock': 4193, 'direct': 1258, 'disappoint': 1272, 'below': 462, 'careful': 688, 'itll': 2369, 'kung': 2498, 'demand': 1174, 'liking': 2604, 'ability': 65, 'snake': 4042, 'hook': 2152, 'watches': 4814, 'shirley': 3936, 'temple': 4398, 'laurel': 2537, 'hardy': 2037, 'cooper': 990, 'dragged': 1343, 'fifteen': 1706, 'actions': 101, 'facial': 1619, 'expressions': 1603, '1970s': 17, 'pseudo': 3454, 'abc': 63, 'saturday': 3792, 'andy': 230, 'stargate': 4151, 'william': 4887, 'sport': 4129, 'jaw': 2384, 'inane': 2258, 'california': 650, 'drunk': 1375, 'mike': 2838, 'reed': 3580, 'image': 2233, 'rape': 3521, 'eddie': 1416, 'hearing': 2063, 'hal': 2006, 'perfection': 3225, 'experiment': 1583, 'secondly': 3847, 'host': 2173, 'opportunity': 3121, 'elvira': 1450, 'charming': 768, 'legs': 2566, 'houses': 2180, 'anywhere': 263, 'fascinating': 1658, 'boxing': 556, 'meaningful': 2781, 'continues': 971, 'characterization': 759, 'em': 1452, 'stereotype': 4178, 'craft': 1028, 'appreciated': 280, 'voiced': 4762, 'fox': 1814, 'purely': 3472, 'fantasy': 1652, 'asking': 318, 'sink': 3999, 'motivations': 2915, 'existed': 1570, 'talks': 4361, 'warner': 4799, 'gross': 1978, 'animated': 241, 'adults': 126, 'animals': 240, 'transition': 4561, 'subtitles': 4259, 'pan': 3180, 'treasure': 4571, 'fi': 1701, 'adaptation': 113, 'mansion': 2731, 'evident': 1547, 'flawless': 1751, 'integrity': 2311, 'aka': 168, 'joey': 2408, 'eva': 1531, 'heroic': 2090, 'compelled': 915, 'holds': 2131, 'sentimental': 3882, 'hunter': 2199, 'introduces': 2338, 'killing': 2472, 'inducing': 2279, 'directorial': 1265, 'join': 2412, 'genres': 1889, 'mistakes': 2873, 'regard': 3588, 'chasing': 772, 'beautifully': 429, 'loser': 2655, 'track': 4544, 'blues': 519, 'fred': 1825, 'qualities': 3483, 'walter': 4784, 'albert': 174, 'catherine': 719, 'gene': 1879, 'historically': 2120, 'accurate': 90, 'scientific': 3817, 'namely': 2962, 'letter': 2581, 'fbi': 1675, 'curtis': 1087, 'hippie': 2115, 'counter': 1011, 'pink': 3277, 'suits': 4287, 'absence': 70, 'messages': 2820, 'shall': 3916, 'essential': 1522, 'families': 1644, 'desert': 1198, 'creatures': 1046, 'boat': 523, 'painted': 3174, 'changed': 750, 'bucks': 606, 'sucks': 4271, 'stole': 4194, 'risk': 3704, 'destiny': 1212, 'airport': 167, 'officers': 3093, 'enjoys': 1489, 'hint': 2112, 'glass': 1917, 'losing': 2658, 'blow': 514, 'useful': 4694, 'et': 1526, 'unhappy': 4656, 'sixties': 4011, 'holiday': 2134, 'titanic': 4503, 'san': 3780, 'francisco': 1819, 'boot': 538, 'stops': 4203, 'lovable': 2668, 'mgm': 2828, 'signed': 3971, 'wounded': 4961, 'pal': 3177, 'cagney': 646, 'taxi': 4371, 'staged': 4140, 'woody': 4936, 'leonard': 2572, 'vote': 4766, 'beings': 449, 'kirk': 2482, 'purple': 3473, 'grey': 1973, 'bridge': 578, 'ships': 3935, 'pleasure': 3306, 'london': 2641, 'festival': 1697, 'roll': 3728, 'compared': 912, 'featured': 1679, 'education': 1424, 'troubled': 4593, 'lessons': 2578, 'endearing': 1469, 'builds': 617, 'relatively': 3600, 'inspiring': 2302, 'portrait': 3339, 'distribution': 1298, 'successfully': 4267, 'buried': 624, 'helping': 2081, 'gritty': 1977, 'shines': 3932, 'operation': 3117, 'arrogant': 303, 'relief': 3605, 'spanish': 4092, 'songs': 4072, 'unbearable': 4633, 'wholly': 4874, 'ideal': 2214, 'vulnerable': 4768, 'walken': 4777, 'affect': 136, 'random': 3514, 'loosely': 2651, 'tied': 4489, 'truck': 4595, 'todd': 4510, 'fully': 1847, 'confidence': 938, 'accompanied': 86, 'hardcore': 2034, 'relevant': 3604, 'interviews': 2330, 'sexuality': 3909, 'interview': 2329, 'essentially': 1523, 'parallel': 3185, 'terry': 4415, 'destroying': 1215, 'underground': 4640, 'willis': 4890, 'monkeys': 2891, 'trite': 4589, 'overdone': 3152, 'inner': 2292, 'struggle': 4234, 'peoples': 3222, 'brand': 565, 'madness': 2698, 'visually': 4758, 'burton': 630, 'wide': 4880, 'darkness': 1117, 'strangely': 4212, 'portraying': 3343, 'cole': 873, 'tragic': 4552, 'strength': 4219, 'false': 1641, 'religion': 3607, 'futuristic': 1857, 'dialogs': 1233, 'providing': 3451, 'jerk': 2395, 'thumbs': 4485, 'nowadays': 3055, 'buffs': 612, 'ridiculously': 3694, 'smaller': 4034, 'ruthless': 3764, 'corruption': 1002, 'discussion': 1284, 'related': 3594, 'nevertheless': 3002, 'sitcom': 4004, 'sin': 3988, 'scheme': 3812, 'cartoon': 704, 'crimes': 1056, 'regardless': 3590, 'plans': 3292, 'relies': 3606, 'term': 4405, 'cover': 1022, 'theyve': 4446, 'ruin': 3750, 'drawing': 1350, 'model': 2880, 'hanks': 2025, 'performed': 3230, 'doubts': 1333, 'suffer': 4275, 'fault': 1668, 'innocent': 2294, 'influence': 2286, 'portrays': 3344, 'brave': 567, 'competition': 918, 'talents': 4356, 'excuse': 1564, 'propaganda': 3435, 'drops': 1372, 'instance': 2304, 'heck': 2071, 'specifically': 4100, 'japanese': 2382, 'win': 4892, 'comparing': 913, '18': 10, 'convince': 983, 'horrific': 2166, 'rising': 3703, 'bedroom': 437, 'bus': 631, 'terrorist': 4413, 'device': 1227, 'whom': 4875, 'row': 3744, 'staring': 4152, 'page': 3167, 'field': 1704, 'ridden': 3691, 'babe': 375, 'progresses': 3426, 'petty': 3249, 'obsession': 3070, 'homeless': 2143, 'according': 88, 'opposed': 3122, 'thousand': 4465, 'dollars': 1315, 'project': 3427, 'global': 1920, 'warming': 4795, 'lie': 2590, 'trees': 4577, 'tooth': 4524, 'props': 3439, 'forbidden': 1785, 'enjoyment': 1488, 'miserably': 2864, 'remain': 3609, 'luckily': 2682, 'user': 4696, 'stale': 4141, 'myers': 2952, 'design': 1202, 'dance': 1103, 'mouse': 2919, 'fame': 1642, 'sinatra': 3989, 'shy': 3962, 'provides': 3450, 'elizabeth': 1445, 'hudson': 2184, 'range': 3516, 'dean': 1139, 'convincingly': 986, 'daily': 1097, 'trailer': 4554, 'earl': 1398, 'trashy': 4566, 'virtually': 4751, 'contact': 961, 'staff': 4138, 'broadway': 592, 'chorus': 803, 'grew': 1972, 'engaged': 1480, 'expression': 1602, 'yelling': 4980, 'allow': 189, 'insight': 2298, 'prize': 3405, 'dancer': 1104, 'dancers': 1105, 'breaking': 570, 'desperately': 1209, 'glorious': 1921, 'hearts': 2066, 'accepted': 82, 'logical': 2639, 'analysis': 224, 'titles': 4506, 'sunshine': 4294, 'pushing': 3479, 'pretend': 3381, 'gray': 1963, 'opportunities': 3120, 'lacks': 2505, 'wins': 4899, 'measure': 2786, 'superficial': 4298, '2002': 32, 'count': 1010, 'guilty': 1995, 'psychiatrist': 3455, 'ocean': 3079, 'chooses': 800, 'persons': 3244, 'therefore': 4439, 'desperation': 1210, 'jeffrey': 2391, 'surprising': 4315, 'fairy': 1632, 'tales': 4357, 'shelley': 3928, 'eve': 1532, 'prince': 3396, 'amitabh': 216, 'fare': 1655, 'toys': 4543, 'letters': 2582, 'issue': 2364, 'solution': 4059, 'loving': 2675, 'initially': 2291, 'dialogues': 1235, 'tend': 4400, 'teenage': 4389, 'proceedings': 3410, 'reel': 3581, 'tad': 4347, 'matches': 2764, 'ironically': 2356, 'masses': 2755, 'april': 284, 'slight': 4027, 'restaurant': 3658, 'depression': 1189, 'laid': 2508, 'surprises': 4314, 'thrillers': 4473, 'documentaries': 1306, 'powers': 3361, 'thrilling': 4474, 'abilities': 64, 'prepared': 3371, 'unoriginal': 4673, 'moody': 2899, 'touching': 4536, 'lincoln': 2608, 'ford': 1789, 'nervous': 2999, 'abraham': 69, 'scared': 3805, 'challenge': 743, 'raymond': 3534, 'attorney': 348, 'defend': 1158, 'defense': 1159, 'efforts': 1433, 'crisis': 1060, 'civil': 826, 'albeit': 173, 'praise': 3364, 'ward': 4793, 'donald': 1321, 'annie': 247, 'rats': 3531, 'raw': 3532, 'pleased': 3305, 'creep': 1051, 'streets': 4217, 'reveals': 3673, 'craig': 1030, 'infamous': 2284, 'redeeming': 3577, '1999': 27, 'assumed': 329, 'sophisticated': 4075, 'worlds': 4947, 'extent': 1605, 'superman': 4301, 'answer': 251, 'draws': 1352, 'worn': 4948, 'handled': 2019, 'opera': 3116, 'generic': 1885, 'ring': 3698, 'stretch': 4221, 'league': 2549, '1930s': 11, 'photographed': 3258, 'performer': 3231, 'attraction': 350, 'faithful': 1634, 'subsequent': 4257, 'keaton': 2448, 'parents': 3188, 'card': 681, 'reasonably': 3559, 'lewis': 2586, 'foreign': 1790, 'basic': 406, 'pit': 3278, 'security': 3854, 'scale': 3802, '1st': 28, 'explored': 1595, 'tons': 4520, 'daniel': 1111, 'crude': 1069, 'mall': 2720, 'eaten': 1412, 'scarecrow': 3804, 'suffers': 4278, 'fields': 1705, 'gain': 1863, 'pages': 3168, 'jason': 2383, 'supernatural': 4302, 'dig': 1250, 'reasonable': 3558, 'forgettable': 1794, 'dude': 1381, 'belong': 459, 'mask': 2752, 'metal': 2823, 'floor': 1759, 'creation': 1040, 'currently': 1085, '2004': 34, 'sticks': 4186, 'removed': 3624, 'virgin': 4749, 'closed': 854, 'whereas': 4865, 'lacked': 2503, 'bite': 489, 'simplistic': 3985, 'represents': 3639, 'shake': 3914, 'georges': 1894, 'cleverly': 842, 'constructed': 959, 'entertain': 1497, 'presentation': 3375, 'lucas': 2680, 'learning': 2552, 'originality': 3130, 'merit': 2816, 'likely': 2601, 'flash': 1745, 'rental': 3627, 'testament': 4417, 'exists': 1573, 'easier': 1405, 'protect': 3443, 'buddies': 608, 'allows': 192, 'copies': 992, 'disneys': 1290, 'sword': 4340, 'constantly': 958, 'surrounded': 4318, 'carry': 700, 'briefly': 580, 'alright': 198, 'friday': 1834, '13th': 5, 'training': 4558, 'joined': 2413, 'trailers': 4555, 'savage': 3793, 'masters': 2761, 'emotionally': 1460, 'matched': 2763, 'failing': 1627, 'intrigue': 2333, 'survival': 4320, 'detailed': 1218, 'balance': 387, 'indie': 2276, 'peace': 3219, 'bland': 500, 'clips': 852, 'amongst': 218, 'voight': 4764, 'delightful': 1168, 'tedious': 4387, 'cube': 1076, 'hopefully': 2157, 'heres': 2087, 'neat': 2982, 'apartment': 265, 'closely': 855, 'coffee': 870, 'pretending': 3382, '16': 8, 'figures': 1713, 'wind': 4893, 'sing': 3992, 'nobody': 3022, 'centers': 734, 'reads': 3545, 'lips': 2615, 'newly': 3004, 'develops': 1226, 'forms': 1801, 'harry': 2039, 'professor': 3422, 'macy': 2695, 'uninteresting': 4660, 'internet': 2327, 'shadows': 3913, 'boom': 537, 'selfish': 3870, 'johnson': 2411, 'african': 142, 'chick': 786, 'struggles': 4235, 'rolling': 3730, 'margaret': 2735, 'notch': 3043, 'maker': 2714, 'christian': 808, 'stronger': 4230, 'crush': 1072, 'ignorant': 2223, 'bible': 477, 'attempting': 342, 'morality': 2903, 'spread': 4133, 'vs': 4767, 'gods': 1928, 'argument': 291, 'prove': 3445, 'returning': 3667, 'disturbed': 1299, 'mentioning': 2812, 'levels': 2585, 'command': 897, 'senseless': 3878, 'idiotic': 2219, 'physically': 3263, 'obnoxious': 3067, 'murphy': 2944, 'wives': 4918, 'miracle': 2860, 'engage': 1479, 'twilight': 4614, 'campy': 664, 'racial': 3501, 'argue': 290, 'noble': 3021, 'passes': 3203, 'wreck': 4965, 'theyd': 4443, 'contemporary': 965, 'jazz': 2387, 'vast': 4716, 'dances': 1106, 'individual': 2277, 'lucky': 2683, 'tour': 4538, 'dubbed': 1379, 'unaware': 4632, 'aunt': 355, 'kennedy': 2454, 'jackie': 2374, 'oil': 3097, 'covers': 1024, 'clothing': 861, 'shorts': 3948, 'birthday': 487, 'irrelevant': 2358, 'happiness': 2031, 'states': 4163, 'food': 1778, 'unintentional': 4658, 'evidence': 1546, 'size': 4012, '50s': 52, 'monsters': 2893, 'credibility': 1047, 'rogers': 3725, 'desired': 1206, 'depressing': 1188, 'flow': 1762, 'nuts': 3064, 'del': 1165, 'afterwards': 145, 'creature': 1045, 'exist': 1569, 'changing': 752, 'experiments': 1584, 'subjects': 4254, 'artists': 309, 'allowed': 190, 'ruined': 3751, 'pursuit': 3476, 'horrors': 2169, 'oliver': 3102, 'ralph': 3510, 'bakshi': 386, 'uneven': 4649, 'appearances': 275, 'throwing': 4480, 'rabbit': 3498, 'spike': 4111, 'dress': 1357, 'string': 4227, 'rotten': 3740, 'fights': 1710, 'mel': 2796, 'brooks': 596, 'kubrick': 2496, 'park': 3190, 'racist': 3503, 'pro': 3406, 'beer': 439, 'sun': 4292, 'kudos': 2497, 'decisions': 1152, 'wood': 4933, 'persona': 3239, 'faults': 1669, 'simpson': 3987, 'offended': 3085, 'da': 1094, 'neck': 2985, 'native': 2972, 'outfit': 3144, 'patrick': 3213, 'hopeless': 2158, 'paranoia': 3186, 'accident': 84, 'purposes': 3475, 'capital': 673, 'punishment': 3467, 'spiritual': 4116, 'leader': 2546, 'spoke': 4125, 'vampire': 4711, 'dust': 1388, 'section': 3853, 'obscure': 3068, 'chain': 741, 'mere': 2814, 'ties': 4490, 'photographer': 3259, 'sings': 3997, 'split': 4120, 'status': 4165, 'cutting': 1092, 'motivation': 2914, 'thugs': 4484, 'humble': 2191, 'glenn': 1918, 'hence': 2083, 'gerard': 1895, 'butler': 637, 'hearted': 2065, 'assigned': 325, 'miscast': 2862, 'gotta': 1946, 'severe': 3906, 'associated': 327, 'wondered': 4927, 'whale': 4857, 'via': 4726, 'destruction': 1216, 'explaining': 1588, 'motives': 2916, 'dropping': 1371, 'andrews': 229, 'christ': 807, 'catholic': 720, 'splendid': 4119, 'ha': 2002, 'spoiled': 4122, 'contained': 963, 'partner': 3198, 'semi': 3874, 'incoherent': 2265, 'wed': 4835, 'bull': 619, 'loads': 2633, 'spooky': 4128, 'suspects': 4328, 'wealth': 4826, 'choices': 798, 'weapon': 4828, 'relative': 3599, 'rolled': 3729, 'lights': 2597, 'channels': 754, 'bath': 411, 'hamlet': 2013, 'branagh': 564, 'heston': 2094, 'overacting': 3149, 'circumstances': 822, 'orson': 3132, 'welles': 4844, 'nelson': 2997, 'shine': 3931, 'rubber': 3747, 'gift': 1906, 'wayne': 4821, 'dracula': 1341, 'comparison': 914, 'designed': 1203, 'hide': 2097, 'tracks': 4545, 'receives': 3565, 'chaplin': 756, 'guessing': 1991, 'popularity': 3334, 'millions': 2848, 'aid': 160, 'devils': 1229, 'greed': 1968, 'grown': 1984, 'creativity': 1042, 'rocks': 3722, 'holy': 2140, 'overrated': 3156, 'minded': 2850, 'astaire': 330, 'standards': 4145, 'broad': 590, 'nostalgic': 3039, 'considerable': 950, 'actresses': 106, 'sullivan': 4288, 'ought': 3138, 'helen': 2075, 'corpse': 999, 'beats': 426, 'horrendous': 2162, 'wes': 4851, '90s': 61, 'regret': 3591, 'blockbuster': 509, 'harsh': 2040, 'prior': 3400, 'tunes': 4603, 'unintentionally': 4659, 'nazis': 2978, 'switch': 4339, 'ruth': 3763, 'arguably': 289, 'respected': 3653, 'newspaper': 3006, 'editor': 1423, 'versions': 4721, 'nicholson': 3011, 'warmth': 4796, 'cameron': 661, 'dave': 1123, 'michelle': 2830, 'shining': 3933, 'dolls': 1316, 'guard': 1988, 'cliff': 847, 'advise': 134, 'invisible': 2344, 'plots': 3310, 'educational': 1425, 'developing': 1224, 'westerns': 4854, 'scooby': 3820, 'doo': 1325, 'cartoons': 705, 'cox': 1026, 'neighbors': 2994, 'nightmares': 3015, 'circle': 821, 'polished': 3323, 'stiller': 4189, 'showdown': 3955, 'spy': 4135, 'seat': 3845, 'attached': 336, 'singers': 3994, 'amateurish': 207, 'hammer': 2014, 'library': 2589, 'arthur': 305, 'lively': 2627, 'revealed': 3671, 'childrens': 793, 'draw': 1349, 'jumped': 2430, 'allowing': 191, 'jamie': 2379, 'comedian': 887, 'grasp': 1960, 'faster': 1662, 'cheese': 780, 'shirt': 3937, 'remaining': 3610, 'businessman': 634, 'tall': 4362, 'carradine': 695, 'phantom': 3251, 'fortune': 1806, 'instinct': 2308, 'movements': 2924, 'adorable': 124, 'buck': 605, 'grandmother': 1955, 'haunting': 2051, 'souls': 4080, 'florida': 1761, 'goal': 1925, 'mst3k': 2932, 'godzilla': 1929, 'nostalgia': 3038, 'frequently': 1832, 'repeatedly': 3632, 'wears': 4832, 'wedding': 4836, 'intensity': 2317, 'von': 4765, 'scope': 3821, 'subplots': 4256, 'hiding': 2099, 'angle': 236, 'dire': 1257, 'mini': 2854, 'bone': 533, 'defined': 1160, 'revealing': 3672, 'worthless': 4954, 'cards': 683, 'moronic': 2907, 'print': 3399, 'rat': 3525, 'travesty': 4570, 'colonel': 876, 'emma': 1457, 'hollow': 2135, 'wasting': 4810, 'creator': 1043, 'contract': 973, 'burn': 625, 'melodrama': 2797, 'march': 2734, 'cabin': 643, 'narrator': 2967, 'press': 3379, 'aforementioned': 139, 'drives': 1367, 'equivalent': 1512, 'destroy': 1213, 'blacks': 494, 'powell': 3358, 'pulls': 3464, 'ticket': 4487, 'lisa': 2616, 'grinch': 1975, 'lonely': 2643, 'nearby': 2980, 'threw': 4470, 'orange': 3125, 'outer': 3143, 'theory': 4437, 'subtlety': 4261, 'push': 3477, 'surfing': 4311, 'endless': 1473, 'personalities': 3241, 'performers': 3232, 'provided': 3449, 'months': 2897, '1960s': 15, 'hamilton': 2012, 'pleasantly': 3303, 'jake': 2377, 'nancy': 2964, 'threat': 4467, 'sleazy': 4023, 'carried': 698, 'balls': 390, 'showcase': 3954, 'dinosaur': 1255, 'slap': 4018, 'per': 3223, 'darker': 1116, 'ego': 1435, 'extreme': 1609, 'germans': 1897, 'angel': 231, 'stated': 4161, 'buff': 611, 'breasts': 572, 'factor': 1622, 'fired': 1735, 'disc': 1278, 'feminist': 1695, 'farce': 1654, 'candy': 668, 'firstly': 1737, 'court': 1020, 'online': 3109, 'exposed': 1598, 'mechanical': 2788, 'borrowed': 545, 'bay': 416, 'planning': 3291, 'forty': 1807, 'ted': 4386, 'brosnan': 597, 'twenty': 4612, 'photo': 3257, 'kissing': 2484, 'convinced': 984, 'correct': 1000, 'sensitive': 3879, 'likewise': 2603, 'frequent': 1831, 'buildings': 616, 'drink': 1361, 'pg': 3250, 'cheek': 779, 'mexican': 2826, 'vengeance': 4719, 'recognized': 3570, '3000': 43, 'remarks': 3615, 'commercials': 903, 'claire': 831, 'block': 508, 'stan': 4142, 'factory': 1623, 'jimmy': 2403, 'escaped': 1518, 'causes': 725, 'directions': 1262, 'st': 4137, 'relations': 3596, 'judging': 2425, 'realise': 3548, 'swear': 4334, 'musicals': 2948, 'careers': 687, 'solo': 4058, 'imagined': 2239, 'combat': 882, 'betty': 474, 'pamela': 3179, 'weeks': 4839, 'lifetime': 2594, 'mission': 2870, 'signs': 3973, 'superhero': 4299, 'shape': 3919, 'tremendous': 4579, 'models': 2881, 'crafted': 1029, 'arrival': 299, 'ourselves': 3140, 'deliberately': 1166, 'psychotic': 3459, 'individuals': 2278, 'ludicrous': 2685, 'holly': 2136, 'remarkably': 3614, 'carol': 693, 'highest': 2102, 'wendy': 4846, 'lloyd': 2630, 'anyways': 262, 'map': 2733, 'kapoor': 2443, 'stupidity': 4248, 'empathy': 1462, 'trap': 4563, 'square': 4136, 'depressed': 1187, 'depicting': 1184, 'kurt': 2499, 'resemblance': 3645, 'chris': 806, 'listed': 2618, 'stranger': 4213, 'represent': 3637, 'terrorists': 4414, 'damage': 1099, 'conservative': 948, 'iraq': 2351, 'basis': 408, 'surface': 4310, 'homer': 2144, 'demented': 1176, 'attitudes': 347, 'womens': 4924, 'aids': 161, 'resulting': 3661, 'restored': 3659, 'enterprise': 1495, 'landing': 2512, 'suggested': 4281, 'fitting': 1742, 'nonsensical': 3031, 'australia': 356, 'hire': 2116, 'styles': 4250, 'cultural': 1078, 'disjointed': 1287, 'exploration': 1593, 'holmes': 2139, 'coach': 868, 'blond': 510, 'lees': 2560, 'pack': 3165, 'disappear': 1270, 'tiresome': 4502, 'drunken': 1376, 'strangers': 4214, 'teach': 4374, 'ruby': 3749, 'code': 869, 'phony': 3256, 'displays': 1293, 'poetry': 3314, 'colors': 879, 'captivating': 675, 'passing': 3204, 'rose': 3739, 'riveting': 3708, 'similarly': 3980, 'avoided': 364, 'indians': 2275, 'lone': 2642, 'installment': 2303, 'carpenter': 694, 'tortured': 4530, 'descent': 1193, 'topic': 4526, 'dawson': 1128, 'lay': 2542, 'executive': 1567, 'dreary': 1356, 'rank': 3518, 'displayed': 1292, 'jeremy': 2394, 'imitation': 2241, 'understandable': 4644, 'distinct': 1296, 'curiosity': 1082, 'presumably': 3380, 'tonight': 4519, 'coherent': 871, 'chest': 784, 'brooklyn': 595, 'trained': 4557, 'minimal': 2855, 'formulaic': 1803, 'chapter': 757, 'choreographed': 801, 'diamond': 1236, 'roy': 3745, 'satisfy': 3790, 'alexander': 180, 'stanley': 4148, 'porno': 3337, 'hong': 2149, 'kong': 2494, 'chan': 746, 'beatty': 427, 'protagonists': 3442, 'civilization': 827, 'frightening': 1839, 'mundane': 2938, 'charlotte': 766, 'hole': 2132, 'lily': 2605, 'chuck': 812, 'mistaken': 2872, 'exotic': 1574, 'taught': 4370, 'twins': 4616, 'perform': 3227, 'inferior': 2285, 'warriors': 4803, 'horses': 2171, 'robinson': 3716, 'hugh': 2186, 'richardson': 3688, 'mtv': 2933, 'streep': 4215, 'cried': 1054, 'elsewhere': 1449, 'resort': 3650, 'survivors': 4325, 'tame': 4363, 'panic': 3181, 'medical': 2790, 'mummy': 2937, 'clown': 862, 'terrifying': 4410, 'succeeded': 4263, 'disease': 1285, 'cd': 728, 'winds': 4895, 'mildred': 2841, 'bette': 471, 'realizing': 3555, 'encounters': 1467, 'dramas': 1347, 'behave': 445, 'hip': 2114, 'miserable': 2863, 'lab': 2501, 'carrie': 697, 'attacks': 339, 'trail': 4553, 'andrew': 228, 'broadcast': 591, 'enthusiasm': 1501, '2007': 37, 'sir': 4000, 'pulling': 3463, 'achieved': 93, 'previously': 3388, 'cruise': 1071, 'valley': 4707, 'sympathy': 4343, 'substance': 4258, 'maintain': 2710, 'bold': 528, 'equal': 1509, 'mixture': 2878, 'repeat': 3630, 'web': 4833, 'financial': 1725, 'earned': 1401, 'larger': 2519, 'intent': 2318, 'plant': 3293, 'understated': 4646, 'iii': 2227, '1983': 22, 'versus': 4722, 'roman': 3731, 'composed': 926, 'awfully': 373, 'ruins': 3752, 'fx': 1858, 'americas': 215, 'rise': 3702, 'companion': 909, 'celebrity': 729, 'jewish': 2401, 'diane': 1238, 'worried': 4949, 'miike': 2837, 'denzel': 1181, '1984': 23, 'fascinated': 1657, 'reunion': 3669, 'machines': 2694, 'excessive': 1560, 'timothy': 4499, 'tap': 4364, 'gradually': 1952, 'consistently': 954, 'benefit': 465, 'advanced': 128, 'projects': 3428, 'opinions': 3119, 'ethan': 1528, 'jaws': 2385, 'mayor': 2777, 'mob': 2879, 'baseball': 403, 'dare': 1113, 'reflection': 3585, 'horrifying': 2167, 'crocodile': 1065, 'shark': 3921, 'jay': 2386, 'karloff': 2445, 'prequel': 3372, 'pig': 3274, 'titled': 4505, 'banned': 395, 'population': 3335, '1933': 12, 'khan': 2459, 'revolutionary': 3681, 'rambo': 3511, 'devoted': 1231, 'widely': 4881, 'unreal': 4676, 'popcorn': 3331, 'troops': 4591, 'merits': 2817, 'artist': 307, 'touches': 4535, 'widow': 4883, 'occurred': 3077, 'bears': 421, 'neighborhood': 2993, 'represented': 3638, 'corporate': 998, 'justify': 2439, 'explicit': 1591, 'karen': 2444, 'slaughter': 4021, 'comfortable': 892, 'notorious': 3051, 'warren': 4801, 'dub': 1378, 'der': 1191, 'aging': 153, 'believing': 457, 'strikes': 4225, 'ramones': 3512, 'partly': 3197, 'unseen': 4678, 'intimate': 2331, 'mistress': 2874, 'resolution': 3649, 'purchase': 3469, 'brando': 566, 'pants': 3182, 'trio': 4587, 'recording': 3575, 'spring': 4134, 'domino': 1319, 'ambitious': 211, 'wwii': 4975, 'steel': 4173, 'closest': 857, 'edition': 1422, 'topless': 4527, 'ian': 2209, 'sid': 3964, 'marty': 2749, 'bettie': 473, 'photos': 3261, 'modesty': 2883, 'rangers': 3517, 'brains': 563, 'dorothy': 1330, 'craven': 1034, 'elm': 1447, 'royal': 3746, 'witnesses': 4916, 'bacall': 377, '20th': 38, 'smith': 4038, 'blade': 495, 'classical': 836, 'landscapes': 2514, 'fisher': 1739, 'attend': 344, 'foster': 1809, 'secretly': 3851, 'waves': 4819, 'tends': 4402, 'mario': 2738, 'pops': 3332, 'jenny': 2393, '1968': 16, 'unsettling': 4679, 'judy': 2426, 'planned': 3290, 'marketing': 2741, 'contest': 967, 'fatal': 1664, 'inappropriate': 2259, 'guilt': 1994, 'cinemas': 817, 'menace': 2806, 'ensemble': 1492, 'berlin': 467, 'eyre': 1614, 'crucial': 1068, 'rochester': 3719, 'plausible': 3295, 'despair': 1207, 'primary': 3394, 'property': 3438, 'claimed': 829, 'carl': 692, 'groups': 1981, 'armed': 293, 'courage': 1018, 'mirror': 2861, 'franco': 1820, 'morris': 2908, 'chased': 770, 'progress': 3425, 'unpredictable': 4675, 'searching': 3842, 'repetitive': 3633, 'mars': 2746, 'hunters': 2200, 'promises': 3432, 'elegant': 1441, 'blows': 517, 'subplot': 4255, 'brenda': 575, 'june': 2433, 'shelf': 3926, 'method': 2824, 'connect': 944, 'ballet': 389, 'outcome': 3142, 'rap': 3520, 'monkey': 2890, 'generations': 1884, 'protagonist': 3441, 'consequences': 947, 'preview': 3386, 'causing': 726, 'unit': 4663, 'scores': 3823, 'bottle': 550, 'maggie': 2702, 'revelation': 3674, 'kidnapped': 2466, 'angela': 232, 'lengthy': 2570, 'rendition': 3625, 'citizen': 824, 'australian': 357, 'mail': 2706, 'weakest': 4825, 'hank': 2024, 'juvenile': 2441, 'randomly': 3515, 'lyrics': 2692, 'diana': 1237, 'reflect': 3584, 'strictly': 4223, 'sutherland': 4333, 'doc': 1303, 'rival': 3706, 'spoken': 4126, 'amy': 222, 'junior': 2435, 'resembles': 3646, 'definition': 1163, 'survivor': 4324, 'influenced': 2287, 'apes': 267, 'museum': 2945, 'blatant': 502, 'championship': 745, 'donna': 1323, 'pokemon': 3320, 'bourne': 554, 'damon': 1101, 'endings': 1472, 'sarah': 3785, 'demon': 1177, 'messed': 2821, 'adams': 112, 'decades': 1145, 'paulie': 3215, 'snl': 4044, 'kay': 2447, 'latin': 2527, 'prom': 3429, 'worker': 4942, 'garbo': 1871, 'fetched': 1698, 'cinematographer': 819, 'ginger': 1908, 'retired': 3664, 'interaction': 2322, 'brutally': 604, 'distance': 1294, 'screens': 3832, 'richards': 3687, 'funeral': 1849, 'illegal': 2229, 'columbo': 881, 'ho': 2127, 'arnold': 296, 'immensely': 2243, 'hop': 2154, 'dutch': 1389, 'le': 2544, 'blob': 507, 'pet': 3246, 'theyll': 4444, 'hates': 2048, 'advertising': 132, 'simmons': 3981, 'gandhi': 1866, 'serving': 3897, 'torn': 4528, 'flies': 1756, 'tommy': 4516, 'wells': 4845, 'activities': 102, '3d': 46, 'uwe': 4703, 'boll': 529, 'agents': 151, 'perry': 3237, 'plight': 3308, 'witches': 4910, 'beneath': 464, 'guts': 1999, 'gundam': 1997, 'quit': 3494, 'seed': 3856, 'load': 2631, 'dalton': 1098, 'bela': 450, 'lugosi': 2686, 'hoffman': 2128, 'polanski': 3321, 'kane': 2442, 'hyde': 2206, 'marie': 2737, 'gangsters': 1869, 'stevens': 4183, 'mann': 2728, 'stones': 4198, 'sellers': 3872, 'olivier': 3103, 'frankenstein': 1822, 'lumet': 2688}\n"
     ]
    }
   ],
   "source": [
    "print(str(vocabulary))"
   ]
  },
  {
   "cell_type": "markdown",
   "metadata": {},
   "source": [
    "Once you have added the endpoint name to the Lambda function, click on **Save**. Your Lambda function is now up and running. Next we need to create a way for our web app to execute the Lambda function."
   ]
  },
  {
   "cell_type": "markdown",
   "metadata": {},
   "source": [
    "### Setting up API Gateway\n",
    "\n",
    "Now that our Lambda function is set up, it is time to create a new API using API Gateway that will trigger the Lambda function we have just created.\n",
    "\n",
    "Using AWS Console, navigate to **Amazon API Gateway** and then click on **Get started**.\n",
    "\n",
    "On the next page, make sure that **New API** is selected and give the new api a name, for example, `sentiment_analysis_web_app`. Then, click on **Create API**.\n",
    "\n",
    "Now we have created an API, however it doesn't currently do anything. What we want it to do is to trigger the Lambda function that we created earlier.\n",
    "\n",
    "Select the **Actions** dropdown menu and click **Create Method**. A new blank method will be created, select its dropdown menu and select **POST**, then click on the check mark beside it.\n",
    "\n",
    "For the integration point, make sure that **Lambda Function** is selected and click on the **Use Lambda Proxy integration**. This option makes sure that the data that is sent to the API is then sent directly to the Lambda function with no processing. It also means that the return value must be a proper response object as it will also not be processed by API Gateway.\n",
    "\n",
    "Type the name of the Lambda function you created earlier into the **Lambda Function** text entry box and then click on **Save**. Click on **OK** in the pop-up box that then appears, giving permission to API Gateway to invoke the Lambda function you created.\n",
    "\n",
    "The last step in creating the API Gateway is to select the **Actions** dropdown and click on **Deploy API**. You will need to create a new Deployment stage and name it anything you like, for example `prod`.\n",
    "\n",
    "You have now successfully set up a public API to access your SageMaker model. Make sure to copy or write down the URL provided to invoke your newly created public API as this will be needed in the next step. This URL can be found at the top of the page, highlighted in blue next to the text **Invoke URL**."
   ]
  },
  {
   "cell_type": "markdown",
   "metadata": {},
   "source": [
    "## Step 7: Deploying our web app\n",
    "\n",
    "Now that we have a publicly available API, we can start using it in a web app. For our purposes, we have provided a simple static html file which can make use of the public api you created earlier.\n",
    "\n",
    "In the `website` folder there should be a file called `index.html`. Download the file to your computer and open that file up in a text editor of your choice. There should be a line which contains **\\*\\*REPLACE WITH PUBLIC API URL\\*\\***. Replace this string with the url that you wrote down in the last step and then save the file.\n",
    "\n",
    "Now, if you open `index.html` on your local computer, your browser will behave as a local web server and you can use the provided site to interact with your SageMaker model.\n",
    "\n",
    "If you'd like to go further, you can host this html file anywhere you'd like, for example using github or hosting a static site on Amazon's S3. Once you have done this you can share the link with anyone you'd like and have them play with it too!\n",
    "\n",
    "> **Important Note** In order for the web app to communicate with the SageMaker endpoint, the endpoint has to actually be deployed and running. This means that you are paying for it. Make sure that the endpoint is running when you want to use the web app but that you shut it down when you don't need it, otherwise you will end up with a surprisingly large AWS bill."
   ]
  },
  {
   "cell_type": "markdown",
   "metadata": {},
   "source": [
    "### Delete the endpoint\n",
    "\n",
    "Remember to always shut down your endpoint if you are no longer using it. You are charged for the length of time that the endpoint is running so if you forget and leave it on you could end up with an unexpectedly large bill."
   ]
  },
  {
   "cell_type": "code",
   "execution_count": 53,
   "metadata": {},
   "outputs": [],
   "source": [
    "xgb_predictor.delete_endpoint()"
   ]
  },
  {
   "cell_type": "markdown",
   "metadata": {},
   "source": [
    "## Optional: Clean up\n",
    "\n",
    "The default notebook instance on SageMaker doesn't have a lot of excess disk space available. As you continue to complete and execute notebooks you will eventually fill up this disk space, leading to errors which can be difficult to diagnose. Once you are completely finished using a notebook it is a good idea to remove the files that you created along the way. Of course, you can do this from the terminal or from the notebook hub if you would like. The cell below contains some commands to clean up the created files from within the notebook."
   ]
  },
  {
   "cell_type": "code",
   "execution_count": null,
   "metadata": {},
   "outputs": [],
   "source": [
    "# First we will remove all of the files contained in the data_dir directory\n",
    "!rm $data_dir/*\n",
    "\n",
    "# And then we delete the directory itself\n",
    "!rmdir $data_dir\n",
    "\n",
    "# Similarly we remove the files in the cache_dir directory and the directory itself\n",
    "!rm $cache_dir/*\n",
    "!rmdir $cache_dir"
   ]
  },
  {
   "cell_type": "code",
   "execution_count": null,
   "metadata": {},
   "outputs": [],
   "source": []
  }
 ],
 "metadata": {
  "kernelspec": {
   "display_name": "conda_python3",
   "language": "python",
   "name": "conda_python3"
  },
  "language_info": {
   "codemirror_mode": {
    "name": "ipython",
    "version": 3
   },
   "file_extension": ".py",
   "mimetype": "text/x-python",
   "name": "python",
   "nbconvert_exporter": "python",
   "pygments_lexer": "ipython3",
   "version": "3.6.5"
  }
 },
 "nbformat": 4,
 "nbformat_minor": 2
}
